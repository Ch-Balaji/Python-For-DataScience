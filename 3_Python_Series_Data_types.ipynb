{
  "nbformat": 4,
  "nbformat_minor": 0,
  "metadata": {
    "colab": {
      "provenance": []
    },
    "kernelspec": {
      "name": "python3",
      "display_name": "Python 3"
    },
    "language_info": {
      "name": "python"
    }
  },
  "cells": [
    {
      "cell_type": "markdown",
      "source": [
        "# Data Types"
      ],
      "metadata": {
        "id": "XSMcLFCkAZI_"
      }
    },
    {
      "cell_type": "markdown",
      "source": [
        "1. Python is a dynamically typed language, meaning that you don't have to explicitly declare the data type of a variable.\n",
        "2. The interpreter infers the type based on the value assigned to the variable.\n",
        "3. However, Python has several built-in data types. Here are some of the commonly used ones:\n",
        "        a. Numeric Types\n",
        "        b. Sequence Types\n",
        "        c. Mapping Type\n",
        "        d. Set Types\n",
        "        e. Boolean Type\n",
        "        f. None type"
      ],
      "metadata": {
        "id": "Mk4l_HcQAZBj"
      }
    },
    {
      "cell_type": "code",
      "source": [
        "a = 5.0                               #data type is implicitly set to integer\n",
        "print(a, \" is of type\", type(a))"
      ],
      "metadata": {
        "id": "mgByqWZ0e4zB",
        "colab": {
          "base_uri": "https://localhost:8080/"
        },
        "outputId": "87cefc53-1e75-4fef-ced6-54e178af18c5"
      },
      "execution_count": null,
      "outputs": [
        {
          "output_type": "stream",
          "name": "stdout",
          "text": [
            "5.0  is of type <class 'float'>\n"
          ]
        }
      ]
    },
    {
      "cell_type": "code",
      "source": [
        "a = 2.5                            #data type is changed to float\n",
        "print(a, \" is of type\", type(a))"
      ],
      "metadata": {
        "id": "FXfhWbIXfBVX",
        "colab": {
          "base_uri": "https://localhost:8080/"
        },
        "outputId": "35575e59-2c3a-48a6-893b-3c4d705026da"
      },
      "execution_count": null,
      "outputs": [
        {
          "output_type": "stream",
          "name": "stdout",
          "text": [
            "2.5  is of type <class 'float'>\n"
          ]
        }
      ]
    },
    {
      "cell_type": "code",
      "source": [
        "a = 1 + 2j                          #data type is changed to complex number\n",
        "print(a, \" is complex number?\")\n",
        "print(isinstance(1+2j, complex))"
      ],
      "metadata": {
        "id": "v9QQbfpXfCT1",
        "colab": {
          "base_uri": "https://localhost:8080/"
        },
        "outputId": "087ce918-d59c-4c8e-d232-6a8a84180905"
      },
      "execution_count": null,
      "outputs": [
        {
          "output_type": "stream",
          "name": "stdout",
          "text": [
            "(1+2j)  is complex number?\n",
            "True\n"
          ]
        }
      ]
    },
    {
      "cell_type": "code",
      "source": [
        "print(isinstance(1+2j, int))"
      ],
      "metadata": {
        "colab": {
          "base_uri": "https://localhost:8080/"
        },
        "id": "9amhUnY4deth",
        "outputId": "d4b45f18-03f2-46ef-8bc2-098a0e4ce32a"
      },
      "execution_count": null,
      "outputs": [
        {
          "output_type": "stream",
          "name": "stdout",
          "text": [
            "False\n"
          ]
        }
      ]
    },
    {
      "cell_type": "code",
      "execution_count": null,
      "metadata": {
        "id": "GLiA-gP3AVMY"
      },
      "outputs": [],
      "source": [
        "# Assigning int values to x\n",
        "x = 10\n",
        "\n",
        "# Assgining float values to y\n",
        "y = 3.14\n",
        "\n",
        "# Assigning complex numbers\n",
        "z = 2 + 3j"
      ]
    },
    {
      "cell_type": "markdown",
      "source": [
        "# Strings\n",
        "\n",
        "strings are sequences of characters enclosed in either single quotes (') or double quotes (\"). Strings are one of the fundamental data types, and Python provides a rich set of operations and methods for working with them."
      ],
      "metadata": {
        "id": "qQjVEhCIAVv9"
      }
    },
    {
      "cell_type": "code",
      "source": [
        "# Using single quotes\n",
        "single_quoted = 'Hello, 1+2j World!'\n",
        "print(type(single_quoted))\n"
      ],
      "metadata": {
        "id": "U1kpuii1AaZJ",
        "colab": {
          "base_uri": "https://localhost:8080/"
        },
        "outputId": "80f68156-ada8-482c-f973-bb9837b6e54d"
      },
      "execution_count": null,
      "outputs": [
        {
          "output_type": "stream",
          "name": "stdout",
          "text": [
            "<class 'str'>\n"
          ]
        }
      ]
    },
    {
      "cell_type": "code",
      "source": [
        "# Using double quotes\n",
        "double_quoted = \"Python Programming\"\n",
        "print(type(double_quoted))"
      ],
      "metadata": {
        "colab": {
          "base_uri": "https://localhost:8080/"
        },
        "id": "su8TM-ileC07",
        "outputId": "a0d2b7cc-55e1-44f7-b707-1a18297fa760"
      },
      "execution_count": null,
      "outputs": [
        {
          "output_type": "stream",
          "name": "stdout",
          "text": [
            "<class 'str'>\n"
          ]
        }
      ]
    },
    {
      "cell_type": "code",
      "source": [
        "# Using Triple quotes\n",
        "triple_quoted = '''Python Programming'''\n",
        "print(type(triple_quoted))\n"
      ],
      "metadata": {
        "colab": {
          "base_uri": "https://localhost:8080/"
        },
        "id": "HrYAe-9deFXh",
        "outputId": "76424b1a-c314-4054-8363-b6b7746a9cde"
      },
      "execution_count": null,
      "outputs": [
        {
          "output_type": "stream",
          "name": "stdout",
          "text": [
            "<class 'str'>\n"
          ]
        }
      ]
    },
    {
      "cell_type": "code",
      "source": [
        "multiline_string = '''This is a\n",
        "multiline\n",
        "string.'''\n",
        "\n",
        "print(multiline_string)\n"
      ],
      "metadata": {
        "id": "qzhIHex1Aefm",
        "colab": {
          "base_uri": "https://localhost:8080/"
        },
        "outputId": "9f8bb5af-c1c2-47f2-fcd1-f6eac64f9875"
      },
      "execution_count": null,
      "outputs": [
        {
          "output_type": "stream",
          "name": "stdout",
          "text": [
            "This is a \n",
            "multiline\n",
            "string.\n"
          ]
        }
      ]
    },
    {
      "cell_type": "code",
      "source": [
        "# String Indexing\n",
        "my_string = \"Python\"\n",
        "print(my_string[0])  # P\n",
        "print(my_string[2])  # t\n",
        "print(my_string[20]) # Out of Index"
      ],
      "metadata": {
        "id": "yxjIfJMeAfDw",
        "colab": {
          "base_uri": "https://localhost:8080/",
          "height": 245
        },
        "outputId": "bc8a209e-13cf-4ac8-8657-dd9918e8d07c"
      },
      "execution_count": null,
      "outputs": [
        {
          "output_type": "stream",
          "name": "stdout",
          "text": [
            "P\n",
            "t\n"
          ]
        },
        {
          "output_type": "error",
          "ename": "IndexError",
          "evalue": "string index out of range",
          "traceback": [
            "\u001b[0;31m---------------------------------------------------------------------------\u001b[0m",
            "\u001b[0;31mIndexError\u001b[0m                                Traceback (most recent call last)",
            "\u001b[0;32m<ipython-input-15-54fa11ec5ad7>\u001b[0m in \u001b[0;36m<cell line: 5>\u001b[0;34m()\u001b[0m\n\u001b[1;32m      3\u001b[0m \u001b[0mprint\u001b[0m\u001b[0;34m(\u001b[0m\u001b[0mmy_string\u001b[0m\u001b[0;34m[\u001b[0m\u001b[0;36m0\u001b[0m\u001b[0;34m]\u001b[0m\u001b[0;34m)\u001b[0m  \u001b[0;31m# P\u001b[0m\u001b[0;34m\u001b[0m\u001b[0;34m\u001b[0m\u001b[0m\n\u001b[1;32m      4\u001b[0m \u001b[0mprint\u001b[0m\u001b[0;34m(\u001b[0m\u001b[0mmy_string\u001b[0m\u001b[0;34m[\u001b[0m\u001b[0;36m2\u001b[0m\u001b[0;34m]\u001b[0m\u001b[0;34m)\u001b[0m  \u001b[0;31m# t\u001b[0m\u001b[0;34m\u001b[0m\u001b[0;34m\u001b[0m\u001b[0m\n\u001b[0;32m----> 5\u001b[0;31m \u001b[0mprint\u001b[0m\u001b[0;34m(\u001b[0m\u001b[0mmy_string\u001b[0m\u001b[0;34m[\u001b[0m\u001b[0;36m20\u001b[0m\u001b[0;34m]\u001b[0m\u001b[0;34m)\u001b[0m \u001b[0;31m# Out of Index\u001b[0m\u001b[0;34m\u001b[0m\u001b[0;34m\u001b[0m\u001b[0m\n\u001b[0m",
            "\u001b[0;31mIndexError\u001b[0m: string index out of range"
          ]
        }
      ]
    },
    {
      "cell_type": "code",
      "source": [
        "# String Slicing\n",
        "my_string = \"Python\"\n",
        "print(my_string[1:4])  # yth\n"
      ],
      "metadata": {
        "id": "yWOVRN0wAj2k",
        "colab": {
          "base_uri": "https://localhost:8080/"
        },
        "outputId": "75356fe1-1c03-4c62-b16c-7f673e89d4de"
      },
      "execution_count": null,
      "outputs": [
        {
          "output_type": "stream",
          "name": "stdout",
          "text": [
            "yth\n"
          ]
        }
      ]
    },
    {
      "cell_type": "code",
      "source": [
        "print(my_string[2:5])"
      ],
      "metadata": {
        "colab": {
          "base_uri": "https://localhost:8080/"
        },
        "id": "RjFyVf87fmCt",
        "outputId": "c6e7d974-75ae-4c87-cbcf-0d49d828741c"
      },
      "execution_count": null,
      "outputs": [
        {
          "output_type": "stream",
          "name": "stdout",
          "text": [
            "tho\n"
          ]
        }
      ]
    },
    {
      "cell_type": "code",
      "source": [
        "print(my_string[2:-1])"
      ],
      "metadata": {
        "colab": {
          "base_uri": "https://localhost:8080/"
        },
        "id": "5EskW3K7fqHQ",
        "outputId": "2a0112ba-38d6-40bf-e953-b6e365d864bc"
      },
      "execution_count": null,
      "outputs": [
        {
          "output_type": "stream",
          "name": "stdout",
          "text": [
            "tho\n"
          ]
        }
      ]
    },
    {
      "cell_type": "code",
      "source": [
        "# String Concatenation\n",
        "str1 = \"Hello\"\n",
        "str2 = \"World\"\n",
        "concatenated_str = str1 + \", \" + str2\n",
        "print(concatenated_str)  # Hello, World\n"
      ],
      "metadata": {
        "id": "3w4DI_rHAmrg",
        "colab": {
          "base_uri": "https://localhost:8080/"
        },
        "outputId": "9d77214f-7b4d-4f34-e92b-c7feb382d41d"
      },
      "execution_count": null,
      "outputs": [
        {
          "output_type": "stream",
          "name": "stdout",
          "text": [
            "Hello, World\n"
          ]
        }
      ]
    },
    {
      "cell_type": "code",
      "source": [
        "str3 = 10\n",
        "concatenated_str = str1 + \", \" + str2 + str3"
      ],
      "metadata": {
        "colab": {
          "base_uri": "https://localhost:8080/",
          "height": 193
        },
        "id": "nZuMLrobf-VB",
        "outputId": "b9b0f914-a2fa-4c5c-b7e8-c57198b72567"
      },
      "execution_count": null,
      "outputs": [
        {
          "output_type": "error",
          "ename": "TypeError",
          "evalue": "can only concatenate str (not \"int\") to str",
          "traceback": [
            "\u001b[0;31m---------------------------------------------------------------------------\u001b[0m",
            "\u001b[0;31mTypeError\u001b[0m                                 Traceback (most recent call last)",
            "\u001b[0;32m<ipython-input-20-ee38bcc2220b>\u001b[0m in \u001b[0;36m<cell line: 2>\u001b[0;34m()\u001b[0m\n\u001b[1;32m      1\u001b[0m \u001b[0mstr3\u001b[0m \u001b[0;34m=\u001b[0m \u001b[0;36m10\u001b[0m\u001b[0;34m\u001b[0m\u001b[0;34m\u001b[0m\u001b[0m\n\u001b[0;32m----> 2\u001b[0;31m \u001b[0mconcatenated_str\u001b[0m \u001b[0;34m=\u001b[0m \u001b[0mstr1\u001b[0m \u001b[0;34m+\u001b[0m \u001b[0;34m\", \"\u001b[0m \u001b[0;34m+\u001b[0m \u001b[0mstr2\u001b[0m \u001b[0;34m+\u001b[0m \u001b[0mstr3\u001b[0m\u001b[0;34m\u001b[0m\u001b[0;34m\u001b[0m\u001b[0m\n\u001b[0m",
            "\u001b[0;31mTypeError\u001b[0m: can only concatenate str (not \"int\") to str"
          ]
        }
      ]
    },
    {
      "cell_type": "markdown",
      "source": [
        "Common String Methods:\n",
        "\n",
        "1. len(): Returns the length of a string.\n",
        "2. lower(), upper(): Converts a string to lowercase or uppercase.\n",
        "3. strip(): Removes leading and trailing whitespaces.\n",
        "4. replace(): Replaces a substring with another substring.\n",
        "5. split(): Splits a string into a list of substrings based on a delimiter.\n",
        "6. find(), index(): Finds the index of a substring in the string."
      ],
      "metadata": {
        "id": "_kDhNWUWAyTj"
      }
    },
    {
      "cell_type": "code",
      "source": [
        "my_string = \"Hello, World!\"\n",
        "print(len(my_string))"
      ],
      "metadata": {
        "colab": {
          "base_uri": "https://localhost:8080/"
        },
        "id": "8HPFP3stgXky",
        "outputId": "a9d7f987-7c31-43fa-e7c1-e807c62128d7"
      },
      "execution_count": null,
      "outputs": [
        {
          "output_type": "stream",
          "name": "stdout",
          "text": [
            "13\n"
          ]
        }
      ]
    },
    {
      "cell_type": "code",
      "source": [
        "print(my_string.lower())"
      ],
      "metadata": {
        "colab": {
          "base_uri": "https://localhost:8080/"
        },
        "id": "5PBnJmqRgmhF",
        "outputId": "e780621d-df36-4d9f-f699-ae09316b44a8"
      },
      "execution_count": null,
      "outputs": [
        {
          "output_type": "stream",
          "name": "stdout",
          "text": [
            "hello, world!\n"
          ]
        }
      ]
    },
    {
      "cell_type": "code",
      "source": [
        "print(my_string.upper())"
      ],
      "metadata": {
        "colab": {
          "base_uri": "https://localhost:8080/"
        },
        "id": "8RW_Sv6xg745",
        "outputId": "f5a0e395-c221-4402-c226-469799760937"
      },
      "execution_count": null,
      "outputs": [
        {
          "output_type": "stream",
          "name": "stdout",
          "text": [
            "HELLO, WORLD!\n"
          ]
        }
      ]
    },
    {
      "cell_type": "code",
      "source": [
        "print(my_string.replace('o', '*'))"
      ],
      "metadata": {
        "colab": {
          "base_uri": "https://localhost:8080/"
        },
        "id": "cKT8HlKqhDFS",
        "outputId": "3858707f-7598-4941-d210-82b33899a114"
      },
      "execution_count": null,
      "outputs": [
        {
          "output_type": "stream",
          "name": "stdout",
          "text": [
            "Hell*, W*rld!\n"
          ]
        }
      ]
    },
    {
      "cell_type": "code",
      "source": [
        "my_string = \"         Hello, World!        \"\n",
        "print(my_string)\n",
        "print(my_string.strip())"
      ],
      "metadata": {
        "colab": {
          "base_uri": "https://localhost:8080/"
        },
        "id": "2yAjp_IihKFI",
        "outputId": "aa2446c0-3c61-4d5e-f8d6-69196867a547"
      },
      "execution_count": null,
      "outputs": [
        {
          "output_type": "stream",
          "name": "stdout",
          "text": [
            "         Hello, World!        \n",
            "Hello, World!\n"
          ]
        }
      ]
    },
    {
      "cell_type": "code",
      "source": [
        "print(my_string.split(\" \"))"
      ],
      "metadata": {
        "colab": {
          "base_uri": "https://localhost:8080/"
        },
        "id": "3VghBuSMh7-C",
        "outputId": "12cf89dd-6b21-47e7-90ee-c97078470c32"
      },
      "execution_count": null,
      "outputs": [
        {
          "output_type": "stream",
          "name": "stdout",
          "text": [
            "['', '', '', '', '', '', '', '', '', 'Hello,', 'World!', '', '', '', '', '', '', '', '']\n"
          ]
        }
      ]
    },
    {
      "cell_type": "code",
      "source": [
        "my_string = \"    Hello, World!    \"\n",
        "print(len(my_string))\n",
        "print(my_string.strip())\n",
        "print(my_string.lower())\n",
        "print(my_string.replace('o', '*'))"
      ],
      "metadata": {
        "id": "ejW9hqOXA4Lt"
      },
      "execution_count": null,
      "outputs": []
    },
    {
      "cell_type": "markdown",
      "source": [
        "# Lists"
      ],
      "metadata": {
        "id": "-nHoKyLeBOEW"
      }
    },
    {
      "cell_type": "markdown",
      "source": [
        "a list is a versatile and mutable data structure that can hold a collection of elements. Lists are defined by enclosing the elements within square brackets ([])."
      ],
      "metadata": {
        "id": "BD1AtcEcBPI8"
      }
    },
    {
      "cell_type": "code",
      "source": [
        "my_list = [1, 2, 3, 4, 5]"
      ],
      "metadata": {
        "id": "oJ5evRVEjUx1"
      },
      "execution_count": null,
      "outputs": []
    },
    {
      "cell_type": "code",
      "source": [
        "my_list2 = ['a', 10, 2.45, \"balaji\"]\n",
        "print(my_list2)"
      ],
      "metadata": {
        "id": "ol1eox54BQXl",
        "colab": {
          "base_uri": "https://localhost:8080/"
        },
        "outputId": "ced824f9-5ba0-45b3-d9eb-38a005c2b1c5"
      },
      "execution_count": null,
      "outputs": [
        {
          "output_type": "stream",
          "name": "stdout",
          "text": [
            "['a', 10, 2.45, 'balaji']\n"
          ]
        }
      ]
    },
    {
      "cell_type": "code",
      "source": [
        "# Accessing elements\n",
        "print(my_list[0])  # 1\n",
        "\n",
        "print(my_list2[2])  # 3\n"
      ],
      "metadata": {
        "id": "AV_iF26ABTAf",
        "colab": {
          "base_uri": "https://localhost:8080/"
        },
        "outputId": "43902c56-84fc-4669-abf5-fd14d4043d0b"
      },
      "execution_count": null,
      "outputs": [
        {
          "output_type": "stream",
          "name": "stdout",
          "text": [
            "1\n",
            "2.45\n"
          ]
        }
      ]
    },
    {
      "cell_type": "code",
      "source": [
        "my_list[0] = 5 # Lists are mutable and value can be changed.\n",
        "print(my_list)"
      ],
      "metadata": {
        "colab": {
          "base_uri": "https://localhost:8080/"
        },
        "id": "r7mi0LA_CEz7",
        "outputId": "e55111b2-bc31-44c5-afa1-d7fa24cf0d76"
      },
      "execution_count": null,
      "outputs": [
        {
          "output_type": "stream",
          "name": "stdout",
          "text": [
            "[5, 2, 3, 4, 5]\n"
          ]
        }
      ]
    },
    {
      "cell_type": "code",
      "source": [
        "my_list[4] = \"balaji\" # Lists are mutable and value can be changed.\n",
        "print(my_list)"
      ],
      "metadata": {
        "colab": {
          "base_uri": "https://localhost:8080/"
        },
        "id": "h-dLouI0kI_-",
        "outputId": "9f19e2c8-9aa1-4710-b6ac-5e494133e380"
      },
      "execution_count": null,
      "outputs": [
        {
          "output_type": "stream",
          "name": "stdout",
          "text": [
            "[5, 2, 3, 4, 'balaji']\n"
          ]
        }
      ]
    },
    {
      "cell_type": "code",
      "source": [
        "# List Slicing\n",
        "sublist = my_list[1:4]\n",
        "print(sublist)  # [2, 3, 4]"
      ],
      "metadata": {
        "id": "SEmEksMEBS-Q",
        "colab": {
          "base_uri": "https://localhost:8080/"
        },
        "outputId": "1f7f47ea-43c6-4683-bb7e-5488d0e9b4ec"
      },
      "execution_count": null,
      "outputs": [
        {
          "output_type": "stream",
          "name": "stdout",
          "text": [
            "[2, 3, 4]\n"
          ]
        }
      ]
    },
    {
      "cell_type": "code",
      "source": [
        "print(my_list)"
      ],
      "metadata": {
        "colab": {
          "base_uri": "https://localhost:8080/"
        },
        "id": "1WkAYdFmkeMW",
        "outputId": "db43b6d7-fcd6-45c2-bd73-64e64acff013"
      },
      "execution_count": null,
      "outputs": [
        {
          "output_type": "stream",
          "name": "stdout",
          "text": [
            "[5, 2, 3, 4, 'balaji']\n"
          ]
        }
      ]
    },
    {
      "cell_type": "code",
      "source": [
        "# List reverse\n",
        "my_list = [1, 2, 3, 4, 5]\n",
        "my_list.reverse()\n",
        "print(my_list)"
      ],
      "metadata": {
        "colab": {
          "base_uri": "https://localhost:8080/"
        },
        "id": "wQ-2-kGgFFNq",
        "outputId": "508caf7e-0b37-4ad1-bf63-939dc5b55adb"
      },
      "execution_count": null,
      "outputs": [
        {
          "output_type": "stream",
          "name": "stdout",
          "text": [
            "[5, 4, 3, 2, 1]\n"
          ]
        }
      ]
    },
    {
      "cell_type": "code",
      "source": [
        "my_list = [1, 2, 3, 4, 5]\n",
        "reversed_list = my_list[::-1]\n",
        "print(reversed_list)"
      ],
      "metadata": {
        "colab": {
          "base_uri": "https://localhost:8080/"
        },
        "id": "nlc_Gse9FHK9",
        "outputId": "ee4efeea-51e3-424c-8712-4d42c3382ea0"
      },
      "execution_count": null,
      "outputs": [
        {
          "output_type": "stream",
          "name": "stdout",
          "text": [
            "[5, 4, 3, 2, 1]\n"
          ]
        }
      ]
    },
    {
      "cell_type": "code",
      "source": [
        "print(my_list)"
      ],
      "metadata": {
        "colab": {
          "base_uri": "https://localhost:8080/"
        },
        "id": "Nr7wSdynKbem",
        "outputId": "8f33ac93-37b2-4627-de39-e6728bd4b596"
      },
      "execution_count": null,
      "outputs": [
        {
          "output_type": "stream",
          "name": "stdout",
          "text": [
            "[1, 2, 3, 4, 5]\n"
          ]
        }
      ]
    },
    {
      "cell_type": "code",
      "source": [
        "# Modifying lists\n",
        "my_list[1] = 10\n",
        "my_list.append(6)\n",
        "my_list.remove(3)\n",
        "print(my_list)  # [1, 10, 4, 5, 6]"
      ],
      "metadata": {
        "id": "sUjCv0eDBS7w",
        "colab": {
          "base_uri": "https://localhost:8080/"
        },
        "outputId": "b8602c84-c27b-4716-c716-2b6917ce1a32"
      },
      "execution_count": null,
      "outputs": [
        {
          "output_type": "stream",
          "name": "stdout",
          "text": [
            "[1, 10, 4, 5, 6]\n"
          ]
        }
      ]
    },
    {
      "cell_type": "code",
      "source": [
        "# List concatenation\n",
        "list1 = [1, 2, 3]\n",
        "list2 = [3, 5, 6]\n",
        "combined_list = list1 + list2\n",
        "print(combined_list)"
      ],
      "metadata": {
        "id": "PEhlp7PRBS5b",
        "colab": {
          "base_uri": "https://localhost:8080/"
        },
        "outputId": "6162feae-b40f-48fa-8fb9-059ff98d7de1"
      },
      "execution_count": null,
      "outputs": [
        {
          "output_type": "stream",
          "name": "stdout",
          "text": [
            "[1, 2, 3, 3, 5, 6]\n"
          ]
        }
      ]
    },
    {
      "cell_type": "code",
      "source": [
        "# List repetiton\n",
        "repeated_list = [0] * 30\n",
        "print(repeated_list)  # [0, 0, 0]"
      ],
      "metadata": {
        "id": "hrm6zVT8BS2F",
        "colab": {
          "base_uri": "https://localhost:8080/"
        },
        "outputId": "4990d398-761d-47ab-a798-5219a94ca1d4"
      },
      "execution_count": null,
      "outputs": [
        {
          "output_type": "stream",
          "name": "stdout",
          "text": [
            "[0, 0, 0, 0, 0, 0, 0, 0, 0, 0, 0, 0, 0, 0, 0, 0, 0, 0, 0, 0, 0, 0, 0, 0, 0, 0, 0, 0, 0, 0]\n"
          ]
        }
      ]
    },
    {
      "cell_type": "code",
      "source": [
        "# Len of list\n",
        "print(my_list)\n",
        "length = len(my_list)\n",
        "print(length)  # 5\n"
      ],
      "metadata": {
        "id": "KxTBS12bBoEQ",
        "colab": {
          "base_uri": "https://localhost:8080/"
        },
        "outputId": "dd8a2351-eb75-46db-def0-55a067f9f447"
      },
      "execution_count": null,
      "outputs": [
        {
          "output_type": "stream",
          "name": "stdout",
          "text": [
            "[1, 10, 4, 5, 6]\n",
            "5\n"
          ]
        }
      ]
    },
    {
      "cell_type": "code",
      "source": [
        "# Nested List\n",
        "nested_list = [[1, 2, 3], [4, 5, 6], [7, 8, 9], ['1', 2, 'Welcome']]\n",
        "print(nested_list)"
      ],
      "metadata": {
        "id": "O1Pe3b0qBrBp",
        "colab": {
          "base_uri": "https://localhost:8080/"
        },
        "outputId": "697b5164-05a3-4123-dda4-5319a88c23ca"
      },
      "execution_count": null,
      "outputs": [
        {
          "output_type": "stream",
          "name": "stdout",
          "text": [
            "[[1, 2, 3], [4, 5, 6], [7, 8, 9], ['1', 2, 'Welcome']]\n"
          ]
        }
      ]
    },
    {
      "cell_type": "code",
      "source": [
        "nested_list[2][1]"
      ],
      "metadata": {
        "colab": {
          "base_uri": "https://localhost:8080/"
        },
        "id": "ZhlcxKftLnSB",
        "outputId": "4c9c92e6-3739-4595-9124-9205ef730fba"
      },
      "execution_count": null,
      "outputs": [
        {
          "output_type": "execute_result",
          "data": {
            "text/plain": [
              "8"
            ]
          },
          "metadata": {},
          "execution_count": 17
        }
      ]
    },
    {
      "cell_type": "code",
      "source": [
        "nested_list[1][2]"
      ],
      "metadata": {
        "colab": {
          "base_uri": "https://localhost:8080/"
        },
        "id": "zqqLjEGyle14",
        "outputId": "daf13712-47f3-4778-f180-367d193e5836"
      },
      "execution_count": null,
      "outputs": [
        {
          "output_type": "execute_result",
          "data": {
            "text/plain": [
              "6"
            ]
          },
          "metadata": {},
          "execution_count": 18
        }
      ]
    },
    {
      "cell_type": "code",
      "source": [
        "print(my_list)"
      ],
      "metadata": {
        "colab": {
          "base_uri": "https://localhost:8080/"
        },
        "id": "HsNAOXYALzwn",
        "outputId": "e5b85798-563a-41ca-c692-676acab2b6e8"
      },
      "execution_count": null,
      "outputs": [
        {
          "output_type": "stream",
          "name": "stdout",
          "text": [
            "[1, 10, 15, 5, 6, 7, 7]\n"
          ]
        }
      ]
    },
    {
      "cell_type": "code",
      "source": [
        "my_list.append(7)\n",
        "print(my_list)\n",
        "\n",
        "my_list.insert(2, 15)\n",
        "print(my_list)\n",
        "\n",
        "my_list.pop(3)\n",
        "print(my_list)\n",
        "\n",
        "my_list.remove(4)\n",
        "print(my_list)"
      ],
      "metadata": {
        "id": "qBV28HHGCjOn",
        "colab": {
          "base_uri": "https://localhost:8080/",
          "height": 280
        },
        "outputId": "2f9e6cc6-49bb-4639-e173-850b07a5aa62"
      },
      "execution_count": null,
      "outputs": [
        {
          "output_type": "stream",
          "name": "stdout",
          "text": [
            "[1, 10, 15, 5, 6, 7, 7, 7]\n",
            "[1, 10, 15, 15, 5, 6, 7, 7, 7]\n",
            "[1, 10, 15, 5, 6, 7, 7, 7]\n"
          ]
        },
        {
          "output_type": "error",
          "ename": "ValueError",
          "evalue": "list.remove(x): x not in list",
          "traceback": [
            "\u001b[0;31m---------------------------------------------------------------------------\u001b[0m",
            "\u001b[0;31mValueError\u001b[0m                                Traceback (most recent call last)",
            "\u001b[0;32m<ipython-input-23-a8cf46d60206>\u001b[0m in \u001b[0;36m<cell line: 10>\u001b[0;34m()\u001b[0m\n\u001b[1;32m      8\u001b[0m \u001b[0mprint\u001b[0m\u001b[0;34m(\u001b[0m\u001b[0mmy_list\u001b[0m\u001b[0;34m)\u001b[0m\u001b[0;34m\u001b[0m\u001b[0;34m\u001b[0m\u001b[0m\n\u001b[1;32m      9\u001b[0m \u001b[0;34m\u001b[0m\u001b[0m\n\u001b[0;32m---> 10\u001b[0;31m \u001b[0mmy_list\u001b[0m\u001b[0;34m.\u001b[0m\u001b[0mremove\u001b[0m\u001b[0;34m(\u001b[0m\u001b[0;36m4\u001b[0m\u001b[0;34m)\u001b[0m\u001b[0;34m\u001b[0m\u001b[0;34m\u001b[0m\u001b[0m\n\u001b[0m\u001b[1;32m     11\u001b[0m \u001b[0mprint\u001b[0m\u001b[0;34m(\u001b[0m\u001b[0mmy_list\u001b[0m\u001b[0;34m)\u001b[0m\u001b[0;34m\u001b[0m\u001b[0;34m\u001b[0m\u001b[0m\n",
            "\u001b[0;31mValueError\u001b[0m: list.remove(x): x not in list"
          ]
        }
      ]
    },
    {
      "cell_type": "markdown",
      "source": [
        "# List comprehension\n",
        "\n",
        "new_list = [expression for item in iterable if condition]\n"
      ],
      "metadata": {
        "id": "snHH8qy-FOgr"
      }
    },
    {
      "cell_type": "code",
      "source": [
        "squares = [x**2 for x in range(5)]\n",
        "squares"
      ],
      "metadata": {
        "colab": {
          "base_uri": "https://localhost:8080/"
        },
        "id": "96BxEgioFOOP",
        "outputId": "342554c4-c46b-4454-fab5-a044193f0aae"
      },
      "execution_count": null,
      "outputs": [
        {
          "output_type": "execute_result",
          "data": {
            "text/plain": [
              "[0, 1, 4, 9, 16]"
            ]
          },
          "metadata": {},
          "execution_count": 26
        }
      ]
    },
    {
      "cell_type": "markdown",
      "source": [
        "# Tuples"
      ],
      "metadata": {
        "id": "8NLXBiGjCbtG"
      }
    },
    {
      "cell_type": "markdown",
      "source": [
        "1. a tuple is a collection of ordered and immutable elements. Tuples are similar to lists, but the key difference is that once a tuple is created, its elements cannot be changed or modified. Tuples are defined using parentheses ().\n",
        "\n",
        "2. Any time you need to store a sequence of data like a list, but don't need the mutability of a list, a tuple is appropriate. They're for when you know exactly how many elements you need to store and what those elements are ahead of time\n",
        "\n",
        "3. Coordinates in Geographic Information Systems (GIS): Tuples can represent coordinates (latitude, longitude) in GIS applications.\n",
        "For example: coordinates = (37.7749, -122.4194) representing the coordinates of San Francisco."
      ],
      "metadata": {
        "id": "gtusoNR-Crbo"
      }
    },
    {
      "cell_type": "code",
      "source": [
        "my_tuple = (1, 2, 3, 4, 5)\n",
        "my_tuple"
      ],
      "metadata": {
        "id": "Qcfkhd51CtrB",
        "colab": {
          "base_uri": "https://localhost:8080/"
        },
        "outputId": "0ab94c6c-f850-438b-d509-eb7f6a08407b"
      },
      "execution_count": null,
      "outputs": [
        {
          "output_type": "execute_result",
          "data": {
            "text/plain": [
              "(1, 2, 3, 4, 5)"
            ]
          },
          "metadata": {},
          "execution_count": 9
        }
      ]
    },
    {
      "cell_type": "code",
      "source": [
        "tuple2 = (1,2.5,\"Balaji\", 2+3j, [1,5.78,\"data\"])\n",
        "tuple2"
      ],
      "metadata": {
        "colab": {
          "base_uri": "https://localhost:8080/"
        },
        "id": "FHmnnYNfeFY2",
        "outputId": "6fa809ef-aaca-47be-b325-850f87af9d66"
      },
      "execution_count": null,
      "outputs": [
        {
          "output_type": "execute_result",
          "data": {
            "text/plain": [
              "(1, 2.5, 'Balaji', (2+3j), [1, 5.78, 'data'])"
            ]
          },
          "metadata": {},
          "execution_count": 10
        }
      ]
    },
    {
      "cell_type": "code",
      "source": [
        "print(tuple2[0])  # 1\n",
        "print(tuple2[2])  # 3"
      ],
      "metadata": {
        "id": "yDJt5YNbCtox",
        "colab": {
          "base_uri": "https://localhost:8080/"
        },
        "outputId": "73514cc1-bec3-4dce-b050-89e57d632f96"
      },
      "execution_count": null,
      "outputs": [
        {
          "output_type": "stream",
          "name": "stdout",
          "text": [
            "1\n",
            "Balaji\n"
          ]
        }
      ]
    },
    {
      "cell_type": "code",
      "source": [
        "type(tuple2[1:4])"
      ],
      "metadata": {
        "colab": {
          "base_uri": "https://localhost:8080/"
        },
        "id": "b7lXrDLRmOeC",
        "outputId": "2922fed6-755c-434d-a4da-d1085e5731da"
      },
      "execution_count": null,
      "outputs": [
        {
          "output_type": "execute_result",
          "data": {
            "text/plain": [
              "tuple"
            ]
          },
          "metadata": {},
          "execution_count": 14
        }
      ]
    },
    {
      "cell_type": "code",
      "source": [
        "my_list = [1, 2, 3, 4, 5]\n",
        "my_tuple = (1, 2, 3, 4, 5)"
      ],
      "metadata": {
        "id": "bsB_pnNpeUeK"
      },
      "execution_count": null,
      "outputs": []
    },
    {
      "cell_type": "code",
      "source": [
        "my_tuple[0] = 10\n",
        "my_tuple"
      ],
      "metadata": {
        "id": "Pe6cOdkkCtl7",
        "colab": {
          "base_uri": "https://localhost:8080/",
          "height": 194
        },
        "outputId": "5c4f869e-7a27-4d5a-d8ca-3e0745fbd91e"
      },
      "execution_count": null,
      "outputs": [
        {
          "output_type": "error",
          "ename": "TypeError",
          "evalue": "'tuple' object does not support item assignment",
          "traceback": [
            "\u001b[0;31m---------------------------------------------------------------------------\u001b[0m",
            "\u001b[0;31mTypeError\u001b[0m                                 Traceback (most recent call last)",
            "\u001b[0;32m<ipython-input-18-45dd2330f094>\u001b[0m in \u001b[0;36m<cell line: 1>\u001b[0;34m()\u001b[0m\n\u001b[0;32m----> 1\u001b[0;31m \u001b[0mmy_tuple\u001b[0m\u001b[0;34m[\u001b[0m\u001b[0;36m0\u001b[0m\u001b[0;34m]\u001b[0m \u001b[0;34m=\u001b[0m \u001b[0;36m10\u001b[0m\u001b[0;34m\u001b[0m\u001b[0;34m\u001b[0m\u001b[0m\n\u001b[0m\u001b[1;32m      2\u001b[0m \u001b[0mmy_tuple\u001b[0m\u001b[0;34m\u001b[0m\u001b[0;34m\u001b[0m\u001b[0m\n",
            "\u001b[0;31mTypeError\u001b[0m: 'tuple' object does not support item assignment"
          ]
        }
      ]
    },
    {
      "cell_type": "code",
      "source": [
        "my_list[0] = 10\n",
        "my_list"
      ],
      "metadata": {
        "colab": {
          "base_uri": "https://localhost:8080/"
        },
        "id": "wWcBH3S1eYVP",
        "outputId": "8a79f9b0-83d5-4acb-ac96-000114a28a6b"
      },
      "execution_count": null,
      "outputs": [
        {
          "output_type": "execute_result",
          "data": {
            "text/plain": [
              "[10, 2, 3, 4, 5]"
            ]
          },
          "metadata": {},
          "execution_count": 17
        }
      ]
    },
    {
      "cell_type": "code",
      "source": [
        "# Unpack Tuples\n",
        "x, y, z = (1,2,3)\n",
        "print(x, y, z)"
      ],
      "metadata": {
        "colab": {
          "base_uri": "https://localhost:8080/"
        },
        "id": "AsACL8BZCthi",
        "outputId": "e4e1034e-d452-49c3-e5fe-b40c1eeac6a0"
      },
      "execution_count": null,
      "outputs": [
        {
          "output_type": "stream",
          "name": "stdout",
          "text": [
            "1 2 3\n"
          ]
        }
      ]
    },
    {
      "cell_type": "code",
      "source": [
        "# Single element tuple, trailing comma is required.\n",
        "single_element_tuple = (42,)\n",
        "print(type(single_element_tuple))"
      ],
      "metadata": {
        "id": "oDWPdYzpDQTe",
        "colab": {
          "base_uri": "https://localhost:8080/"
        },
        "outputId": "d27e23d5-5076-4b21-a8a4-d0caa0f7281c"
      },
      "execution_count": null,
      "outputs": [
        {
          "output_type": "stream",
          "name": "stdout",
          "text": [
            "<class 'tuple'>\n"
          ]
        }
      ]
    },
    {
      "cell_type": "code",
      "source": [
        "len(my_tuple)"
      ],
      "metadata": {
        "colab": {
          "base_uri": "https://localhost:8080/"
        },
        "id": "yGMNEN45m3EA",
        "outputId": "67fb7be3-48cd-44cc-99a6-d788a5ffb873"
      },
      "execution_count": null,
      "outputs": [
        {
          "output_type": "execute_result",
          "data": {
            "text/plain": [
              "5"
            ]
          },
          "metadata": {},
          "execution_count": 21
        }
      ]
    },
    {
      "cell_type": "code",
      "source": [
        "my_tuple = (1, 2, 3, 4, 2, 5,2)\n",
        "count_of_2 = my_tuple.count(2)\n",
        "print(count_of_2)"
      ],
      "metadata": {
        "colab": {
          "base_uri": "https://localhost:8080/"
        },
        "id": "eggCRyxdnA3v",
        "outputId": "5b9d1082-5834-4190-f5a3-728ca0ec63f3"
      },
      "execution_count": null,
      "outputs": [
        {
          "output_type": "stream",
          "name": "stdout",
          "text": [
            "3\n"
          ]
        }
      ]
    },
    {
      "cell_type": "code",
      "source": [
        "index_of_4 = my_tuple.index(\"balaji\")\n",
        "print(index_of_4)"
      ],
      "metadata": {
        "id": "llT8yUmMDV9j",
        "colab": {
          "base_uri": "https://localhost:8080/",
          "height": 194
        },
        "outputId": "92fbdd45-0099-4b04-9e00-e669798c275f"
      },
      "execution_count": null,
      "outputs": [
        {
          "output_type": "error",
          "ename": "ValueError",
          "evalue": "tuple.index(x): x not in tuple",
          "traceback": [
            "\u001b[0;31m---------------------------------------------------------------------------\u001b[0m",
            "\u001b[0;31mValueError\u001b[0m                                Traceback (most recent call last)",
            "\u001b[0;32m<ipython-input-27-9150eb3e8add>\u001b[0m in \u001b[0;36m<cell line: 1>\u001b[0;34m()\u001b[0m\n\u001b[0;32m----> 1\u001b[0;31m \u001b[0mindex_of_4\u001b[0m \u001b[0;34m=\u001b[0m \u001b[0mmy_tuple\u001b[0m\u001b[0;34m.\u001b[0m\u001b[0mindex\u001b[0m\u001b[0;34m(\u001b[0m\u001b[0;34m\"balaji\"\u001b[0m\u001b[0;34m)\u001b[0m\u001b[0;34m\u001b[0m\u001b[0;34m\u001b[0m\u001b[0m\n\u001b[0m\u001b[1;32m      2\u001b[0m \u001b[0mprint\u001b[0m\u001b[0;34m(\u001b[0m\u001b[0mindex_of_4\u001b[0m\u001b[0;34m)\u001b[0m\u001b[0;34m\u001b[0m\u001b[0;34m\u001b[0m\u001b[0m\n",
            "\u001b[0;31mValueError\u001b[0m: tuple.index(x): x not in tuple"
          ]
        }
      ]
    },
    {
      "cell_type": "code",
      "source": [
        "# Concatenation\n",
        "\n",
        "tuple1 = (1,2,3, \"balaji\")\n",
        "tuple2 = (2,4,5)\n",
        "\n",
        "print(tuple1+tuple2)"
      ],
      "metadata": {
        "colab": {
          "base_uri": "https://localhost:8080/"
        },
        "id": "ylO_DzeoIvOz",
        "outputId": "332db921-5ccf-4e53-a6cd-998205096cd2"
      },
      "execution_count": null,
      "outputs": [
        {
          "output_type": "stream",
          "name": "stdout",
          "text": [
            "(1, 2, 3, 'balaji', 2, 4, 5)\n"
          ]
        }
      ]
    },
    {
      "cell_type": "code",
      "source": [
        "my_tuple = ('apple', 'banana', 'cherry', 'date', 'elderberry')\n",
        "subset_tuple = my_tuple[1:4]  # Create a new tuple with elements from index 1 to 3\n",
        "print(subset_tuple)"
      ],
      "metadata": {
        "id": "vJZJkQ6KeyBO"
      },
      "execution_count": null,
      "outputs": []
    },
    {
      "cell_type": "code",
      "source": [
        "my_tuple = ('a', 'b', 'c', 'd', 'e', 'f', 'g')\n",
        "\n",
        "print(my_tuple[-3])        # Access the last element ('g')"
      ],
      "metadata": {
        "colab": {
          "base_uri": "https://localhost:8080/"
        },
        "id": "em79UUj0e5OC",
        "outputId": "d33ca87d-e8f6-42e2-f7a9-d35d4a2b4459"
      },
      "execution_count": null,
      "outputs": [
        {
          "output_type": "stream",
          "name": "stdout",
          "text": [
            "e\n"
          ]
        }
      ]
    },
    {
      "cell_type": "code",
      "source": [
        "print(my_tuple[:3])         # Create a new tuple with elements from the beginning to index 2 ('a', 'b', 'c')"
      ],
      "metadata": {
        "colab": {
          "base_uri": "https://localhost:8080/"
        },
        "id": "2akSisYRe7Qp",
        "outputId": "1fa4ba8b-fcc2-4f5b-93a7-040bc2ae57ba"
      },
      "execution_count": null,
      "outputs": [
        {
          "output_type": "stream",
          "name": "stdout",
          "text": [
            "('a', 'b', 'c')\n"
          ]
        }
      ]
    },
    {
      "cell_type": "code",
      "source": [
        "print(my_tuple[2:])         # Create a new tuple with elements from index 2 to the end ('c', 'd', 'e', 'f', 'g')"
      ],
      "metadata": {
        "colab": {
          "base_uri": "https://localhost:8080/"
        },
        "id": "GmtKoCa5fFnK",
        "outputId": "c6c3fb5e-7e2a-4771-b299-11dffd07e50f"
      },
      "execution_count": null,
      "outputs": [
        {
          "output_type": "stream",
          "name": "stdout",
          "text": [
            "('c', 'd', 'e', 'f', 'g')\n"
          ]
        }
      ]
    },
    {
      "cell_type": "code",
      "source": [
        "# Comment down the answer to this piece.\n",
        "my_tuple = ('a', 'b', 'c', 'd', 'e', 'f', 'g')\n",
        "print(my_tuple[-1])\n",
        "print(my_tuple[::-1])\n",
        "print(my_tuple[-1::-2])"
      ],
      "metadata": {
        "id": "Dmgpw6R2fIBK"
      },
      "execution_count": null,
      "outputs": []
    },
    {
      "cell_type": "markdown",
      "source": [
        "# Sets"
      ],
      "metadata": {
        "id": "V6dYlT2NDmc3"
      }
    },
    {
      "cell_type": "markdown",
      "source": [
        "1. a set is an unordered and mutable collection of unique elements. Sets are defined by enclosing elements within curly braces {}\n",
        "2. Sets in Python are particularly useful when you need to represent an unordered collection of unique elements. They excel in scenarios where uniqueness and order are not significant, and the primary concern is membership testing and operations like union, intersection, and difference."
      ],
      "metadata": {
        "id": "EfqaKgQiDwp8"
      }
    },
    {
      "cell_type": "markdown",
      "source": [
        "# Real Life Example\n",
        "\n",
        "1. Consider a scenario where you are developing an online shopping cart system, and you want to keep track of the unique items that a user has added to their cart.\n",
        "2. With a list or a tuple, duplicate items can be present in the shopping cart, and you may need additional logic to filter out duplicates.\n",
        "3. With a set, duplicate items are automatically removed, ensuring that the cart only contains unique items."
      ],
      "metadata": {
        "id": "npdEiNVQAS6P"
      }
    },
    {
      "cell_type": "code",
      "source": [
        "my_set = {1, 2, 3, 4, 5}\n",
        "my_set"
      ],
      "metadata": {
        "id": "_7MJtrshDxNz",
        "colab": {
          "base_uri": "https://localhost:8080/"
        },
        "outputId": "2bf40d5d-4303-45cb-cd4e-32296bc671eb"
      },
      "execution_count": null,
      "outputs": [
        {
          "output_type": "execute_result",
          "data": {
            "text/plain": [
              "{1, 2, 3, 4, 5}"
            ]
          },
          "metadata": {},
          "execution_count": 7
        }
      ]
    },
    {
      "cell_type": "code",
      "source": [
        "type(my_set)"
      ],
      "metadata": {
        "colab": {
          "base_uri": "https://localhost:8080/"
        },
        "id": "hHB8uyxk_dm4",
        "outputId": "6a476164-81e5-4d91-968c-61ad7836f0bc"
      },
      "execution_count": null,
      "outputs": [
        {
          "output_type": "execute_result",
          "data": {
            "text/plain": [
              "set"
            ]
          },
          "metadata": {},
          "execution_count": 8
        }
      ]
    },
    {
      "cell_type": "code",
      "source": [
        "another_set = set([3, 3, 4, 5, 6, 7]) # Repeated elements while declarign\n",
        "another_set"
      ],
      "metadata": {
        "colab": {
          "base_uri": "https://localhost:8080/"
        },
        "id": "uYJrBA_jDyF2",
        "outputId": "54169dc1-f9ff-4bc9-f96b-c697ceead354"
      },
      "execution_count": null,
      "outputs": [
        {
          "output_type": "execute_result",
          "data": {
            "text/plain": [
              "{3, 4, 5, 6, 7}"
            ]
          },
          "metadata": {},
          "execution_count": 9
        }
      ]
    },
    {
      "cell_type": "code",
      "source": [
        "# Set is an unordered ( No index )\n",
        "another_set[0]"
      ],
      "metadata": {
        "colab": {
          "base_uri": "https://localhost:8080/",
          "height": 194
        },
        "id": "9dpsmI2BwAJO",
        "outputId": "26605409-4ea2-4d3c-ec47-91f8a409467f"
      },
      "execution_count": null,
      "outputs": [
        {
          "output_type": "error",
          "ename": "TypeError",
          "evalue": "'set' object is not subscriptable",
          "traceback": [
            "\u001b[0;31m---------------------------------------------------------------------------\u001b[0m",
            "\u001b[0;31mTypeError\u001b[0m                                 Traceback (most recent call last)",
            "\u001b[0;32m<ipython-input-10-e7918ac49cc2>\u001b[0m in \u001b[0;36m<cell line: 2>\u001b[0;34m()\u001b[0m\n\u001b[1;32m      1\u001b[0m \u001b[0;31m# Set is an unordered ( No index )\u001b[0m\u001b[0;34m\u001b[0m\u001b[0;34m\u001b[0m\u001b[0m\n\u001b[0;32m----> 2\u001b[0;31m \u001b[0manother_set\u001b[0m\u001b[0;34m[\u001b[0m\u001b[0;36m0\u001b[0m\u001b[0;34m]\u001b[0m\u001b[0;34m\u001b[0m\u001b[0;34m\u001b[0m\u001b[0m\n\u001b[0m",
            "\u001b[0;31mTypeError\u001b[0m: 'set' object is not subscriptable"
          ]
        }
      ]
    },
    {
      "cell_type": "markdown",
      "source": [
        "1. add(): Adds an element to the set.\n",
        "2. update(): Adds multiple elements to the set.\n",
        "3. remove(): Removes a specified element. Raises an error if the element is not present.\n",
        "4. discard(): Removes a specified element if it is present.\n",
        "5. pop(): Removes and returns an arbitrary element. Raises an error if the set is empty."
      ],
      "metadata": {
        "id": "tAitScnHEHzW"
      }
    },
    {
      "cell_type": "code",
      "source": [
        "my_set"
      ],
      "metadata": {
        "colab": {
          "base_uri": "https://localhost:8080/"
        },
        "id": "-WT2K3nc_6uD",
        "outputId": "646fa566-7f24-456a-bc9c-deaeec7f4b8f"
      },
      "execution_count": null,
      "outputs": [
        {
          "output_type": "execute_result",
          "data": {
            "text/plain": [
              "{1, 2, 3, 4, 5}"
            ]
          },
          "metadata": {},
          "execution_count": 11
        }
      ]
    },
    {
      "cell_type": "code",
      "source": [
        "my_set.add(6)\n",
        "my_set"
      ],
      "metadata": {
        "id": "hC1d6grh2w_R",
        "colab": {
          "base_uri": "https://localhost:8080/"
        },
        "outputId": "66616e1c-c5a1-41b4-9002-acb512c5a4d4"
      },
      "execution_count": null,
      "outputs": [
        {
          "output_type": "execute_result",
          "data": {
            "text/plain": [
              "{1, 2, 3, 4, 5, 6}"
            ]
          },
          "metadata": {},
          "execution_count": 12
        }
      ]
    },
    {
      "cell_type": "code",
      "source": [
        "my_set.update({7, 8, 9})\n",
        "my_set"
      ],
      "metadata": {
        "id": "ZCnSSVQs2zfJ",
        "colab": {
          "base_uri": "https://localhost:8080/"
        },
        "outputId": "06a7e51b-e157-4e4a-9180-311127b48bcc"
      },
      "execution_count": null,
      "outputs": [
        {
          "output_type": "execute_result",
          "data": {
            "text/plain": [
              "{1, 2, 3, 4, 5, 6, 7, 8, 9}"
            ]
          },
          "metadata": {},
          "execution_count": 13
        }
      ]
    },
    {
      "cell_type": "code",
      "source": [
        "my_set.update([7, 8, 9, 10])\n",
        "my_set"
      ],
      "metadata": {
        "colab": {
          "base_uri": "https://localhost:8080/"
        },
        "id": "ufpjeVuvACWM",
        "outputId": "c35f0582-e166-4ef2-99a7-bf48925f88b4"
      },
      "execution_count": null,
      "outputs": [
        {
          "output_type": "execute_result",
          "data": {
            "text/plain": [
              "{1, 2, 3, 4, 5, 6, 7, 8, 9, 10}"
            ]
          },
          "metadata": {},
          "execution_count": 14
        }
      ]
    },
    {
      "cell_type": "code",
      "source": [
        "my_set.remove(13)\n",
        "my_set"
      ],
      "metadata": {
        "id": "LyKppdHQ20bM",
        "colab": {
          "base_uri": "https://localhost:8080/",
          "height": 194
        },
        "outputId": "5d29e871-8220-462d-c107-6c0105a6152a"
      },
      "execution_count": null,
      "outputs": [
        {
          "output_type": "error",
          "ename": "KeyError",
          "evalue": "13",
          "traceback": [
            "\u001b[0;31m---------------------------------------------------------------------------\u001b[0m",
            "\u001b[0;31mKeyError\u001b[0m                                  Traceback (most recent call last)",
            "\u001b[0;32m<ipython-input-17-53a19a2d6211>\u001b[0m in \u001b[0;36m<cell line: 1>\u001b[0;34m()\u001b[0m\n\u001b[0;32m----> 1\u001b[0;31m \u001b[0mmy_set\u001b[0m\u001b[0;34m.\u001b[0m\u001b[0mremove\u001b[0m\u001b[0;34m(\u001b[0m\u001b[0;36m13\u001b[0m\u001b[0;34m)\u001b[0m\u001b[0;34m\u001b[0m\u001b[0;34m\u001b[0m\u001b[0m\n\u001b[0m\u001b[1;32m      2\u001b[0m \u001b[0mmy_set\u001b[0m\u001b[0;34m\u001b[0m\u001b[0;34m\u001b[0m\u001b[0m\n",
            "\u001b[0;31mKeyError\u001b[0m: 13"
          ]
        }
      ]
    },
    {
      "cell_type": "code",
      "source": [
        "my_set.discard(13)\n",
        "my_set"
      ],
      "metadata": {
        "id": "AByh79c321Rr",
        "colab": {
          "base_uri": "https://localhost:8080/"
        },
        "outputId": "ea931d95-b492-4b5d-8245-4110174c9b27"
      },
      "execution_count": null,
      "outputs": [
        {
          "output_type": "execute_result",
          "data": {
            "text/plain": [
              "{1, 2, 4, 5, 6, 7, 9, 10}"
            ]
          },
          "metadata": {},
          "execution_count": 18
        }
      ]
    },
    {
      "cell_type": "markdown",
      "source": [
        "The discard() method removes the specified item from the set.\n",
        "\n",
        "This method is different from the remove() method, because the remove() method will raise an error if the specified item does not exist, and the discard() method will not."
      ],
      "metadata": {
        "id": "QyvMo7d0Axm4"
      }
    },
    {
      "cell_type": "code",
      "source": [
        "popped_element = my_set.pop()\n",
        "popped_element"
      ],
      "metadata": {
        "id": "XHqXtYvOEF9F",
        "colab": {
          "base_uri": "https://localhost:8080/"
        },
        "outputId": "9a0d7539-1106-45e8-90ef-e2d42d73fe05"
      },
      "execution_count": null,
      "outputs": [
        {
          "output_type": "execute_result",
          "data": {
            "text/plain": [
              "1"
            ]
          },
          "metadata": {},
          "execution_count": 19
        }
      ]
    },
    {
      "cell_type": "code",
      "source": [
        "my_set"
      ],
      "metadata": {
        "colab": {
          "base_uri": "https://localhost:8080/"
        },
        "id": "6L6yumMhAmgA",
        "outputId": "b1150df8-192b-444d-f973-38212dacd3e8"
      },
      "execution_count": null,
      "outputs": [
        {
          "output_type": "execute_result",
          "data": {
            "text/plain": [
              "{2, 4, 5, 6, 7, 9, 10}"
            ]
          },
          "metadata": {},
          "execution_count": 20
        }
      ]
    },
    {
      "cell_type": "code",
      "source": [
        "set1 = {1, 2, 3, 4}\n",
        "set2 = {3, 4, 5, 6}"
      ],
      "metadata": {
        "id": "MoMWVUdC3C1x"
      },
      "execution_count": null,
      "outputs": []
    },
    {
      "cell_type": "code",
      "source": [
        "set1.union(set2)"
      ],
      "metadata": {
        "id": "h7DyIxeh3DOL",
        "colab": {
          "base_uri": "https://localhost:8080/"
        },
        "outputId": "e8d66267-fb3a-440b-80d3-0dd52190ac49"
      },
      "execution_count": null,
      "outputs": [
        {
          "output_type": "execute_result",
          "data": {
            "text/plain": [
              "{1, 2, 3, 4, 5, 6}"
            ]
          },
          "metadata": {},
          "execution_count": 33
        }
      ]
    },
    {
      "cell_type": "code",
      "source": [
        "set1.intersection(set2)"
      ],
      "metadata": {
        "id": "LQ_yWLSJ3IOJ",
        "colab": {
          "base_uri": "https://localhost:8080/"
        },
        "outputId": "eeed4679-f607-491f-a20b-b65043932661"
      },
      "execution_count": null,
      "outputs": [
        {
          "output_type": "execute_result",
          "data": {
            "text/plain": [
              "{3, 4}"
            ]
          },
          "metadata": {},
          "execution_count": 34
        }
      ]
    },
    {
      "cell_type": "code",
      "source": [
        "set1.difference(set2)"
      ],
      "metadata": {
        "id": "EFUM0n4b3Ksp",
        "colab": {
          "base_uri": "https://localhost:8080/"
        },
        "outputId": "5550624c-5a00-4fe8-953c-2b60727d8aea"
      },
      "execution_count": null,
      "outputs": [
        {
          "output_type": "execute_result",
          "data": {
            "text/plain": [
              "{1, 2}"
            ]
          },
          "metadata": {},
          "execution_count": 35
        }
      ]
    },
    {
      "cell_type": "code",
      "source": [
        "# Initial sets\n",
        "set1 = {1, 2, 3, 4, 5}\n",
        "set2 = {3, 4, 5, 6, 7}\n",
        "\n",
        "# Using difference_update method\n",
        "set1.difference_update(set2)\n",
        "print(\"After difference_update, set1:\", set1)\n"
      ],
      "metadata": {
        "colab": {
          "base_uri": "https://localhost:8080/"
        },
        "id": "Oa8WvVlsHIRB",
        "outputId": "e2c106e8-839c-4382-b76b-6244573cf6c3"
      },
      "execution_count": null,
      "outputs": [
        {
          "output_type": "stream",
          "name": "stdout",
          "text": [
            "After difference_update, set1: {1, 2}\n"
          ]
        }
      ]
    },
    {
      "cell_type": "code",
      "source": [
        "# Resetting sets for the next example\n",
        "set1 = {1, 2, 3, 4, 5}\n",
        "set2 = {3, 4, 5, 6, 7}\n",
        "\n",
        "# Using -= operator (difference)\n",
        "set3 = set1 - set2\n",
        "print(\"After difference using -= operator, set1:\", set3)\n"
      ],
      "metadata": {
        "id": "fTpSZsUd334Z",
        "colab": {
          "base_uri": "https://localhost:8080/"
        },
        "outputId": "4ac0f07e-c4ee-4621-f426-d72fc764b188"
      },
      "execution_count": null,
      "outputs": [
        {
          "output_type": "stream",
          "name": "stdout",
          "text": [
            "After difference using -= operator, set1: {1, 2}\n"
          ]
        }
      ]
    },
    {
      "cell_type": "code",
      "source": [
        "set1"
      ],
      "metadata": {
        "colab": {
          "base_uri": "https://localhost:8080/"
        },
        "id": "xUs1-BrjHaWs",
        "outputId": "baf54094-1086-4f92-f9e8-a77e130f2669"
      },
      "execution_count": null,
      "outputs": [
        {
          "output_type": "execute_result",
          "data": {
            "text/plain": [
              "{1, 2, 3, 4, 5}"
            ]
          },
          "metadata": {},
          "execution_count": 39
        }
      ]
    },
    {
      "cell_type": "code",
      "source": [
        "# Resetting sets for the next example\n",
        "set1 = {1, 2, 3, 4, 5}\n",
        "set2 = {3, 4, 5, 6, 7}\n",
        "\n",
        "# Using -= operator (difference)\n",
        "set3 = set1 - set2\n",
        "print(\"After difference using -= operator, set3:\", set3)\n",
        "print(\"= set1:\", set1)\n"
      ],
      "metadata": {
        "colab": {
          "base_uri": "https://localhost:8080/"
        },
        "id": "_5emdWnlBlQp",
        "outputId": "d5aaf51c-8d72-4b09-8de2-3bcd94ee9ac6"
      },
      "execution_count": null,
      "outputs": [
        {
          "output_type": "stream",
          "name": "stdout",
          "text": [
            "After difference using -= operator, set3: {1, 2}\n",
            "= set1: {1, 2, 3, 4, 5}\n"
          ]
        }
      ]
    },
    {
      "cell_type": "code",
      "source": [
        "set1, set2"
      ],
      "metadata": {
        "id": "I_SBOXPOBa_N"
      },
      "execution_count": null,
      "outputs": []
    },
    {
      "cell_type": "code",
      "source": [
        "# Initial sets\n",
        "set1 = {1, 2, 3, 4, 5}\n",
        "set2 = {3, 4, 5, 6, 7}\n",
        "\n",
        "# Using difference_update method\n",
        "set1.intersection_update(set2)\n",
        "print(\"After intersection_update, set1:\", set1)"
      ],
      "metadata": {
        "id": "-rPs8bND394s",
        "colab": {
          "base_uri": "https://localhost:8080/"
        },
        "outputId": "b185fd68-9a60-4141-9f8c-bda34a064450"
      },
      "execution_count": null,
      "outputs": [
        {
          "output_type": "stream",
          "name": "stdout",
          "text": [
            "After intersection_update, set1: {3, 4, 5}\n"
          ]
        }
      ]
    },
    {
      "cell_type": "code",
      "source": [
        "set1, set2"
      ],
      "metadata": {
        "id": "75IBZuKNBnbf"
      },
      "execution_count": null,
      "outputs": []
    },
    {
      "cell_type": "code",
      "source": [
        "union_set = set1 | set2 # union\n",
        "intersection_set = set1 & set2 #intersection\n",
        "difference_set = set1 - set2 #difference"
      ],
      "metadata": {
        "id": "iP4V9lIsENlR"
      },
      "execution_count": null,
      "outputs": []
    },
    {
      "cell_type": "code",
      "source": [
        "my_set"
      ],
      "metadata": {
        "id": "dfuZFX023sIf"
      },
      "execution_count": null,
      "outputs": []
    },
    {
      "cell_type": "code",
      "source": [
        "set1, set2"
      ],
      "metadata": {
        "colab": {
          "base_uri": "https://localhost:8080/"
        },
        "id": "JcLdh9tqBv18",
        "outputId": "f59d382a-7d7f-4f75-cf01-481d4873cebb"
      },
      "execution_count": null,
      "outputs": [
        {
          "output_type": "execute_result",
          "data": {
            "text/plain": [
              "({3, 4, 5}, {3, 4, 5, 6, 7})"
            ]
          },
          "metadata": {},
          "execution_count": 41
        }
      ]
    },
    {
      "cell_type": "code",
      "source": [
        "my_set.clear() # Removes all elements from the set.\n",
        "set_copy = my_set.copy()\n",
        "is_subset = set1.issubset(set2) # Tests whether another set is a subset or superset.\n",
        "is_subset"
      ],
      "metadata": {
        "id": "Q70Gk3gMEZ5m",
        "colab": {
          "base_uri": "https://localhost:8080/"
        },
        "outputId": "b889dc61-5632-4f7a-a686-d278a5403d89"
      },
      "execution_count": null,
      "outputs": [
        {
          "output_type": "execute_result",
          "data": {
            "text/plain": [
              "True"
            ]
          },
          "metadata": {},
          "execution_count": 42
        }
      ]
    },
    {
      "cell_type": "markdown",
      "source": [
        "# Dictionaries"
      ],
      "metadata": {
        "id": "H2r_I2AyEk8t"
      }
    },
    {
      "cell_type": "markdown",
      "source": [
        "a dictionary is collection of key-value pairs. Each key in a dictionary must be unique, and it is associated with a specific value. Dictionaries are defined by enclosing key-value pairs within curly braces {}\n",
        "\n",
        "2. Dictionary items are ordered, changeable, and does not allow duplicates.\n",
        "\n",
        "3. Dictionaries are changeable, meaning that we can change, add or remove items after the dictionary has been created.\n",
        "\n",
        "4. Dictionaries cannot have two items with the same key\n"
      ],
      "metadata": {
        "id": "G-VoQOiAE2i-"
      }
    },
    {
      "cell_type": "code",
      "source": [
        "my_dict = {\"name\": \"John\", \"age\": 30, \"city\": \"New York\", \"colors\": [\"red\", \"white\", \"blue\"], 1:10}\n",
        "# Values can be any datatype\n",
        "my_dict"
      ],
      "metadata": {
        "id": "G93px9j9ExxD",
        "colab": {
          "base_uri": "https://localhost:8080/"
        },
        "outputId": "c4bfcb7f-296a-4329-9633-490c1690636f"
      },
      "execution_count": null,
      "outputs": [
        {
          "output_type": "execute_result",
          "data": {
            "text/plain": [
              "{'name': 'John',\n",
              " 'age': 30,\n",
              " 'city': 'New York',\n",
              " 'colors': ['red', 'white', 'blue'],\n",
              " 1: 10}"
            ]
          },
          "metadata": {},
          "execution_count": 79
        }
      ]
    },
    {
      "cell_type": "code",
      "source": [
        "dict1 = {2:1}\n",
        "print(type(dict1))"
      ],
      "metadata": {
        "colab": {
          "base_uri": "https://localhost:8080/"
        },
        "id": "kGfcZV4ohEqD",
        "outputId": "294e3d7f-fef6-4832-d453-4339eb6edaaa"
      },
      "execution_count": null,
      "outputs": [
        {
          "output_type": "stream",
          "name": "stdout",
          "text": [
            "<class 'dict'>\n"
          ]
        }
      ]
    },
    {
      "cell_type": "code",
      "source": [
        "my_dict = {\"name\": \"John\", \"age\": 30, [\"city\",\"balu\"]: \"New York\", \"colors\": [\"red\", \"white\", \"blue\"]}\n",
        "# Values can be any datatype\n",
        "my_dict"
      ],
      "metadata": {
        "colab": {
          "base_uri": "https://localhost:8080/",
          "height": 211
        },
        "id": "D6Ae-c8ANWm2",
        "outputId": "d3be5088-9c89-4ea1-a69e-075beab24be9"
      },
      "execution_count": null,
      "outputs": [
        {
          "output_type": "error",
          "ename": "TypeError",
          "evalue": "unhashable type: 'list'",
          "traceback": [
            "\u001b[0;31m---------------------------------------------------------------------------\u001b[0m",
            "\u001b[0;31mTypeError\u001b[0m                                 Traceback (most recent call last)",
            "\u001b[0;32m<ipython-input-65-f16750f29bf0>\u001b[0m in \u001b[0;36m<cell line: 1>\u001b[0;34m()\u001b[0m\n\u001b[0;32m----> 1\u001b[0;31m \u001b[0mmy_dict\u001b[0m \u001b[0;34m=\u001b[0m \u001b[0;34m{\u001b[0m\u001b[0;34m\"name\"\u001b[0m\u001b[0;34m:\u001b[0m \u001b[0;34m\"John\"\u001b[0m\u001b[0;34m,\u001b[0m \u001b[0;34m\"age\"\u001b[0m\u001b[0;34m:\u001b[0m \u001b[0;36m30\u001b[0m\u001b[0;34m,\u001b[0m \u001b[0;34m[\u001b[0m\u001b[0;34m\"city\"\u001b[0m\u001b[0;34m,\u001b[0m\u001b[0;34m\"balu\"\u001b[0m\u001b[0;34m]\u001b[0m\u001b[0;34m:\u001b[0m \u001b[0;34m\"New York\"\u001b[0m\u001b[0;34m,\u001b[0m \u001b[0;34m\"colors\"\u001b[0m\u001b[0;34m:\u001b[0m \u001b[0;34m[\u001b[0m\u001b[0;34m\"red\"\u001b[0m\u001b[0;34m,\u001b[0m \u001b[0;34m\"white\"\u001b[0m\u001b[0;34m,\u001b[0m \u001b[0;34m\"blue\"\u001b[0m\u001b[0;34m]\u001b[0m\u001b[0;34m}\u001b[0m\u001b[0;34m\u001b[0m\u001b[0;34m\u001b[0m\u001b[0m\n\u001b[0m\u001b[1;32m      2\u001b[0m \u001b[0;31m# Values can be any datatype\u001b[0m\u001b[0;34m\u001b[0m\u001b[0;34m\u001b[0m\u001b[0m\n\u001b[1;32m      3\u001b[0m \u001b[0mmy_dict\u001b[0m\u001b[0;34m\u001b[0m\u001b[0;34m\u001b[0m\u001b[0m\n",
            "\u001b[0;31mTypeError\u001b[0m: unhashable type: 'list'"
          ]
        }
      ]
    },
    {
      "cell_type": "code",
      "source": [
        "len(my_dict)"
      ],
      "metadata": {
        "colab": {
          "base_uri": "https://localhost:8080/"
        },
        "id": "QAMCML9QoB6t",
        "outputId": "45a21426-9450-42dd-d691-c48b2a06bb2e"
      },
      "execution_count": null,
      "outputs": [
        {
          "output_type": "execute_result",
          "data": {
            "text/plain": [
              "5"
            ]
          },
          "metadata": {},
          "execution_count": 66
        }
      ]
    },
    {
      "cell_type": "code",
      "source": [
        "# Nested Dict\n",
        "my_dict1 = {1: 'balaji', 2: 'is',\n",
        "        3: {'A': 'data scientist', 'B': 'hello', 'C': 'world'}}\n",
        "\n",
        "my_dict1"
      ],
      "metadata": {
        "colab": {
          "base_uri": "https://localhost:8080/"
        },
        "id": "zEPKQDhwbCRp",
        "outputId": "48158d4d-74ef-489e-96a2-6baca30c8fbf"
      },
      "execution_count": null,
      "outputs": [
        {
          "output_type": "execute_result",
          "data": {
            "text/plain": [
              "{1: 'balaji', 2: 'is', 3: {'A': 'data scientist', 'B': 'hello', 'C': 'world'}}"
            ]
          },
          "metadata": {},
          "execution_count": 67
        }
      ]
    },
    {
      "cell_type": "code",
      "source": [
        "# The dict() Constructor\n",
        "thisdict = dict(name = \"John\", age = 36, country = \"Norway\")\n",
        "print(thisdict)"
      ],
      "metadata": {
        "colab": {
          "base_uri": "https://localhost:8080/"
        },
        "id": "4lGNJITxoSgM",
        "outputId": "44a10db2-3dbe-47bf-9468-4bf84460e4fa"
      },
      "execution_count": null,
      "outputs": [
        {
          "output_type": "stream",
          "name": "stdout",
          "text": [
            "{'name': 'John', 'age': 36, 'country': 'Norway'}\n"
          ]
        }
      ]
    },
    {
      "cell_type": "code",
      "source": [
        "keys = ['name', 'age', 'city', 'colors'] #keys\n",
        "values = ['John', 30, 'New York', [\"red\", \"white\", \"blue\"]] #values\n",
        "\n",
        "new_dict = dict(zip(keys, values))\n",
        "new_dict"
      ],
      "metadata": {
        "colab": {
          "base_uri": "https://localhost:8080/"
        },
        "id": "I4E1PX3dr0Ze",
        "outputId": "6ccbfdb5-0b17-48ee-b398-6130a0305201"
      },
      "execution_count": null,
      "outputs": [
        {
          "output_type": "execute_result",
          "data": {
            "text/plain": [
              "{'name': 'John',\n",
              " 'age': 30,\n",
              " 'city': 'New York',\n",
              " 'colors': ['red', 'white', 'blue']}"
            ]
          },
          "metadata": {},
          "execution_count": 69
        }
      ]
    },
    {
      "cell_type": "code",
      "source": [
        "print(my_dict[\"name\"])  # John\n",
        "print(my_dict[\"age\"])   # 30"
      ],
      "metadata": {
        "id": "gVq770k7Exu8",
        "colab": {
          "base_uri": "https://localhost:8080/"
        },
        "outputId": "c8428821-fa9d-4e2c-9d1a-33d797071ae8"
      },
      "execution_count": null,
      "outputs": [
        {
          "output_type": "stream",
          "name": "stdout",
          "text": [
            "John\n",
            "30\n"
          ]
        }
      ]
    },
    {
      "cell_type": "code",
      "source": [
        "my_dict"
      ],
      "metadata": {
        "colab": {
          "base_uri": "https://localhost:8080/"
        },
        "id": "YcgaEKNFpjLe",
        "outputId": "ee94733f-8d81-4c04-d3a7-9124079ea2ef"
      },
      "execution_count": null,
      "outputs": [
        {
          "output_type": "execute_result",
          "data": {
            "text/plain": [
              "{'name': 'John',\n",
              " 'age': 30,\n",
              " 'city': 'New York',\n",
              " 'colors': ['red', 'white', 'blue'],\n",
              " 1: 10}"
            ]
          },
          "metadata": {},
          "execution_count": 80
        }
      ]
    },
    {
      "cell_type": "code",
      "source": [
        "my_dict[\"gender\"] = \"Male\"\n",
        "my_dict"
      ],
      "metadata": {
        "colab": {
          "base_uri": "https://localhost:8080/"
        },
        "id": "RQjr9yogjPzf",
        "outputId": "aaf9e327-24c8-4a5f-80cc-568b57f3c38a"
      },
      "execution_count": null,
      "outputs": [
        {
          "output_type": "execute_result",
          "data": {
            "text/plain": [
              "{'name': 'John',\n",
              " 'age': 30,\n",
              " 'city': 'New York',\n",
              " 'colors': ['red', 'white', 'blue'],\n",
              " 1: 10,\n",
              " 'gender': 'Male'}"
            ]
          },
          "metadata": {},
          "execution_count": 81
        }
      ]
    },
    {
      "cell_type": "code",
      "source": [
        "my_dict[\"age\"] = 31         # Modifying the value for an existing key\n",
        "my_dict"
      ],
      "metadata": {
        "id": "LzC6N_5WExsl",
        "colab": {
          "base_uri": "https://localhost:8080/"
        },
        "outputId": "4a4a685b-bf6e-4dff-9a54-fe0bd512aab9"
      },
      "execution_count": null,
      "outputs": [
        {
          "output_type": "execute_result",
          "data": {
            "text/plain": [
              "{'name': 'John',\n",
              " 'age': 31,\n",
              " 'city': 'New York',\n",
              " 'colors': ['red', 'white', 'blue'],\n",
              " 1: 10,\n",
              " 'gender': 'Male'}"
            ]
          },
          "metadata": {},
          "execution_count": 82
        }
      ]
    },
    {
      "cell_type": "code",
      "source": [
        "removed_value = my_dict.pop(\"city\") # Removes the key and returns its value. Raises a KeyError if the key is not found.\n",
        "removed_value"
      ],
      "metadata": {
        "colab": {
          "base_uri": "https://localhost:8080/",
          "height": 35
        },
        "id": "MD8_twCfmgQl",
        "outputId": "95812249-e626-4d01-f300-fed533ffbaab"
      },
      "execution_count": null,
      "outputs": [
        {
          "output_type": "execute_result",
          "data": {
            "text/plain": [
              "'New York'"
            ],
            "application/vnd.google.colaboratory.intrinsic+json": {
              "type": "string"
            }
          },
          "metadata": {},
          "execution_count": 83
        }
      ]
    },
    {
      "cell_type": "code",
      "source": [
        "my_dict"
      ],
      "metadata": {
        "colab": {
          "base_uri": "https://localhost:8080/"
        },
        "id": "ukp38eP9pwAc",
        "outputId": "0d1d3660-b755-4f65-ec24-ac3265b60667"
      },
      "execution_count": null,
      "outputs": [
        {
          "output_type": "execute_result",
          "data": {
            "text/plain": [
              "{'name': 'John',\n",
              " 'age': 31,\n",
              " 'colors': ['red', 'white', 'blue'],\n",
              " 1: 10,\n",
              " 'gender': 'Male'}"
            ]
          },
          "metadata": {},
          "execution_count": 84
        }
      ]
    },
    {
      "cell_type": "code",
      "source": [
        "print(my_dict.get(\"age\"))"
      ],
      "metadata": {
        "colab": {
          "base_uri": "https://localhost:8080/"
        },
        "id": "YspKJ2uxretV",
        "outputId": "9093b2d1-fa1d-4020-84b4-5fe2d17972b0"
      },
      "execution_count": null,
      "outputs": [
        {
          "output_type": "stream",
          "name": "stdout",
          "text": [
            "31\n"
          ]
        }
      ]
    },
    {
      "cell_type": "code",
      "source": [
        "removed_item = my_dict.popitem() # Removes and returns an arbitrary key-value pair as a tuple. Raises a KeyError if the dictionary is empty.\n"
      ],
      "metadata": {
        "id": "R_QG0pFCmiDM"
      },
      "execution_count": null,
      "outputs": []
    },
    {
      "cell_type": "code",
      "source": [
        "removed_item"
      ],
      "metadata": {
        "colab": {
          "base_uri": "https://localhost:8080/"
        },
        "id": "g2s5SZLtme_Y",
        "outputId": "84736c77-ddaa-4e3d-b323-3997af5aa711"
      },
      "execution_count": null,
      "outputs": [
        {
          "output_type": "execute_result",
          "data": {
            "text/plain": [
              "('gender', 'Male')"
            ]
          },
          "metadata": {},
          "execution_count": 87
        }
      ]
    },
    {
      "cell_type": "code",
      "source": [
        "my_dict"
      ],
      "metadata": {
        "colab": {
          "base_uri": "https://localhost:8080/"
        },
        "id": "TgTcs3E3mwVq",
        "outputId": "3a3d90c8-76ef-4a33-b629-6e127d5db801"
      },
      "execution_count": null,
      "outputs": [
        {
          "output_type": "execute_result",
          "data": {
            "text/plain": [
              "{'name': 'John', 'age': 31, 'colors': ['red', 'white', 'blue'], 1: 10}"
            ]
          },
          "metadata": {},
          "execution_count": 88
        }
      ]
    },
    {
      "cell_type": "code",
      "source": [
        "del my_dict[\"age\"] #  Removes the key-value pair for a specified key.\n",
        "print(my_dict)"
      ],
      "metadata": {
        "id": "IrjrqFLimkuC",
        "colab": {
          "base_uri": "https://localhost:8080/"
        },
        "outputId": "0f76d217-fdde-410a-d25e-3897024876d8"
      },
      "execution_count": null,
      "outputs": [
        {
          "output_type": "stream",
          "name": "stdout",
          "text": [
            "{'name': 'John', 'colors': ['red', 'white', 'blue'], 1: 10}\n"
          ]
        }
      ]
    },
    {
      "cell_type": "code",
      "source": [
        "my_dict.clear() # Removes all key-value pairs from the dictionary.\n",
        "print(my_dict)"
      ],
      "metadata": {
        "id": "zALkqYLqExqV",
        "colab": {
          "base_uri": "https://localhost:8080/"
        },
        "outputId": "9f960cad-02ed-46b5-81f3-2ea6ae50cfb3"
      },
      "execution_count": null,
      "outputs": [
        {
          "output_type": "stream",
          "name": "stdout",
          "text": [
            "{}\n"
          ]
        }
      ]
    },
    {
      "cell_type": "markdown",
      "source": [
        "1. keys(): Returns a view of all keys in the dictionary.\n",
        "2. values(): Returns a view of all values in the dictionary.\n",
        "3. items(): Returns a view of all key-value pairs as tuples.\n",
        "4. get(key, default): Returns the value for a given key, or a default value if the key is not present.\n",
        "5. update(dictionary): Updates the dictionary with key-value pairs from another dictionary."
      ],
      "metadata": {
        "id": "VPCOVL1BFkMZ"
      }
    },
    {
      "cell_type": "code",
      "source": [
        "my_dict = {\"name\": \"John\", \"age\": 30, \"city\": \"New York\", \"colors\": [\"red\", \"white\", \"blue\"], 1:10}\n",
        "# Values can be any datatype\n",
        "my_dict"
      ],
      "metadata": {
        "colab": {
          "base_uri": "https://localhost:8080/"
        },
        "id": "6QcJZpWInGKN",
        "outputId": "175cad08-e3cd-4279-9e74-436c59e92dc4"
      },
      "execution_count": null,
      "outputs": [
        {
          "output_type": "execute_result",
          "data": {
            "text/plain": [
              "{'name': 'John',\n",
              " 'age': 30,\n",
              " 'city': 'New York',\n",
              " 'colors': ['red', 'white', 'blue'],\n",
              " 1: 10}"
            ]
          },
          "metadata": {},
          "execution_count": 92
        }
      ]
    },
    {
      "cell_type": "code",
      "source": [
        "keys_view = my_dict.keys()\n",
        "keys_view"
      ],
      "metadata": {
        "colab": {
          "base_uri": "https://localhost:8080/"
        },
        "id": "RPSaQBRRm_aP",
        "outputId": "37cb8ff2-4285-4957-bca0-67d6faa6f5bb"
      },
      "execution_count": null,
      "outputs": [
        {
          "output_type": "execute_result",
          "data": {
            "text/plain": [
              "dict_keys(['name', 'age', 'city', 'colors', 1])"
            ]
          },
          "metadata": {},
          "execution_count": 93
        }
      ]
    },
    {
      "cell_type": "code",
      "source": [
        "\n",
        "values_view = my_dict.values()\n",
        "values_view"
      ],
      "metadata": {
        "colab": {
          "base_uri": "https://localhost:8080/"
        },
        "id": "peBvcQrinJ_f",
        "outputId": "7b92fc4c-be73-448a-ca45-191e607d338f"
      },
      "execution_count": null,
      "outputs": [
        {
          "output_type": "execute_result",
          "data": {
            "text/plain": [
              "dict_values(['John', 30, 'New York', ['red', 'white', 'blue'], 10])"
            ]
          },
          "metadata": {},
          "execution_count": 94
        }
      ]
    },
    {
      "cell_type": "code",
      "source": [
        "\n",
        "items_view = my_dict.items()\n",
        "items_view"
      ],
      "metadata": {
        "colab": {
          "base_uri": "https://localhost:8080/"
        },
        "id": "SEnT8HPMnM2M",
        "outputId": "99932b75-1df9-4983-da65-1cf21f684557"
      },
      "execution_count": null,
      "outputs": [
        {
          "output_type": "execute_result",
          "data": {
            "text/plain": [
              "dict_items([('name', 'John'), ('age', 30), ('city', 'New York'), ('colors', ['red', 'white', 'blue']), (1, 10)])"
            ]
          },
          "metadata": {},
          "execution_count": 95
        }
      ]
    },
    {
      "cell_type": "code",
      "source": [
        "my_dict.update({\"city\": \"London\", \"country\": \"UK\"})\n",
        "my_dict"
      ],
      "metadata": {
        "colab": {
          "base_uri": "https://localhost:8080/"
        },
        "id": "usSU-acrFomX",
        "outputId": "21a65c7a-67f8-480c-fea8-fab4ce1252a9"
      },
      "execution_count": null,
      "outputs": [
        {
          "output_type": "execute_result",
          "data": {
            "text/plain": [
              "{'name': 'John',\n",
              " 'age': 30,\n",
              " 'city': 'London',\n",
              " 'colors': ['red', 'white', 'blue'],\n",
              " 1: 10,\n",
              " 'country': 'UK'}"
            ]
          },
          "metadata": {},
          "execution_count": 96
        }
      ]
    },
    {
      "cell_type": "markdown",
      "source": [
        "# Conversion of data types"
      ],
      "metadata": {
        "id": "x6My-qHvBgCd"
      }
    },
    {
      "cell_type": "markdown",
      "source": [
        "1. Implicit Type Conversion (Coercion)\n",
        "2. Explicit Type Conversion"
      ],
      "metadata": {
        "id": "OcP8cpwHBxgN"
      }
    },
    {
      "cell_type": "markdown",
      "source": [
        "Python automatically performs some type conversions when operators with different types are used together. For example, adding an integer and a float results in a float.\n",
        "why ony float? why not int in below example?\n"
      ],
      "metadata": {
        "id": "S5iKM6Fr7aNC"
      }
    },
    {
      "cell_type": "code",
      "source": [
        "x = 5      # integer\n",
        "y = 2.8   # float\n",
        "print(x, type(x))\n",
        "print(y, type(y))\n",
        "\n",
        "result = x + y  # the result will be a float (implicit conversion)\n",
        "print(result, type(result))"
      ],
      "metadata": {
        "id": "1ZjD4nlnAqpw",
        "colab": {
          "base_uri": "https://localhost:8080/"
        },
        "outputId": "53d49e6f-d2be-406d-8c84-74b1f15204b9"
      },
      "execution_count": null,
      "outputs": [
        {
          "output_type": "stream",
          "name": "stdout",
          "text": [
            "5 <class 'int'>\n",
            "2.8 <class 'float'>\n",
            "7.8 <class 'float'>\n"
          ]
        }
      ]
    },
    {
      "cell_type": "markdown",
      "source": [
        "Explicit Type Conversion (Type Casting):\n",
        "\n",
        "\n",
        "1. data type is manually changed by the user as per their requirement.\n",
        "2. here is a risk of data loss since we are forcing an expression to be changed in some specific data type"
      ],
      "metadata": {
        "id": "POj1pHr2B3FK"
      }
    },
    {
      "cell_type": "code",
      "source": [
        "num = \"50\"\n",
        "print(type(num))\n",
        "print(num+50)"
      ],
      "metadata": {
        "colab": {
          "base_uri": "https://localhost:8080/",
          "height": 228
        },
        "id": "kFMHXK5xBSni",
        "outputId": "a2f8dba3-e122-4c42-b1fe-09e77969fbd8"
      },
      "execution_count": null,
      "outputs": [
        {
          "output_type": "stream",
          "name": "stdout",
          "text": [
            "<class 'str'>\n"
          ]
        },
        {
          "output_type": "error",
          "ename": "TypeError",
          "evalue": "can only concatenate str (not \"int\") to str",
          "traceback": [
            "\u001b[0;31m---------------------------------------------------------------------------\u001b[0m",
            "\u001b[0;31mTypeError\u001b[0m                                 Traceback (most recent call last)",
            "\u001b[0;32m<ipython-input-108-e41d92e02977>\u001b[0m in \u001b[0;36m<cell line: 3>\u001b[0;34m()\u001b[0m\n\u001b[1;32m      1\u001b[0m \u001b[0mnum\u001b[0m \u001b[0;34m=\u001b[0m \u001b[0;34m\"50\"\u001b[0m\u001b[0;34m\u001b[0m\u001b[0;34m\u001b[0m\u001b[0m\n\u001b[1;32m      2\u001b[0m \u001b[0mprint\u001b[0m\u001b[0;34m(\u001b[0m\u001b[0mtype\u001b[0m\u001b[0;34m(\u001b[0m\u001b[0mnum\u001b[0m\u001b[0;34m)\u001b[0m\u001b[0;34m)\u001b[0m\u001b[0;34m\u001b[0m\u001b[0;34m\u001b[0m\u001b[0m\n\u001b[0;32m----> 3\u001b[0;31m \u001b[0mprint\u001b[0m\u001b[0;34m(\u001b[0m\u001b[0mnum\u001b[0m\u001b[0;34m+\u001b[0m\u001b[0;36m50\u001b[0m\u001b[0;34m)\u001b[0m\u001b[0;34m\u001b[0m\u001b[0;34m\u001b[0m\u001b[0m\n\u001b[0m",
            "\u001b[0;31mTypeError\u001b[0m: can only concatenate str (not \"int\") to str"
          ]
        }
      ]
    },
    {
      "cell_type": "code",
      "source": [
        "num = int(num)\n",
        "print(num+50)"
      ],
      "metadata": {
        "colab": {
          "base_uri": "https://localhost:8080/"
        },
        "id": "Oesq4W8SBXfr",
        "outputId": "99f4175a-a181-4aac-b0ab-17ce209407e3"
      },
      "execution_count": null,
      "outputs": [
        {
          "output_type": "stream",
          "name": "stdout",
          "text": [
            "100\n"
          ]
        }
      ]
    },
    {
      "cell_type": "code",
      "source": [
        "type(num)"
      ],
      "metadata": {
        "colab": {
          "base_uri": "https://localhost:8080/"
        },
        "id": "ClXQsZfRFFWe",
        "outputId": "43cf896d-0c66-445e-bc9c-dc6567f438f0"
      },
      "execution_count": null,
      "outputs": [
        {
          "output_type": "execute_result",
          "data": {
            "text/plain": [
              "int"
            ]
          },
          "metadata": {},
          "execution_count": 110
        }
      ]
    },
    {
      "cell_type": "code",
      "source": [
        "x = 5.6 # Float\n",
        "integer_x = int(x)  # integer_x will be 5\n",
        "print(integer_x, type(integer_x))"
      ],
      "metadata": {
        "colab": {
          "base_uri": "https://localhost:8080/"
        },
        "id": "Vk3vcXbkBz3B",
        "outputId": "49d95319-1fae-42aa-d0c9-e452ba5b0563"
      },
      "execution_count": null,
      "outputs": [
        {
          "output_type": "stream",
          "name": "stdout",
          "text": [
            "5 <class 'int'>\n"
          ]
        }
      ]
    },
    {
      "cell_type": "code",
      "source": [
        "int('10a') # Conversion must contain compatable values"
      ],
      "metadata": {
        "colab": {
          "base_uri": "https://localhost:8080/",
          "height": 176
        },
        "id": "YtB7ogDkCa7Z",
        "outputId": "231d7feb-26ca-4372-a82a-78bde793e659"
      },
      "execution_count": null,
      "outputs": [
        {
          "output_type": "error",
          "ename": "ValueError",
          "evalue": "invalid literal for int() with base 10: '10a'",
          "traceback": [
            "\u001b[0;31m---------------------------------------------------------------------------\u001b[0m",
            "\u001b[0;31mValueError\u001b[0m                                Traceback (most recent call last)",
            "\u001b[0;32m<ipython-input-112-800ca27fc82d>\u001b[0m in \u001b[0;36m<cell line: 1>\u001b[0;34m()\u001b[0m\n\u001b[0;32m----> 1\u001b[0;31m \u001b[0mint\u001b[0m\u001b[0;34m(\u001b[0m\u001b[0;34m'10a'\u001b[0m\u001b[0;34m)\u001b[0m \u001b[0;31m# Conversion must contain compatable values\u001b[0m\u001b[0;34m\u001b[0m\u001b[0;34m\u001b[0m\u001b[0m\n\u001b[0m",
            "\u001b[0;31mValueError\u001b[0m: invalid literal for int() with base 10: '10a'"
          ]
        }
      ]
    },
    {
      "cell_type": "markdown",
      "source": [
        "# Data Structure Conversions"
      ],
      "metadata": {
        "id": "EJEgVx518NEO"
      }
    },
    {
      "cell_type": "code",
      "source": [
        "# Int to String\n",
        "z = 42\n",
        "string_z = str(z)   # string_z will be \"42\"\n",
        "print(type(string_z))"
      ],
      "metadata": {
        "colab": {
          "base_uri": "https://localhost:8080/"
        },
        "id": "v_Mw7z3NB5Im",
        "outputId": "dca83f61-199d-48a6-8a6a-c32e8babd00d"
      },
      "execution_count": null,
      "outputs": [
        {
          "output_type": "stream",
          "name": "stdout",
          "text": [
            "<class 'str'>\n"
          ]
        }
      ]
    },
    {
      "cell_type": "code",
      "source": [
        "# initializing string\n",
        "s = 'Balaji Chippada'\n",
        "\n",
        "# printing string converting to tuple\n",
        "c = tuple(s)\n",
        "print (\"After converting string to tuple : \",end=\"\")\n",
        "print (c)"
      ],
      "metadata": {
        "colab": {
          "base_uri": "https://localhost:8080/"
        },
        "id": "V95kyIGk8fSK",
        "outputId": "2765c715-5b31-4241-efc6-a9b052450f82"
      },
      "execution_count": null,
      "outputs": [
        {
          "output_type": "stream",
          "name": "stdout",
          "text": [
            "After converting string to tuple : ('B', 'a', 'l', 'a', 'j', 'i', ' ', 'C', 'h', 'i', 'p', 'p', 'a', 'd', 'a')\n"
          ]
        }
      ]
    },
    {
      "cell_type": "code",
      "source": [
        "# printing string converting to set\n",
        "c = set(s)\n",
        "print (\"After converting string to set : \",end=\"\")\n",
        "print (c)"
      ],
      "metadata": {
        "colab": {
          "base_uri": "https://localhost:8080/"
        },
        "id": "HiuzxHGr8gXT",
        "outputId": "3fa8abd8-9183-49f3-8cf4-62287474705b"
      },
      "execution_count": null,
      "outputs": [
        {
          "output_type": "stream",
          "name": "stdout",
          "text": [
            "After converting string to set : {'C', ' ', 'd', 'B', 'j', 'i', 'h', 'p', 'l', 'a'}\n"
          ]
        }
      ]
    },
    {
      "cell_type": "code",
      "source": [
        "# printing string converting to list\n",
        "c = list(s)\n",
        "print (\"After converting string to list : \",end=\"\")\n",
        "print (c)"
      ],
      "metadata": {
        "colab": {
          "base_uri": "https://localhost:8080/"
        },
        "id": "lq5Zshdj8hzG",
        "outputId": "d7c8db88-122f-4774-e1c0-3b236602033a"
      },
      "execution_count": null,
      "outputs": [
        {
          "output_type": "stream",
          "name": "stdout",
          "text": [
            "After converting string to list : ['B', 'a', 'l', 'a', 'j', 'i', ' ', 'C', 'h', 'i', 'p', 'p', 'a', 'd', 'a']\n"
          ]
        }
      ]
    },
    {
      "cell_type": "code",
      "source": [
        "tuple_example = (1, 2, 'balaji')\n",
        "list_example = list(tuple_example)  # list_example will be [1, 2, 3]\n",
        "print(list_example)"
      ],
      "metadata": {
        "colab": {
          "base_uri": "https://localhost:8080/"
        },
        "id": "rQJ_feiGB_4M",
        "outputId": "bc182239-ed1d-4aa6-92f2-f2145d6aefb3"
      },
      "execution_count": null,
      "outputs": [
        {
          "output_type": "stream",
          "name": "stdout",
          "text": [
            "[1, 2, 'balaji']\n"
          ]
        }
      ]
    },
    {
      "cell_type": "code",
      "source": [
        "list_example = [1, 2, 'balaji']\n",
        "tuple_example = tuple(list_example)  # list_example will be [1, 2, 3]\n",
        "print(tuple_example)"
      ],
      "metadata": {
        "colab": {
          "base_uri": "https://localhost:8080/"
        },
        "id": "JV9zXNr191dC",
        "outputId": "3e2fd621-975b-4e10-af33-ccf41c5b257b"
      },
      "execution_count": null,
      "outputs": [
        {
          "output_type": "stream",
          "name": "stdout",
          "text": [
            "(1, 2, 'balaji')\n"
          ]
        }
      ]
    },
    {
      "cell_type": "code",
      "source": [
        "# initializing integers\n",
        "a = 1\n",
        "b = 2\n",
        "\n",
        "# printing integer converting to complex number\n",
        "c = complex(1,2)\n",
        "print (\"After converting integer to complex number : \",end=\"\")\n",
        "print (c)"
      ],
      "metadata": {
        "colab": {
          "base_uri": "https://localhost:8080/"
        },
        "id": "nbBDpyeA8yon",
        "outputId": "abd7bf18-793e-48d4-d6b2-47339f3b77b4"
      },
      "execution_count": null,
      "outputs": [
        {
          "output_type": "stream",
          "name": "stdout",
          "text": [
            "After converting integer to complex number : (1+2j)\n"
          ]
        }
      ]
    },
    {
      "cell_type": "code",
      "source": [
        "# initializing tuple\n",
        "tup = (('Balaji', 'good') ,('Teacher', 'yes'), ('or', 'No'))\n",
        "# printing tuple converting to expression dictionary\n",
        "c = dict(tup)\n",
        "print (\"After converting tuple to dictionary : \",end=\"\")\n",
        "print (c)"
      ],
      "metadata": {
        "colab": {
          "base_uri": "https://localhost:8080/"
        },
        "id": "BC1fGUy79tXS",
        "outputId": "8ef4e9db-c30d-4faf-e737-0f1ba4bf837c"
      },
      "execution_count": null,
      "outputs": [
        {
          "output_type": "stream",
          "name": "stdout",
          "text": [
            "After converting tuple to dictionary : {'Balaji': 'good', 'Teacher': 'yes', 'or': 'No'}\n"
          ]
        }
      ]
    },
    {
      "cell_type": "code",
      "source": [
        "value = 0\n",
        "bool_value = bool(value)  # bool_value will be False\n",
        "print(bool_value)"
      ],
      "metadata": {
        "colab": {
          "base_uri": "https://localhost:8080/"
        },
        "id": "WnaTKSyUCLhU",
        "outputId": "37fda38a-802b-4071-fba2-80439f0d2948"
      },
      "execution_count": null,
      "outputs": [
        {
          "output_type": "stream",
          "name": "stdout",
          "text": [
            "False\n"
          ]
        }
      ]
    },
    {
      "cell_type": "code",
      "source": [
        "list(\"data ipyarmid\")       #convert String to list using list() method"
      ],
      "metadata": {
        "colab": {
          "base_uri": "https://localhost:8080/"
        },
        "id": "VzEZGrQVCQUU",
        "outputId": "b8723877-4a85-4659-f387-ed5c947ae664"
      },
      "execution_count": null,
      "outputs": [
        {
          "output_type": "execute_result",
          "data": {
            "text/plain": [
              "['d', 'a', 't', 'a', ' ', 'i', 'p', 'y', 'a', 'r', 'm', 'i', 'd']"
            ]
          },
          "metadata": {},
          "execution_count": 123
        }
      ]
    }
  ]
}