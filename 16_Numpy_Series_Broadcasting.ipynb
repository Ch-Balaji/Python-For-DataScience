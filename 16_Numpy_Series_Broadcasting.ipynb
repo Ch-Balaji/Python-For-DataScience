{
  "nbformat": 4,
  "nbformat_minor": 0,
  "metadata": {
    "colab": {
      "provenance": []
    },
    "kernelspec": {
      "name": "python3",
      "display_name": "Python 3"
    },
    "language_info": {
      "name": "python"
    }
  },
  "cells": [
    {
      "cell_type": "markdown",
      "source": [
        "# Sorting Numpy Array"
      ],
      "metadata": {
        "id": "16SYu-3zkOhc"
      }
    },
    {
      "cell_type": "code",
      "source": [
        "import numpy as np"
      ],
      "metadata": {
        "id": "f3XdbL5ykjUf"
      },
      "execution_count": null,
      "outputs": []
    },
    {
      "cell_type": "code",
      "source": [
        "arr = np.array([2, 1, 5, 3, 7])\n",
        "sorted_arr = np.sort(arr)\n",
        "\n",
        "#\n",
        "print(sorted_arr)  # Output: [1, 2, 3, 5, 7]"
      ],
      "metadata": {
        "colab": {
          "base_uri": "https://localhost:8080/"
        },
        "id": "y-iC5uPYkc60",
        "outputId": "33c1c625-e7df-4624-df82-1cd905ba5740"
      },
      "execution_count": null,
      "outputs": [
        {
          "output_type": "stream",
          "name": "stdout",
          "text": [
            "[1 2 3 5 7]\n"
          ]
        }
      ]
    },
    {
      "cell_type": "code",
      "source": [
        "np.shares_memory(arr,sorted_arr)"
      ],
      "metadata": {
        "colab": {
          "base_uri": "https://localhost:8080/"
        },
        "id": "bol_ZpJ6kelE",
        "outputId": "badf886d-912a-4b3a-d8de-62f12a288ee9"
      },
      "execution_count": null,
      "outputs": [
        {
          "output_type": "execute_result",
          "data": {
            "text/plain": [
              "False"
            ]
          },
          "metadata": {},
          "execution_count": 47
        }
      ]
    },
    {
      "cell_type": "code",
      "source": [
        "# Inplace sorting\n",
        "arr.sort()\n",
        "print(arr)  # Output: [1, 2, 3, 5, 7]"
      ],
      "metadata": {
        "colab": {
          "base_uri": "https://localhost:8080/"
        },
        "id": "IaSzITVEkr62",
        "outputId": "aa959c0e-4322-43c4-f703-e56f0aac5371"
      },
      "execution_count": null,
      "outputs": [
        {
          "output_type": "stream",
          "name": "stdout",
          "text": [
            "[1 2 3 5 7]\n"
          ]
        }
      ]
    },
    {
      "cell_type": "code",
      "source": [
        "np.shares_memory(arr,sorted_arr)"
      ],
      "metadata": {
        "colab": {
          "base_uri": "https://localhost:8080/"
        },
        "id": "e4gYSgpEkwrf",
        "outputId": "0d789fbb-97e8-47fb-92c4-e3352a74edd5"
      },
      "execution_count": null,
      "outputs": [
        {
          "output_type": "execute_result",
          "data": {
            "text/plain": [
              "False"
            ]
          },
          "metadata": {},
          "execution_count": 49
        }
      ]
    },
    {
      "cell_type": "code",
      "source": [
        "# Sorting in Descending Order\n",
        "arr = np.array([2, 1, 5, 3, 7])\n",
        "sorted_arr_desc = np.sort(arr)[::-1] # Reverse after its sorted.\n",
        "print(sorted_arr_desc)  # Output: [7, 5, 3, 2, 1]"
      ],
      "metadata": {
        "colab": {
          "base_uri": "https://localhost:8080/"
        },
        "id": "77D6henXk5NN",
        "outputId": "a460120a-2499-4c0c-868d-9430c0b34b02"
      },
      "execution_count": null,
      "outputs": [
        {
          "output_type": "stream",
          "name": "stdout",
          "text": [
            "[7 5 3 2 1]\n"
          ]
        }
      ]
    },
    {
      "cell_type": "code",
      "execution_count": null,
      "metadata": {
        "colab": {
          "base_uri": "https://localhost:8080/"
        },
        "id": "xd3wCBlQkKOt",
        "outputId": "b96994fd-8b43-4a9b-85bd-539e0878bc1f"
      },
      "outputs": [
        {
          "output_type": "stream",
          "name": "stdout",
          "text": [
            "[[1 2 7]\n",
            " [4 3 8]\n",
            " [5 6 9]]\n"
          ]
        }
      ],
      "source": [
        "arr_2d = np.array([[5, 2, 8], [1, 6, 7], [4, 3, 9]])\n",
        "sorted_arr_2d_col = np.sort(arr_2d, axis=0) # Column wise sort\n",
        "print(sorted_arr_2d_col)"
      ]
    },
    {
      "cell_type": "code",
      "source": [
        "sorted_arr_2d_row = np.sort(arr_2d, axis=1) # Rowwise sort\n",
        "print(sorted_arr_2d_row)"
      ],
      "metadata": {
        "colab": {
          "base_uri": "https://localhost:8080/"
        },
        "id": "0jhEWHGzlNzG",
        "outputId": "dcb4d4d4-5d9d-4af8-aa12-f2293b948d1c"
      },
      "execution_count": null,
      "outputs": [
        {
          "output_type": "stream",
          "name": "stdout",
          "text": [
            "[[2 5 8]\n",
            " [1 6 7]\n",
            " [3 4 9]]\n"
          ]
        }
      ]
    },
    {
      "cell_type": "code",
      "source": [
        "# Sorting With Indexes\n",
        "arr = np.array([2, 1, 5, 3, 7])\n",
        "sorted_indices = np.argsort(arr)\n",
        "print(sorted_indices)  # Output: [1, 0, 3, 2, 4]\n",
        "print(arr[sorted_indices])  # Output: [1, 2, 3, 5, 7"
      ],
      "metadata": {
        "colab": {
          "base_uri": "https://localhost:8080/"
        },
        "id": "Ff9bzeZrlXsP",
        "outputId": "4561ca0c-98e2-4b14-ffcb-aacf0ddfe082"
      },
      "execution_count": null,
      "outputs": [
        {
          "output_type": "stream",
          "name": "stdout",
          "text": [
            "[1 0 3 2 4]\n",
            "[1 2 3 5 7]\n"
          ]
        }
      ]
    },
    {
      "cell_type": "code",
      "source": [
        "# Lex Sort\n",
        "a = np.array([1, 5, 1, 4, 3, 4, 4])  # First key\n",
        "b = np.array([9, 4, 0, 4, 0, 2, 1])  # Second key\n",
        "sorted_index = np.lexsort((b, a))  # Sort by a, then by b\n",
        "print(sorted_index)\n",
        "# Output: [2, 0, 4, 6, 3, 5, 1]\n",
        "print(a[sorted_index], b[sorted_index])\n",
        "# Output for a and b: [1 1 3 4 4 4 5] [0 9 0 1 2 4 4]"
      ],
      "metadata": {
        "colab": {
          "base_uri": "https://localhost:8080/"
        },
        "id": "ZEWRM4lcmsRp",
        "outputId": "61ac2102-ef76-40dc-b357-dda60d4e2a85"
      },
      "execution_count": null,
      "outputs": [
        {
          "output_type": "stream",
          "name": "stdout",
          "text": [
            "[2 0 4 6 5 3 1]\n",
            "[1 1 3 4 4 4 5] [0 9 0 1 2 4 4]\n"
          ]
        }
      ]
    },
    {
      "cell_type": "markdown",
      "source": [
        "# Numpy Reshaping"
      ],
      "metadata": {
        "id": "clgWBMwUnNMj"
      }
    },
    {
      "cell_type": "code",
      "source": [
        "arr = np.arange(6)  # Creates an array [0, 1, 2, 3, 4, 5]\n",
        "reshaped_arr = arr.reshape((2, 3))  # Reshape to 2 rows, 3 columns\n",
        "print(\"Reshaped array:\\n\", reshaped_arr)"
      ],
      "metadata": {
        "colab": {
          "base_uri": "https://localhost:8080/"
        },
        "id": "5gOYGRJwnOvD",
        "outputId": "09208b14-815c-4dc5-f3a2-f0b3278c2b8c"
      },
      "execution_count": null,
      "outputs": [
        {
          "output_type": "stream",
          "name": "stdout",
          "text": [
            "Reshaped array:\n",
            " [[0 1 2]\n",
            " [3 4 5]]\n"
          ]
        }
      ]
    },
    {
      "cell_type": "code",
      "source": [
        "# Using flatten\n",
        "flat_arr = reshaped_arr.flatten()\n",
        "print(\"Flattened array (flatten):\", flat_arr)"
      ],
      "metadata": {
        "colab": {
          "base_uri": "https://localhost:8080/"
        },
        "id": "WsKkjlxTnXEI",
        "outputId": "c43130bf-afd8-46bd-eecb-9b8fe3ebfd18"
      },
      "execution_count": null,
      "outputs": [
        {
          "output_type": "stream",
          "name": "stdout",
          "text": [
            "Flattened array (flatten): [0 1 2 3 4 5]\n"
          ]
        }
      ]
    },
    {
      "cell_type": "code",
      "source": [
        "# Using ravel\n",
        "ravel_arr = reshaped_arr.ravel()\n",
        "print(\"Flattened array (ravel):\", ravel_arr)"
      ],
      "metadata": {
        "colab": {
          "base_uri": "https://localhost:8080/"
        },
        "id": "eW2pjey6nYtT",
        "outputId": "a278620d-339d-4485-a139-e00581a1f9ed"
      },
      "execution_count": null,
      "outputs": [
        {
          "output_type": "stream",
          "name": "stdout",
          "text": [
            "Flattened array (ravel): [0 1 2 3 4 5]\n"
          ]
        }
      ]
    },
    {
      "cell_type": "code",
      "source": [
        "arr = np.arange(6)\n",
        "arr"
      ],
      "metadata": {
        "colab": {
          "base_uri": "https://localhost:8080/"
        },
        "id": "yNgS-6Ef_Zzi",
        "outputId": "f48bb377-55ec-4dc8-a739-d184f5859ca6"
      },
      "execution_count": null,
      "outputs": [
        {
          "output_type": "execute_result",
          "data": {
            "text/plain": [
              "array([0, 1, 2, 3, 4, 5])"
            ]
          },
          "metadata": {},
          "execution_count": 59
        }
      ]
    },
    {
      "cell_type": "code",
      "source": [
        "# Adding a new axis to create a column vector\n",
        "col_vector = arr[:, np.newaxis]\n",
        "print(\"Column vector:\\n\", col_vector)"
      ],
      "metadata": {
        "colab": {
          "base_uri": "https://localhost:8080/"
        },
        "id": "RKNVbKbMnXso",
        "outputId": "f8c61b9a-2d3e-4598-ce0c-583d5852156e"
      },
      "execution_count": null,
      "outputs": [
        {
          "output_type": "stream",
          "name": "stdout",
          "text": [
            "Column vector:\n",
            " [[0]\n",
            " [1]\n",
            " [2]\n",
            " [3]\n",
            " [4]\n",
            " [5]]\n"
          ]
        }
      ]
    },
    {
      "cell_type": "code",
      "source": [
        "# Convert a 1D array to a 3D array\n",
        "arr_3d = arr.reshape((2, 3, 1))\n",
        "print(\"3D array:\\n\", arr_3d)"
      ],
      "metadata": {
        "colab": {
          "base_uri": "https://localhost:8080/"
        },
        "id": "x0Vs8Q5SoEKh",
        "outputId": "7b55c283-7264-4658-d363-0303993b5023"
      },
      "execution_count": null,
      "outputs": [
        {
          "output_type": "stream",
          "name": "stdout",
          "text": [
            "3D array:\n",
            " [[[0]\n",
            "  [1]\n",
            "  [2]]\n",
            "\n",
            " [[3]\n",
            "  [4]\n",
            "  [5]]]\n"
          ]
        }
      ]
    },
    {
      "cell_type": "code",
      "source": [
        "arr"
      ],
      "metadata": {
        "colab": {
          "base_uri": "https://localhost:8080/"
        },
        "id": "DUwPuaoZ_-7s",
        "outputId": "9f492710-f467-48ec-dd51-e21ebefb1057"
      },
      "execution_count": null,
      "outputs": [
        {
          "output_type": "execute_result",
          "data": {
            "text/plain": [
              "array([0, 1, 2, 3, 4, 5])"
            ]
          },
          "metadata": {},
          "execution_count": 62
        }
      ]
    },
    {
      "cell_type": "code",
      "source": [
        "# Reshape to 2 rows, and let NumPy calculate the number of columns\n",
        "# You can specify -1 for a dimension, and NumPy will automatically calculate the size of that dimension.\n",
        "auto_reshape = arr.reshape((2, -1))\n",
        "print(\"Auto reshaped array:\\n\", auto_reshape)"
      ],
      "metadata": {
        "colab": {
          "base_uri": "https://localhost:8080/"
        },
        "id": "Hhui4H0-nmBt",
        "outputId": "e456a4c8-e27b-41c1-ce5f-e926c55e93fa"
      },
      "execution_count": null,
      "outputs": [
        {
          "output_type": "stream",
          "name": "stdout",
          "text": [
            "Auto reshaped array:\n",
            " [[0 1 2]\n",
            " [3 4 5]]\n"
          ]
        }
      ]
    },
    {
      "cell_type": "code",
      "source": [
        "# Reshaping Multidimensional Array\n",
        "\n",
        "# Create a 2D array (matrix)\n",
        "matrix = np.array([[1, 2, 3], [4, 5, 6]])\n",
        "\n",
        "# Reshape to a (3, 2) array\n",
        "reshaped_matrix = matrix.reshape((3, 1))\n",
        "print(\"Reshaped 2D array:\\n\", reshaped_matrix)\n"
      ],
      "metadata": {
        "colab": {
          "base_uri": "https://localhost:8080/",
          "height": 193
        },
        "id": "6-IvN33WnsGG",
        "outputId": "fd3d7f82-8203-47c3-d898-16e316285559"
      },
      "execution_count": null,
      "outputs": [
        {
          "output_type": "error",
          "ename": "ValueError",
          "evalue": "cannot reshape array of size 6 into shape (3,1)",
          "traceback": [
            "\u001b[0;31m---------------------------------------------------------------------------\u001b[0m",
            "\u001b[0;31mValueError\u001b[0m                                Traceback (most recent call last)",
            "\u001b[0;32m<ipython-input-65-bbd7c7f5c872>\u001b[0m in \u001b[0;36m<cell line: 7>\u001b[0;34m()\u001b[0m\n\u001b[1;32m      5\u001b[0m \u001b[0;34m\u001b[0m\u001b[0m\n\u001b[1;32m      6\u001b[0m \u001b[0;31m# Reshape to a (3, 2) array\u001b[0m\u001b[0;34m\u001b[0m\u001b[0;34m\u001b[0m\u001b[0m\n\u001b[0;32m----> 7\u001b[0;31m \u001b[0mreshaped_matrix\u001b[0m \u001b[0;34m=\u001b[0m \u001b[0mmatrix\u001b[0m\u001b[0;34m.\u001b[0m\u001b[0mreshape\u001b[0m\u001b[0;34m(\u001b[0m\u001b[0;34m(\u001b[0m\u001b[0;36m3\u001b[0m\u001b[0;34m,\u001b[0m \u001b[0;36m1\u001b[0m\u001b[0;34m)\u001b[0m\u001b[0;34m)\u001b[0m\u001b[0;34m\u001b[0m\u001b[0;34m\u001b[0m\u001b[0m\n\u001b[0m\u001b[1;32m      8\u001b[0m \u001b[0mprint\u001b[0m\u001b[0;34m(\u001b[0m\u001b[0;34m\"Reshaped 2D array:\\n\"\u001b[0m\u001b[0;34m,\u001b[0m \u001b[0mreshaped_matrix\u001b[0m\u001b[0;34m)\u001b[0m\u001b[0;34m\u001b[0m\u001b[0;34m\u001b[0m\u001b[0m\n",
            "\u001b[0;31mValueError\u001b[0m: cannot reshape array of size 6 into shape (3,1)"
          ]
        }
      ]
    },
    {
      "cell_type": "code",
      "source": [
        "print(matrix)"
      ],
      "metadata": {
        "colab": {
          "base_uri": "https://localhost:8080/"
        },
        "id": "tluGw6xH5o1K",
        "outputId": "01912975-1b61-410f-bbfd-47a535e6b446"
      },
      "execution_count": null,
      "outputs": [
        {
          "output_type": "stream",
          "name": "stdout",
          "text": [
            "[[1 2 3]\n",
            " [4 5 6]]\n"
          ]
        }
      ]
    },
    {
      "cell_type": "code",
      "source": [
        "# Transpose the matrix( this will change the shape)\n",
        "transposed_matrix = matrix.transpose()\n",
        "print(\"Transposed matrix:\\n\", transposed_matrix)"
      ],
      "metadata": {
        "colab": {
          "base_uri": "https://localhost:8080/"
        },
        "id": "rUEmwnYhnz3A",
        "outputId": "c2f0bc72-7766-45dd-c533-6a3e1e26b801"
      },
      "execution_count": null,
      "outputs": [
        {
          "output_type": "stream",
          "name": "stdout",
          "text": [
            "Transposed matrix:\n",
            " [[1 4]\n",
            " [2 5]\n",
            " [3 6]]\n"
          ]
        }
      ]
    },
    {
      "cell_type": "code",
      "source": [
        "matrix.T #Transpose"
      ],
      "metadata": {
        "colab": {
          "base_uri": "https://localhost:8080/"
        },
        "id": "lFrZ75Y3oJcu",
        "outputId": "39a439c9-616b-4f5c-cc86-63b44e8a9d4e"
      },
      "execution_count": null,
      "outputs": [
        {
          "output_type": "execute_result",
          "data": {
            "text/plain": [
              "array([[1, 4],\n",
              "       [2, 5],\n",
              "       [3, 6]])"
            ]
          },
          "metadata": {},
          "execution_count": 68
        }
      ]
    },
    {
      "cell_type": "markdown",
      "source": [
        "# Dataset Manipulation using Numpy\n"
      ],
      "metadata": {
        "id": "hkziSDptoqCl"
      }
    },
    {
      "cell_type": "code",
      "source": [
        "# Define the dtype for each column to use when reading the file\n",
        "dtype = [('ID', 'i4'), ('Name', 'U10'), ('Age', 'i4'), ('Score', 'f8'), ('City', 'U15')]"
      ],
      "metadata": {
        "id": "TTKyXeLYz-Fd"
      },
      "execution_count": null,
      "outputs": []
    },
    {
      "cell_type": "code",
      "source": [
        "# Load the dataset, skipping the header row\n",
        "data = np.genfromtxt('sample_people_dataset.txt', delimiter=',', skip_header=1, dtype=dtype, encoding='utf-8')"
      ],
      "metadata": {
        "id": "MtiMgbdSz-_K"
      },
      "execution_count": null,
      "outputs": []
    },
    {
      "cell_type": "code",
      "source": [
        "data"
      ],
      "metadata": {
        "id": "CeHPLoVEBfEV"
      },
      "execution_count": null,
      "outputs": []
    },
    {
      "cell_type": "code",
      "source": [
        "# Accessing specific fields (columns)\n",
        "ages = data['Age']\n",
        "print('Ages:', ages[:5])  # Print first 5 ages"
      ],
      "metadata": {
        "colab": {
          "base_uri": "https://localhost:8080/"
        },
        "id": "PhX1v8fN0BGC",
        "outputId": "5ad4d5a1-242b-466d-853f-ba356017031d"
      },
      "execution_count": null,
      "outputs": [
        {
          "output_type": "stream",
          "name": "stdout",
          "text": [
            "Ages: [20 21 48 52 31]\n"
          ]
        }
      ]
    },
    {
      "cell_type": "code",
      "source": [
        "# Filtering data based on a condition\n",
        "young_people = data[data['Age'] < 30]\n",
        "print('Young people:', young_people[:5])  # Print first 5 records of young people\n"
      ],
      "metadata": {
        "colab": {
          "base_uri": "https://localhost:8080/"
        },
        "id": "spGumquR0DZQ",
        "outputId": "a5ae7bf8-e282-413f-912f-3ee17739ef89"
      },
      "execution_count": null,
      "outputs": [
        {
          "output_type": "stream",
          "name": "stdout",
          "text": [
            "Young people: [( 1, 'Emily', 20, 78.27, 'Los Angeles')\n",
            " ( 2, 'Robert', 21, 59.16, 'New York') ( 7, 'Smith', 26, 88.27, 'Houston')\n",
            " (10, 'Smith', 26, 54.17, 'Los Angeles') (12, 'Doe', 20, 79.22, 'Phoenix')]\n"
          ]
        }
      ]
    },
    {
      "cell_type": "code",
      "source": [
        "# Calculating the average score\n",
        "average_score = np.mean(data['Score'])\n",
        "print('Average Score:', average_score)"
      ],
      "metadata": {
        "colab": {
          "base_uri": "https://localhost:8080/"
        },
        "id": "LZgpSI3k0FAg",
        "outputId": "3a870bf7-ea9d-49cd-e3b7-b9b79c32cabd"
      },
      "execution_count": null,
      "outputs": [
        {
          "output_type": "stream",
          "name": "stdout",
          "text": [
            "Average Score: 74.21845\n"
          ]
        }
      ]
    },
    {
      "cell_type": "code",
      "source": [
        "# Find unique cities\n",
        "unique_cities = np.unique(data['Score'])\n",
        "print('Unique Cities:', unique_cities)"
      ],
      "metadata": {
        "colab": {
          "base_uri": "https://localhost:8080/"
        },
        "id": "SWAUKJer0Ghh",
        "outputId": "befd6145-1efc-4d81-ec42-ace8d023fe11"
      },
      "execution_count": null,
      "outputs": [
        {
          "output_type": "stream",
          "name": "stdout",
          "text": [
            "Unique Cities: [50.57 50.6  50.66 50.78 50.82 51.65 51.67 51.77 52.23 52.3  52.67 52.77\n",
            " 52.84 53.14 53.2  53.27 53.4  53.85 53.98 54.06 54.17 54.48 54.89 54.98\n",
            " 55.01 55.77 56.44 56.55 56.57 56.62 56.85 57.24 57.35 57.41 57.97 58.03\n",
            " 58.15 59.06 59.16 59.26 59.36 59.49 59.85 61.06 61.22 61.59 61.61 61.63\n",
            " 61.64 62.   62.04 62.07 62.27 62.3  62.6  62.66 62.93 62.97 63.11 63.52\n",
            " 63.64 63.88 64.09 64.18 64.35 64.42 64.61 64.65 65.08 65.34 66.34 66.39\n",
            " 66.66 66.91 67.36 67.43 67.77 67.78 67.84 68.03 68.43 68.54 68.69 69.\n",
            " 69.63 69.92 69.95 70.06 70.36 70.45 70.74 71.03 71.2  71.44 71.52 72.71\n",
            " 72.81 72.85 72.86 72.91 72.93 72.99 73.92 74.28 74.4  74.52 74.87 75.5\n",
            " 75.57 75.87 75.94 76.81 77.19 77.61 77.73 77.87 78.27 78.79 78.88 79.22\n",
            " 79.32 79.38 79.55 80.72 80.89 80.92 81.44 81.52 81.8  81.94 81.97 82.28\n",
            " 83.13 83.29 83.5  83.6  84.07 84.16 84.5  84.78 84.85 84.98 85.33 86.21\n",
            " 86.28 86.35 87.43 87.84 88.27 88.53 88.7  88.87 88.93 89.16 89.26 89.43\n",
            " 89.82 89.96 89.99 90.78 91.04 91.11 91.43 92.45 92.89 93.03 93.11 93.47\n",
            " 93.71 93.83 94.1  95.19 95.2  95.33 95.44 96.25 96.46 96.48 97.02 97.07\n",
            " 97.27 97.47 97.59 97.82 97.95 97.96 97.97 98.04 98.08 98.1  98.65 98.71\n",
            " 98.87 99.09 99.47 99.52]\n"
          ]
        }
      ]
    },
    {
      "cell_type": "code",
      "source": [
        "# Access the first record\n",
        "first_record = data[0]\n",
        "print('First Record:', first_record)"
      ],
      "metadata": {
        "colab": {
          "base_uri": "https://localhost:8080/"
        },
        "id": "2PyaQgC3osV_",
        "outputId": "f8c8790d-91ba-4661-bfd8-c0ef491e4d96"
      },
      "execution_count": null,
      "outputs": [
        {
          "output_type": "stream",
          "name": "stdout",
          "text": [
            "First Record: (1, 'Emily', 20, 78.27, 'Los Angeles')\n"
          ]
        }
      ]
    },
    {
      "cell_type": "code",
      "source": [
        "# Access records with indices 0, 10, and 20\n",
        "selected_records = data[[0, 10, 20]]\n",
        "print('Selected Records:\\n', selected_records)"
      ],
      "metadata": {
        "colab": {
          "base_uri": "https://localhost:8080/"
        },
        "id": "cTa9i-kG0d_C",
        "outputId": "6ffdd8a8-1bf6-45a5-d782-b933b36fb650"
      },
      "execution_count": null,
      "outputs": [
        {
          "output_type": "stream",
          "name": "stdout",
          "text": [
            "Selected Records:\n",
            " [( 1, 'Emily', 20, 78.27, 'Los Angeles')\n",
            " (11, 'Michael', 44, 77.61, 'Los Angeles')\n",
            " (21, 'Sarah', 29, 64.09, 'Los Angeles')]\n"
          ]
        }
      ]
    },
    {
      "cell_type": "code",
      "source": [
        "# Access the first 5 records\n",
        "first_five_records = data[:5]\n",
        "print('First 5 Records:\\n', first_five_records)"
      ],
      "metadata": {
        "colab": {
          "base_uri": "https://localhost:8080/"
        },
        "id": "Xr8DtGzh0TrB",
        "outputId": "02b85a03-59f4-434e-b356-6950509e3067"
      },
      "execution_count": null,
      "outputs": [
        {
          "output_type": "stream",
          "name": "stdout",
          "text": [
            "First 5 Records:\n",
            " [(1, 'Emily', 20, 78.27, 'Los Angeles')\n",
            " (2, 'Robert', 21, 59.16, 'New York')\n",
            " (3, 'Michael', 48, 57.24, 'Los Angeles')\n",
            " (4, 'John', 52, 74.4 , 'Chicago') (5, 'Smith', 31, 67.78, 'Los Angeles')]\n"
          ]
        }
      ]
    },
    {
      "cell_type": "code",
      "source": [
        "# Access the Name and City columns for all records\n",
        "names_and_cities = data[['Name', 'City']]\n",
        "print('Names and Cities:\\n', names_and_cities[:5])  # Display the first 5\n"
      ],
      "metadata": {
        "colab": {
          "base_uri": "https://localhost:8080/"
        },
        "id": "w6zzwpbG0WG8",
        "outputId": "16cb8ebe-d43d-4432-cd4e-96f523dc7b32"
      },
      "execution_count": null,
      "outputs": [
        {
          "output_type": "stream",
          "name": "stdout",
          "text": [
            "Names and Cities:\n",
            " [('Emily', 'Los Angeles') ('Robert', 'New York')\n",
            " ('Michael', 'Los Angeles') ('John', 'Chicago') ('Smith', 'Los Angeles')]\n"
          ]
        }
      ]
    },
    {
      "cell_type": "code",
      "source": [
        "# Access the first 5 records and then select Name and Age columns\n",
        "names_and_ages_first_five = data[['Name', 'Age']][:5]\n",
        "print('Names and Ages of First 5 Records:\\n', names_and_ages_first_five)\n"
      ],
      "metadata": {
        "colab": {
          "base_uri": "https://localhost:8080/"
        },
        "id": "tRd8HWOW0ZnF",
        "outputId": "7c882abd-b953-45e9-f83d-9b966265e009"
      },
      "execution_count": null,
      "outputs": [
        {
          "output_type": "stream",
          "name": "stdout",
          "text": [
            "Names and Ages of First 5 Records:\n",
            " [('Emily', 20) ('Robert', 21) ('Michael', 48) ('John', 52) ('Smith', 31)]\n"
          ]
        }
      ]
    },
    {
      "cell_type": "code",
      "source": [
        "# Find records where Age is less than 30 and access their Name and City\n",
        "young_people_names_cities = data[data['Age'] < 30][['Name', 'City']]\n",
        "print('Names and Cities of People Younger Than 30:\\n', young_people_names_cities[:5])  # Display the first 5\n"
      ],
      "metadata": {
        "colab": {
          "base_uri": "https://localhost:8080/"
        },
        "id": "Um6IpuIs0baE",
        "outputId": "1140bfb1-a898-4947-b8fa-fe9cf8e93747"
      },
      "execution_count": null,
      "outputs": [
        {
          "output_type": "stream",
          "name": "stdout",
          "text": [
            "Names and Cities of People Younger Than 30:\n",
            " [('Emily', 'Los Angeles') ('Robert', 'New York') ('Smith', 'Houston')\n",
            " ('Smith', 'Los Angeles') ('Doe', 'Phoenix')]\n"
          ]
        }
      ]
    },
    {
      "cell_type": "code",
      "source": [
        "# Increase the Score of the first 5 records by 10\n",
        "data['Score'][:5] += 10\n",
        "print('Modified Scores of First 5 Records:\\n', data['Score'][:5])"
      ],
      "metadata": {
        "colab": {
          "base_uri": "https://localhost:8080/"
        },
        "id": "w20cDI7T0grk",
        "outputId": "0b2132a3-70b5-484d-8a37-f3fd90cb9f41"
      },
      "execution_count": null,
      "outputs": [
        {
          "output_type": "stream",
          "name": "stdout",
          "text": [
            "Modified Scores of First 5 Records:\n",
            " [88.27 69.16 67.24 84.4  77.78]\n"
          ]
        }
      ]
    },
    {
      "cell_type": "code",
      "source": [
        "data"
      ],
      "metadata": {
        "id": "vq4iK3oo6H9O"
      },
      "execution_count": null,
      "outputs": []
    },
    {
      "cell_type": "code",
      "source": [
        "data.shape"
      ],
      "metadata": {
        "colab": {
          "base_uri": "https://localhost:8080/"
        },
        "id": "FwJr-07G6UR3",
        "outputId": "e9e88fa9-c926-4a42-a262-0b2ab3df18cd"
      },
      "execution_count": null,
      "outputs": [
        {
          "output_type": "execute_result",
          "data": {
            "text/plain": [
              "(200,)"
            ]
          },
          "metadata": {},
          "execution_count": 84
        }
      ]
    },
    {
      "cell_type": "code",
      "source": [
        "data_new = data.reshape(200,-1)"
      ],
      "metadata": {
        "id": "SQW-us7m6ZvZ"
      },
      "execution_count": null,
      "outputs": []
    },
    {
      "cell_type": "markdown",
      "source": [
        "# Broadcasting"
      ],
      "metadata": {
        "id": "s5N3JgMR0wDu"
      }
    },
    {
      "cell_type": "markdown",
      "source": [
        "Basic operations on numpy arrays (addition, etc.) are elementwise\n",
        "\n",
        "This works on arrays of the same size. Nevertheless, It’s also possible to do operations on arrays of different sizes if NumPy can transform these arrays so that they all have the same size: this conversion is called broadcasting."
      ],
      "metadata": {
        "id": "yvb_fUVy1vhd"
      }
    },
    {
      "cell_type": "markdown",
      "source": [
        "![image.png](data:image/png;base64,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)"
      ],
      "metadata": {
        "id": "xeYkgahf1m-x"
      }
    },
    {
      "cell_type": "code",
      "source": [
        "a = np.tile(np.arange(0, 40, 10), (3,1))\n",
        "print(a)\n",
        "\n",
        "print(\"*************\")\n",
        "a=a.T\n",
        "print(a)"
      ],
      "metadata": {
        "colab": {
          "base_uri": "https://localhost:8080/"
        },
        "id": "BuYzYQxG0xio",
        "outputId": "8d040d13-56b9-4912-d4a7-635f37bb382a"
      },
      "execution_count": null,
      "outputs": [
        {
          "output_type": "stream",
          "name": "stdout",
          "text": [
            "[[ 0 10 20 30]\n",
            " [ 0 10 20 30]\n",
            " [ 0 10 20 30]]\n",
            "*************\n",
            "[[ 0  0  0]\n",
            " [10 10 10]\n",
            " [20 20 20]\n",
            " [30 30 30]]\n"
          ]
        }
      ]
    },
    {
      "cell_type": "code",
      "source": [
        "b = np.array([0, 1, 2])\n",
        "b"
      ],
      "metadata": {
        "colab": {
          "base_uri": "https://localhost:8080/"
        },
        "id": "D4YifPEU14gI",
        "outputId": "72b49ab4-1132-4991-c072-fb84d9e7fef6"
      },
      "execution_count": null,
      "outputs": [
        {
          "output_type": "execute_result",
          "data": {
            "text/plain": [
              "array([0, 1, 2])"
            ]
          },
          "metadata": {},
          "execution_count": 89
        }
      ]
    },
    {
      "cell_type": "code",
      "source": [
        "a + b"
      ],
      "metadata": {
        "colab": {
          "base_uri": "https://localhost:8080/"
        },
        "id": "MV7X1aeZ16dg",
        "outputId": "3642d043-bad4-4620-ddcc-48224c579ff7"
      },
      "execution_count": null,
      "outputs": [
        {
          "output_type": "execute_result",
          "data": {
            "text/plain": [
              "array([[ 0,  1,  2],\n",
              "       [10, 11, 12],\n",
              "       [20, 21, 22],\n",
              "       [30, 31, 32]])"
            ]
          },
          "metadata": {},
          "execution_count": 90
        }
      ]
    },
    {
      "cell_type": "code",
      "source": [
        "a = np.arange(0, 40, 10)\n",
        "a.shape"
      ],
      "metadata": {
        "colab": {
          "base_uri": "https://localhost:8080/"
        },
        "id": "vQRKxm-a176R",
        "outputId": "46dad02a-e6a2-4c61-bf38-e937f68aa230"
      },
      "execution_count": null,
      "outputs": [
        {
          "output_type": "execute_result",
          "data": {
            "text/plain": [
              "(4,)"
            ]
          },
          "metadata": {},
          "execution_count": 91
        }
      ]
    },
    {
      "cell_type": "code",
      "source": [
        "a = a[:, np.newaxis]  # adds a new axis -> 2D array\n",
        "a.shape"
      ],
      "metadata": {
        "colab": {
          "base_uri": "https://localhost:8080/"
        },
        "id": "XhpkyYBD19Uz",
        "outputId": "e36b1395-d00d-4948-bbf9-4e5de99d3f93"
      },
      "execution_count": null,
      "outputs": [
        {
          "output_type": "execute_result",
          "data": {
            "text/plain": [
              "(4, 1)"
            ]
          },
          "metadata": {},
          "execution_count": 92
        }
      ]
    },
    {
      "cell_type": "code",
      "source": [
        "a"
      ],
      "metadata": {
        "colab": {
          "base_uri": "https://localhost:8080/"
        },
        "id": "TXcBPSAq1_EQ",
        "outputId": "216f76a6-64de-46d6-d09b-b701c8d29be2"
      },
      "execution_count": null,
      "outputs": [
        {
          "output_type": "execute_result",
          "data": {
            "text/plain": [
              "array([[ 0],\n",
              "       [10],\n",
              "       [20],\n",
              "       [30]])"
            ]
          },
          "metadata": {},
          "execution_count": 93
        }
      ]
    },
    {
      "cell_type": "code",
      "source": [
        "a + b"
      ],
      "metadata": {
        "colab": {
          "base_uri": "https://localhost:8080/"
        },
        "id": "0-Z0F1Aq2B3Z",
        "outputId": "2ff2062b-3309-4dcc-9452-95f20babd4c2"
      },
      "execution_count": null,
      "outputs": [
        {
          "output_type": "execute_result",
          "data": {
            "text/plain": [
              "array([[ 0,  1,  2],\n",
              "       [10, 11, 12],\n",
              "       [20, 21, 22],\n",
              "       [30, 31, 32]])"
            ]
          },
          "metadata": {},
          "execution_count": 95
        }
      ]
    },
    {
      "cell_type": "code",
      "source": [
        "# Attempting to broadcast arrays that cannot be broadcast according to the rules will result in an error:\n",
        "a = np.array([1, 2, 3])\n",
        "b = np.array([1, 2])  # Different shape\n",
        "\n",
        "# This will raise a ValueError due to broadcasting rules\n",
        "try:\n",
        "    result = a + b\n",
        "    print(result)\n",
        "except ValueError as e:\n",
        "    print(e)\n"
      ],
      "metadata": {
        "colab": {
          "base_uri": "https://localhost:8080/"
        },
        "id": "O5GCGWAY2JNy",
        "outputId": "1fd4f812-f77a-4e7d-9946-e5a65cf5402f"
      },
      "execution_count": null,
      "outputs": [
        {
          "output_type": "stream",
          "name": "stdout",
          "text": [
            "operands could not be broadcast together with shapes (3,) (2,) \n"
          ]
        }
      ]
    }
  ]
}