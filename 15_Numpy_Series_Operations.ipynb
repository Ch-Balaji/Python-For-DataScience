{
  "nbformat": 4,
  "nbformat_minor": 0,
  "metadata": {
    "colab": {
      "provenance": []
    },
    "kernelspec": {
      "display_name": "Python 3",
      "language": "python",
      "name": "python3"
    }
  },
  "cells": [
    {
      "cell_type": "markdown",
      "source": [
        "# Importing Numpy"
      ],
      "metadata": {
        "id": "TReNw691wjVC"
      }
    },
    {
      "metadata": {
        "id": "jfJQ0s3bswc_"
      },
      "cell_type": "code",
      "source": [
        "import numpy as np"
      ],
      "execution_count": null,
      "outputs": []
    },
    {
      "metadata": {
        "id": "jhQnKQ2KswdE"
      },
      "cell_type": "markdown",
      "source": [
        "# Elementwise Numpy Operations"
      ]
    },
    {
      "metadata": {
        "id": "Wtu7cWpiswdF"
      },
      "cell_type": "markdown",
      "source": [
        "**1. Basic Operations**"
      ]
    },
    {
      "metadata": {
        "id": "dVy44XhoswdI",
        "colab": {
          "base_uri": "https://localhost:8080/"
        },
        "outputId": "982ced5b-14b0-4317-baff-54e29492d998"
      },
      "cell_type": "code",
      "source": [
        "# create an array\n",
        "a = np.array([1, 2, 3, 4])\n",
        "\n",
        "a + 1"
      ],
      "execution_count": null,
      "outputs": [
        {
          "output_type": "execute_result",
          "data": {
            "text/plain": [
              "array([2, 3, 4, 5])"
            ]
          },
          "metadata": {},
          "execution_count": 7
        }
      ]
    },
    {
      "metadata": {
        "id": "C3xGq800swdO",
        "colab": {
          "base_uri": "https://localhost:8080/"
        },
        "outputId": "5eec3c29-ea8a-40b6-ba16-71396eaae891"
      },
      "cell_type": "code",
      "source": [
        "a ** 2"
      ],
      "execution_count": null,
      "outputs": [
        {
          "output_type": "execute_result",
          "data": {
            "text/plain": [
              "array([ 1,  4,  9, 16])"
            ]
          },
          "metadata": {},
          "execution_count": 8
        }
      ]
    },
    {
      "cell_type": "code",
      "source": [
        "np.sqrt(a)"
      ],
      "metadata": {
        "colab": {
          "base_uri": "https://localhost:8080/"
        },
        "id": "ALZCKkLNxdnz",
        "outputId": "f23b5b6c-ff00-4eae-a3cb-b34271fa5d06"
      },
      "execution_count": null,
      "outputs": [
        {
          "output_type": "execute_result",
          "data": {
            "text/plain": [
              "array([1.        , 1.41421356, 1.73205081, 2.        ])"
            ]
          },
          "metadata": {},
          "execution_count": 9
        }
      ]
    },
    {
      "metadata": {
        "id": "RUCgn5sWswdS"
      },
      "cell_type": "markdown",
      "source": [
        "# Elementwise airthematic operations"
      ]
    },
    {
      "cell_type": "code",
      "source": [
        "print(a)"
      ],
      "metadata": {
        "colab": {
          "base_uri": "https://localhost:8080/"
        },
        "id": "__FK9bEDXh-O",
        "outputId": "1634ca1c-943a-402c-a5f3-e56657562337"
      },
      "execution_count": null,
      "outputs": [
        {
          "output_type": "stream",
          "name": "stdout",
          "text": [
            "[1 2 3 4]\n"
          ]
        }
      ]
    },
    {
      "metadata": {
        "id": "8PnM4PU7swdT",
        "colab": {
          "base_uri": "https://localhost:8080/"
        },
        "outputId": "88abc9c3-4c98-4d00-8bef-c33980a8c4c2"
      },
      "cell_type": "code",
      "source": [
        "b = np.ones(4) + 1\n",
        "print(b)\n",
        "print(a - b)"
      ],
      "execution_count": null,
      "outputs": [
        {
          "output_type": "stream",
          "name": "stdout",
          "text": [
            "[2. 2. 2. 2.]\n",
            "[-1.  0.  1.  2.]\n"
          ]
        }
      ]
    },
    {
      "cell_type": "code",
      "source": [
        "print(b)"
      ],
      "metadata": {
        "colab": {
          "base_uri": "https://localhost:8080/"
        },
        "id": "v4F_RuvjYYn8",
        "outputId": "4348cd2a-78fb-4d27-8724-5f45a0f4d5a2"
      },
      "execution_count": null,
      "outputs": [
        {
          "output_type": "stream",
          "name": "stdout",
          "text": [
            "[2. 2. 2. 2.]\n"
          ]
        }
      ]
    },
    {
      "metadata": {
        "id": "rpXvbqFwswdX",
        "colab": {
          "base_uri": "https://localhost:8080/"
        },
        "outputId": "b022fa34-4aea-483f-99da-df2a4b41a92e"
      },
      "cell_type": "code",
      "source": [
        "a * b"
      ],
      "execution_count": null,
      "outputs": [
        {
          "output_type": "execute_result",
          "data": {
            "text/plain": [
              "array([2., 4., 6., 8.])"
            ]
          },
          "metadata": {},
          "execution_count": 13
        }
      ]
    },
    {
      "metadata": {
        "id": "2abVO_V_swdb",
        "colab": {
          "base_uri": "https://localhost:8080/"
        },
        "outputId": "779cadda-198a-4109-aa64-57c4bb82673a"
      },
      "cell_type": "code",
      "source": [
        "# Matrix multiplication\n",
        "\n",
        "c = np.diag([1, 2, 3, 4])\n",
        "\n",
        "print(c * c)\n",
        "print(\"*****************\")\n",
        "print(c.dot(c))"
      ],
      "execution_count": null,
      "outputs": [
        {
          "output_type": "stream",
          "name": "stdout",
          "text": [
            "[[ 1  0  0  0]\n",
            " [ 0  4  0  0]\n",
            " [ 0  0  9  0]\n",
            " [ 0  0  0 16]]\n",
            "*****************\n",
            "[[ 1  0  0  0]\n",
            " [ 0  4  0  0]\n",
            " [ 0  0  9  0]\n",
            " [ 0  0  0 16]]\n"
          ]
        }
      ]
    },
    {
      "metadata": {
        "id": "WQJuiT1uswdf"
      },
      "cell_type": "markdown",
      "source": [
        "# Elementwise comparisions"
      ]
    },
    {
      "metadata": {
        "id": "fjeX-CiOswdg",
        "outputId": "27e205a5-191a-49db-e6bd-5e8d37136ccd"
      },
      "cell_type": "code",
      "source": [
        "a = np.array([1, 2, 3, 4])\n",
        "b = np.array([5, 2, 2, 4])\n",
        "a == b"
      ],
      "execution_count": null,
      "outputs": [
        {
          "output_type": "execute_result",
          "data": {
            "text/plain": [
              "array([False,  True, False,  True], dtype=bool)"
            ]
          },
          "metadata": {
            "tags": []
          },
          "execution_count": 10
        }
      ]
    },
    {
      "metadata": {
        "id": "X8TTJ8A2swdk",
        "outputId": "a82a7c0f-aea4-4918-cfe8-364bc0c2c74a"
      },
      "cell_type": "code",
      "source": [
        "a > b"
      ],
      "execution_count": null,
      "outputs": [
        {
          "output_type": "execute_result",
          "data": {
            "text/plain": [
              "array([False, False,  True, False], dtype=bool)"
            ]
          },
          "metadata": {
            "tags": []
          },
          "execution_count": 11
        }
      ]
    },
    {
      "metadata": {
        "id": "J6VVph4Qswdp",
        "colab": {
          "base_uri": "https://localhost:8080/"
        },
        "outputId": "97d7f12b-907d-4db0-ff4d-07feb6c5867b"
      },
      "cell_type": "code",
      "source": [
        "#array-wise comparisions\n",
        "a = np.array([1, 2, 3, 4])\n",
        "b = np.array([5, 2, 2, 4])\n",
        "c = np.array([1, 2, 3, 4])\n",
        "\n",
        "np.array_equal(a, b)"
      ],
      "execution_count": null,
      "outputs": [
        {
          "output_type": "execute_result",
          "data": {
            "text/plain": [
              "False"
            ]
          },
          "metadata": {},
          "execution_count": 15
        }
      ]
    },
    {
      "metadata": {
        "id": "4WcN5_dEswds",
        "colab": {
          "base_uri": "https://localhost:8080/"
        },
        "outputId": "cd097d2d-94b5-4580-c455-180d90c63172"
      },
      "cell_type": "code",
      "source": [
        "np.array_equal(a, c)"
      ],
      "execution_count": null,
      "outputs": [
        {
          "output_type": "execute_result",
          "data": {
            "text/plain": [
              "True"
            ]
          },
          "metadata": {},
          "execution_count": 16
        }
      ]
    },
    {
      "metadata": {
        "id": "9zENvq0Eswdw"
      },
      "cell_type": "markdown",
      "source": [
        "# Logical Operations"
      ]
    },
    {
      "cell_type": "code",
      "source": [
        "a = np.array([1, 1, 0, 0], dtype=bool)\n",
        "a"
      ],
      "metadata": {
        "colab": {
          "base_uri": "https://localhost:8080/"
        },
        "id": "D07bpgztaxRx",
        "outputId": "0d04f3f5-c090-488d-fd8b-a3e3550db493"
      },
      "execution_count": null,
      "outputs": [
        {
          "output_type": "execute_result",
          "data": {
            "text/plain": [
              "array([ True,  True, False, False])"
            ]
          },
          "metadata": {},
          "execution_count": 17
        }
      ]
    },
    {
      "cell_type": "code",
      "source": [
        "np.logical_not(a)"
      ],
      "metadata": {
        "colab": {
          "base_uri": "https://localhost:8080/"
        },
        "id": "_JN8CEWJbGFh",
        "outputId": "47aaf92b-d9e6-485a-acf0-68000a248efd"
      },
      "execution_count": null,
      "outputs": [
        {
          "output_type": "execute_result",
          "data": {
            "text/plain": [
              "array([False, False,  True,  True])"
            ]
          },
          "metadata": {},
          "execution_count": 21
        }
      ]
    },
    {
      "cell_type": "code",
      "source": [
        "b = np.array([1, 0, 1, 0], dtype=bool)\n",
        "b"
      ],
      "metadata": {
        "colab": {
          "base_uri": "https://localhost:8080/"
        },
        "id": "AKql_oOGa1WW",
        "outputId": "ce8ad131-c425-48f9-c0fc-9841840b53a7"
      },
      "execution_count": null,
      "outputs": [
        {
          "output_type": "execute_result",
          "data": {
            "text/plain": [
              "array([ True, False,  True, False])"
            ]
          },
          "metadata": {},
          "execution_count": 18
        }
      ]
    },
    {
      "cell_type": "code",
      "source": [
        "np.logical_or(a, b)"
      ],
      "metadata": {
        "colab": {
          "base_uri": "https://localhost:8080/"
        },
        "id": "iX2H8-kJa4gN",
        "outputId": "6028d214-fb0c-4e41-eaa7-fcbc8cea5387"
      },
      "execution_count": null,
      "outputs": [
        {
          "output_type": "execute_result",
          "data": {
            "text/plain": [
              "array([ True,  True,  True, False])"
            ]
          },
          "metadata": {},
          "execution_count": 19
        }
      ]
    },
    {
      "metadata": {
        "id": "1jnb4Oyoswdy",
        "outputId": "d846450e-26ec-46bf-e5e9-ee1130f85e0e"
      },
      "cell_type": "code",
      "source": [
        "a = np.array([1, 1, 0, 0], dtype=bool)\n",
        "b = np.array([1, 0, 1, 0], dtype=bool)\n",
        "\n",
        "np.logical_or(a, b)"
      ],
      "execution_count": null,
      "outputs": [
        {
          "output_type": "execute_result",
          "data": {
            "text/plain": [
              "array([ True,  True,  True, False], dtype=bool)"
            ]
          },
          "metadata": {
            "tags": []
          },
          "execution_count": 14
        }
      ]
    },
    {
      "metadata": {
        "id": "0Y_BIY2sswd4",
        "colab": {
          "base_uri": "https://localhost:8080/"
        },
        "outputId": "75f5faed-8c87-4c31-ac6b-5d106809e2b2"
      },
      "cell_type": "code",
      "source": [
        "np.logical_and(a, b)"
      ],
      "execution_count": null,
      "outputs": [
        {
          "output_type": "execute_result",
          "data": {
            "text/plain": [
              "array([ True, False, False, False])"
            ]
          },
          "metadata": {},
          "execution_count": 20
        }
      ]
    },
    {
      "metadata": {
        "id": "TphCEdOgswd_"
      },
      "cell_type": "markdown",
      "source": [
        "**Transcendental functions:**"
      ]
    },
    {
      "cell_type": "code",
      "source": [
        "a = np.arange(5)\n",
        "a"
      ],
      "metadata": {
        "colab": {
          "base_uri": "https://localhost:8080/"
        },
        "id": "qyRwgaewbP2P",
        "outputId": "9546ca9a-14ea-474d-d346-dacdf39a15bf"
      },
      "execution_count": null,
      "outputs": [
        {
          "output_type": "execute_result",
          "data": {
            "text/plain": [
              "array([0, 1, 2, 3, 4])"
            ]
          },
          "metadata": {},
          "execution_count": 22
        }
      ]
    },
    {
      "metadata": {
        "id": "lRgKTcVYsweA",
        "colab": {
          "base_uri": "https://localhost:8080/"
        },
        "outputId": "75789aca-0575-4a14-9b3a-b0cbd25ab17c"
      },
      "cell_type": "code",
      "source": [
        "a = np.arange(5)\n",
        "\n",
        "np.sin(a)"
      ],
      "execution_count": null,
      "outputs": [
        {
          "output_type": "execute_result",
          "data": {
            "text/plain": [
              "array([ 0.        ,  0.84147098,  0.90929743,  0.14112001, -0.7568025 ])"
            ]
          },
          "metadata": {},
          "execution_count": 23
        }
      ]
    },
    {
      "cell_type": "code",
      "source": [
        "a = np.array([0,90])\n",
        "np.sin(a)"
      ],
      "metadata": {
        "colab": {
          "base_uri": "https://localhost:8080/"
        },
        "id": "z7DhnCt2bdwV",
        "outputId": "27daa340-5b0b-4559-c642-bdabbe0cf763"
      },
      "execution_count": null,
      "outputs": [
        {
          "output_type": "execute_result",
          "data": {
            "text/plain": [
              "array([0.        , 0.89399666])"
            ]
          },
          "metadata": {},
          "execution_count": 24
        }
      ]
    },
    {
      "metadata": {
        "id": "o2WNaZYTsweG",
        "colab": {
          "base_uri": "https://localhost:8080/"
        },
        "outputId": "b60edbd0-8f5d-421d-cebc-7618f439bfee"
      },
      "cell_type": "code",
      "source": [
        "a = np.arange(5)\n",
        "np.log(a)"
      ],
      "execution_count": null,
      "outputs": [
        {
          "output_type": "stream",
          "name": "stderr",
          "text": [
            "<ipython-input-27-df76c4c5f3c6>:2: RuntimeWarning: divide by zero encountered in log\n",
            "  np.log(a)\n"
          ]
        },
        {
          "output_type": "execute_result",
          "data": {
            "text/plain": [
              "array([      -inf, 0.        , 0.69314718, 1.09861229, 1.38629436])"
            ]
          },
          "metadata": {},
          "execution_count": 27
        }
      ]
    },
    {
      "metadata": {
        "id": "4BqEA2-6sweM",
        "colab": {
          "base_uri": "https://localhost:8080/"
        },
        "outputId": "a0d469c8-adfa-47bc-9ed9-ab902f5f1a5b"
      },
      "cell_type": "code",
      "source": [
        "np.exp(a)   #evaluates e^x for each element in a given input"
      ],
      "execution_count": null,
      "outputs": [
        {
          "output_type": "execute_result",
          "data": {
            "text/plain": [
              "array([ 1.        ,  2.71828183,  7.3890561 , 20.08553692, 54.59815003])"
            ]
          },
          "metadata": {},
          "execution_count": 28
        }
      ]
    },
    {
      "metadata": {
        "id": "ZTCX8P40sweR"
      },
      "cell_type": "markdown",
      "source": [
        "**Shape Mismatch**"
      ]
    },
    {
      "metadata": {
        "id": "rEWPomresweR",
        "colab": {
          "base_uri": "https://localhost:8080/"
        },
        "outputId": "2d8f1668-7073-49c5-a533-9c8a00ce081a"
      },
      "cell_type": "code",
      "source": [
        "a = np.arange(4)\n",
        "\n",
        "a + np.array([1, 2, 0, 0])"
      ],
      "execution_count": null,
      "outputs": [
        {
          "output_type": "execute_result",
          "data": {
            "text/plain": [
              "array([1, 3, 2, 3])"
            ]
          },
          "metadata": {},
          "execution_count": 30
        }
      ]
    },
    {
      "metadata": {
        "id": "9pyhkSfQsweW"
      },
      "cell_type": "markdown",
      "source": [
        "# Basic Reductions"
      ]
    },
    {
      "metadata": {
        "id": "DHyoVepdsweX"
      },
      "cell_type": "markdown",
      "source": [
        "**computing sums**"
      ]
    },
    {
      "metadata": {
        "id": "8Ed2Id_-sweY",
        "colab": {
          "base_uri": "https://localhost:8080/"
        },
        "outputId": "7d864105-90f4-4b28-f44e-a7e7466d9ca7"
      },
      "cell_type": "code",
      "source": [
        "x = np.array([1, 2, 3, 4])\n",
        "np.sum(x)"
      ],
      "execution_count": null,
      "outputs": [
        {
          "output_type": "execute_result",
          "data": {
            "text/plain": [
              "10"
            ]
          },
          "metadata": {},
          "execution_count": 31
        }
      ]
    },
    {
      "metadata": {
        "id": "zRoRIgZqswed",
        "outputId": "c16ee400-36c0-4f13-fad0-4245ea0a46e0"
      },
      "cell_type": "code",
      "source": [
        "#sum by rows and by columns\n",
        "\n",
        "x = np.array([[1, 1], [2, 2]])\n",
        "x"
      ],
      "execution_count": null,
      "outputs": [
        {
          "output_type": "execute_result",
          "data": {
            "text/plain": [
              "array([[1, 1],\n",
              "       [2, 2]])"
            ]
          },
          "metadata": {
            "tags": []
          },
          "execution_count": 5
        }
      ]
    },
    {
      "metadata": {
        "id": "_vP6O-E2sweh",
        "outputId": "3a2c7f40-3b1a-4741-83d7-adac98635e40"
      },
      "cell_type": "code",
      "source": [
        "x.sum(axis=0)   #columns first dimension"
      ],
      "execution_count": null,
      "outputs": [
        {
          "output_type": "execute_result",
          "data": {
            "text/plain": [
              "array([3, 3])"
            ]
          },
          "metadata": {
            "tags": []
          },
          "execution_count": 6
        }
      ]
    },
    {
      "metadata": {
        "id": "Tcuz_6SRswel",
        "outputId": "63fc6808-10da-4875-8245-816e28f5e570"
      },
      "cell_type": "code",
      "source": [
        "x.sum(axis=1)  #rows (second dimension)"
      ],
      "execution_count": null,
      "outputs": [
        {
          "output_type": "execute_result",
          "data": {
            "text/plain": [
              "array([2, 4])"
            ]
          },
          "metadata": {
            "tags": []
          },
          "execution_count": 7
        }
      ]
    },
    {
      "metadata": {
        "id": "958ZeK7bsweq"
      },
      "cell_type": "markdown",
      "source": [
        "**Other reductions**"
      ]
    },
    {
      "metadata": {
        "id": "R5zUDMynswer",
        "colab": {
          "base_uri": "https://localhost:8080/"
        },
        "outputId": "3321826d-9f95-418f-da7e-b3c1fdb3aa3c"
      },
      "cell_type": "code",
      "source": [
        "x = np.array([1, 3, 2])\n",
        "x.min()"
      ],
      "execution_count": null,
      "outputs": [
        {
          "output_type": "execute_result",
          "data": {
            "text/plain": [
              "1"
            ]
          },
          "metadata": {},
          "execution_count": 32
        }
      ]
    },
    {
      "metadata": {
        "id": "kZtfLNX3swet",
        "colab": {
          "base_uri": "https://localhost:8080/"
        },
        "outputId": "2558bcb5-a62a-4f2a-df75-80d77c8a8e7b"
      },
      "cell_type": "code",
      "source": [
        "x.max()"
      ],
      "execution_count": null,
      "outputs": [
        {
          "output_type": "execute_result",
          "data": {
            "text/plain": [
              "3"
            ]
          },
          "metadata": {},
          "execution_count": 33
        }
      ]
    },
    {
      "metadata": {
        "id": "AFmjGkYeswex",
        "colab": {
          "base_uri": "https://localhost:8080/"
        },
        "outputId": "10f7f022-7972-476a-be56-c9879e07c1fc"
      },
      "cell_type": "code",
      "source": [
        "x.argmin()# index of minimum element"
      ],
      "execution_count": null,
      "outputs": [
        {
          "output_type": "execute_result",
          "data": {
            "text/plain": [
              "0"
            ]
          },
          "metadata": {},
          "execution_count": 34
        }
      ]
    },
    {
      "metadata": {
        "id": "jZ1Kne4bswe0",
        "colab": {
          "base_uri": "https://localhost:8080/"
        },
        "outputId": "dab2005c-acda-428a-979c-eb8db3e69e4c"
      },
      "cell_type": "code",
      "source": [
        "x.argmax()# index of maximum element"
      ],
      "execution_count": null,
      "outputs": [
        {
          "output_type": "execute_result",
          "data": {
            "text/plain": [
              "1"
            ]
          },
          "metadata": {},
          "execution_count": 35
        }
      ]
    },
    {
      "metadata": {
        "id": "HMjQrI2Xswe6"
      },
      "cell_type": "markdown",
      "source": [
        "**Logical Operations**"
      ]
    },
    {
      "metadata": {
        "id": "yDdavXNvswe7",
        "colab": {
          "base_uri": "https://localhost:8080/"
        },
        "outputId": "4193f30a-c90f-42f4-b650-a91db0919c63"
      },
      "cell_type": "code",
      "source": [
        "np.all([True, True, False])"
      ],
      "execution_count": null,
      "outputs": [
        {
          "output_type": "execute_result",
          "data": {
            "text/plain": [
              "False"
            ]
          },
          "metadata": {},
          "execution_count": 36
        }
      ]
    },
    {
      "metadata": {
        "id": "pWQ5lldeswfA",
        "colab": {
          "base_uri": "https://localhost:8080/"
        },
        "outputId": "53ede855-fba6-4f57-8deb-6e68ea128309"
      },
      "cell_type": "code",
      "source": [
        "np.any([True, False, False])"
      ],
      "execution_count": null,
      "outputs": [
        {
          "output_type": "execute_result",
          "data": {
            "text/plain": [
              "True"
            ]
          },
          "metadata": {},
          "execution_count": 37
        }
      ]
    },
    {
      "metadata": {
        "id": "g7ZIbD4YswfD",
        "colab": {
          "base_uri": "https://localhost:8080/"
        },
        "outputId": "5259d746-00c6-4206-c0c3-b6b3b099d48a"
      },
      "cell_type": "code",
      "source": [
        "#Note: can be used for array comparisions\n",
        "a = np.zeros((50, 50))\n",
        "np.any(a != 0)"
      ],
      "execution_count": null,
      "outputs": [
        {
          "output_type": "execute_result",
          "data": {
            "text/plain": [
              "False"
            ]
          },
          "metadata": {},
          "execution_count": 38
        }
      ]
    },
    {
      "cell_type": "code",
      "source": [
        "b = np.array([3,4])"
      ],
      "metadata": {
        "id": "Goo1U1ptdqP8"
      },
      "execution_count": null,
      "outputs": []
    },
    {
      "metadata": {
        "id": "zinI9W8hswfH",
        "colab": {
          "base_uri": "https://localhost:8080/",
          "height": 141
        },
        "outputId": "441d1133-5d8b-454a-867a-5837bacdf7f9"
      },
      "cell_type": "code",
      "source": [
        "np.all(a == b)"
      ],
      "execution_count": null,
      "outputs": [
        {
          "output_type": "error",
          "ename": "ValueError",
          "evalue": "operands could not be broadcast together with shapes (50,50) (2,) ",
          "traceback": [
            "\u001b[0;31m---------------------------------------------------------------------------\u001b[0m",
            "\u001b[0;31mValueError\u001b[0m                                Traceback (most recent call last)",
            "\u001b[0;32m<ipython-input-46-f5a08c362170>\u001b[0m in \u001b[0;36m<cell line: 1>\u001b[0;34m()\u001b[0m\n\u001b[0;32m----> 1\u001b[0;31m \u001b[0mnp\u001b[0m\u001b[0;34m.\u001b[0m\u001b[0mall\u001b[0m\u001b[0;34m(\u001b[0m\u001b[0ma\u001b[0m \u001b[0;34m==\u001b[0m \u001b[0mb\u001b[0m\u001b[0;34m)\u001b[0m\u001b[0;34m\u001b[0m\u001b[0;34m\u001b[0m\u001b[0m\n\u001b[0m",
            "\u001b[0;31mValueError\u001b[0m: operands could not be broadcast together with shapes (50,50) (2,) "
          ]
        }
      ]
    },
    {
      "metadata": {
        "id": "HuTF_mToswfL",
        "colab": {
          "base_uri": "https://localhost:8080/"
        },
        "outputId": "3d89b170-fe43-4107-f601-4b91288e4a6c"
      },
      "cell_type": "code",
      "source": [
        "a = np.array([1, 2, 3, 2])\n",
        "b = np.array([2, 2, 3, 2])\n",
        "c = np.array([6, 4, 4, 5])\n",
        "((a <= b) & (b <= c)).all()"
      ],
      "execution_count": null,
      "outputs": [
        {
          "output_type": "execute_result",
          "data": {
            "text/plain": [
              "True"
            ]
          },
          "metadata": {},
          "execution_count": 50
        }
      ]
    },
    {
      "cell_type": "code",
      "source": [
        "(a <= b)"
      ],
      "metadata": {
        "colab": {
          "base_uri": "https://localhost:8080/"
        },
        "id": "soKjbRPUeHtI",
        "outputId": "e0c70303-30d8-4ef1-a658-d0a997017cf4"
      },
      "execution_count": null,
      "outputs": [
        {
          "output_type": "execute_result",
          "data": {
            "text/plain": [
              "array([ True,  True,  True,  True])"
            ]
          },
          "metadata": {},
          "execution_count": 48
        }
      ]
    },
    {
      "cell_type": "code",
      "source": [
        "(b <= c)"
      ],
      "metadata": {
        "colab": {
          "base_uri": "https://localhost:8080/"
        },
        "id": "cm0gzWNJeHqz",
        "outputId": "40a9188c-deab-44f8-c604-9ec2715dab3e"
      },
      "execution_count": null,
      "outputs": [
        {
          "output_type": "execute_result",
          "data": {
            "text/plain": [
              "array([ True,  True,  True,  True])"
            ]
          },
          "metadata": {},
          "execution_count": 49
        }
      ]
    },
    {
      "metadata": {
        "id": "APsZAg7_swfO"
      },
      "cell_type": "markdown",
      "source": [
        "**Statistics**"
      ]
    },
    {
      "cell_type": "code",
      "source": [
        "x = np.array([1, 2, 3, 1])\n",
        "y = np.array([[1, 2, 3], [5, 6, 1]])\n",
        "print(x)\n",
        "print(y)"
      ],
      "metadata": {
        "colab": {
          "base_uri": "https://localhost:8080/"
        },
        "id": "-5uWUa0MeeO8",
        "outputId": "c745879f-0cb8-40a4-a4ad-04152681157c"
      },
      "execution_count": null,
      "outputs": [
        {
          "output_type": "stream",
          "name": "stdout",
          "text": [
            "[1 2 3 1]\n",
            "[[1 2 3]\n",
            " [5 6 1]]\n"
          ]
        }
      ]
    },
    {
      "metadata": {
        "id": "cjoteMjGswfP",
        "outputId": "ccc68f0b-c334-4667-f18f-97758bfe32d5"
      },
      "cell_type": "code",
      "source": [
        "x.mean()"
      ],
      "execution_count": null,
      "outputs": [
        {
          "output_type": "execute_result",
          "data": {
            "text/plain": [
              "1.75"
            ]
          },
          "metadata": {
            "tags": []
          },
          "execution_count": 23
        }
      ]
    },
    {
      "metadata": {
        "id": "JXWE8ldfswfV",
        "outputId": "bf404199-5602-442b-98fd-23ad1e5e26f5"
      },
      "cell_type": "code",
      "source": [
        "np.median(x)"
      ],
      "execution_count": null,
      "outputs": [
        {
          "output_type": "execute_result",
          "data": {
            "text/plain": [
              "1.5"
            ]
          },
          "metadata": {
            "tags": []
          },
          "execution_count": 24
        }
      ]
    },
    {
      "metadata": {
        "id": "uiBhX8Ktswfj",
        "outputId": "b162f7f7-2b25-429d-f5f3-c0592c793aa8"
      },
      "cell_type": "code",
      "source": [
        "np.median(y, axis=-1) # last axis"
      ],
      "execution_count": null,
      "outputs": [
        {
          "output_type": "execute_result",
          "data": {
            "text/plain": [
              "array([ 2.,  5.])"
            ]
          },
          "metadata": {
            "tags": []
          },
          "execution_count": 25
        }
      ]
    },
    {
      "metadata": {
        "id": "Cy3p6_0nswfo",
        "colab": {
          "base_uri": "https://localhost:8080/"
        },
        "outputId": "446d8bd6-aa47-4d46-f1d7-c1cbf23b8bd7"
      },
      "cell_type": "code",
      "source": [
        "x.std()          # full population standard dev."
      ],
      "execution_count": null,
      "outputs": [
        {
          "output_type": "execute_result",
          "data": {
            "text/plain": [
              "0.82915619758885"
            ]
          },
          "metadata": {},
          "execution_count": 52
        }
      ]
    },
    {
      "metadata": {
        "id": "UmJ61pVXswfu"
      },
      "cell_type": "markdown",
      "source": [
        "**Example:**"
      ]
    },
    {
      "metadata": {
        "id": "anUWifpEswfx"
      },
      "cell_type": "markdown",
      "source": [
        "Data in populations.txt describes the populations of hares and lynxes (and carrots) in northern Canada during 20 years.\n"
      ]
    },
    {
      "metadata": {
        "collapsed": true,
        "id": "rnVBTztnswfy"
      },
      "cell_type": "code",
      "source": [
        "#load data into numpy array object\n",
        "data = np.loadtxt('populations.txt')"
      ],
      "execution_count": null,
      "outputs": []
    },
    {
      "metadata": {
        "id": "P6namKkVswf1",
        "outputId": "fd6bc8a1-2b47-4be3-e7a3-a9073a2fdda9"
      },
      "cell_type": "code",
      "source": [
        "data"
      ],
      "execution_count": null,
      "outputs": [
        {
          "output_type": "execute_result",
          "data": {
            "text/plain": [
              "array([[  1900.,  30000.,   4000.,  48300.],\n",
              "       [  1901.,  47200.,   6100.,  48200.],\n",
              "       [  1902.,  70200.,   9800.,  41500.],\n",
              "       [  1903.,  77400.,  35200.,  38200.],\n",
              "       [  1904.,  36300.,  59400.,  40600.],\n",
              "       [  1905.,  20600.,  41700.,  39800.],\n",
              "       [  1906.,  18100.,  19000.,  38600.],\n",
              "       [  1907.,  21400.,  13000.,  42300.],\n",
              "       [  1908.,  22000.,   8300.,  44500.],\n",
              "       [  1909.,  25400.,   9100.,  42100.],\n",
              "       [  1910.,  27100.,   7400.,  46000.],\n",
              "       [  1911.,  40300.,   8000.,  46800.],\n",
              "       [  1912.,  57000.,  12300.,  43800.],\n",
              "       [  1913.,  76600.,  19500.,  40900.],\n",
              "       [  1914.,  52300.,  45700.,  39400.],\n",
              "       [  1915.,  19500.,  51100.,  39000.],\n",
              "       [  1916.,  11200.,  29700.,  36700.],\n",
              "       [  1917.,   7600.,  15800.,  41800.],\n",
              "       [  1918.,  14600.,   9700.,  43300.],\n",
              "       [  1919.,  16200.,  10100.,  41300.],\n",
              "       [  1920.,  24700.,   8600.,  47300.]])"
            ]
          },
          "metadata": {
            "tags": []
          },
          "execution_count": 18
        }
      ]
    },
    {
      "metadata": {
        "id": "QmlBep1Mswf5",
        "outputId": "c1b341fc-c8c2-43bd-8b74-522f36336074"
      },
      "cell_type": "code",
      "source": [
        "year, hares, lynxes, carrots = data.T #columns to variables\n",
        "print(year)"
      ],
      "execution_count": null,
      "outputs": [
        {
          "output_type": "stream",
          "text": [
            "[ 1900.  1901.  1902.  1903.  1904.  1905.  1906.  1907.  1908.  1909.\n",
            "  1910.  1911.  1912.  1913.  1914.  1915.  1916.  1917.  1918.  1919.\n",
            "  1920.]\n"
          ],
          "name": "stdout"
        }
      ]
    },
    {
      "metadata": {
        "id": "rK1BKEoyswgD",
        "outputId": "39556379-8632-4f4b-bc1a-619afce30f6e"
      },
      "cell_type": "code",
      "source": [
        "#The mean population over time\n",
        "populations = data[:, 1:]\n",
        "populations"
      ],
      "execution_count": null,
      "outputs": [
        {
          "output_type": "execute_result",
          "data": {
            "text/plain": [
              "array([[ 30000.,   4000.,  48300.],\n",
              "       [ 47200.,   6100.,  48200.],\n",
              "       [ 70200.,   9800.,  41500.],\n",
              "       [ 77400.,  35200.,  38200.],\n",
              "       [ 36300.,  59400.,  40600.],\n",
              "       [ 20600.,  41700.,  39800.],\n",
              "       [ 18100.,  19000.,  38600.],\n",
              "       [ 21400.,  13000.,  42300.],\n",
              "       [ 22000.,   8300.,  44500.],\n",
              "       [ 25400.,   9100.,  42100.],\n",
              "       [ 27100.,   7400.,  46000.],\n",
              "       [ 40300.,   8000.,  46800.],\n",
              "       [ 57000.,  12300.,  43800.],\n",
              "       [ 76600.,  19500.,  40900.],\n",
              "       [ 52300.,  45700.,  39400.],\n",
              "       [ 19500.,  51100.,  39000.],\n",
              "       [ 11200.,  29700.,  36700.],\n",
              "       [  7600.,  15800.,  41800.],\n",
              "       [ 14600.,   9700.,  43300.],\n",
              "       [ 16200.,  10100.,  41300.],\n",
              "       [ 24700.,   8600.,  47300.]])"
            ]
          },
          "metadata": {
            "tags": []
          },
          "execution_count": 21
        }
      ]
    },
    {
      "metadata": {
        "id": "x9fl1SFuswgI",
        "outputId": "d35111fd-9329-484f-8d9a-07310f2fbe2d"
      },
      "cell_type": "code",
      "source": [
        "#sample standard deviations\n",
        "populations.std(axis=0)"
      ],
      "execution_count": null,
      "outputs": [
        {
          "output_type": "execute_result",
          "data": {
            "text/plain": [
              "array([ 20897.90645809,  16254.59153691,   3322.50622558])"
            ]
          },
          "metadata": {
            "tags": []
          },
          "execution_count": 22
        }
      ]
    },
    {
      "metadata": {
        "id": "JuRAVBQZswgT",
        "outputId": "dddefc54-8d1b-4b01-990c-dea4068cab56"
      },
      "cell_type": "code",
      "source": [
        "#which species has the highest population each year?\n",
        "\n",
        "np.argmax(populations, axis=1)"
      ],
      "execution_count": null,
      "outputs": [
        {
          "output_type": "execute_result",
          "data": {
            "text/plain": [
              "array([2, 2, 0, 0, 1, 1, 2, 2, 2, 2, 2, 2, 0, 0, 0, 1, 2, 2, 2, 2, 2])"
            ]
          },
          "metadata": {
            "tags": []
          },
          "execution_count": 23
        }
      ]
    },
    {
      "metadata": {
        "id": "tU_ZXk-TswgY"
      },
      "cell_type": "markdown",
      "source": [
        "# Broadcasting"
      ]
    },
    {
      "metadata": {
        "id": "9YhDQLkMswga"
      },
      "cell_type": "markdown",
      "source": [
        "Basic operations on numpy arrays (addition, etc.) are elementwise\n",
        "\n",
        "This works on arrays of the same size.\n",
        "    Nevertheless, It’s also possible to do operations on arrays of different sizes if NumPy can transform these arrays     so that they all have the same size: this conversion is called broadcasting.\n",
        "\n",
        "The image below gives an example of broadcasting:"
      ]
    },
    {
      "metadata": {
        "id": "ikjmauQzswgc"
      },
      "cell_type": "markdown",
      "source": [
        "![title](broadcasting.png)"
      ]
    },
    {
      "metadata": {
        "id": "nI5avDtJswgd",
        "outputId": "4514d3c2-a38d-4750-d6f3-8a709b40df7f"
      },
      "cell_type": "code",
      "source": [
        "a = np.tile(np.arange(0, 40, 10), (3,1))\n",
        "print(a)\n",
        "\n",
        "print(\"*************\")\n",
        "a=a.T\n",
        "print(a)"
      ],
      "execution_count": null,
      "outputs": [
        {
          "output_type": "stream",
          "text": [
            "[[ 0 10 20 30]\n",
            " [ 0 10 20 30]\n",
            " [ 0 10 20 30]]\n",
            "*************\n",
            "[[ 0  0  0]\n",
            " [10 10 10]\n",
            " [20 20 20]\n",
            " [30 30 30]]\n"
          ],
          "name": "stdout"
        }
      ]
    },
    {
      "metadata": {
        "id": "cLIID2BSswgf",
        "outputId": "066926e7-77bd-4116-a878-3b885f0fd7a1"
      },
      "cell_type": "code",
      "source": [
        "\n",
        "b = np.array([0, 1, 2])\n",
        "b"
      ],
      "execution_count": null,
      "outputs": [
        {
          "output_type": "execute_result",
          "data": {
            "text/plain": [
              "array([0, 1, 2])"
            ]
          },
          "metadata": {
            "tags": []
          },
          "execution_count": 35
        }
      ]
    },
    {
      "metadata": {
        "id": "jQrV3eHlswgh",
        "outputId": "a580a35e-ab46-409c-92b6-55dca012c40c"
      },
      "cell_type": "code",
      "source": [
        "\n",
        "a + b"
      ],
      "execution_count": null,
      "outputs": [
        {
          "output_type": "execute_result",
          "data": {
            "text/plain": [
              "array([[ 0,  1,  2],\n",
              "       [10, 11, 12],\n",
              "       [20, 21, 22],\n",
              "       [30, 31, 32]])"
            ]
          },
          "metadata": {
            "tags": []
          },
          "execution_count": 36
        }
      ]
    },
    {
      "metadata": {
        "id": "O46UzhDpswgj",
        "outputId": "ca8ff2f1-13e9-4ba9-aaa4-e724236b2436"
      },
      "cell_type": "code",
      "source": [
        "a = np.arange(0, 40, 10)\n",
        "a.shape\n"
      ],
      "execution_count": null,
      "outputs": [
        {
          "output_type": "execute_result",
          "data": {
            "text/plain": [
              "(4,)"
            ]
          },
          "metadata": {
            "tags": []
          },
          "execution_count": 45
        }
      ]
    },
    {
      "metadata": {
        "id": "OgkzL1i9swgl",
        "outputId": "98ee71d0-ef8e-47c0-af1a-c197cfbec692"
      },
      "cell_type": "code",
      "source": [
        "a = a[:, np.newaxis]  # adds a new axis -> 2D array\n",
        "a.shape"
      ],
      "execution_count": null,
      "outputs": [
        {
          "output_type": "execute_result",
          "data": {
            "text/plain": [
              "(4, 1)"
            ]
          },
          "metadata": {
            "tags": []
          },
          "execution_count": 42
        }
      ]
    },
    {
      "metadata": {
        "id": "PQiWxq-6swgq",
        "outputId": "b4ef9569-1bc8-4b4b-8a6a-30b75e6bf889"
      },
      "cell_type": "code",
      "source": [
        "a"
      ],
      "execution_count": null,
      "outputs": [
        {
          "output_type": "execute_result",
          "data": {
            "text/plain": [
              "array([[ 0],\n",
              "       [10],\n",
              "       [20],\n",
              "       [30]])"
            ]
          },
          "metadata": {
            "tags": []
          },
          "execution_count": 43
        }
      ]
    },
    {
      "metadata": {
        "id": "tsUMMhVMswgw",
        "outputId": "1eccf526-2b25-45b1-a67f-b70ffe346c2d"
      },
      "cell_type": "code",
      "source": [
        "a + b"
      ],
      "execution_count": null,
      "outputs": [
        {
          "output_type": "execute_result",
          "data": {
            "text/plain": [
              "array([[ 0,  1,  2],\n",
              "       [10, 11, 12],\n",
              "       [20, 21, 22],\n",
              "       [30, 31, 32]])"
            ]
          },
          "metadata": {
            "tags": []
          },
          "execution_count": 58
        }
      ]
    },
    {
      "metadata": {
        "id": "j_PyiHoLswgz"
      },
      "cell_type": "markdown",
      "source": [
        "# Array Shape Manipulation"
      ]
    },
    {
      "metadata": {
        "id": "ZCNm05mWswg0",
        "outputId": "18403ccc-45db-4e09-8e67-6b268246b278"
      },
      "cell_type": "code",
      "source": [
        "a = np.array([[1, 2, 3], [4, 5, 6]]) # Flattening\n",
        "a.ravel() #Return a contiguous flattened array.\n",
        "# A 1-D array, containing the elements of the input, is returned. A copy is made only if needed."
      ],
      "execution_count": null,
      "outputs": [
        {
          "output_type": "execute_result",
          "data": {
            "text/plain": [
              "array([1, 2, 3, 4, 5, 6])"
            ]
          },
          "metadata": {
            "tags": []
          },
          "execution_count": 52
        }
      ]
    },
    {
      "metadata": {
        "id": "vDHkkj_Cswg2",
        "outputId": "e09bd4e6-d56c-4040-b5a1-dea2b20767fa"
      },
      "cell_type": "code",
      "source": [
        "a.T #Transpose"
      ],
      "execution_count": null,
      "outputs": [
        {
          "output_type": "execute_result",
          "data": {
            "text/plain": [
              "array([[1, 4],\n",
              "       [2, 5],\n",
              "       [3, 6]])"
            ]
          },
          "metadata": {
            "tags": []
          },
          "execution_count": 53
        }
      ]
    },
    {
      "metadata": {
        "id": "OQwnB4jMswg7",
        "outputId": "d31964f8-cb74-4547-c2a2-7969288282f6"
      },
      "cell_type": "code",
      "source": [
        "a.T.ravel()"
      ],
      "execution_count": null,
      "outputs": [
        {
          "output_type": "execute_result",
          "data": {
            "text/plain": [
              "array([1, 4, 2, 5, 3, 6])"
            ]
          },
          "metadata": {
            "tags": []
          },
          "execution_count": 54
        }
      ]
    },
    {
      "metadata": {
        "id": "IfyMcSqWswhA"
      },
      "cell_type": "markdown",
      "source": [
        "**Reshaping**"
      ]
    },
    {
      "metadata": {
        "id": "QcaiZZ7mswhA"
      },
      "cell_type": "markdown",
      "source": [
        "The inverse operation to flattening:"
      ]
    },
    {
      "metadata": {
        "id": "MA6cntc9swhC",
        "outputId": "a4aa22e7-1095-4349-b306-56000f8ae7ee"
      },
      "cell_type": "code",
      "source": [
        "print(a.shape)\n",
        "print(a)"
      ],
      "execution_count": null,
      "outputs": [
        {
          "output_type": "stream",
          "text": [
            "(2, 3)\n",
            "[[1 2 3]\n",
            " [4 5 6]]\n"
          ],
          "name": "stdout"
        }
      ]
    },
    {
      "metadata": {
        "id": "hhJauR24swhE",
        "outputId": "e52e66cf-8c93-4769-909b-82137650ab36"
      },
      "cell_type": "code",
      "source": [
        "b = a.ravel()\n",
        "print(b)"
      ],
      "execution_count": null,
      "outputs": [
        {
          "output_type": "stream",
          "text": [
            "[1 2 3 4 5 6]\n"
          ],
          "name": "stdout"
        }
      ]
    },
    {
      "metadata": {
        "id": "vXbnz73uswhG",
        "outputId": "db52a819-25c3-45fd-dfb4-372e72cfb8fe"
      },
      "cell_type": "code",
      "source": [
        "b = b.reshape((2, 3))\n",
        "b"
      ],
      "execution_count": null,
      "outputs": [
        {
          "output_type": "execute_result",
          "data": {
            "text/plain": [
              "array([[1, 2, 3],\n",
              "       [4, 5, 6]])"
            ]
          },
          "metadata": {
            "tags": []
          },
          "execution_count": 57
        }
      ]
    },
    {
      "metadata": {
        "id": "TNr-WvUzswhI",
        "outputId": "13a740fd-c250-4a21-fa13-3a2cd8fce06f"
      },
      "cell_type": "code",
      "source": [
        "b[0, 0] = 100\n",
        "a"
      ],
      "execution_count": null,
      "outputs": [
        {
          "output_type": "execute_result",
          "data": {
            "text/plain": [
              "array([[100,   2,   3],\n",
              "       [  4,   5,   6]])"
            ]
          },
          "metadata": {
            "tags": []
          },
          "execution_count": 59
        }
      ]
    },
    {
      "metadata": {
        "id": "_Y5EeOeJswhL"
      },
      "cell_type": "markdown",
      "source": [
        "**Note and       Beware: reshape may also return a copy!:**"
      ]
    },
    {
      "metadata": {
        "id": "tf1F72vHswhL",
        "outputId": "0726a4b2-566e-4628-cc19-8b894cb40c18"
      },
      "cell_type": "code",
      "source": [
        "a = np.zeros((3, 2))\n",
        "b = a.T.reshape(3*2)\n",
        "b[0] = 50\n",
        "a"
      ],
      "execution_count": null,
      "outputs": [
        {
          "output_type": "execute_result",
          "data": {
            "text/plain": [
              "array([[ 0.,  0.],\n",
              "       [ 0.,  0.],\n",
              "       [ 0.,  0.]])"
            ]
          },
          "metadata": {
            "tags": []
          },
          "execution_count": 60
        }
      ]
    },
    {
      "metadata": {
        "id": "4pnFgWaTswhO"
      },
      "cell_type": "markdown",
      "source": [
        "**Adding a Dimension**"
      ]
    },
    {
      "metadata": {
        "id": "b3x7GDphswhP"
      },
      "cell_type": "markdown",
      "source": [
        "Indexing with the np.newaxis object allows us to add an axis to an array"
      ]
    },
    {
      "metadata": {
        "id": "zWZFOfB0swhP"
      },
      "cell_type": "markdown",
      "source": [
        "newaxis is used to increase the dimension of the existing array by one more dimension, when used once. Thus,\n",
        "\n",
        "1D array will become 2D array\n",
        "\n",
        "2D array will become 3D array\n",
        "\n",
        "3D array will become 4D array and so on"
      ]
    },
    {
      "metadata": {
        "id": "DuHUdNLoswhP",
        "outputId": "40fb60a7-c44c-41fa-9be8-09ec5468c6a7"
      },
      "cell_type": "code",
      "source": [
        "z = np.array([1, 2, 3])\n",
        "z"
      ],
      "execution_count": null,
      "outputs": [
        {
          "output_type": "execute_result",
          "data": {
            "text/plain": [
              "array([1, 2, 3])"
            ]
          },
          "metadata": {
            "tags": []
          },
          "execution_count": 61
        }
      ]
    },
    {
      "metadata": {
        "id": "f48pj0JMswhT",
        "outputId": "546f6836-b251-4812-f7b2-cf0461d13178"
      },
      "cell_type": "code",
      "source": [
        "z[:, np.newaxis]"
      ],
      "execution_count": null,
      "outputs": [
        {
          "output_type": "execute_result",
          "data": {
            "text/plain": [
              "array([[1],\n",
              "       [2],\n",
              "       [3]])"
            ]
          },
          "metadata": {
            "tags": []
          },
          "execution_count": 62
        }
      ]
    },
    {
      "metadata": {
        "id": "Wy-2k9NjswhW"
      },
      "cell_type": "markdown",
      "source": [
        "**Dimension Shuffling**"
      ]
    },
    {
      "metadata": {
        "id": "MSTSN5IoswhZ",
        "outputId": "3c1a1132-68f4-4f3b-bb40-c46ab734643a"
      },
      "cell_type": "code",
      "source": [
        "a = np.arange(4*3*2).reshape(4, 3, 2)\n",
        "a.shape"
      ],
      "execution_count": null,
      "outputs": [
        {
          "output_type": "execute_result",
          "data": {
            "text/plain": [
              "(4, 3, 2)"
            ]
          },
          "metadata": {
            "tags": []
          },
          "execution_count": 63
        }
      ]
    },
    {
      "metadata": {
        "id": "-i_qw-2Bswhd",
        "outputId": "dd25efea-7155-4b62-efd2-c069cc0f73c1"
      },
      "cell_type": "code",
      "source": [
        "a"
      ],
      "execution_count": null,
      "outputs": [
        {
          "output_type": "execute_result",
          "data": {
            "text/plain": [
              "array([[[ 0,  1],\n",
              "        [ 2,  3],\n",
              "        [ 4,  5]],\n",
              "\n",
              "       [[ 6,  7],\n",
              "        [ 8,  9],\n",
              "        [10, 11]],\n",
              "\n",
              "       [[12, 13],\n",
              "        [14, 15],\n",
              "        [16, 17]],\n",
              "\n",
              "       [[18, 19],\n",
              "        [20, 21],\n",
              "        [22, 23]]])"
            ]
          },
          "metadata": {
            "tags": []
          },
          "execution_count": 77
        }
      ]
    },
    {
      "metadata": {
        "id": "sFfdpnwxswhg",
        "outputId": "a7f25bdc-c56c-4981-a8ab-ce1627bfd005"
      },
      "cell_type": "code",
      "source": [
        "a[0, 2, 1]"
      ],
      "execution_count": null,
      "outputs": [
        {
          "output_type": "execute_result",
          "data": {
            "text/plain": [
              "5"
            ]
          },
          "metadata": {
            "tags": []
          },
          "execution_count": 64
        }
      ]
    },
    {
      "metadata": {
        "id": "2lFLuLyjswhk"
      },
      "cell_type": "markdown",
      "source": [
        "**Resizing**"
      ]
    },
    {
      "metadata": {
        "id": "Yi9xEsTdswhl",
        "outputId": "f11c0809-c403-41c9-eaf0-e3f4c90469d8"
      },
      "cell_type": "code",
      "source": [
        "a = np.arange(4)\n",
        "a.resize((8,))\n",
        "a"
      ],
      "execution_count": null,
      "outputs": [
        {
          "output_type": "execute_result",
          "data": {
            "text/plain": [
              "array([0, 1, 2, 3, 0, 0, 0, 0])"
            ]
          },
          "metadata": {
            "tags": []
          },
          "execution_count": 67
        }
      ]
    },
    {
      "metadata": {
        "id": "L32_TKH-swhp"
      },
      "cell_type": "markdown",
      "source": [
        "However, it must not be referred to somewhere else:"
      ]
    },
    {
      "metadata": {
        "id": "n03o_7jKswhq",
        "outputId": "591c6728-d9cd-439f-8287-fce70a25ea2a"
      },
      "cell_type": "code",
      "source": [
        "b = a\n",
        "a.resize((4,))"
      ],
      "execution_count": null,
      "outputs": [
        {
          "output_type": "error",
          "ename": "ValueError",
          "evalue": "cannot resize an array that references or is referenced\nby another array in this way.  Use the resize function",
          "traceback": [
            "\u001b[0;31m---------------------------------------------------------------------------\u001b[0m",
            "\u001b[0;31mValueError\u001b[0m                                Traceback (most recent call last)",
            "\u001b[0;32m<ipython-input-68-702766c88583>\u001b[0m in \u001b[0;36m<module>\u001b[0;34m()\u001b[0m\n\u001b[1;32m      1\u001b[0m \u001b[0mb\u001b[0m \u001b[0;34m=\u001b[0m \u001b[0ma\u001b[0m\u001b[0;34m\u001b[0m\u001b[0m\n\u001b[0;32m----> 2\u001b[0;31m \u001b[0ma\u001b[0m\u001b[0;34m.\u001b[0m\u001b[0mresize\u001b[0m\u001b[0;34m(\u001b[0m\u001b[0;34m(\u001b[0m\u001b[0;36m4\u001b[0m\u001b[0;34m,\u001b[0m\u001b[0;34m)\u001b[0m\u001b[0;34m)\u001b[0m\u001b[0;34m\u001b[0m\u001b[0m\n\u001b[0m",
            "\u001b[0;31mValueError\u001b[0m: cannot resize an array that references or is referenced\nby another array in this way.  Use the resize function"
          ]
        }
      ]
    }
  ]
}