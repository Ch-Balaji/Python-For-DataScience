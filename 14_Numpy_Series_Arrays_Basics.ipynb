{
  "nbformat": 4,
  "nbformat_minor": 0,
  "metadata": {
    "colab": {
      "provenance": []
    },
    "kernelspec": {
      "name": "python3",
      "display_name": "Python 3"
    },
    "language_info": {
      "name": "python"
    }
  },
  "cells": [
    {
      "cell_type": "markdown",
      "source": [
        "# What is NumPy?\n",
        "1. NumPy (Numerical Python) is an open-source Python library that's used in almost every field of science and engineering.\n",
        "2. It's the backbone of other Python scientific packages like SciPy, Matplotlib, pandas, etc.\n",
        "3. The power of NumPy comes from its N-dimensional array object, or ndarray, which is a fast, flexible container for large datasets in Python.\n",
        "\n",
        "\n",
        "**Numpy provides:**\n",
        "\n",
        "1. extension package to Python for multi-dimensional arrays\n",
        "2. closer to hardware (efficiency)\n",
        "3. designed for scientific computation (convenience)\n",
        "4. Also known as array oriented computing\n",
        "\n"
      ],
      "metadata": {
        "id": "1UgzhYVAmusb"
      }
    },
    {
      "cell_type": "code",
      "execution_count": null,
      "metadata": {
        "id": "he6X9jBImnTd",
        "colab": {
          "base_uri": "https://localhost:8080/"
        },
        "outputId": "4ed74c14-2d69-4a55-8494-0d0384516479"
      },
      "outputs": [
        {
          "output_type": "stream",
          "name": "stdout",
          "text": [
            "Requirement already satisfied: numpy in /usr/local/lib/python3.10/dist-packages (1.25.2)\n"
          ]
        }
      ],
      "source": [
        "# Installing Numpy\n",
        "!pip install numpy"
      ]
    },
    {
      "cell_type": "markdown",
      "source": [
        "# Importing NumPy"
      ],
      "metadata": {
        "id": "8-LTwU0znFjU"
      }
    },
    {
      "cell_type": "code",
      "source": [
        "import numpy"
      ],
      "metadata": {
        "id": "dqDB5XcDYCSJ"
      },
      "execution_count": null,
      "outputs": []
    },
    {
      "cell_type": "code",
      "source": [
        "np.array([1,2,3])"
      ],
      "metadata": {
        "colab": {
          "base_uri": "https://localhost:8080/"
        },
        "id": "7xG8DaGUYFns",
        "outputId": "ba03be4a-85d2-429b-a315-62e6112799f6"
      },
      "execution_count": null,
      "outputs": [
        {
          "output_type": "execute_result",
          "data": {
            "text/plain": [
              "array([1, 2, 3])"
            ]
          },
          "metadata": {},
          "execution_count": 5
        }
      ]
    },
    {
      "cell_type": "code",
      "source": [
        "# Give alias name ( Recommended but not Mandatory )\n",
        "import numpy as np"
      ],
      "metadata": {
        "id": "ou4vDVvjnB8I"
      },
      "execution_count": null,
      "outputs": []
    },
    {
      "cell_type": "markdown",
      "source": [
        "# Creating Arrays"
      ],
      "metadata": {
        "id": "-ex7TNQunR4z"
      }
    },
    {
      "cell_type": "code",
      "source": [
        "# Create a 1D array\n",
        "arr_1d = np.array([1, 2, 3])\n",
        "print(\"1D Array:\", arr_1d)"
      ],
      "metadata": {
        "id": "z1Lv8ASgnS1f",
        "colab": {
          "base_uri": "https://localhost:8080/"
        },
        "outputId": "fbdb2ac2-b9ef-47ad-d464-3d6f9120f69b"
      },
      "execution_count": null,
      "outputs": [
        {
          "output_type": "stream",
          "name": "stdout",
          "text": [
            "1D Array: [1 2 3]\n"
          ]
        }
      ]
    },
    {
      "cell_type": "code",
      "source": [
        "list1 = [1, 2, 3]\n",
        "list1"
      ],
      "metadata": {
        "colab": {
          "base_uri": "https://localhost:8080/"
        },
        "id": "FVBCZznJSuOO",
        "outputId": "57dc1896-8c89-4f7e-dd10-2e3629187047"
      },
      "execution_count": null,
      "outputs": [
        {
          "output_type": "execute_result",
          "data": {
            "text/plain": [
              "[1, 2, 3]"
            ]
          },
          "metadata": {},
          "execution_count": 7
        }
      ]
    },
    {
      "cell_type": "code",
      "source": [
        "print(np.arange(10))"
      ],
      "metadata": {
        "id": "uaA423XynwwX",
        "colab": {
          "base_uri": "https://localhost:8080/"
        },
        "outputId": "e7a50f77-1cd7-4813-dd46-96fa30bb34d6"
      },
      "execution_count": null,
      "outputs": [
        {
          "output_type": "stream",
          "name": "stdout",
          "text": [
            "[0 1 2 3 4 5 6 7 8 9]\n"
          ]
        }
      ]
    },
    {
      "cell_type": "code",
      "source": [
        "# For Loop to square numbers.\n",
        "L = range(1000)\n",
        "# print(L)\n",
        "%timeit [i**2 for i in L]"
      ],
      "metadata": {
        "id": "jX38gzMRn6qF",
        "colab": {
          "base_uri": "https://localhost:8080/"
        },
        "outputId": "aab35ff4-76ea-4805-be28-24344b8e90d0"
      },
      "execution_count": null,
      "outputs": [
        {
          "output_type": "stream",
          "name": "stdout",
          "text": [
            "229 µs ± 2.59 µs per loop (mean ± std. dev. of 7 runs, 1000 loops each)\n"
          ]
        }
      ]
    },
    {
      "cell_type": "code",
      "source": [
        "# For Loop to square numbers using Numpy\n",
        "a = np.arange(1000)\n",
        "%timeit a**2"
      ],
      "metadata": {
        "id": "01jOgkPYoEFt",
        "colab": {
          "base_uri": "https://localhost:8080/"
        },
        "outputId": "b87fcdf2-e95d-4f01-98f5-a099abd8c5d4"
      },
      "execution_count": null,
      "outputs": [
        {
          "output_type": "stream",
          "name": "stdout",
          "text": [
            "947 ns ± 156 ns per loop (mean ± std. dev. of 7 runs, 1000000 loops each)\n"
          ]
        }
      ]
    },
    {
      "cell_type": "code",
      "source": [
        "# 2D Array\n",
        "# Create a 2D array\n",
        "arr_2d = np.array([[1, 2, 3], [4, 5, 6], [3,5,7]])\n",
        "print(\"2D Array:\", arr_2d)"
      ],
      "metadata": {
        "id": "59rPPlz8oTTq",
        "colab": {
          "base_uri": "https://localhost:8080/"
        },
        "outputId": "8ed6a871-bfd1-484f-ad3e-d67427579f34"
      },
      "execution_count": null,
      "outputs": [
        {
          "output_type": "stream",
          "name": "stdout",
          "text": [
            "2D Array: [[1 2 3]\n",
            " [4 5 6]\n",
            " [3 5 7]]\n"
          ]
        }
      ]
    },
    {
      "cell_type": "code",
      "source": [
        "# Attributes of arrays\n",
        "print(\"Shape:\", arr_2d.shape)"
      ],
      "metadata": {
        "id": "m4I9W_DzoYoT",
        "colab": {
          "base_uri": "https://localhost:8080/"
        },
        "outputId": "bdd08f40-2cbb-4702-85fd-e325ddde9cce"
      },
      "execution_count": null,
      "outputs": [
        {
          "output_type": "stream",
          "name": "stdout",
          "text": [
            "Shape: (2, 3)\n"
          ]
        }
      ]
    },
    {
      "cell_type": "code",
      "source": [
        "print(\"Size:\", arr_2d.size)"
      ],
      "metadata": {
        "id": "bYInPW7ooaPS",
        "colab": {
          "base_uri": "https://localhost:8080/"
        },
        "outputId": "92b5b3c8-c98f-4795-cf02-505647649d4e"
      },
      "execution_count": null,
      "outputs": [
        {
          "output_type": "stream",
          "name": "stdout",
          "text": [
            "Size: 6\n"
          ]
        }
      ]
    },
    {
      "cell_type": "code",
      "source": [
        "print(\"Data type:\", arr_2d.dtype)"
      ],
      "metadata": {
        "id": "WltQZAHRobPH",
        "colab": {
          "base_uri": "https://localhost:8080/"
        },
        "outputId": "aeb8ed54-10dd-43df-e46c-c84f4efc38dc"
      },
      "execution_count": null,
      "outputs": [
        {
          "output_type": "stream",
          "name": "stdout",
          "text": [
            "Data type: int64\n"
          ]
        }
      ]
    },
    {
      "cell_type": "code",
      "source": [
        "print(\"Number of dimensions:\", arr_2d.ndim)"
      ],
      "metadata": {
        "id": "oIRmSmCRocNZ",
        "colab": {
          "base_uri": "https://localhost:8080/"
        },
        "outputId": "6125264d-e128-442b-9a2a-31f72d215bb8"
      },
      "execution_count": null,
      "outputs": [
        {
          "output_type": "stream",
          "name": "stdout",
          "text": [
            "Number of dimensions: 2\n"
          ]
        }
      ]
    },
    {
      "cell_type": "code",
      "source": [
        "len(arr_2d)"
      ],
      "metadata": {
        "id": "eW3AFnmnoWJm",
        "colab": {
          "base_uri": "https://localhost:8080/"
        },
        "outputId": "78e3f21c-3567-4fec-c835-7553984d7589"
      },
      "execution_count": null,
      "outputs": [
        {
          "output_type": "execute_result",
          "data": {
            "text/plain": [
              "3"
            ]
          },
          "metadata": {},
          "execution_count": 19
        }
      ]
    },
    {
      "cell_type": "code",
      "source": [
        "# Create a 1D array\n",
        "arr_1d = np.array([1, 2, 3])\n",
        "len(arr_1d)"
      ],
      "metadata": {
        "colab": {
          "base_uri": "https://localhost:8080/"
        },
        "id": "j9CtFlpBSIZI",
        "outputId": "ec93e87c-279a-4546-ead1-dc123f7aa744"
      },
      "execution_count": null,
      "outputs": [
        {
          "output_type": "execute_result",
          "data": {
            "text/plain": [
              "3"
            ]
          },
          "metadata": {},
          "execution_count": 17
        }
      ]
    },
    {
      "cell_type": "code",
      "source": [
        "c = np.array([[[0, 1, 3], [2, 3, 5]], [[4, 5, 6], [6, 7, 8]]])\n",
        "\n",
        "c"
      ],
      "metadata": {
        "id": "clPDMzcRoo6C",
        "colab": {
          "base_uri": "https://localhost:8080/"
        },
        "outputId": "6fa3e3af-3e03-4e91-de61-44b47473697a"
      },
      "execution_count": null,
      "outputs": [
        {
          "output_type": "execute_result",
          "data": {
            "text/plain": [
              "array([[[0, 1, 3],\n",
              "        [2, 3, 5]],\n",
              "\n",
              "       [[4, 5, 6],\n",
              "        [6, 7, 8]]])"
            ]
          },
          "metadata": {},
          "execution_count": 23
        }
      ]
    },
    {
      "cell_type": "code",
      "source": [
        "c.ndim"
      ],
      "metadata": {
        "id": "iRWEBeRfopb8",
        "colab": {
          "base_uri": "https://localhost:8080/"
        },
        "outputId": "859a75cd-9381-413e-869f-df27c2308580"
      },
      "execution_count": null,
      "outputs": [
        {
          "output_type": "execute_result",
          "data": {
            "text/plain": [
              "3"
            ]
          },
          "metadata": {},
          "execution_count": 21
        }
      ]
    },
    {
      "cell_type": "code",
      "source": [
        "c.shape"
      ],
      "metadata": {
        "id": "QqLQ0M_voqtx",
        "colab": {
          "base_uri": "https://localhost:8080/"
        },
        "outputId": "727c5a99-2d18-4d86-ebee-063c5c6696a4"
      },
      "execution_count": null,
      "outputs": [
        {
          "output_type": "execute_result",
          "data": {
            "text/plain": [
              "(2, 2, 3)"
            ]
          },
          "metadata": {},
          "execution_count": 24
        }
      ]
    },
    {
      "cell_type": "code",
      "source": [
        "len(c)"
      ],
      "metadata": {
        "colab": {
          "base_uri": "https://localhost:8080/"
        },
        "id": "dtwUuQkaSPL9",
        "outputId": "9fc23a1e-cfea-49fc-c22f-29fd8e640820"
      },
      "execution_count": null,
      "outputs": [
        {
          "output_type": "execute_result",
          "data": {
            "text/plain": [
              "2"
            ]
          },
          "metadata": {},
          "execution_count": 25
        }
      ]
    },
    {
      "cell_type": "code",
      "source": [
        "c.size"
      ],
      "metadata": {
        "colab": {
          "base_uri": "https://localhost:8080/"
        },
        "id": "z5T6NWIoSQnq",
        "outputId": "2f157120-04fe-4fb8-f7ca-24cef3ffcf93"
      },
      "execution_count": null,
      "outputs": [
        {
          "output_type": "execute_result",
          "data": {
            "text/plain": [
              "12"
            ]
          },
          "metadata": {},
          "execution_count": 26
        }
      ]
    },
    {
      "cell_type": "markdown",
      "source": [
        "# Functions for Creating Arrays"
      ],
      "metadata": {
        "id": "_xj3cW0LouiF"
      }
    },
    {
      "cell_type": "code",
      "source": [
        "a = np.arange(10) # 0.... n-1\n",
        "a"
      ],
      "metadata": {
        "id": "Me2v4Wd5oxGL",
        "colab": {
          "base_uri": "https://localhost:8080/"
        },
        "outputId": "48364a21-0fe4-46c3-cf1c-426d20657c5d"
      },
      "execution_count": null,
      "outputs": [
        {
          "output_type": "execute_result",
          "data": {
            "text/plain": [
              "array([0, 1, 2, 3, 4, 5, 6, 7, 8, 9])"
            ]
          },
          "metadata": {},
          "execution_count": 27
        }
      ]
    },
    {
      "cell_type": "code",
      "source": [
        "b = np.arange(1,20,5) # Start, end ( exclusve ), Step\n",
        "b"
      ],
      "metadata": {
        "id": "TlspE0elo9E9",
        "colab": {
          "base_uri": "https://localhost:8080/"
        },
        "outputId": "66ba6a81-6cd4-4fba-c4c0-2c5674d22e08"
      },
      "execution_count": null,
      "outputs": [
        {
          "output_type": "execute_result",
          "data": {
            "text/plain": [
              "array([ 1,  6, 11, 16])"
            ]
          },
          "metadata": {},
          "execution_count": 28
        }
      ]
    },
    {
      "cell_type": "code",
      "source": [
        "c = np.linspace(0,1,6) # Start, End, Number of Points\n",
        "c"
      ],
      "metadata": {
        "id": "Lp1Bo47qpFIg",
        "colab": {
          "base_uri": "https://localhost:8080/"
        },
        "outputId": "c8eed52a-86b2-4bcf-a0cc-eac00ae72da2"
      },
      "execution_count": null,
      "outputs": [
        {
          "output_type": "execute_result",
          "data": {
            "text/plain": [
              "array([0. , 0.2, 0.4, 0.6, 0.8, 1. ])"
            ]
          },
          "metadata": {},
          "execution_count": 30
        }
      ]
    },
    {
      "cell_type": "code",
      "source": [
        "c = np.linspace(0,10,5) # Start, End, Number of Points\n",
        "c"
      ],
      "metadata": {
        "colab": {
          "base_uri": "https://localhost:8080/"
        },
        "id": "vkhV1pi1SZt7",
        "outputId": "8b297091-f2d1-41c8-b39e-abb5ff70f219"
      },
      "execution_count": null,
      "outputs": [
        {
          "output_type": "execute_result",
          "data": {
            "text/plain": [
              "array([ 0. ,  2.5,  5. ,  7.5, 10. ])"
            ]
          },
          "metadata": {},
          "execution_count": 31
        }
      ]
    },
    {
      "cell_type": "code",
      "source": [
        "ones_array = np.ones((3,9))\n",
        "ones_array"
      ],
      "metadata": {
        "id": "jTDpB_URpRBB",
        "colab": {
          "base_uri": "https://localhost:8080/"
        },
        "outputId": "042c1f50-3808-4286-9304-d1514e1721c5"
      },
      "execution_count": null,
      "outputs": [
        {
          "output_type": "execute_result",
          "data": {
            "text/plain": [
              "array([[1., 1., 1., 1., 1., 1., 1., 1., 1.],\n",
              "       [1., 1., 1., 1., 1., 1., 1., 1., 1.],\n",
              "       [1., 1., 1., 1., 1., 1., 1., 1., 1.]])"
            ]
          },
          "metadata": {},
          "execution_count": 34
        }
      ]
    },
    {
      "cell_type": "code",
      "source": [
        "zeros_array = np.zeros((3,3))\n",
        "zeros_array"
      ],
      "metadata": {
        "id": "-lEx03IUpXEj",
        "colab": {
          "base_uri": "https://localhost:8080/"
        },
        "outputId": "65af8cad-d311-4bc1-a723-cad565362994"
      },
      "execution_count": null,
      "outputs": [
        {
          "output_type": "execute_result",
          "data": {
            "text/plain": [
              "array([[0., 0., 0.],\n",
              "       [0., 0., 0.],\n",
              "       [0., 0., 0.]])"
            ]
          },
          "metadata": {},
          "execution_count": 33
        }
      ]
    },
    {
      "cell_type": "code",
      "source": [
        "c = np.eye(3) # Returns a 2D array with ones on diagonal and zeros elsewhere\n",
        "c"
      ],
      "metadata": {
        "id": "enOcvglbpZS3",
        "colab": {
          "base_uri": "https://localhost:8080/"
        },
        "outputId": "f07c264f-3c28-405a-bde6-0925cb3a1b6c"
      },
      "execution_count": null,
      "outputs": [
        {
          "output_type": "execute_result",
          "data": {
            "text/plain": [
              "array([[1., 0., 0.],\n",
              "       [0., 1., 0.],\n",
              "       [0., 0., 1.]])"
            ]
          },
          "metadata": {},
          "execution_count": 36
        }
      ]
    },
    {
      "cell_type": "code",
      "source": [
        "d = np.eye(3, 2) # 3 is number of rows, 2 is number of columns, index of diagonal start with 0\n",
        "d"
      ],
      "metadata": {
        "id": "-4K4u2D6poSS",
        "colab": {
          "base_uri": "https://localhost:8080/"
        },
        "outputId": "1950eab0-4771-43e5-db1c-9198c7ed2b79"
      },
      "execution_count": null,
      "outputs": [
        {
          "output_type": "execute_result",
          "data": {
            "text/plain": [
              "array([[1., 0.],\n",
              "       [0., 1.],\n",
              "       [0., 0.]])"
            ]
          },
          "metadata": {},
          "execution_count": 37
        }
      ]
    },
    {
      "cell_type": "code",
      "source": [
        "#create array using diag function\n",
        "diagonal = np.diag([1, 2, 3, ]) #construct a diagonal array.\n",
        "diagonal"
      ],
      "metadata": {
        "id": "Bo2a0SKRpsaA",
        "colab": {
          "base_uri": "https://localhost:8080/"
        },
        "outputId": "1d1f8d35-8c1f-49c3-a44a-3026256f4ede"
      },
      "execution_count": null,
      "outputs": [
        {
          "output_type": "execute_result",
          "data": {
            "text/plain": [
              "array([[1, 0, 0],\n",
              "       [0, 2, 0],\n",
              "       [0, 0, 3]])"
            ]
          },
          "metadata": {},
          "execution_count": 39
        }
      ]
    },
    {
      "cell_type": "code",
      "source": [
        "np.diag(diagonal) # Extract diagonal"
      ],
      "metadata": {
        "id": "De-Zs-1lpwTx",
        "colab": {
          "base_uri": "https://localhost:8080/"
        },
        "outputId": "beb405ab-9708-4e0b-9455-ce1a8df416bf"
      },
      "execution_count": null,
      "outputs": [
        {
          "output_type": "execute_result",
          "data": {
            "text/plain": [
              "array([1, 2, 3])"
            ]
          },
          "metadata": {},
          "execution_count": 40
        }
      ]
    },
    {
      "cell_type": "code",
      "source": [
        "# Create an array with a specific value\n",
        "full = np.full((2, 3), 7)\n",
        "print(\"Full of 7s:\\n\", full)"
      ],
      "metadata": {
        "id": "3OtVj7GZp8pZ",
        "colab": {
          "base_uri": "https://localhost:8080/"
        },
        "outputId": "84f4354b-8472-486b-b179-a035bb3f6cc1"
      },
      "execution_count": null,
      "outputs": [
        {
          "output_type": "stream",
          "name": "stdout",
          "text": [
            "Full of 7s:\n",
            " [[7 7 7]\n",
            " [7 7 7]]\n"
          ]
        }
      ]
    },
    {
      "cell_type": "code",
      "source": [
        "#create array using random\n",
        "\n",
        "#Create an array of the given shape and populate it with random samples from a uniform distribution over [0, 1).\n",
        "random_array = np.random.rand(4)\n",
        "random_array"
      ],
      "metadata": {
        "id": "up3BUzoaqN2T",
        "colab": {
          "base_uri": "https://localhost:8080/"
        },
        "outputId": "36276898-2cc0-46ea-f8c3-52d82d2f2792"
      },
      "execution_count": null,
      "outputs": [
        {
          "output_type": "execute_result",
          "data": {
            "text/plain": [
              "array([0.62623089, 0.74743315, 0.86999152, 0.60279205])"
            ]
          },
          "metadata": {},
          "execution_count": 42
        }
      ]
    },
    {
      "cell_type": "markdown",
      "source": [
        "# Data Types"
      ],
      "metadata": {
        "id": "YdW8EbBSOFVf"
      }
    },
    {
      "cell_type": "code",
      "source": [
        "a = np.arange(10)\n",
        "\n",
        "a.dtype"
      ],
      "metadata": {
        "id": "2DTSEtIoqQ4e",
        "colab": {
          "base_uri": "https://localhost:8080/"
        },
        "outputId": "ccf87f98-afe1-4058-bf0a-a9e30e5e7736"
      },
      "execution_count": null,
      "outputs": [
        {
          "output_type": "execute_result",
          "data": {
            "text/plain": [
              "dtype('int64')"
            ]
          },
          "metadata": {},
          "execution_count": 43
        }
      ]
    },
    {
      "cell_type": "code",
      "source": [
        "#You can explicitly specify which data-type you want:\n",
        "\n",
        "a = np.arange(10, dtype='float64')\n",
        "a"
      ],
      "metadata": {
        "colab": {
          "base_uri": "https://localhost:8080/"
        },
        "id": "v8DAx77gOJY7",
        "outputId": "6e691227-36cb-45c4-d634-c0ef03ca8cf8"
      },
      "execution_count": null,
      "outputs": [
        {
          "output_type": "execute_result",
          "data": {
            "text/plain": [
              "array([0., 1., 2., 3., 4., 5., 6., 7., 8., 9.])"
            ]
          },
          "metadata": {},
          "execution_count": 44
        }
      ]
    },
    {
      "cell_type": "code",
      "source": [
        "#The default data type is float for zeros and ones function\n",
        "\n",
        "a = np.zeros((3, 3))\n",
        "b = np.ones((3,3))\n",
        "\n",
        "print(a)\n",
        "print(\" *************** \")\n",
        "print(b)\n",
        "\n",
        "print(\" *************** \")\n",
        "print(\"Data Type of a is : \", a.dtype)\n",
        "print(\"Data Type of b is : \", b.dtype)"
      ],
      "metadata": {
        "colab": {
          "base_uri": "https://localhost:8080/"
        },
        "id": "TxhCkk8ZONxa",
        "outputId": "db1bfbfb-0aba-4a27-c80a-af108cbae866"
      },
      "execution_count": null,
      "outputs": [
        {
          "output_type": "stream",
          "name": "stdout",
          "text": [
            "[[0. 0. 0.]\n",
            " [0. 0. 0.]\n",
            " [0. 0. 0.]]\n",
            " *************** \n",
            "[[1. 1. 1.]\n",
            " [1. 1. 1.]\n",
            " [1. 1. 1.]]\n",
            " *************** \n",
            "Data Type of a is :  float64\n",
            "Data Type of b is :  float64\n"
          ]
        }
      ]
    },
    {
      "cell_type": "code",
      "source": [
        "b = np.array([True, False, True, False])  #Boolean datatype\n",
        "\n",
        "print(b.dtype)"
      ],
      "metadata": {
        "colab": {
          "base_uri": "https://localhost:8080/"
        },
        "id": "RXqMKJPhOPGa",
        "outputId": "6c9b35bd-e253-4965-9866-a5e2f66cf581"
      },
      "execution_count": null,
      "outputs": [
        {
          "output_type": "stream",
          "name": "stdout",
          "text": [
            "bool\n"
          ]
        }
      ]
    },
    {
      "cell_type": "code",
      "source": [
        "s = np.array(['Ram', 'Robert', 'Rahim'])\n",
        "\n",
        "s.dtype"
      ],
      "metadata": {
        "colab": {
          "base_uri": "https://localhost:8080/"
        },
        "id": "uQ88My_qOfR-",
        "outputId": "4c9b2b3e-a715-44ac-9690-b5cc9a5aeb74"
      },
      "execution_count": null,
      "outputs": [
        {
          "output_type": "execute_result",
          "data": {
            "text/plain": [
              "dtype('<U6')"
            ]
          },
          "metadata": {},
          "execution_count": 49
        }
      ]
    },
    {
      "cell_type": "markdown",
      "source": [
        "**Each built-in data type has a character code that uniquely identifies it.**\n",
        "\n",
        "'b' − boolean\n",
        "\n",
        "'i' − (signed) integer\n",
        "\n",
        "'u' − unsigned integer\n",
        "\n",
        "'f' − floating-point\n",
        "\n",
        "'c' − complex-floating point\n",
        "\n",
        "'m' − timedelta\n",
        "\n",
        "'M' − datetime\n",
        "\n",
        "'O' − (Python) objects\n",
        "\n",
        "'S', 'a' − (byte-)string\n",
        "\n",
        "'U' − Unicode\n",
        "\n",
        "'V' − raw data (void)"
      ],
      "metadata": {
        "id": "nVyUycaKOhQv"
      }
    },
    {
      "cell_type": "code",
      "source": [
        "# Creating an array with mixed types\n",
        "obj_array = np.array([1, \"a\", True, np.array([1, 2, 3])], dtype = 'O')\n",
        "print(\"Object array:\", obj_array)\n",
        "print(obj_array.dtype)"
      ],
      "metadata": {
        "colab": {
          "base_uri": "https://localhost:8080/"
        },
        "id": "xCwupPRjOh66",
        "outputId": "1476bcc6-bfce-41d5-dd38-b83930cf9200"
      },
      "execution_count": null,
      "outputs": [
        {
          "output_type": "stream",
          "name": "stdout",
          "text": [
            "Object array: [1 'a' True array([1, 2, 3])]\n",
            "object\n"
          ]
        }
      ]
    },
    {
      "cell_type": "markdown",
      "source": [
        "obj_array is a NumPy array with a data type of 'O', meaning it can hold different types of Python objects. Each element can be accessed just like in any other NumPy array, but operations on the array will be limited by the fact that it contains mixed types, and many of NumPy's optimizations for numerical computations won't apply."
      ],
      "metadata": {
        "id": "NNT78fVJPI-m"
      }
    },
    {
      "cell_type": "markdown",
      "source": [
        "# Indexing and Slicing\n"
      ],
      "metadata": {
        "id": "WcGPQSm3PJ2R"
      }
    },
    {
      "cell_type": "code",
      "source": [
        "a = np.arange(0,10, 2)\n",
        "print(a)\n",
        "print(a[3])  #indices begin at 0, like other Python sequences (and C/C++)"
      ],
      "metadata": {
        "colab": {
          "base_uri": "https://localhost:8080/"
        },
        "id": "KVGpJQ11PLa8",
        "outputId": "30a56669-5df4-4dac-ef4a-954a23d5dad9"
      },
      "execution_count": null,
      "outputs": [
        {
          "output_type": "stream",
          "name": "stdout",
          "text": [
            "[0 2 4 6 8]\n",
            "6\n"
          ]
        }
      ]
    },
    {
      "cell_type": "code",
      "source": [
        "# For multidimensional arrays, indexes are tuples of integers:\n",
        "\n",
        "a = np.diag([1, 2, 3])\n",
        "\n",
        "print(a)\n",
        "\n",
        "print(\"******************\")\n",
        "\n",
        "print(a[1, 4])"
      ],
      "metadata": {
        "colab": {
          "base_uri": "https://localhost:8080/",
          "height": 245
        },
        "id": "f3eTi7MePTpX",
        "outputId": "debb1fc1-e358-4e3d-ef6e-1ce84e9cbd1f"
      },
      "execution_count": null,
      "outputs": [
        {
          "output_type": "stream",
          "name": "stdout",
          "text": [
            "[[1 0 0]\n",
            " [0 2 0]\n",
            " [0 0 3]]\n",
            "******************\n"
          ]
        },
        {
          "output_type": "error",
          "ename": "IndexError",
          "evalue": "index 4 is out of bounds for axis 1 with size 3",
          "traceback": [
            "\u001b[0;31m---------------------------------------------------------------------------\u001b[0m",
            "\u001b[0;31mIndexError\u001b[0m                                Traceback (most recent call last)",
            "\u001b[0;32m<ipython-input-62-9ad87c620592>\u001b[0m in \u001b[0;36m<cell line: 9>\u001b[0;34m()\u001b[0m\n\u001b[1;32m      7\u001b[0m \u001b[0mprint\u001b[0m\u001b[0;34m(\u001b[0m\u001b[0;34m\"******************\"\u001b[0m\u001b[0;34m)\u001b[0m\u001b[0;34m\u001b[0m\u001b[0;34m\u001b[0m\u001b[0m\n\u001b[1;32m      8\u001b[0m \u001b[0;34m\u001b[0m\u001b[0m\n\u001b[0;32m----> 9\u001b[0;31m \u001b[0mprint\u001b[0m\u001b[0;34m(\u001b[0m\u001b[0ma\u001b[0m\u001b[0;34m[\u001b[0m\u001b[0;36m1\u001b[0m\u001b[0;34m,\u001b[0m \u001b[0;36m4\u001b[0m\u001b[0;34m]\u001b[0m\u001b[0;34m)\u001b[0m\u001b[0;34m\u001b[0m\u001b[0;34m\u001b[0m\u001b[0m\n\u001b[0m",
            "\u001b[0;31mIndexError\u001b[0m: index 4 is out of bounds for axis 1 with size 3"
          ]
        }
      ]
    },
    {
      "cell_type": "code",
      "source": [
        "print(a)"
      ],
      "metadata": {
        "colab": {
          "base_uri": "https://localhost:8080/"
        },
        "id": "7DtZZaDEdrcS",
        "outputId": "f62af838-5d68-4d9e-8e4c-dbfa4d798bfa"
      },
      "execution_count": null,
      "outputs": [
        {
          "output_type": "stream",
          "name": "stdout",
          "text": [
            "[[1 0 0]\n",
            " [0 2 0]\n",
            " [0 0 3]]\n"
          ]
        }
      ]
    },
    {
      "cell_type": "code",
      "source": [
        "#assigning value\n",
        "a[2, 1] = 50\n",
        "\n",
        "a"
      ],
      "metadata": {
        "colab": {
          "base_uri": "https://localhost:8080/"
        },
        "id": "oIIuuTc4PY0a",
        "outputId": "cf8bb99f-0d87-4d44-8376-0419b1641c7e"
      },
      "execution_count": null,
      "outputs": [
        {
          "output_type": "execute_result",
          "data": {
            "text/plain": [
              "array([[ 1,  0,  0],\n",
              "       [ 0,  2,  0],\n",
              "       [ 0, 50,  3]])"
            ]
          },
          "metadata": {},
          "execution_count": 64
        }
      ]
    },
    {
      "cell_type": "code",
      "source": [
        "a = np.arange(20)\n",
        "\n",
        "a"
      ],
      "metadata": {
        "colab": {
          "base_uri": "https://localhost:8080/"
        },
        "id": "aN8zVJJnPbUG",
        "outputId": "7c9df602-445f-4118-c5e6-f773be90f777"
      },
      "execution_count": null,
      "outputs": [
        {
          "output_type": "execute_result",
          "data": {
            "text/plain": [
              "array([ 0,  1,  2,  3,  4,  5,  6,  7,  8,  9, 10, 11, 12, 13, 14, 15, 16,\n",
              "       17, 18, 19])"
            ]
          },
          "metadata": {},
          "execution_count": 65
        }
      ]
    },
    {
      "cell_type": "code",
      "source": [
        "a[1:10:2] # [startindex: endindex(exclusive) : step]"
      ],
      "metadata": {
        "colab": {
          "base_uri": "https://localhost:8080/"
        },
        "id": "66EGjqucPga5",
        "outputId": "a577cae3-fdd4-43a5-cfc9-f8fda6cb630b"
      },
      "execution_count": null,
      "outputs": [
        {
          "output_type": "execute_result",
          "data": {
            "text/plain": [
              "array([1, 3, 5, 7, 9])"
            ]
          },
          "metadata": {},
          "execution_count": 66
        }
      ]
    },
    {
      "cell_type": "code",
      "source": [
        "#we can also combine assignment and slicing:\n",
        "\n",
        "a = np.arange(10)\n",
        "print(a)\n",
        "a[5:] = 10\n",
        "\n",
        "print(\"******* After ********\")\n",
        "print(a)"
      ],
      "metadata": {
        "colab": {
          "base_uri": "https://localhost:8080/"
        },
        "id": "mphD9iSnPkSH",
        "outputId": "b13cd0a4-bc52-4987-ab6f-2727dee87ec4"
      },
      "execution_count": null,
      "outputs": [
        {
          "output_type": "stream",
          "name": "stdout",
          "text": [
            "[0 1 2 3 4 5 6 7 8 9]\n",
            "******* After ********\n",
            "[ 0  1  2  3  4 10 10 10 10 10]\n"
          ]
        }
      ]
    },
    {
      "cell_type": "code",
      "source": [
        "b = np.arange(5)\n",
        "b[::-1]"
      ],
      "metadata": {
        "colab": {
          "base_uri": "https://localhost:8080/"
        },
        "id": "hmwoWpySd-R3",
        "outputId": "36b0e8e7-9b42-4167-86de-f6657d72f63c"
      },
      "execution_count": null,
      "outputs": [
        {
          "output_type": "execute_result",
          "data": {
            "text/plain": [
              "array([4, 3, 2, 1, 0])"
            ]
          },
          "metadata": {},
          "execution_count": 69
        }
      ]
    },
    {
      "cell_type": "code",
      "source": [
        "b = np.arange(5)\n",
        "a[5:] = b[::-1]  #assigning\n",
        "a"
      ],
      "metadata": {
        "colab": {
          "base_uri": "https://localhost:8080/"
        },
        "id": "xV_MVw2UPslM",
        "outputId": "df5a6253-066d-48da-c704-b5b4d5c92a12"
      },
      "execution_count": null,
      "outputs": [
        {
          "output_type": "execute_result",
          "data": {
            "text/plain": [
              "array([0, 1, 2, 3, 4, 4, 3, 2, 1, 0])"
            ]
          },
          "metadata": {},
          "execution_count": 68
        }
      ]
    },
    {
      "cell_type": "code",
      "source": [
        "\n",
        "# Create a 3D array\n",
        "# Shape is (2, 3, 4) -> 2 blocks, 3 rows, 4 columns\n",
        "array_3d = np.array([[[ 0,  1,  2,  3],\n",
        "                      [ 4,  5,  6,  7],\n",
        "                      [ 8,  9, 10, 11]],\n",
        "\n",
        "                     [[12, 13, 14, 15],\n",
        "                      [16, 17, 18, 19],\n",
        "                      [20, 21, 22, 23]]])\n",
        "\n",
        "print(\"Original 3D Array:\\n\", array_3d)"
      ],
      "metadata": {
        "colab": {
          "base_uri": "https://localhost:8080/"
        },
        "id": "lr72Iv6sTY7P",
        "outputId": "3d867e1b-45ab-47aa-cf96-52cdc923d9be"
      },
      "execution_count": null,
      "outputs": [
        {
          "output_type": "stream",
          "name": "stdout",
          "text": [
            "Original 3D Array:\n",
            " [[[ 0  1  2  3]\n",
            "  [ 4  5  6  7]\n",
            "  [ 8  9 10 11]]\n",
            "\n",
            " [[12 13 14 15]\n",
            "  [16 17 18 19]\n",
            "  [20 21 22 23]]]\n"
          ]
        }
      ]
    },
    {
      "cell_type": "code",
      "source": [
        "# Let's access the element 18, which is in the second block (index 1),\n",
        "# second row (index 1) of that block, and third column (index 2) in that row.\n",
        "element = array_3d[1, 1, 2]\n",
        "print(\"Accessed Element:\", element)"
      ],
      "metadata": {
        "colab": {
          "base_uri": "https://localhost:8080/"
        },
        "id": "ki_Q0DX4TZYG",
        "outputId": "32808fd5-9723-4404-ab31-6a99e1f2c475"
      },
      "execution_count": null,
      "outputs": [
        {
          "output_type": "stream",
          "name": "stdout",
          "text": [
            "Accessed Element: 18\n"
          ]
        }
      ]
    },
    {
      "cell_type": "code",
      "source": [
        "# Slicing a sub-array\n",
        "# Let's extract a 2D array from the first block\n",
        "sub_array_2d = array_3d[0, :, :]\n",
        "print(\"Extracted 2D Array from first block:\\n\", sub_array_2d)"
      ],
      "metadata": {
        "colab": {
          "base_uri": "https://localhost:8080/"
        },
        "id": "WEzTOdjhTlWh",
        "outputId": "6e4907e9-4410-4dbe-ab49-8893bf0767b2"
      },
      "execution_count": null,
      "outputs": [
        {
          "output_type": "stream",
          "name": "stdout",
          "text": [
            "Extracted 2D Array from first block:\n",
            " [[ 0  1  2  3]\n",
            " [ 4  5  6  7]\n",
            " [ 8  9 10 11]]\n"
          ]
        }
      ]
    },
    {
      "cell_type": "code",
      "source": [
        "# Slicing to get specific rows across all blocks\n",
        "# Here, we get the second row (index 1) from both blocks\n",
        "rows_across_blocks = array_3d[:, 1, :]\n",
        "print(\"Second row across all blocks:\\n\", rows_across_blocks)"
      ],
      "metadata": {
        "colab": {
          "base_uri": "https://localhost:8080/"
        },
        "id": "mvq76-NTTpj6",
        "outputId": "91b8a047-9893-4d63-dbf2-26955d96ba3d"
      },
      "execution_count": null,
      "outputs": [
        {
          "output_type": "stream",
          "name": "stdout",
          "text": [
            "Second row across all blocks:\n",
            " [[ 4  5  6  7]\n",
            " [16 17 18 19]]\n"
          ]
        }
      ]
    },
    {
      "cell_type": "code",
      "source": [
        "# Slicing to get a column across all blocks and rows\n",
        "# Let's get the third column (index 2) across all blocks and rows\n",
        "column_across_blocks = array_3d[:, :, 2]\n",
        "print(\"Third column across all blocks and rows:\\n\", column_across_blocks)\n"
      ],
      "metadata": {
        "colab": {
          "base_uri": "https://localhost:8080/"
        },
        "id": "lS83mfMETu62",
        "outputId": "78c3b118-0209-4b3c-c550-6cb8add7ca6b"
      },
      "execution_count": null,
      "outputs": [
        {
          "output_type": "stream",
          "name": "stdout",
          "text": [
            "Third column across all blocks and rows:\n",
            " [[ 2  6 10]\n",
            " [14 18 22]]\n"
          ]
        }
      ]
    },
    {
      "cell_type": "markdown",
      "source": [
        "# Copies and Views"
      ],
      "metadata": {
        "id": "LdhD-fSvPxbG"
      }
    },
    {
      "cell_type": "markdown",
      "source": [
        "A slicing operation creates a view on the original array, which is just a way of accessing array data. Thus the original array is not copied in memory. You can use **np.may_share_memory()** to check if two arrays share the same memory block."
      ],
      "metadata": {
        "id": "okw8UqMpQLDc"
      }
    },
    {
      "cell_type": "code",
      "source": [
        "a = np.arange(10)\n",
        "a"
      ],
      "metadata": {
        "colab": {
          "base_uri": "https://localhost:8080/"
        },
        "id": "8RUVLtUYPwJb",
        "outputId": "802d657b-4d57-4136-b72e-cf14549884a9"
      },
      "execution_count": null,
      "outputs": [
        {
          "output_type": "execute_result",
          "data": {
            "text/plain": [
              "array([0, 1, 2, 3, 4, 5, 6, 7, 8, 9])"
            ]
          },
          "metadata": {},
          "execution_count": 75
        }
      ]
    },
    {
      "cell_type": "code",
      "source": [
        "b = a[::2]\n",
        "b"
      ],
      "metadata": {
        "colab": {
          "base_uri": "https://localhost:8080/"
        },
        "id": "zTKqeVTnQOLF",
        "outputId": "e1887947-acff-465b-e0a6-15cfb2fe353e"
      },
      "execution_count": null,
      "outputs": [
        {
          "output_type": "execute_result",
          "data": {
            "text/plain": [
              "array([0, 2, 4, 6, 8])"
            ]
          },
          "metadata": {},
          "execution_count": 76
        }
      ]
    },
    {
      "cell_type": "code",
      "source": [
        "np.shares_memory(a, b)"
      ],
      "metadata": {
        "colab": {
          "base_uri": "https://localhost:8080/"
        },
        "id": "rCXdxXCPQP2-",
        "outputId": "8bdd262c-9059-4ef2-a528-e7fb8f35b1ae"
      },
      "execution_count": null,
      "outputs": [
        {
          "output_type": "execute_result",
          "data": {
            "text/plain": [
              "True"
            ]
          },
          "metadata": {},
          "execution_count": 77
        }
      ]
    },
    {
      "cell_type": "code",
      "source": [
        "b[0] = 10\n",
        "b"
      ],
      "metadata": {
        "colab": {
          "base_uri": "https://localhost:8080/"
        },
        "id": "7Vq98gwZQRcg",
        "outputId": "3fed0236-f519-4fba-b7b0-13fccd67c6f7"
      },
      "execution_count": null,
      "outputs": [
        {
          "output_type": "execute_result",
          "data": {
            "text/plain": [
              "array([10,  2,  4,  6,  8])"
            ]
          },
          "metadata": {},
          "execution_count": 78
        }
      ]
    },
    {
      "cell_type": "code",
      "source": [
        "a  #eventhough we modified b,  it updated 'a' because both shares same memory"
      ],
      "metadata": {
        "colab": {
          "base_uri": "https://localhost:8080/"
        },
        "id": "xDxzWfoYQUK-",
        "outputId": "bc5903ad-1ebf-4fd7-d833-50868ce9ea76"
      },
      "execution_count": null,
      "outputs": [
        {
          "output_type": "execute_result",
          "data": {
            "text/plain": [
              "array([10,  1,  2,  3,  4,  5,  6,  7,  8,  9])"
            ]
          },
          "metadata": {},
          "execution_count": 79
        }
      ]
    },
    {
      "cell_type": "code",
      "source": [
        "a = np.arange(10)\n",
        "\n",
        "c = a[::2].copy()     #force a copy\n",
        "c"
      ],
      "metadata": {
        "colab": {
          "base_uri": "https://localhost:8080/"
        },
        "id": "y-rT8q-sQV9F",
        "outputId": "e3787b3c-a5a3-4b96-dfd9-34c0ebf2c9ca"
      },
      "execution_count": null,
      "outputs": [
        {
          "output_type": "execute_result",
          "data": {
            "text/plain": [
              "array([0, 2, 4, 6, 8])"
            ]
          },
          "metadata": {},
          "execution_count": 80
        }
      ]
    },
    {
      "cell_type": "code",
      "source": [
        "np.shares_memory(a, c)"
      ],
      "metadata": {
        "colab": {
          "base_uri": "https://localhost:8080/"
        },
        "id": "nsVSRk7iQXK7",
        "outputId": "e202411d-07d7-4334-a2c5-ab151144b525"
      },
      "execution_count": null,
      "outputs": [
        {
          "output_type": "execute_result",
          "data": {
            "text/plain": [
              "False"
            ]
          },
          "metadata": {},
          "execution_count": 81
        }
      ]
    },
    {
      "cell_type": "code",
      "source": [
        "c[0] = 10\n",
        "\n",
        "a"
      ],
      "metadata": {
        "colab": {
          "base_uri": "https://localhost:8080/"
        },
        "id": "XZE7q_hkQYrT",
        "outputId": "6fefa199-de25-4267-fb39-02322983290d"
      },
      "execution_count": null,
      "outputs": [
        {
          "output_type": "execute_result",
          "data": {
            "text/plain": [
              "array([0, 1, 2, 3, 4, 5, 6, 7, 8, 9])"
            ]
          },
          "metadata": {},
          "execution_count": 82
        }
      ]
    }
  ]
}