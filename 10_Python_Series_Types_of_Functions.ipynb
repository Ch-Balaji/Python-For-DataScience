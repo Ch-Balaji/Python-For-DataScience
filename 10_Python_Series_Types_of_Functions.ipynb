{
  "nbformat": 4,
  "nbformat_minor": 0,
  "metadata": {
    "colab": {
      "provenance": []
    },
    "kernelspec": {
      "name": "python3",
      "display_name": "Python 3"
    },
    "language_info": {
      "name": "python"
    }
  },
  "cells": [
    {
      "cell_type": "markdown",
      "source": [
        "# Built-in Functions"
      ],
      "metadata": {
        "id": "hLLB312LcCvs"
      }
    },
    {
      "cell_type": "markdown",
      "source": [
        "# len()"
      ],
      "metadata": {
        "id": "l2A6nReZcVD3"
      }
    },
    {
      "cell_type": "code",
      "execution_count": null,
      "metadata": {
        "id": "6qr1HIw-Zyov",
        "colab": {
          "base_uri": "https://localhost:8080/"
        },
        "outputId": "606d3592-b6ed-49f2-fccb-d2d4b01431fb"
      },
      "outputs": [
        {
          "output_type": "stream",
          "name": "stdout",
          "text": [
            "4\n"
          ]
        }
      ],
      "source": [
        "my_list = [1, 2, 3, 4]\n",
        "print(len(my_list))  # Outputs: 4"
      ]
    },
    {
      "cell_type": "code",
      "source": [
        "my_list = (1, 2, 3, 4, 5)\n",
        "print(len(my_list))  # Outputs: 4"
      ],
      "metadata": {
        "colab": {
          "base_uri": "https://localhost:8080/"
        },
        "id": "IQufCe9Ud0NV",
        "outputId": "39fc281a-bf66-4740-d389-15020d836694"
      },
      "execution_count": null,
      "outputs": [
        {
          "output_type": "stream",
          "name": "stdout",
          "text": [
            "5\n"
          ]
        }
      ]
    },
    {
      "cell_type": "markdown",
      "source": [
        "# abs()"
      ],
      "metadata": {
        "id": "JNzkAWqbcWyL"
      }
    },
    {
      "cell_type": "code",
      "source": [
        "number = -5\n",
        "print(abs(number))  # Outputs: 5"
      ],
      "metadata": {
        "id": "B8q64p15cLj2",
        "colab": {
          "base_uri": "https://localhost:8080/"
        },
        "outputId": "451da36c-04fa-41dd-c628-f9a449f07c2d"
      },
      "execution_count": null,
      "outputs": [
        {
          "output_type": "stream",
          "name": "stdout",
          "text": [
            "5\n"
          ]
        }
      ]
    },
    {
      "cell_type": "code",
      "source": [
        "number = 10\n",
        "print(abs(number))  # Outputs: 5"
      ],
      "metadata": {
        "colab": {
          "base_uri": "https://localhost:8080/"
        },
        "id": "8lnsJyGoeGib",
        "outputId": "565b4959-c942-4120-8e81-1cc384155a86"
      },
      "execution_count": null,
      "outputs": [
        {
          "output_type": "stream",
          "name": "stdout",
          "text": [
            "10\n"
          ]
        }
      ]
    },
    {
      "cell_type": "markdown",
      "source": [
        "# all()\n",
        "\n",
        "1. return value of all() function\n",
        "\n",
        "2. True: if all elements in an iterable are true\n",
        "\n",
        "3. False: if any element in an iterable is false"
      ],
      "metadata": {
        "id": "XEg8SILtcX_F"
      }
    },
    {
      "cell_type": "code",
      "source": [
        "lst = [1, 2, 3, 4]\n",
        "print(all(lst))"
      ],
      "metadata": {
        "id": "oLOWLPt4cZyN",
        "colab": {
          "base_uri": "https://localhost:8080/"
        },
        "outputId": "798d61ca-8dc0-49ab-d62f-6488eafeecc5"
      },
      "execution_count": null,
      "outputs": [
        {
          "output_type": "stream",
          "name": "stdout",
          "text": [
            "True\n"
          ]
        }
      ]
    },
    {
      "cell_type": "code",
      "source": [
        "tuple1 = (0, 2, 3, 4)    # 0 present in tuple\n",
        "print(all(tuple1))"
      ],
      "metadata": {
        "id": "PJzZ2jfIchZ0",
        "colab": {
          "base_uri": "https://localhost:8080/"
        },
        "outputId": "d154ce6b-4ff6-492e-bdc3-94a3916fca8d"
      },
      "execution_count": null,
      "outputs": [
        {
          "output_type": "stream",
          "name": "stdout",
          "text": [
            "False\n"
          ]
        }
      ]
    },
    {
      "cell_type": "code",
      "source": [
        "tuple1 = (1, -2, 0, 4)    # 0 present in tuple\n",
        "print(all(tuple1))"
      ],
      "metadata": {
        "colab": {
          "base_uri": "https://localhost:8080/"
        },
        "id": "y8Oeb-cmeu01",
        "outputId": "d3420c80-10b6-428f-8aad-5715f6b6d464"
      },
      "execution_count": null,
      "outputs": [
        {
          "output_type": "stream",
          "name": "stdout",
          "text": [
            "False\n"
          ]
        }
      ]
    },
    {
      "cell_type": "code",
      "source": [
        "lst = []              #empty list always true\n",
        "print(all(lst))"
      ],
      "metadata": {
        "id": "jRqafkAUci6l",
        "colab": {
          "base_uri": "https://localhost:8080/"
        },
        "outputId": "60af383b-8b70-4ffe-c7a5-d887fb3bfa4b"
      },
      "execution_count": null,
      "outputs": [
        {
          "output_type": "stream",
          "name": "stdout",
          "text": [
            "True\n"
          ]
        }
      ]
    },
    {
      "cell_type": "code",
      "source": [
        "tuple1 = ()            #empty list always true\n",
        "print(all(tuple1))"
      ],
      "metadata": {
        "colab": {
          "base_uri": "https://localhost:8080/"
        },
        "id": "14Pe2Ee9IcFq",
        "outputId": "c8fa8060-1374-41dc-c573-cac0b6b36a55"
      },
      "execution_count": null,
      "outputs": [
        {
          "output_type": "stream",
          "name": "stdout",
          "text": [
            "True\n"
          ]
        }
      ]
    },
    {
      "cell_type": "code",
      "source": [
        "tuple1 = {}            #empty list always true\n",
        "print(all(tuple1))"
      ],
      "metadata": {
        "colab": {
          "base_uri": "https://localhost:8080/"
        },
        "id": "qw70PD6he5bp",
        "outputId": "07a12dc0-d26b-4538-f993-1fe4a5542171"
      },
      "execution_count": null,
      "outputs": [
        {
          "output_type": "stream",
          "name": "stdout",
          "text": [
            "True\n"
          ]
        }
      ]
    },
    {
      "cell_type": "code",
      "source": [
        "lst = [1, 0, 3, 4, \"Hello\", 2.5, {\"Name\": \"Balaji\"}]\n",
        "print(all(lst))"
      ],
      "metadata": {
        "colab": {
          "base_uri": "https://localhost:8080/"
        },
        "id": "7Ag2p46bIgAV",
        "outputId": "d454d0e3-3d75-4fb5-950b-035c77728e2b"
      },
      "execution_count": null,
      "outputs": [
        {
          "output_type": "stream",
          "name": "stdout",
          "text": [
            "False\n"
          ]
        }
      ]
    },
    {
      "cell_type": "code",
      "source": [
        "lst = [False, 1, 2, True, False]   #False present in a list so all(lst) is False\n",
        "print(all(lst))"
      ],
      "metadata": {
        "id": "Kfja_u33ckSU",
        "colab": {
          "base_uri": "https://localhost:8080/"
        },
        "outputId": "5872f3c6-844a-4fe6-c71c-25d821509698"
      },
      "execution_count": null,
      "outputs": [
        {
          "output_type": "stream",
          "name": "stdout",
          "text": [
            "False\n"
          ]
        }
      ]
    },
    {
      "cell_type": "code",
      "source": [
        "tuple1 = (1,2,3,4,5,6)\n",
        "max(tuple1)"
      ],
      "metadata": {
        "colab": {
          "base_uri": "https://localhost:8080/"
        },
        "id": "NzwUWoyFTYjI",
        "outputId": "18c6b669-4304-4c72-d9ea-1a3d250e14ba"
      },
      "execution_count": null,
      "outputs": [
        {
          "output_type": "execute_result",
          "data": {
            "text/plain": [
              "6"
            ]
          },
          "metadata": {},
          "execution_count": 43
        }
      ]
    },
    {
      "cell_type": "code",
      "source": [
        "min(tuple1)"
      ],
      "metadata": {
        "colab": {
          "base_uri": "https://localhost:8080/"
        },
        "id": "fyVcJaNSTd2u",
        "outputId": "137c186b-2453-4f74-a25e-49511d963b7f"
      },
      "execution_count": null,
      "outputs": [
        {
          "output_type": "execute_result",
          "data": {
            "text/plain": [
              "1"
            ]
          },
          "metadata": {},
          "execution_count": 44
        }
      ]
    },
    {
      "cell_type": "markdown",
      "source": [
        "# divmod()\n",
        "\n",
        "Takes 2 numbers and returns a pair of numbers as tuple consisting their qotient and remainder."
      ],
      "metadata": {
        "id": "cwArveQJI15k"
      }
    },
    {
      "cell_type": "code",
      "source": [
        "divmod(10,2)"
      ],
      "metadata": {
        "colab": {
          "base_uri": "https://localhost:8080/"
        },
        "id": "qY2r1TkwI3bW",
        "outputId": "2b417d89-17e8-4f40-e2bc-51e6217f8a25"
      },
      "execution_count": null,
      "outputs": [
        {
          "output_type": "execute_result",
          "data": {
            "text/plain": [
              "(5, 0)"
            ]
          },
          "metadata": {},
          "execution_count": 46
        }
      ]
    },
    {
      "cell_type": "code",
      "source": [
        "divmod(10,'2')"
      ],
      "metadata": {
        "colab": {
          "base_uri": "https://localhost:8080/",
          "height": 176
        },
        "id": "rmPU8TcmJF-H",
        "outputId": "a6382295-5758-47fa-f8e5-d1d8ba07f2bf"
      },
      "execution_count": null,
      "outputs": [
        {
          "output_type": "error",
          "ename": "TypeError",
          "evalue": "unsupported operand type(s) for divmod(): 'int' and 'str'",
          "traceback": [
            "\u001b[0;31m---------------------------------------------------------------------------\u001b[0m",
            "\u001b[0;31mTypeError\u001b[0m                                 Traceback (most recent call last)",
            "\u001b[0;32m<ipython-input-47-c63e45d124e2>\u001b[0m in \u001b[0;36m<cell line: 1>\u001b[0;34m()\u001b[0m\n\u001b[0;32m----> 1\u001b[0;31m \u001b[0mdivmod\u001b[0m\u001b[0;34m(\u001b[0m\u001b[0;36m10\u001b[0m\u001b[0;34m,\u001b[0m\u001b[0;34m'2'\u001b[0m\u001b[0;34m)\u001b[0m\u001b[0;34m\u001b[0m\u001b[0;34m\u001b[0m\u001b[0m\n\u001b[0m",
            "\u001b[0;31mTypeError\u001b[0m: unsupported operand type(s) for divmod(): 'int' and 'str'"
          ]
        }
      ]
    },
    {
      "cell_type": "markdown",
      "source": [
        "# enumerate()\n",
        "\n",
        "1. Returns tuple of 2 elements.\n",
        "2. The enumerate () method adds a counter to an iterable and returns it in the form of an enumerating object.\n",
        "3. Syntax: enumerate(iterable, start=0)\n",
        "4. Default start = 0"
      ],
      "metadata": {
        "id": "-KSAWv-Ecpi-"
      }
    },
    {
      "cell_type": "code",
      "source": [
        "numbers = [10, 20, 30, 40]\n",
        "\n",
        "for index, num in enumerate(numbers):\n",
        "    print(\"index {0} has value {1}\".format(index, num))"
      ],
      "metadata": {
        "id": "r0dV0lNBco0a",
        "colab": {
          "base_uri": "https://localhost:8080/"
        },
        "outputId": "b70c2e78-f42c-4033-caf8-83c6b31246f5"
      },
      "execution_count": null,
      "outputs": [
        {
          "output_type": "stream",
          "name": "stdout",
          "text": [
            "index 0 has value 10\n",
            "index 1 has value 20\n",
            "index 2 has value 30\n",
            "index 3 has value 40\n"
          ]
        }
      ]
    },
    {
      "cell_type": "code",
      "source": [
        "numbers = [10, 20, 30, 40]\n",
        "\n",
        "for index, num in enumerate(numbers, 24):\n",
        "    print(\"index {0} has value {1}\".format(index, num))"
      ],
      "metadata": {
        "colab": {
          "base_uri": "https://localhost:8080/"
        },
        "id": "RbUXR6wzKqQZ",
        "outputId": "e63abde5-94ac-46d0-8f7d-84dab0741471"
      },
      "execution_count": null,
      "outputs": [
        {
          "output_type": "stream",
          "name": "stdout",
          "text": [
            "index 24 has value 10\n",
            "index 25 has value 20\n",
            "index 26 has value 30\n",
            "index 27 has value 40\n"
          ]
        }
      ]
    },
    {
      "cell_type": "code",
      "source": [
        "string = \"Balaji is great teacher\"\n",
        "print(list(enumerate(string, 5)))"
      ],
      "metadata": {
        "colab": {
          "base_uri": "https://localhost:8080/"
        },
        "id": "w2VgZTEgKPrL",
        "outputId": "2fad1373-5db8-4ee6-a021-cb0c2beab43b"
      },
      "execution_count": null,
      "outputs": [
        {
          "output_type": "stream",
          "name": "stdout",
          "text": [
            "[(5, 'B'), (6, 'a'), (7, 'l'), (8, 'a'), (9, 'j'), (10, 'i'), (11, ' '), (12, 'i'), (13, 's'), (14, ' '), (15, 'g'), (16, 'r'), (17, 'e'), (18, 'a'), (19, 't'), (20, ' '), (21, 't'), (22, 'e'), (23, 'a'), (24, 'c'), (25, 'h'), (26, 'e'), (27, 'r')]\n"
          ]
        }
      ]
    },
    {
      "cell_type": "code",
      "source": [
        "for index, num in enumerate(string,0):\n",
        "    print(\"index {0} has value {1}\".format(index, num))"
      ],
      "metadata": {
        "colab": {
          "base_uri": "https://localhost:8080/"
        },
        "id": "hF1TzpgrKjoj",
        "outputId": "220a9744-4fce-41d0-b2c1-9e1749e909a8"
      },
      "execution_count": null,
      "outputs": [
        {
          "output_type": "stream",
          "name": "stdout",
          "text": [
            "index 0 has value B\n",
            "index 1 has value a\n",
            "index 2 has value l\n",
            "index 3 has value a\n",
            "index 4 has value j\n",
            "index 5 has value i\n",
            "index 6 has value  \n",
            "index 7 has value i\n",
            "index 8 has value s\n",
            "index 9 has value  \n",
            "index 10 has value g\n",
            "index 11 has value r\n",
            "index 12 has value e\n",
            "index 13 has value a\n",
            "index 14 has value t\n",
            "index 15 has value  \n",
            "index 16 has value t\n",
            "index 17 has value e\n",
            "index 18 has value a\n",
            "index 19 has value c\n",
            "index 20 has value h\n",
            "index 21 has value e\n",
            "index 22 has value r\n"
          ]
        }
      ]
    },
    {
      "cell_type": "markdown",
      "source": [
        "# filter()\n",
        "\n",
        "1. The filter() method constructs an iterator from elements of an iterable for which a function returns true.\n",
        "2. syntax: filter(function, iterable)\n",
        "3. Accepts 2 parameters\n",
        "4. Filter fucntion returns true or false which is boolean."
      ],
      "metadata": {
        "id": "z489EQv8c1iF"
      }
    },
    {
      "cell_type": "code",
      "source": [
        "def find_positive_number(num):\n",
        "    \"\"\"\n",
        "    This function returns the positive number if num is positive\n",
        "    \"\"\"\n",
        "    if num > 0:\n",
        "        return num*2"
      ],
      "metadata": {
        "id": "3UJ1-cdpdBoz"
      },
      "execution_count": null,
      "outputs": []
    },
    {
      "cell_type": "code",
      "source": [
        "number_list = range(-10, 10) #create a list with numbers from -10 to 10\n",
        "print(list(number_list))"
      ],
      "metadata": {
        "colab": {
          "base_uri": "https://localhost:8080/"
        },
        "id": "EhWAq5x8Lm_U",
        "outputId": "a8a29afe-016b-4ca1-9fb5-946162d7de9c"
      },
      "execution_count": null,
      "outputs": [
        {
          "output_type": "stream",
          "name": "stdout",
          "text": [
            "[-10, -9, -8, -7, -6, -5, -4, -3, -2, -1, 0, 1, 2, 3, 4, 5, 6, 7, 8, 9]\n"
          ]
        }
      ]
    },
    {
      "cell_type": "code",
      "source": [
        "positive_num_lst = list(filter(find_positive_number, number_list))\n",
        "print(positive_num_lst)"
      ],
      "metadata": {
        "id": "ldEFQWH2dEZw",
        "colab": {
          "base_uri": "https://localhost:8080/"
        },
        "outputId": "c0256a13-0cfd-4afa-e8fd-dab4fdcfc768"
      },
      "execution_count": null,
      "outputs": [
        {
          "output_type": "stream",
          "name": "stdout",
          "text": [
            "[1, 2, 3, 4, 5, 6, 7, 8, 9]\n"
          ]
        }
      ]
    },
    {
      "cell_type": "code",
      "source": [
        "final = []\n",
        "for i in number_list:\n",
        "    if i>0:\n",
        "        final.append(i)\n",
        "print(final)"
      ],
      "metadata": {
        "colab": {
          "base_uri": "https://localhost:8080/"
        },
        "id": "onCUTMRfMLD1",
        "outputId": "fe5e9f21-6cd7-4be0-921a-86449a91244f"
      },
      "execution_count": null,
      "outputs": [
        {
          "output_type": "stream",
          "name": "stdout",
          "text": [
            "[1, 2, 3, 4, 5, 6, 7, 8, 9]\n"
          ]
        }
      ]
    },
    {
      "cell_type": "markdown",
      "source": [
        "# map()\n",
        "1. Map applies a function to all the items in an input_list.\n",
        "2. syntax: map(function_to_apply, list_of_inputs)"
      ],
      "metadata": {
        "id": "awzauY8WdWUD"
      }
    },
    {
      "cell_type": "code",
      "source": [
        "numbers = [1, 2, 3, 4]\n",
        "\n",
        "#normal method of computing num^2 for each element in the list.\n",
        "squared = []\n",
        "for num in numbers:\n",
        "    squared.append(num ** 2)\n",
        "\n",
        "print(squared)"
      ],
      "metadata": {
        "id": "ymQvZVRtdbof",
        "colab": {
          "base_uri": "https://localhost:8080/"
        },
        "outputId": "e174e02f-c05c-443a-9c9b-a2886547dbfd"
      },
      "execution_count": null,
      "outputs": [
        {
          "output_type": "stream",
          "name": "stdout",
          "text": [
            "[1, 4, 9, 16]\n"
          ]
        }
      ]
    },
    {
      "cell_type": "code",
      "source": [
        "numbers = [1, 2, 3, 4]\n",
        "\n",
        "def powerOfTwo(num):\n",
        "    return num ** 2\n",
        "\n",
        "#using map() function\n",
        "squared = list(map(powerOfTwo, numbers))\n",
        "print(squared)\n"
      ],
      "metadata": {
        "colab": {
          "base_uri": "https://localhost:8080/"
        },
        "id": "wnJliqYKdfXS",
        "outputId": "3d50578b-38c3-499d-aa7e-924a98a89aef"
      },
      "execution_count": null,
      "outputs": [
        {
          "output_type": "stream",
          "name": "stdout",
          "text": [
            "[1, 4, 9, 16]\n"
          ]
        }
      ]
    },
    {
      "cell_type": "code",
      "source": [
        "numbers = (1, 2, 3, 4)\n",
        "\n",
        "def powerOfTwo(num):\n",
        "    return num ** 2\n",
        "\n",
        "#using map() function\n",
        "squared = list(map(powerOfTwo, numbers))\n",
        "print(squared)"
      ],
      "metadata": {
        "colab": {
          "base_uri": "https://localhost:8080/"
        },
        "id": "7JuTbSrDNoQp",
        "outputId": "f3d50285-35ab-4e51-b85f-90b37d7de4e9"
      },
      "execution_count": null,
      "outputs": [
        {
          "output_type": "stream",
          "name": "stdout",
          "text": [
            "[1, 4, 9, 16]\n"
          ]
        }
      ]
    },
    {
      "cell_type": "markdown",
      "source": [
        "# reduce()"
      ],
      "metadata": {
        "id": "TLnKakIYdvjl"
      }
    },
    {
      "cell_type": "markdown",
      "source": [
        "1. reduce() function is for performing some computation on a list and returning the result.\n",
        "\n",
        "2. It applies a rolling computation to sequential pairs of values in a list."
      ],
      "metadata": {
        "id": "INWLJGoAdth3"
      }
    },
    {
      "cell_type": "code",
      "source": [
        "#product of elemnts in a list\n",
        "product = 1\n",
        "lst = [1, 2, 3, 4]\n",
        "\n",
        "# traditional program without reduce()\n",
        "for num in lst:\n",
        "    product *= num\n",
        "print(product)"
      ],
      "metadata": {
        "id": "WHUZA6eXdtDI",
        "colab": {
          "base_uri": "https://localhost:8080/"
        },
        "outputId": "39c1e6d2-3695-4ae2-a84e-fb56c08226a0"
      },
      "execution_count": null,
      "outputs": [
        {
          "output_type": "stream",
          "name": "stdout",
          "text": [
            "24\n"
          ]
        }
      ]
    },
    {
      "cell_type": "code",
      "source": [
        "# In python 2 it used to be inbuilt function.\n",
        "# In python 3 we have to import it.\n",
        "from functools import reduce\n",
        "\n",
        "def multiply(x,y):\n",
        "    return x*y;\n",
        "\n",
        "product = reduce(multiply, lst)\n",
        "print(product)"
      ],
      "metadata": {
        "id": "gsB15EqZdzJM",
        "colab": {
          "base_uri": "https://localhost:8080/"
        },
        "outputId": "ce66bc4e-acbd-4aad-f51b-98ca24f72062"
      },
      "execution_count": null,
      "outputs": [
        {
          "output_type": "stream",
          "name": "stdout",
          "text": [
            "24\n"
          ]
        }
      ]
    },
    {
      "cell_type": "markdown",
      "source": [
        "# isinstance()"
      ],
      "metadata": {
        "id": "xvP1d1A2dOBQ"
      }
    },
    {
      "cell_type": "code",
      "source": [
        "# syntax: isinstance(object, classinfo)"
      ],
      "metadata": {
        "id": "NoeqsF2pdOo6"
      },
      "execution_count": null,
      "outputs": []
    },
    {
      "cell_type": "code",
      "source": [
        "lst = [1, 2, 3, 4]\n",
        "print(isinstance(lst, list))"
      ],
      "metadata": {
        "id": "h_QoBjrAdQra",
        "colab": {
          "base_uri": "https://localhost:8080/"
        },
        "outputId": "918ba7d1-8bd4-4d36-808d-b925688ace9e"
      },
      "execution_count": null,
      "outputs": [
        {
          "output_type": "stream",
          "name": "stdout",
          "text": [
            "True\n"
          ]
        }
      ]
    },
    {
      "cell_type": "code",
      "source": [
        "#try with other datatypes tuple, set\n",
        "t = (1,2,3,4)\n",
        "print(isinstance(t, list))"
      ],
      "metadata": {
        "id": "88cWrvd8dTIL",
        "colab": {
          "base_uri": "https://localhost:8080/"
        },
        "outputId": "7440c8e8-5007-49b0-b2f9-5dea5420c4aa"
      },
      "execution_count": null,
      "outputs": [
        {
          "output_type": "stream",
          "name": "stdout",
          "text": [
            "False\n"
          ]
        }
      ]
    },
    {
      "cell_type": "markdown",
      "source": [
        "# User-Defined Functions"
      ],
      "metadata": {
        "id": "DfgXkv3Rd78G"
      }
    },
    {
      "cell_type": "markdown",
      "source": [
        "## Advantages -\n",
        "\n",
        "1. Modularity\n",
        "2. Code Reusability\n",
        "3. Simplifies Code\n",
        "4. Ease of Maintenance\n",
        "5. Debugging Advantage\n",
        "6. Parameter Passing\n",
        "7. Encapsulation\n",
        "8. Reduction of Errors\n",
        "9. Enhanced Collaboration\n",
        "10. Customization and Extension\n",
        "11. Performance Optimization"
      ],
      "metadata": {
        "id": "kui0yr5UQbUS"
      }
    },
    {
      "cell_type": "code",
      "source": [
        "def greet(name):\n",
        "    return f\"Hello, {name}!\"\n",
        "\n",
        "print(greet(\"Alice\"))  # Outputs: Hello, Alice!"
      ],
      "metadata": {
        "id": "2UIt2tAjd8yp",
        "colab": {
          "base_uri": "https://localhost:8080/"
        },
        "outputId": "49b712d9-4803-4701-ba8f-055957f8e756"
      },
      "execution_count": null,
      "outputs": [
        {
          "output_type": "stream",
          "name": "stdout",
          "text": [
            "Hello, Alice!\n"
          ]
        }
      ]
    },
    {
      "cell_type": "code",
      "source": [
        "print(greet(\"Balaji\"))"
      ],
      "metadata": {
        "colab": {
          "base_uri": "https://localhost:8080/"
        },
        "id": "m0Hw5HjWQz5q",
        "outputId": "9d8c8786-4108-44af-a623-edf5e8c1e281"
      },
      "execution_count": null,
      "outputs": [
        {
          "output_type": "stream",
          "name": "stdout",
          "text": [
            "Hello, Balaji!\n"
          ]
        }
      ]
    },
    {
      "cell_type": "code",
      "source": [
        "def add(a, b):\n",
        "    return a + b\n",
        "\n",
        "print(add(3, 4))  # Outputs: 7"
      ],
      "metadata": {
        "id": "_EVHgcb14VeS",
        "colab": {
          "base_uri": "https://localhost:8080/"
        },
        "outputId": "100cd168-a969-4096-8e1a-9f1681fcfd4f"
      },
      "execution_count": null,
      "outputs": [
        {
          "output_type": "stream",
          "name": "stdout",
          "text": [
            "7\n"
          ]
        }
      ]
    }
  ]
}