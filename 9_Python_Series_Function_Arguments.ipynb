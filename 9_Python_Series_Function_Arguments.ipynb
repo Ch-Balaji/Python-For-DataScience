{
  "nbformat": 4,
  "nbformat_minor": 0,
  "metadata": {
    "colab": {
      "provenance": []
    },
    "kernelspec": {
      "name": "python3",
      "display_name": "Python 3"
    },
    "language_info": {
      "name": "python"
    }
  },
  "cells": [
    {
      "cell_type": "markdown",
      "source": [
        "Names between the parentheses are called parameters, and the actual values you provide when you call the function are called arguments. Python has several types of arguments that a function can accept:"
      ],
      "metadata": {
        "id": "4hovv2qxVPgq"
      }
    },
    {
      "cell_type": "markdown",
      "source": [
        "# Positional Arguments"
      ],
      "metadata": {
        "id": "wMaOkblQXO9Z"
      }
    },
    {
      "cell_type": "code",
      "execution_count": null,
      "metadata": {
        "id": "ayQ-ca8MUqJg",
        "colab": {
          "base_uri": "https://localhost:8080/"
        },
        "outputId": "73c823a8-907f-479a-d0a5-b48c86108989"
      },
      "outputs": [
        {
          "output_type": "stream",
          "name": "stdout",
          "text": [
            "Value of a is :  2\n",
            "Value of b is :  3\n",
            "5\n"
          ]
        }
      ],
      "source": [
        "# These are arguments that need to be included in the proper position or order.\n",
        "\n",
        "def add(a, b):\n",
        "    print(\"Value of a is : \", a)\n",
        "    print(\"Value of b is : \", b)\n",
        "    return a + b\n",
        "\n",
        "print(add(2, 3))"
      ]
    },
    {
      "cell_type": "code",
      "source": [
        "print(add(3, 2))"
      ],
      "metadata": {
        "id": "h45O7_y3XU81",
        "colab": {
          "base_uri": "https://localhost:8080/"
        },
        "outputId": "0adb8023-9321-4a15-ce66-075d0e2a6a65"
      },
      "execution_count": null,
      "outputs": [
        {
          "output_type": "stream",
          "name": "stdout",
          "text": [
            "Value of a is :  3\n",
            "Value of b is :  2\n",
            "5\n"
          ]
        }
      ]
    },
    {
      "cell_type": "code",
      "source": [
        "print(add(a = 2, b = 3))"
      ],
      "metadata": {
        "colab": {
          "base_uri": "https://localhost:8080/"
        },
        "id": "dsV0ABn7iX4K",
        "outputId": "8d91daf1-532b-4503-88f9-6f4e2912e1bd"
      },
      "execution_count": null,
      "outputs": [
        {
          "output_type": "stream",
          "name": "stdout",
          "text": [
            "Value of a is :  2\n",
            "Value of b is :  3\n",
            "5\n"
          ]
        }
      ]
    },
    {
      "cell_type": "code",
      "source": [
        "print(add(b = 3,a = 2))"
      ],
      "metadata": {
        "colab": {
          "base_uri": "https://localhost:8080/"
        },
        "id": "AfErWyNqjxyU",
        "outputId": "429cbddf-cbec-478f-b413-3a5d04f503a0"
      },
      "execution_count": null,
      "outputs": [
        {
          "output_type": "stream",
          "name": "stdout",
          "text": [
            "Value of a is :  2\n",
            "Value of b is :  3\n",
            "5\n"
          ]
        }
      ]
    },
    {
      "cell_type": "markdown",
      "source": [
        "# Keyword Arguments\n",
        "\n",
        "These are arguments passed to a function by explicitly specifying the name of the parameter and the corresponding value. They can be put in any order because Python interprets the names."
      ],
      "metadata": {
        "id": "DUgMUz7tXnp3"
      }
    },
    {
      "cell_type": "code",
      "source": [
        "def person_info(name, age):\n",
        "    return f\"{name} is {age} years old.\"\n",
        "\n",
        "print(person_info(30, \"Alice\"))"
      ],
      "metadata": {
        "id": "hmExvLFTXqPp",
        "colab": {
          "base_uri": "https://localhost:8080/"
        },
        "outputId": "927dc97c-243c-4a1b-83b0-f8d1ed233f28"
      },
      "execution_count": null,
      "outputs": [
        {
          "output_type": "stream",
          "name": "stdout",
          "text": [
            "30 is Alice years old.\n"
          ]
        }
      ]
    },
    {
      "cell_type": "code",
      "source": [
        "print(person_info( \"Alice\", 30))"
      ],
      "metadata": {
        "colab": {
          "base_uri": "https://localhost:8080/"
        },
        "id": "K_879Gq5kCRO",
        "outputId": "3091bbac-d5a8-414a-b7db-c7d0a660a72c"
      },
      "execution_count": null,
      "outputs": [
        {
          "output_type": "stream",
          "name": "stdout",
          "text": [
            "Alice is 30 years old.\n"
          ]
        }
      ]
    },
    {
      "cell_type": "code",
      "source": [
        "print(person_info(age=30, name=\"Alice\"))"
      ],
      "metadata": {
        "id": "epbvBqVEX3YH",
        "colab": {
          "base_uri": "https://localhost:8080/"
        },
        "outputId": "110f5f23-dec5-461b-f966-2a134f2bb779"
      },
      "execution_count": null,
      "outputs": [
        {
          "output_type": "stream",
          "name": "stdout",
          "text": [
            "Alice is 30 years old.\n"
          ]
        }
      ]
    },
    {
      "cell_type": "markdown",
      "source": [
        "# Default Arguments\n",
        "\n",
        "These are arguments that take a default value if no argument value is passed during the function call."
      ],
      "metadata": {
        "id": "BjU0Von9YA--"
      }
    },
    {
      "cell_type": "code",
      "source": [
        "def person_info(name, age):\n",
        "    return f\"{name} is {age} years old.\"\n",
        "\n",
        "print(person_info(30, \"Alice\"))"
      ],
      "metadata": {
        "colab": {
          "base_uri": "https://localhost:8080/"
        },
        "id": "ktVJ3qQMkLAe",
        "outputId": "8a719196-60e8-49fe-87cd-60c98df0efdd"
      },
      "execution_count": null,
      "outputs": [
        {
          "output_type": "stream",
          "name": "stdout",
          "text": [
            "30 is Alice years old.\n"
          ]
        }
      ]
    },
    {
      "cell_type": "code",
      "source": [
        "print(person_info(30))"
      ],
      "metadata": {
        "id": "r8gxHlUOYGi1",
        "colab": {
          "base_uri": "https://localhost:8080/",
          "height": 176
        },
        "outputId": "1ca34219-6aca-4f16-c722-6f164c8eb309"
      },
      "execution_count": null,
      "outputs": [
        {
          "output_type": "error",
          "ename": "TypeError",
          "evalue": "person_info() missing 1 required positional argument: 'age'",
          "traceback": [
            "\u001b[0;31m---------------------------------------------------------------------------\u001b[0m",
            "\u001b[0;31mTypeError\u001b[0m                                 Traceback (most recent call last)",
            "\u001b[0;32m<ipython-input-15-5889593c958f>\u001b[0m in \u001b[0;36m<cell line: 1>\u001b[0;34m()\u001b[0m\n\u001b[0;32m----> 1\u001b[0;31m \u001b[0mprint\u001b[0m\u001b[0;34m(\u001b[0m\u001b[0mperson_info\u001b[0m\u001b[0;34m(\u001b[0m\u001b[0;36m30\u001b[0m\u001b[0;34m)\u001b[0m\u001b[0;34m)\u001b[0m\u001b[0;34m\u001b[0m\u001b[0;34m\u001b[0m\u001b[0m\n\u001b[0m",
            "\u001b[0;31mTypeError\u001b[0m: person_info() missing 1 required positional argument: 'age'"
          ]
        }
      ]
    },
    {
      "cell_type": "code",
      "source": [
        "def person_info(name, age=27):\n",
        "    return f\"{name} is {age} years old.\"\n",
        "\n",
        "print(person_info(name=\"Bob\"))"
      ],
      "metadata": {
        "id": "rwMR5WmLYE7p",
        "colab": {
          "base_uri": "https://localhost:8080/"
        },
        "outputId": "032c2cc6-d99e-4521-d85d-c31ecbe2accf"
      },
      "execution_count": null,
      "outputs": [
        {
          "output_type": "stream",
          "name": "stdout",
          "text": [
            "Bob is 27 years old.\n"
          ]
        }
      ]
    },
    {
      "cell_type": "code",
      "source": [
        "print(person_info(\"balaji\"))"
      ],
      "metadata": {
        "colab": {
          "base_uri": "https://localhost:8080/"
        },
        "id": "iNfX9ALykf_H",
        "outputId": "f3e188f2-4775-42ae-af6f-a9161cdc481e"
      },
      "execution_count": null,
      "outputs": [
        {
          "output_type": "stream",
          "name": "stdout",
          "text": [
            "balaji is 27 years old.\n"
          ]
        }
      ]
    },
    {
      "cell_type": "code",
      "source": [
        "print(person_info(\"balaji\"))"
      ],
      "metadata": {
        "colab": {
          "base_uri": "https://localhost:8080/"
        },
        "id": "AQRHWz7EksI6",
        "outputId": "2ed31b60-978e-4b14-a3a1-655130f797b3"
      },
      "execution_count": null,
      "outputs": [
        {
          "output_type": "stream",
          "name": "stdout",
          "text": [
            "balaji is 27 years old.\n"
          ]
        }
      ]
    },
    {
      "cell_type": "code",
      "source": [
        "print(person_info(name=\"Bob\", age=50))"
      ],
      "metadata": {
        "id": "sPblEz1VYPdc",
        "colab": {
          "base_uri": "https://localhost:8080/"
        },
        "outputId": "63ee8991-e221-49c6-ac14-93492d3c0d54"
      },
      "execution_count": null,
      "outputs": [
        {
          "output_type": "stream",
          "name": "stdout",
          "text": [
            "Bob is 50 years old.\n"
          ]
        }
      ]
    },
    {
      "cell_type": "markdown",
      "source": [
        "# Arbitrary Arguments\n",
        "\n",
        "Sometimes, you might not know how many arguments will be passed into your function. Python allows you to handle this kind of situation through arbitrary arguments.\n",
        "\n",
        "Arbitrary Positional Arguments (*args): They are often used when you want to pass a variable number of non-keyword arguments to a function."
      ],
      "metadata": {
        "id": "yKx8P1IkYTlW"
      }
    },
    {
      "cell_type": "code",
      "source": [
        "def add_all_numbers(*balaji):\n",
        "    print(balaji)\n",
        "    return sum(balaji)\n",
        "\n",
        "print(add_all_numbers(1, 2, 3, 4))  # Outputs: 10"
      ],
      "metadata": {
        "id": "tRr1UxqYYRvF",
        "colab": {
          "base_uri": "https://localhost:8080/"
        },
        "outputId": "a97c2c9a-ccad-4cc9-ce80-17565b0d5934"
      },
      "execution_count": null,
      "outputs": [
        {
          "output_type": "stream",
          "name": "stdout",
          "text": [
            "(1, 2, 3, 4)\n",
            "10\n"
          ]
        }
      ]
    },
    {
      "cell_type": "code",
      "source": [
        "def print_all(*args):\n",
        "    for arg in args:\n",
        "        print(arg)\n",
        "\n",
        "# Calling function with three arguments\n",
        "print_all('apple', 'banana', 'cherry')"
      ],
      "metadata": {
        "id": "5-SmCMo1ZP1r",
        "colab": {
          "base_uri": "https://localhost:8080/"
        },
        "outputId": "a22ae372-a436-4b59-cf02-f1cbffac4b91"
      },
      "execution_count": null,
      "outputs": [
        {
          "output_type": "stream",
          "name": "stdout",
          "text": [
            "apple\n",
            "banana\n",
            "cherry\n"
          ]
        }
      ]
    },
    {
      "cell_type": "code",
      "source": [
        "# Calling function with five arguments\n",
        "print_all('dog', 'elephant', 'fox', 'giraffe', 'hippo')"
      ],
      "metadata": {
        "id": "4tKk5P_c4F0c"
      },
      "execution_count": null,
      "outputs": []
    },
    {
      "cell_type": "code",
      "source": [
        "def print_all(*balaji):\n",
        "    print(\"Parameter balaji contains - \", balaji)\n",
        "    for arg in balaji:\n",
        "        print(arg)\n",
        "\n",
        "# Calling function with three arguments\n",
        "print_all('apple', 'banana', 'cherry')"
      ],
      "metadata": {
        "colab": {
          "base_uri": "https://localhost:8080/"
        },
        "id": "n8ePl1T8eupT",
        "outputId": "20642f24-bdb0-4801-febc-6947ec359a52"
      },
      "execution_count": null,
      "outputs": [
        {
          "output_type": "stream",
          "name": "stdout",
          "text": [
            "Parameter balaji contains -  ('apple', 'banana', 'cherry')\n",
            "apple\n",
            "banana\n",
            "cherry\n"
          ]
        }
      ]
    },
    {
      "cell_type": "markdown",
      "source": [
        "1. Arbitrary Keyword Arguments (**kwargs): They are used when you want to pass a variable number of keyword arguments to a function.\n",
        "2. Arbitrary keyword arguments allow you to handle named arguments that you have not predefined in your function."
      ],
      "metadata": {
        "id": "c47xlqCRYi4c"
      }
    },
    {
      "cell_type": "code",
      "source": [
        "def person_info(**kwargs):\n",
        "    print(kwargs)\n",
        "    info = \"\"\n",
        "    for key, value in kwargs.items():\n",
        "        info += f\"{key} is {value}. \"\n",
        "    return info"
      ],
      "metadata": {
        "id": "GgqFWZDdYjbl"
      },
      "execution_count": null,
      "outputs": []
    },
    {
      "cell_type": "code",
      "source": [
        "print(person_info(name=\"Carol\", age=28, city=\"New York\"))  # Outputs: name is Carol. age is 28. city is New York."
      ],
      "metadata": {
        "id": "5cPKgpHY4Hbp",
        "colab": {
          "base_uri": "https://localhost:8080/"
        },
        "outputId": "3e631d99-96e2-46a1-af9d-2833f4b375ca"
      },
      "execution_count": null,
      "outputs": [
        {
          "output_type": "stream",
          "name": "stdout",
          "text": [
            "{'name': 'Carol', 'age': 28, 'city': 'New York'}\n",
            "name is Carol. age is 28. city is New York. \n"
          ]
        }
      ]
    },
    {
      "cell_type": "code",
      "source": [
        "def introduce_yourself(**kwargs):\n",
        "    for key, value in kwargs.items():\n",
        "        print(f\"{key} is {value}\")\n",
        "\n",
        "# Calling function with three named arguments\n",
        "introduce_yourself(Name='John', Age=25, Profession='Engineer')"
      ],
      "metadata": {
        "id": "tSRrzeGeZX3f",
        "colab": {
          "base_uri": "https://localhost:8080/"
        },
        "outputId": "c5161c8c-c165-41c8-ef77-ff31790f84cb"
      },
      "execution_count": null,
      "outputs": [
        {
          "output_type": "stream",
          "name": "stdout",
          "text": [
            "Name is John\n",
            "Age is 25\n",
            "Profession is Engineer\n"
          ]
        }
      ]
    },
    {
      "cell_type": "code",
      "source": [
        "# Calling function with additional named arguments\n",
        "introduce_yourself(Name='Alice', Age=30, Profession='Artist', Hobby='Painting')"
      ],
      "metadata": {
        "id": "tKcu63Qk4KEE",
        "colab": {
          "base_uri": "https://localhost:8080/"
        },
        "outputId": "142ecaa1-88e4-4e5e-a7a2-397413c5f82f"
      },
      "execution_count": null,
      "outputs": [
        {
          "output_type": "stream",
          "name": "stdout",
          "text": [
            "Name is Alice\n",
            "Age is 30\n",
            "Profession is Artist\n",
            "Hobby is Painting\n"
          ]
        }
      ]
    },
    {
      "cell_type": "markdown",
      "source": [
        "# Example Mixes both"
      ],
      "metadata": {
        "id": "dS9sP1xwZiw7"
      }
    },
    {
      "cell_type": "code",
      "source": [
        "def setup_profile(name, email, *args, **kwargs):\n",
        "    print(f\"Name: {name}\")\n",
        "    print(f\"Email: {email}\")\n",
        "    for arg in args:\n",
        "        print(arg)\n",
        "    for key, value in kwargs.items():\n",
        "        print(f\"{key}: {value}\")"
      ],
      "metadata": {
        "id": "SgL2NUBqZksE"
      },
      "execution_count": null,
      "outputs": []
    },
    {
      "cell_type": "code",
      "source": [
        "# Calling the function with both arbitrary positional and keyword arguments\n",
        "setup_profile(\n",
        "    'Jane Doe', 'jane@example.com',\n",
        "    'Loves Python', 'Writes Code',\n",
        "    Age=28, Occupation='Developer', Hobby='Cycling'\n",
        ")"
      ],
      "metadata": {
        "id": "oa5qmjhg4NRS",
        "colab": {
          "base_uri": "https://localhost:8080/"
        },
        "outputId": "2702a07c-15b8-46f0-a84c-dcf7bd73310f"
      },
      "execution_count": null,
      "outputs": [
        {
          "output_type": "stream",
          "name": "stdout",
          "text": [
            "Name: Jane Doe\n",
            "Email: jane@example.com\n",
            "Loves Python\n",
            "Writes Code\n",
            "Age: 28\n",
            "Occupation: Developer\n",
            "Hobby: Cycling\n"
          ]
        }
      ]
    },
    {
      "cell_type": "markdown",
      "source": [
        "# Unpacking Arguments"
      ],
      "metadata": {
        "id": "-nM8woilY6j8"
      }
    },
    {
      "cell_type": "code",
      "source": [
        "def person_info(name, age, city):\n",
        "    return f\"{name} is {age} years old and lives in {city}.\""
      ],
      "metadata": {
        "id": "YCnV0i9hns3B"
      },
      "execution_count": null,
      "outputs": []
    },
    {
      "cell_type": "code",
      "source": [
        "person_info(\"bALAJI\", 27, \"PUNE\")"
      ],
      "metadata": {
        "colab": {
          "base_uri": "https://localhost:8080/",
          "height": 35
        },
        "id": "BfYQl8BWnum3",
        "outputId": "e741c2e2-ce7f-4bdd-a3be-94652d09daf9"
      },
      "execution_count": null,
      "outputs": [
        {
          "output_type": "execute_result",
          "data": {
            "text/plain": [
              "'bALAJI is 27 years old and lives in PUNE.'"
            ],
            "application/vnd.google.colaboratory.intrinsic+json": {
              "type": "string"
            }
          },
          "metadata": {},
          "execution_count": 35
        }
      ]
    },
    {
      "cell_type": "code",
      "source": [
        "details = [\"bALAJI\", 27, \"PUNE\"]\n",
        "\n",
        "# Unpacking the list into positional arguments\n",
        "print(person_info(*details))  # Outputs: Dave is 42 years old and lives in Seattle."
      ],
      "metadata": {
        "id": "9qvUPtChY5HD",
        "colab": {
          "base_uri": "https://localhost:8080/"
        },
        "outputId": "963c6d70-c9e3-4645-8f81-e730c6724b26"
      },
      "execution_count": null,
      "outputs": [
        {
          "output_type": "stream",
          "name": "stdout",
          "text": [
            "bALAJI is 27 years old and lives in PUNE.\n"
          ]
        }
      ]
    },
    {
      "cell_type": "code",
      "source": [
        "# Unpacking a dictionary into keyword arguments\n",
        "details_dict = {'name': 'Eve', 'age': 29, 'city': 'Boston'}\n",
        "print(person_info(**details_dict))  # Outputs: Eve is 29 years old and lives in Boston."
      ],
      "metadata": {
        "id": "BDhUGZoR4OzW",
        "colab": {
          "base_uri": "https://localhost:8080/"
        },
        "outputId": "41caef96-96a4-443a-e311-8044209bf927"
      },
      "execution_count": null,
      "outputs": [
        {
          "output_type": "stream",
          "name": "stdout",
          "text": [
            "Eve is 29 years old and lives in Boston.\n"
          ]
        }
      ]
    },
    {
      "cell_type": "markdown",
      "source": [
        "# Real Life example"
      ],
      "metadata": {
        "id": "ReFIrZ_0fWaP"
      }
    },
    {
      "cell_type": "markdown",
      "source": [
        "Logging is extensively used in many applications and advantages are -\n",
        "1. Error Tracking\n",
        "2. Performance Monitoring\n",
        "3. Status check etc...."
      ],
      "metadata": {
        "id": "5S-_RKEVf5R3"
      }
    },
    {
      "cell_type": "code",
      "source": [
        "import datetime\n",
        "\n",
        "def log_message(*messages, **additional_data):\n",
        "    \"\"\"\n",
        "    Logs a message with optional additional data.\n",
        "\n",
        "    Args:\n",
        "    *messages: Arbitrary number of messages to log.\n",
        "    **additional_data: Arbitrary number of keyword arguments representing additional data to log.\n",
        "    \"\"\"\n",
        "    # Current timestamp\n",
        "    timestamp = datetime.datetime.now().strftime(\"%Y-%m-%d %H:%M:%S\")\n",
        "\n",
        "    # Joining all messages into a single string\n",
        "    full_message = ' | '.join(messages)\n",
        "\n",
        "    # Creating the base log entry\n",
        "    log_entry = f\"{timestamp} - MESSAGE: {full_message}\"\n",
        "\n",
        "    # Adding any additional data to the log entry\n",
        "    for key, value in additional_data.items():\n",
        "        log_entry += f\", {key.upper()}: {value}\"\n",
        "\n",
        "    # For demonstration, we'll just print the log. In a real application, you might write it to a file or a database.\n",
        "    print(log_entry)\n",
        "\n",
        "# Example usage\n",
        "log_message(\"Application started\", \"No errors\", urgency=\"low\", user_id=\"12345\")\n",
        "log_message(\"Unexpected error occurred\", error_code=500, severity=\"high\")\n"
      ],
      "metadata": {
        "colab": {
          "base_uri": "https://localhost:8080/"
        },
        "id": "5PNHMmGOfYV-",
        "outputId": "47059f88-1950-471e-fead-77f330bcd70d"
      },
      "execution_count": null,
      "outputs": [
        {
          "output_type": "stream",
          "name": "stdout",
          "text": [
            "2024-02-07 12:55:25 - MESSAGE: Application started | No errors, URGENCY: low, USER_ID: 12345\n",
            "2024-02-07 12:55:25 - MESSAGE: Unexpected error occurred, ERROR_CODE: 500, SEVERITY: high\n"
          ]
        }
      ]
    }
  ]
}