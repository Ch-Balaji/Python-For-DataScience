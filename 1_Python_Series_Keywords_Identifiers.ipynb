{
  "cells": [
    {
      "cell_type": "markdown",
      "metadata": {
        "id": "u0cxzzCwBEJe"
      },
      "source": [
        "# Python Keywords"
      ]
    },
    {
      "cell_type": "markdown",
      "metadata": {
        "id": "L4YdcDTIBEJf"
      },
      "source": [
        "Keywords are the reserved words in python\n",
        "\n",
        "We can't use a keyword as variable name, function name or any other identifier\n",
        "\n",
        "Keywords are case sentive"
      ]
    },
    {
      "cell_type": "code",
      "execution_count": null,
      "metadata": {
        "id": "DQWFR5RuBEJg",
        "outputId": "c3d380d5-5b76-4712-8477-85ff19fb4583",
        "colab": {
          "base_uri": "https://localhost:8080/"
        }
      },
      "outputs": [
        {
          "output_type": "stream",
          "name": "stdout",
          "text": [
            "['False', 'None', 'True', 'and', 'as', 'assert', 'async', 'await', 'break', 'class', 'continue', 'def', 'del', 'elif', 'else', 'except', 'finally', 'for', 'from', 'global', 'if', 'import', 'in', 'is', 'lambda', 'nonlocal', 'not', 'or', 'pass', 'raise', 'return', 'try', 'while', 'with', 'yield']\n",
            "Total number of keywords  35\n"
          ]
        }
      ],
      "source": [
        "#Get all keywords in python 3.6\n",
        "\n",
        "import keyword\n",
        "\n",
        "print(keyword.kwlist)\n",
        "\n",
        "print(\"Total number of keywords \", len(keyword.kwlist))"
      ]
    },
    {
      "cell_type": "code",
      "source": [
        "False1 = 1\n",
        "print(False1)"
      ],
      "metadata": {
        "colab": {
          "base_uri": "https://localhost:8080/"
        },
        "id": "O1jtlQPyzxKm",
        "outputId": "20195fb1-b7b9-4d76-8772-dc99c5b867e3"
      },
      "execution_count": null,
      "outputs": [
        {
          "output_type": "stream",
          "name": "stdout",
          "text": [
            "1\n"
          ]
        }
      ]
    },
    {
      "cell_type": "markdown",
      "metadata": {
        "id": "q4qOlMmQBEJh"
      },
      "source": [
        "# Identifiers"
      ]
    },
    {
      "cell_type": "markdown",
      "metadata": {
        "id": "6eB-WQ3DBEJh"
      },
      "source": [
        "Identifier is the name given to entities like class, functions, variables etc. in Python. It helps differentiating one entity from another."
      ]
    },
    {
      "cell_type": "markdown",
      "metadata": {
        "id": "VllBfspxBEJh"
      },
      "source": [
        "Rules for Writing Identifiers:\n",
        "\n",
        "1. Identifiers can be a combination of letters in lowercase (a to z) or uppercase (A to Z) or digits (0 to 9) or an underscore (_).\n",
        "\n",
        "2. An identifier cannot start with a digit. 1variable is invalid, but variable1 is perfectly fine.\n",
        "\n",
        "3. Keywords cannot be used as identifiers."
      ]
    },
    {
      "cell_type": "code",
      "execution_count": null,
      "metadata": {
        "id": "9NN1OvGkBEJi",
        "outputId": "5b57f694-dff2-4561-d338-0a59bb1b615c",
        "colab": {
          "base_uri": "https://localhost:8080/",
          "height": 141
        }
      },
      "outputs": [
        {
          "output_type": "error",
          "ename": "SyntaxError",
          "evalue": "invalid syntax (<ipython-input-44-cdea058f7f54>, line 1)",
          "traceback": [
            "\u001b[0;36m  File \u001b[0;32m\"<ipython-input-44-cdea058f7f54>\"\u001b[0;36m, line \u001b[0;32m1\u001b[0m\n\u001b[0;31m    True@ = 1\u001b[0m\n\u001b[0m          ^\u001b[0m\n\u001b[0;31mSyntaxError\u001b[0m\u001b[0;31m:\u001b[0m invalid syntax\n"
          ]
        }
      ],
      "source": [
        "True@ = 1"
      ]
    },
    {
      "cell_type": "markdown",
      "metadata": {
        "id": "eW80kpR4BEJi"
      },
      "source": [
        " We cannot use special symbols like !, @, #, $, % etc. in our identifier."
      ]
    },
    {
      "cell_type": "code",
      "execution_count": null,
      "metadata": {
        "id": "EkfpyZzNBEJi"
      },
      "outputs": [],
      "source": [
        "a_b_1 = 10   # can't use special symbols as an identifier"
      ]
    },
    {
      "cell_type": "markdown",
      "metadata": {
        "id": "ic5FQvnKBEJi"
      },
      "source": [
        "# Python Comments"
      ]
    },
    {
      "cell_type": "markdown",
      "metadata": {
        "id": "PPOxHnrABEJi"
      },
      "source": [
        "Comments are text lines found in computer programs that compilers and interpreters disregard. Integrating comments into code enhances its readability for humans by offering information or explanations about the functionality of each program segment.\n",
        "\n",
        "In essence, it is advisable to include comments during the process of writing or modifying a program. This is because it is easy to forget the reasoning behind the code later on, and comments added at a later stage may have diminished utility in the long run."
      ]
    },
    {
      "cell_type": "markdown",
      "metadata": {
        "id": "2ex2hO-gBEJi"
      },
      "source": [
        "In Python, we use the hash (#) symbol to start writing a comment."
      ]
    },
    {
      "cell_type": "code",
      "execution_count": null,
      "metadata": {
        "id": "FOMIFdIiBEJi",
        "colab": {
          "base_uri": "https://localhost:8080/"
        },
        "outputId": "e8983dd3-90d6-4ce6-83d1-88d391b99fc0"
      },
      "outputs": [
        {
          "output_type": "stream",
          "name": "stdout",
          "text": [
            "Hello, world\n"
          ]
        }
      ],
      "source": [
        "# True@ = 1\n",
        "print(\"Hello, world\")"
      ]
    },
    {
      "cell_type": "markdown",
      "metadata": {
        "id": "luGxZSvQBEJi"
      },
      "source": [
        "# Multi Line Comments"
      ]
    },
    {
      "cell_type": "markdown",
      "metadata": {
        "id": "ZFo3AZQIBEJj"
      },
      "source": [
        "If we have comments that extend multiple lines, one way of doing it is to use hash (#) in the beginning of each line."
      ]
    },
    {
      "cell_type": "code",
      "execution_count": null,
      "metadata": {
        "id": "lGcHjd5KBEJj"
      },
      "outputs": [],
      "source": [
        "# this is one way of\n",
        "# doing multi line comments\n",
        "# Multiple lines\n",
        "# a better of way doing is below"
      ]
    },
    {
      "cell_type": "markdown",
      "metadata": {
        "id": "xHj0UIuaBEJj"
      },
      "source": [
        "Another way of doing this is to use triple quotes, either ''' or \"\"\"."
      ]
    },
    {
      "cell_type": "code",
      "execution_count": null,
      "metadata": {
        "id": "o9NWw7beBEJj",
        "outputId": "bb4b7db1-9fcf-48a0-ee5d-8a44ac8a5c71",
        "colab": {
          "base_uri": "https://localhost:8080/",
          "height": 35
        }
      },
      "outputs": [
        {
          "output_type": "execute_result",
          "data": {
            "text/plain": [
              "'This is also a a@ = 10 \\nperfect example of\\nmulti-line comments\\nyou can add as many as possible if you need'"
            ],
            "application/vnd.google.colaboratory.intrinsic+json": {
              "type": "string"
            }
          },
          "metadata": {},
          "execution_count": 46
        }
      ],
      "source": [
        "\"\"\"This is also a a@ = 10\n",
        "perfect example of\n",
        "multi-line comments\n",
        "you can add as many as possible if you need\"\"\""
      ]
    },
    {
      "cell_type": "code",
      "source": [
        "def add_num(a,b):\n",
        "  # This function takes 2 values a,b and retunrs sum on a+b\n",
        "  return a+b\n",
        "\n",
        "print(add_num(2,3))"
      ],
      "metadata": {
        "colab": {
          "base_uri": "https://localhost:8080/"
        },
        "id": "rgSr5OZH1VWs",
        "outputId": "4656bfdb-8ca0-4394-e598-ccdeb8e23cb8"
      },
      "execution_count": null,
      "outputs": [
        {
          "output_type": "stream",
          "name": "stdout",
          "text": [
            "5\n"
          ]
        }
      ]
    },
    {
      "cell_type": "markdown",
      "metadata": {
        "id": "0pa-72uoBEJj"
      },
      "source": [
        "# DocString in python"
      ]
    },
    {
      "cell_type": "markdown",
      "metadata": {
        "id": "8zGUaqloBEJj"
      },
      "source": [
        "Docstring is short for documentation string.\n",
        "\n",
        "It is a string that occurs as the first statement in a module, function, class, or method definition."
      ]
    },
    {
      "cell_type": "code",
      "execution_count": null,
      "metadata": {
        "id": "EBOWS4S-BEJj",
        "outputId": "c6c4d633-0b61-4dbf-b8f3-17531d08b7aa",
        "colab": {
          "base_uri": "https://localhost:8080/"
        }
      },
      "outputs": [
        {
          "output_type": "stream",
          "name": "stdout",
          "text": [
            "30\n"
          ]
        }
      ],
      "source": [
        "def triple(num):\n",
        "    \"\"\"\n",
        "    function to Triple the given number\n",
        "    \"\"\"\n",
        "    return 3 * num\n",
        "print(triple(10))"
      ]
    }
  ],
  "metadata": {
    "kernelspec": {
      "display_name": "Python 3",
      "language": "python",
      "name": "python3"
    },
    "language_info": {
      "codemirror_mode": {
        "name": "ipython",
        "version": 3
      },
      "file_extension": ".py",
      "mimetype": "text/x-python",
      "name": "python",
      "nbconvert_exporter": "python",
      "pygments_lexer": "ipython3",
      "version": "3.9.5"
    },
    "colab": {
      "provenance": []
    }
  },
  "nbformat": 4,
  "nbformat_minor": 0
}