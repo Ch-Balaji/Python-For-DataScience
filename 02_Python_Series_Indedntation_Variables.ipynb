{
  "nbformat": 4,
  "nbformat_minor": 0,
  "metadata": {
    "colab": {
      "provenance": []
    },
    "kernelspec": {
      "name": "python3",
      "display_name": "Python 3"
    },
    "language_info": {
      "name": "python"
    }
  },
  "cells": [
    {
      "cell_type": "markdown",
      "source": [
        "# Python Indentation"
      ],
      "metadata": {
        "id": "govXBPmM-LW5"
      }
    },
    {
      "cell_type": "markdown",
      "source": [
        "1. In programming, languages such as C, C++, and Java use braces { } to show a group of code. However, in Python, indentation is used instead.\n",
        "\n",
        "2. A section of code, like in a function or loop, begins with an indented line and stops with the first line that is not indented.\n",
        "\n",
        "3. You get to choose how much to indent, but it has to be the same for the whole section.\n",
        "\n",
        "4. Usually, four spaces are used for indentation in Python, and it's better than using tabs."
      ],
      "metadata": {
        "id": "N5yD4YgM-Oyu"
      }
    },
    {
      "cell_type": "code",
      "execution_count": null,
      "metadata": {
        "colab": {
          "base_uri": "https://localhost:8080/"
        },
        "id": "1CutSjIr9wBt",
        "outputId": "0f5459c5-e138-4589-d1b6-bc39eb81d1f5"
      },
      "outputs": [
        {
          "output_type": "stream",
          "name": "stdout",
          "text": [
            "0\n",
            "0\n",
            "1\n",
            "1\n",
            "2\n",
            "2\n",
            "3\n",
            "3\n",
            "4\n",
            "4\n"
          ]
        }
      ],
      "source": [
        "for i in range(5):\n",
        "    print(i)\n",
        "    print(i)"
      ]
    },
    {
      "cell_type": "markdown",
      "source": [
        "1. Indentation can be ignored in line continuation. But it's a good idea to always indent.\n",
        "2. It makes the code more readable.\n",
        "3. Follow industry Standards"
      ],
      "metadata": {
        "id": "5EvozNfF-T6c"
      }
    },
    {
      "cell_type": "code",
      "source": [
        "if True:\n",
        "    print(\"Learning Python Easily\")\n",
        "    a = \"Data Pyramid\"\n",
        "    print(a)"
      ],
      "metadata": {
        "colab": {
          "base_uri": "https://localhost:8080/"
        },
        "id": "4s4QGFbj-R1K",
        "outputId": "c88b6b45-9480-4950-8eb3-1dc611e63c01"
      },
      "execution_count": null,
      "outputs": [
        {
          "output_type": "stream",
          "name": "stdout",
          "text": [
            "Learning Python Easily\n",
            "Data Pyramid\n"
          ]
        }
      ]
    },
    {
      "cell_type": "code",
      "source": [
        "if True: print(\"Learning Python Easily\"); a = \"Data Pyramid\"; print(a)"
      ],
      "metadata": {
        "colab": {
          "base_uri": "https://localhost:8080/"
        },
        "id": "gjNf9CX8-WaE",
        "outputId": "a30b8916-907d-436e-fd4c-c1920e5ce900"
      },
      "execution_count": null,
      "outputs": [
        {
          "output_type": "stream",
          "name": "stdout",
          "text": [
            "Learning Python Easily\n",
            "Data Pyramid\n"
          ]
        }
      ]
    },
    {
      "cell_type": "markdown",
      "source": [
        "But we don't use above method as this is not a standard. It's always recoemmended to use indusrty standard coding."
      ],
      "metadata": {
        "id": "M3fHAJH9L8Mw"
      }
    },
    {
      "cell_type": "markdown",
      "source": [
        "# Multi-Line Statement"
      ],
      "metadata": {
        "id": "2sREJbkA-eKo"
      }
    },
    {
      "cell_type": "markdown",
      "source": [
        "In Python, end of a statement is marked by a newline character. But we can make a statement extend over multiple lines with the line continuation character (\\)."
      ],
      "metadata": {
        "id": "k7UvxQAx-gd9"
      }
    },
    {
      "cell_type": "code",
      "source": [
        "balaji = 1+2+3\n",
        "        +4"
      ],
      "metadata": {
        "colab": {
          "base_uri": "https://localhost:8080/",
          "height": 141
        },
        "id": "r5koHgpxQrlr",
        "outputId": "b8c2bcb9-0f6b-4b3e-d0b1-9ac592e4d1c2"
      },
      "execution_count": null,
      "outputs": [
        {
          "output_type": "error",
          "ename": "IndentationError",
          "evalue": "unexpected indent (<ipython-input-27-d2e2644642f9>, line 2)",
          "traceback": [
            "\u001b[0;36m  File \u001b[0;32m\"<ipython-input-27-d2e2644642f9>\"\u001b[0;36m, line \u001b[0;32m2\u001b[0m\n\u001b[0;31m    +4\u001b[0m\n\u001b[0m    ^\u001b[0m\n\u001b[0;31mIndentationError\u001b[0m\u001b[0;31m:\u001b[0m unexpected indent\n"
          ]
        }
      ]
    },
    {
      "cell_type": "code",
      "source": [
        "balaji = 1 + 2 + 3 + \\\n",
        "    4 + 5 + 6 + \\\n",
        "    7 + 8 + 9 + 10\n",
        "\n",
        "print(balaji)"
      ],
      "metadata": {
        "colab": {
          "base_uri": "https://localhost:8080/"
        },
        "id": "x4Dz4xNO-alX",
        "outputId": "badfb2c1-d3b7-4b54-fe60-3b30ffef426f"
      },
      "execution_count": null,
      "outputs": [
        {
          "output_type": "stream",
          "name": "stdout",
          "text": [
            "55\n"
          ]
        }
      ]
    },
    {
      "cell_type": "code",
      "source": [
        "# Another way is to use parenthesis\n",
        "balaji = (1 + 2 + 3 +\n",
        "    4 + 5 + 6 +\n",
        "    7 + 8 + 9 + 10)\n",
        "print(balaji)"
      ],
      "metadata": {
        "colab": {
          "base_uri": "https://localhost:8080/"
        },
        "id": "Mv8hXXK8MIsq",
        "outputId": "d0b9d1c2-7115-4c56-b93e-0c7b34635f24"
      },
      "execution_count": null,
      "outputs": [
        {
          "output_type": "stream",
          "name": "stdout",
          "text": [
            "55\n"
          ]
        }
      ]
    },
    {
      "cell_type": "code",
      "source": [
        " a = 10; b = 20; c = 30   #put multiple statements in a single line using ;"
      ],
      "metadata": {
        "id": "zbSwo2Ew-iPQ"
      },
      "execution_count": null,
      "outputs": []
    },
    {
      "cell_type": "code",
      "source": [
        "a, b, c = 10, 20, 30\n",
        "print(a,b,c)"
      ],
      "metadata": {
        "colab": {
          "base_uri": "https://localhost:8080/"
        },
        "id": "_RHRku03RFN8",
        "outputId": "74fc9c83-8cb8-4049-9873-36f2583798f3"
      },
      "execution_count": null,
      "outputs": [
        {
          "output_type": "stream",
          "name": "stdout",
          "text": [
            "10 20 30\n"
          ]
        }
      ]
    },
    {
      "cell_type": "markdown",
      "source": [
        "# Variables"
      ],
      "metadata": {
        "id": "cKVEt-4W-vWJ"
      }
    },
    {
      "cell_type": "markdown",
      "source": [
        "1. A variable is a named storage location that stores data or values.\n",
        "2. Variables are used to represent and manipulate data in a program.\n",
        "3. When you create a variable, you are essentially assigning a name to a particular value or data type."
      ],
      "metadata": {
        "id": "lF5cEOZF-vS7"
      }
    },
    {
      "cell_type": "code",
      "source": [
        "# Variable assignment\n",
        "age = 25\n",
        "\n",
        "# Using the variable in a print statement\n",
        "print(\"I am\", age, \"years old.\")"
      ],
      "metadata": {
        "colab": {
          "base_uri": "https://localhost:8080/"
        },
        "id": "2bRDugE7-qL4",
        "outputId": "5db32130-392f-48d3-beb6-eb79cd0c7a67"
      },
      "execution_count": null,
      "outputs": [
        {
          "output_type": "stream",
          "name": "stdout",
          "text": [
            "I am 25 years old.\n"
          ]
        }
      ]
    },
    {
      "cell_type": "markdown",
      "source": [
        "# Variable Naming Rules:\n",
        "\n",
        "Variable is a space that is allocated in the memory. And we are giving a name to it.\n",
        "1. Variable names must begin with a letter (a-z, A-Z) or an underscore (_).\n",
        "2. The remaining characters in a variable name can include letters, numbers, and underscores.\n",
        "3. Variable names are case-sensitive (e.g., age and Age are different variables).\n",
        "\n",
        "## Dynamic Typing:\n",
        "\n",
        "1. Python is dynamically typed, meaning you don't need to explicitly declare the type of a variable.\n",
        "2. The interpreter determines the type based on the value assigned."
      ],
      "metadata": {
        "id": "oFo97nM0_EaH"
      }
    },
    {
      "cell_type": "code",
      "source": [
        "# Multiple variable assigenment\n",
        "\n",
        "a, b, c = 10, 5.5, \"ML\"\n",
        "\n",
        "# or we can do this\n",
        "\n",
        "a = 10\n",
        "b = 5.5\n",
        "c = \"ML\""
      ],
      "metadata": {
        "id": "XgUfD_dD--bT"
      },
      "execution_count": null,
      "outputs": []
    },
    {
      "cell_type": "markdown",
      "source": [
        "# Storage Locations"
      ],
      "metadata": {
        "id": "xy1HC5jX_M2g"
      }
    },
    {
      "cell_type": "code",
      "source": [
        "a = 3\n",
        "\n",
        "print(id(a))"
      ],
      "metadata": {
        "colab": {
          "base_uri": "https://localhost:8080/"
        },
        "id": "zNpqQtcG_HFk",
        "outputId": "dc7dc133-550f-4012-8b2b-9f98530b5244"
      },
      "execution_count": null,
      "outputs": [
        {
          "output_type": "stream",
          "name": "stdout",
          "text": [
            "133249308131632\n"
          ]
        }
      ]
    },
    {
      "cell_type": "code",
      "source": [
        "y = 3\n",
        "\n",
        "print(id(y))"
      ],
      "metadata": {
        "colab": {
          "base_uri": "https://localhost:8080/"
        },
        "id": "5cyTACaE_MGw",
        "outputId": "e8d5dcbb-800e-44af-c725-bf0c404f9d95"
      },
      "execution_count": null,
      "outputs": [
        {
          "output_type": "stream",
          "name": "stdout",
          "text": [
            "133249308131632\n"
          ]
        }
      ]
    },
    {
      "cell_type": "code",
      "source": [
        "y = 5\n",
        "print(id(y))"
      ],
      "metadata": {
        "colab": {
          "base_uri": "https://localhost:8080/"
        },
        "id": "WKQzucVdSzJN",
        "outputId": "7d57c5bf-9658-4c79-9cf8-5ab4270d7227"
      },
      "execution_count": null,
      "outputs": [
        {
          "output_type": "stream",
          "name": "stdout",
          "text": [
            "133249308131696\n"
          ]
        }
      ]
    },
    {
      "cell_type": "markdown",
      "source": [
        "Observation:\n",
        "\n",
        "a and y points to same memory location"
      ],
      "metadata": {
        "id": "9nbWDaI4_R4L"
      }
    },
    {
      "cell_type": "code",
      "source": [
        "a = 2\n",
        "print(id(a))"
      ],
      "metadata": {
        "colab": {
          "base_uri": "https://localhost:8080/"
        },
        "id": "YD_Zx7gP_QO0",
        "outputId": "24ff7a68-c04a-4917-c432-9f335e957e8c"
      },
      "execution_count": null,
      "outputs": [
        {
          "output_type": "stream",
          "name": "stdout",
          "text": [
            "134482769477904\n"
          ]
        }
      ]
    },
    {
      "cell_type": "code",
      "source": [],
      "metadata": {
        "id": "RzmSaInk_TRI"
      },
      "execution_count": null,
      "outputs": []
    }
  ]
}