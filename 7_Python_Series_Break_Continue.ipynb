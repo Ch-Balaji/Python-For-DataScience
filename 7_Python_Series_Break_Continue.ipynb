{
  "nbformat": 4,
  "nbformat_minor": 0,
  "metadata": {
    "colab": {
      "provenance": []
    },
    "kernelspec": {
      "name": "python3",
      "display_name": "Python 3"
    },
    "language_info": {
      "name": "python"
    }
  },
  "cells": [
    {
      "cell_type": "markdown",
      "source": [
        "# Break"
      ],
      "metadata": {
        "id": "gFQJ5ARRiQz1"
      }
    },
    {
      "cell_type": "markdown",
      "source": [
        "1. break and continue statements can alter the flow of a normal loop.\n",
        "2. The break statement is used to exit a loop prematurely. When a break statement is encountered within a loop, the loop is immediately terminated, and the program continues with the next statement after the loop."
      ],
      "metadata": {
        "id": "9smM7_Gwh1pS"
      }
    },
    {
      "cell_type": "code",
      "execution_count": null,
      "metadata": {
        "id": "mLc04lZffGiJ"
      },
      "outputs": [],
      "source": [
        "# Syntax\n",
        "for variable in iterable:\n",
        "    # Code to be executed for each iteration\n",
        "    if condition:\n",
        "        break  # Exit the loop if the condition is true\n",
        "    # ...\n",
        "    else condition:\n"
      ]
    },
    {
      "cell_type": "code",
      "source": [
        "numbers = [1, 2, 3, 4, 5] # Find number 3.\n",
        "\n",
        "for num in numbers:\n",
        "    if num == 3:\n",
        "        print(\"Found 3!\")\n",
        "        break\n",
        "    print(num)"
      ],
      "metadata": {
        "id": "yUYTZtcsh5XZ",
        "colab": {
          "base_uri": "https://localhost:8080/"
        },
        "outputId": "d3f7f82b-7a3e-4677-be14-a800bcd91a87"
      },
      "execution_count": null,
      "outputs": [
        {
          "output_type": "stream",
          "name": "stdout",
          "text": [
            "1\n",
            "2\n",
            "Found 3!\n"
          ]
        }
      ]
    },
    {
      "cell_type": "code",
      "source": [
        "numbers = [1, 2, 3, 4]\n",
        "for num in numbers:          #iterating over list\n",
        "    if num == 5:\n",
        "        break\n",
        "    print(num)\n",
        "else:\n",
        "    print(\"in the else-block\")\n",
        "print(\"Outside of for loop\")"
      ],
      "metadata": {
        "colab": {
          "base_uri": "https://localhost:8080/"
        },
        "id": "k-qLwCM2qzEu",
        "outputId": "b08c23b8-5e66-493f-cabf-c7d60b8b90e8"
      },
      "execution_count": null,
      "outputs": [
        {
          "output_type": "stream",
          "name": "stdout",
          "text": [
            "1\n",
            "2\n",
            "3\n",
            "4\n",
            "in the else-block\n",
            "Outside of for loop\n"
          ]
        }
      ]
    },
    {
      "cell_type": "markdown",
      "source": [
        "Break: Imagine searching for an element in a list. Once the element is found, there's no need to continue searching. The break statement can be used to exit the loop at that point."
      ],
      "metadata": {
        "id": "c0Jvn3Qdpfbg"
      }
    },
    {
      "cell_type": "markdown",
      "source": [
        "# Continue Statement"
      ],
      "metadata": {
        "id": "LcDWQhuEpMgI"
      }
    },
    {
      "cell_type": "markdown",
      "source": [
        "The continue statement is used to skip the rest of the code inside a loop for the current iteration and move on to the next iteration. Here's an example:"
      ],
      "metadata": {
        "id": "sE5AS0aVpP4I"
      }
    },
    {
      "cell_type": "code",
      "source": [
        "# Example using continue statement\n",
        "\n",
        "numbers = [1, 2, 3, 4, 5, 6]\n",
        "\n",
        "for num in numbers:\n",
        "    if num % 2 == 0:\n",
        "        print(f\"Skipping even number: {num}\")\n",
        "        continue\n",
        "    print(num)\n"
      ],
      "metadata": {
        "colab": {
          "base_uri": "https://localhost:8080/"
        },
        "id": "_EhVC-pyo0a8",
        "outputId": "37e2952e-a024-4de6-8269-7333743279fd"
      },
      "execution_count": null,
      "outputs": [
        {
          "output_type": "stream",
          "name": "stdout",
          "text": [
            "1\n",
            "Skipping even number: 2\n",
            "3\n",
            "Skipping even number: 4\n",
            "5\n",
            "Skipping even number: 6\n"
          ]
        }
      ]
    },
    {
      "cell_type": "markdown",
      "source": [
        "Continue: In data processing, you might want to skip certain records that don't meet specific criteria. The continue statement helps you skip those records and continue processing the rest."
      ],
      "metadata": {
        "id": "VkZnM-ORph7O"
      }
    },
    {
      "cell_type": "markdown",
      "source": [
        "# Pass Statement"
      ],
      "metadata": {
        "id": "Ash4VV2FpWvS"
      }
    },
    {
      "cell_type": "markdown",
      "source": [
        "The pass statement is a no-operation statement. It is used when a statement is syntactically required but you don't want to execute any code. Here's an example:"
      ],
      "metadata": {
        "id": "ez3faO9VpZIM"
      }
    },
    {
      "cell_type": "code",
      "source": [
        "# Example using pass statement\n",
        "\n",
        "numbers = [1, 2, 3, 4, 5, 6]\n",
        "\n",
        "for num in numbers:\n",
        "    if num == 4:\n",
        "        print(\"Found 4. Not doing anything.\")\n",
        "        pass\n",
        "    print(num)"
      ],
      "metadata": {
        "colab": {
          "base_uri": "https://localhost:8080/"
        },
        "id": "6hfo9HFHpZz6",
        "outputId": "6574f44a-26ba-4e18-a593-2b98113c0911"
      },
      "execution_count": null,
      "outputs": [
        {
          "output_type": "stream",
          "name": "stdout",
          "text": [
            "1\n",
            "2\n",
            "3\n",
            "Found 4. Not doing anything.\n",
            "4\n",
            "5\n",
            "6\n"
          ]
        }
      ]
    },
    {
      "cell_type": "code",
      "source": [
        "def add_numbers(a,b):\n",
        "    pass\n",
        "\n",
        "print(\"Hi\")"
      ],
      "metadata": {
        "colab": {
          "base_uri": "https://localhost:8080/"
        },
        "id": "J7yscXUN8SFP",
        "outputId": "978c5d3a-4547-442e-978b-7a9651db7a72"
      },
      "execution_count": null,
      "outputs": [
        {
          "output_type": "stream",
          "name": "stdout",
          "text": [
            "Hi\n"
          ]
        }
      ]
    },
    {
      "cell_type": "markdown",
      "source": [
        "Pass: When defining classes, functions, or conditional blocks, you might not have the implementation details yet. Instead of leaving it empty or causing a syntax error, you can use pass to indicate that no action should be taken."
      ],
      "metadata": {
        "id": "wbxoeblUpkAu"
      }
    }
  ]
}