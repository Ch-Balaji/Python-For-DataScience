{
  "nbformat": 4,
  "nbformat_minor": 0,
  "metadata": {
    "colab": {
      "provenance": []
    },
    "kernelspec": {
      "name": "python3",
      "display_name": "Python 3"
    },
    "language_info": {
      "name": "python"
    }
  },
  "cells": [
    {
      "cell_type": "markdown",
      "source": [
        "# Control Flow\n"
      ],
      "metadata": {
        "id": "ZdF-_SAYLb6p"
      }
    },
    {
      "cell_type": "markdown",
      "source": [
        "# If else conditions"
      ],
      "metadata": {
        "id": "Yj_0T_CwrQcA"
      }
    },
    {
      "cell_type": "code",
      "source": [
        "# The if statement is used to execute a block of code only if a certain condition is true.\n",
        "if condition:\n",
        "    # Code to be executed if the condition is true\n",
        "    # ...\n"
      ],
      "metadata": {
        "id": "voZhcJmarS94"
      },
      "execution_count": null,
      "outputs": []
    },
    {
      "cell_type": "code",
      "source": [
        "new_mobile_price = 40000\n",
        "budget = 25000\n",
        "\n",
        "if budget > new_mobile_price:\n",
        "    print(\"I am getting new smartphone\")"
      ],
      "metadata": {
        "id": "GD5-Rpc_9U7_"
      },
      "execution_count": null,
      "outputs": []
    },
    {
      "cell_type": "code",
      "source": [
        "if budget < new_mobile_price:\n",
        "    print(\"I am NOT getting new smartphone\")"
      ],
      "metadata": {
        "colab": {
          "base_uri": "https://localhost:8080/"
        },
        "id": "l18HIiPfXQH2",
        "outputId": "e185f710-0a65-46e5-b805-220e992c1cf7"
      },
      "execution_count": null,
      "outputs": [
        {
          "output_type": "stream",
          "name": "stdout",
          "text": [
            "I am NOT getting new smartphone\n"
          ]
        }
      ]
    },
    {
      "cell_type": "code",
      "source": [
        "if budget > new_mobile_price: print(\"I am getting new smartphone\")"
      ],
      "metadata": {
        "id": "quStZ70cSfXi"
      },
      "execution_count": null,
      "outputs": []
    },
    {
      "cell_type": "code",
      "source": [
        "# Else\n",
        "\n",
        "if condition:\n",
        "    # Code to be executed if the condition is true\n",
        "    # ...\n",
        "else:\n",
        "    # Code to be executed if the condition is false\n",
        "    # ...\n"
      ],
      "metadata": {
        "id": "7DbuFDQ8rfDt"
      },
      "execution_count": null,
      "outputs": []
    },
    {
      "cell_type": "code",
      "source": [
        "new_mobile_price = 25000\n",
        "budget = 40000"
      ],
      "metadata": {
        "id": "MN3qormMTFGB"
      },
      "execution_count": null,
      "outputs": []
    },
    {
      "cell_type": "code",
      "source": [
        "if budget<new_mobile_price :\n",
        "    print(\"I am not getting smart phone\")\n",
        "else:\n",
        "    print(\"I am getting a smart phone\")"
      ],
      "metadata": {
        "colab": {
          "base_uri": "https://localhost:8080/"
        },
        "id": "hs-GbGTJS5Iy",
        "outputId": "44582eea-3f67-46da-b9fb-e4e239991e52"
      },
      "execution_count": null,
      "outputs": [
        {
          "output_type": "stream",
          "name": "stdout",
          "text": [
            "I am getting a smart phone\n"
          ]
        }
      ]
    },
    {
      "cell_type": "code",
      "source": [
        "percentage = 75\n",
        "\n",
        "if percentage >= 90:\n",
        "    print(\"Grade: A\")\n",
        "\n",
        "if percentage >= 80:\n",
        "    print(\"Grade: B\")\n",
        "\n",
        "if percentage >= 70:\n",
        "    print(\"Grade: C\")\n",
        "\n",
        "if percentage >= 60:\n",
        "    print(\"Grade: D\")\n",
        "\n",
        "if percentage >= 50:\n",
        "    print(\"Grade: E\")"
      ],
      "metadata": {
        "id": "sJq2yYhV8DeV",
        "colab": {
          "base_uri": "https://localhost:8080/"
        },
        "outputId": "d4a86077-b248-4933-97ca-8f453185f0b6"
      },
      "execution_count": null,
      "outputs": [
        {
          "output_type": "stream",
          "name": "stdout",
          "text": [
            "Grade: C\n",
            "Grade: D\n",
            "Grade: E\n"
          ]
        }
      ]
    },
    {
      "cell_type": "code",
      "source": [
        "if percentage >90 and percentage <99:\n",
        "    print(\"grade : A\")\n",
        "\n",
        "if percentage >=80 and percentage <89:\n",
        "    print(\"grade : B\")\n",
        "\n",
        "if percentage >=70 and percentage <79:\n",
        "    print(\"grade : c\")\n",
        "\n",
        "if percentage >=60 and percentage <69:\n",
        "    print(\"grade : D\")"
      ],
      "metadata": {
        "colab": {
          "base_uri": "https://localhost:8080/"
        },
        "id": "LivMUfqKcGI1",
        "outputId": "00282e09-3f54-4c47-c1fd-005688de4968"
      },
      "execution_count": null,
      "outputs": [
        {
          "output_type": "stream",
          "name": "stdout",
          "text": [
            "grade : c\n"
          ]
        }
      ]
    },
    {
      "cell_type": "markdown",
      "source": [
        "3. elif Statement:\n",
        "The elif statement (short for \"else if\") is used to check multiple conditions in sequence. It is used after an if statement and before an optional else statement."
      ],
      "metadata": {
        "id": "HPstax5Xrl3y"
      }
    },
    {
      "cell_type": "code",
      "source": [
        "# Syntax\n",
        "\n",
        "if condition1:\n",
        "    # Code to be executed if condition1 is true\n",
        "    # ...\n",
        "elif condition2:\n",
        "    # Code to be executed if condition2 is true\n",
        "    # ...\n",
        "elif condition3:\n",
        "    # Code to be executed if condition1 and coniditon2 is true\n",
        "    # ...\n",
        "else:\n",
        "    # Code to be executed if no conditions are true\n",
        "    # ...\n"
      ],
      "metadata": {
        "id": "SOt3vASCrmV0"
      },
      "execution_count": null,
      "outputs": []
    },
    {
      "cell_type": "code",
      "source": [
        "# Example 3: Determining the grade based on percentage\n",
        "percentage = 75\n",
        "\n",
        "if percentage >= 90:\n",
        "    print(\"Grade: A\")\n",
        "elif percentage >= 80:\n",
        "    print(\"Grade: B\")\n",
        "elif percentage >= 70:\n",
        "    print(\"Grade: C\")\n",
        "elif percentage >= 60:\n",
        "    print(\"Grade: D\")\n",
        "else:\n",
        "    print(\"Grade: F\")\n",
        "\n",
        "print(\"End\")"
      ],
      "metadata": {
        "id": "2plQ0SNa7tey",
        "colab": {
          "base_uri": "https://localhost:8080/"
        },
        "outputId": "dcce6cb9-a61f-4745-ecc3-e89422c32fdc"
      },
      "execution_count": null,
      "outputs": [
        {
          "output_type": "stream",
          "name": "stdout",
          "text": [
            "Grade: C\n",
            "End\n"
          ]
        }
      ]
    },
    {
      "cell_type": "markdown",
      "source": [
        "# Nested"
      ],
      "metadata": {
        "id": "wnh_OiHH_YGl"
      }
    },
    {
      "cell_type": "code",
      "source": [
        "# Example: Nested If-Else and Elif\n",
        "num = 0\n",
        "\n",
        "if num > 0:\n",
        "    print(\"Positive number\")\n",
        "\n",
        "    if num % 2 == 0:\n",
        "        print(\"Even number\")\n",
        "    else:\n",
        "        print(\"Odd number\")\n",
        "\n",
        "elif num < 0:\n",
        "    print(\"Negative number\")\n",
        "\n",
        "else:\n",
        "    print(\"Zero\")\n"
      ],
      "metadata": {
        "id": "VXnv0OT3_ZO0",
        "colab": {
          "base_uri": "https://localhost:8080/"
        },
        "outputId": "de05bca2-6cbb-4dcf-935d-25847d56dc2d"
      },
      "execution_count": null,
      "outputs": [
        {
          "output_type": "stream",
          "name": "stdout",
          "text": [
            "Zero\n"
          ]
        }
      ]
    },
    {
      "cell_type": "markdown",
      "source": [
        "1. You can build multiple nested if else statements.\n",
        "2. But not recommended to go deeper more than 3 nested loops."
      ],
      "metadata": {
        "id": "-RLeCgOk_gSF"
      }
    },
    {
      "cell_type": "markdown",
      "source": [
        "## While loop\n",
        "1. while loop is used to repeatedly execute a block of code as long as a certain condition is true.\n",
        "2. Initialization: Before entering the loop, you need to initialize any variables used in the loop condition.\n",
        "3. Condition: The loop continues to execute as long as the specified condition is true.\n",
        "4. Code Block: The indented block of code following the while statement is the body of the loop. This block is executed repeatedly while the condition is true.\n",
        "5. Iteration: It's crucial to ensure that the loop condition will eventually become false to avoid an infinite loop. This is typically achieved by modifying a variable within the loop."
      ],
      "metadata": {
        "id": "4TEVtzrTL9my"
      }
    },
    {
      "cell_type": "markdown",
      "source": [
        "![whileloop.jpg](data:image/jpeg;base64,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)"
      ],
      "metadata": {
        "id": "o64OyiifZ-uf"
      }
    },
    {
      "cell_type": "code",
      "source": [
        "# Initiliase\n",
        "while condition:\n",
        "    # Code to be executed while the condition is true\n",
        "    # ...\n"
      ],
      "metadata": {
        "id": "1ggD6ZXcMNSm"
      },
      "execution_count": null,
      "outputs": []
    },
    {
      "cell_type": "code",
      "execution_count": null,
      "metadata": {
        "id": "XFm9hw1TLXYW",
        "colab": {
          "base_uri": "https://localhost:8080/"
        },
        "outputId": "6a9aff74-4b47-4fd8-e3e5-e9fa3e4aac50"
      },
      "outputs": [
        {
          "output_type": "stream",
          "name": "stdout",
          "text": [
            "Balaji is a great Teacher. --   1\n",
            "Balaji is a great Teacher. --   2\n",
            "Balaji is a great Teacher. --   3\n",
            "Balaji is a great Teacher. --   4\n",
            "Balaji is a great Teacher. --   5\n"
          ]
        }
      ],
      "source": [
        "# Example: Print numbers from 1 to 5 using a while loop\n",
        "\n",
        "counter = 1\n",
        "\n",
        "while counter <= 5:\n",
        "    print(\"Balaji is a great Teacher. --  \", counter)\n",
        "    counter += 1"
      ]
    },
    {
      "cell_type": "code",
      "source": [
        "counter = 5\n",
        "\n",
        "while counter >= 1:\n",
        "    print(\"Balaji is a great Teacher. --  \",  counter)\n",
        "    counter -= 1"
      ],
      "metadata": {
        "colab": {
          "base_uri": "https://localhost:8080/"
        },
        "id": "fpC7wy9ZtQ6J",
        "outputId": "77094d02-d9c5-47f8-a2a6-54dc8c7c265f"
      },
      "execution_count": null,
      "outputs": [
        {
          "output_type": "stream",
          "name": "stdout",
          "text": [
            "Balaji is a great Teacher. --   5\n",
            "Balaji is a great Teacher. --   4\n",
            "Balaji is a great Teacher. --   3\n",
            "Balaji is a great Teacher. --   2\n",
            "Balaji is a great Teacher. --   1\n"
          ]
        }
      ]
    },
    {
      "cell_type": "code",
      "source": [
        "# Nested While Loop\n",
        "counter = 1\n",
        "\n",
        "counter_2 = 1\n",
        "while counter <= 5:\n",
        "    print(\"Balaji is a great Teacher. --  \", counter)\n",
        "    while counter_2 <=5:\n",
        "        print(\"Yes he is great\", counter_2)\n",
        "        counter_2 +=1\n",
        "    counter += 1\n"
      ],
      "metadata": {
        "colab": {
          "base_uri": "https://localhost:8080/"
        },
        "id": "5n6eJOOEuFkU",
        "outputId": "8b47ea24-e039-46cd-e0b2-edc909c7a225"
      },
      "execution_count": null,
      "outputs": [
        {
          "output_type": "stream",
          "name": "stdout",
          "text": [
            "Balaji is a great Teacher. --   1\n",
            "Yes he is great 1\n",
            "Yes he is great 2\n",
            "Yes he is great 3\n",
            "Yes he is great 4\n",
            "Yes he is great 5\n",
            "Balaji is a great Teacher. --   2\n",
            "Balaji is a great Teacher. --   3\n",
            "Balaji is a great Teacher. --   4\n",
            "Balaji is a great Teacher. --   5\n"
          ]
        }
      ]
    },
    {
      "cell_type": "code",
      "source": [
        "# Getting squares of Numbers.\n",
        "\n",
        "numbers = [2, 3, 5, 7, 10]\n",
        "\n",
        "sum_of_squares = 0\n",
        "index = 0\n",
        "\n",
        "while index < len(numbers):\n",
        "    sum_of_squares =  sum_of_squares + numbers[index] ** 2\n",
        "    index += 1\n",
        "\n",
        "print(\"Sum of squares is: {}\".format(sum_of_squares))"
      ],
      "metadata": {
        "id": "S2x9R98dMwpf",
        "colab": {
          "base_uri": "https://localhost:8080/"
        },
        "outputId": "6279bc61-91c9-44fe-ee88-0b0b450868f5"
      },
      "execution_count": null,
      "outputs": [
        {
          "output_type": "stream",
          "name": "stdout",
          "text": [
            "Sum of squares is: 187\n"
          ]
        }
      ]
    },
    {
      "cell_type": "markdown",
      "source": [
        "# While loop with Else"
      ],
      "metadata": {
        "id": "Jn4DhP_-a7Nm"
      }
    },
    {
      "cell_type": "markdown",
      "source": [
        "In Python, a while loop can have an associated else block that is executed when the loop condition becomes False. The else block is optional and is often used to specify a block of code to run after the loop has completed its iteration. The else block is not executed if the loop is terminated by a break statement."
      ],
      "metadata": {
        "id": "mnMJdISda-LP"
      }
    },
    {
      "cell_type": "code",
      "source": [
        "# Snyntax\n",
        "\n",
        "while condition:\n",
        "    # Code to be executed while the condition is true\n",
        "    # ...\n",
        "\n",
        "else:\n",
        "    # Code to be executed when the condition becomes false\n",
        "    # ...\n"
      ],
      "metadata": {
        "id": "STf7ohywa9Hs"
      },
      "execution_count": null,
      "outputs": []
    },
    {
      "cell_type": "code",
      "source": [
        "counter = 5\n",
        "\n",
        "while counter >= 1:\n",
        "    print(\"Balaji is a great Teacher. --  \",  counter)\n",
        "    counter -= 1\n",
        "else:\n",
        "    print(\"Counter reached\")"
      ],
      "metadata": {
        "colab": {
          "base_uri": "https://localhost:8080/"
        },
        "id": "anZzTxD6yZGq",
        "outputId": "3e291ac1-323f-4354-b5f7-fd96e6ae664e"
      },
      "execution_count": null,
      "outputs": [
        {
          "output_type": "stream",
          "name": "stdout",
          "text": [
            "Balaji is a great Teacher. --   5\n",
            "Balaji is a great Teacher. --   4\n",
            "Balaji is a great Teacher. --   3\n",
            "Balaji is a great Teacher. --   2\n",
            "Balaji is a great Teacher. --   1\n",
            "Counter reached\n"
          ]
        }
      ]
    },
    {
      "cell_type": "code",
      "source": [
        "# Infinite loop\n",
        "\n",
        "counter = 1\n",
        "while counter>0:\n",
        "    print(\"Infinite loop\")\n",
        "    counter +=1"
      ],
      "metadata": {
        "id": "Xaeb00ETvs2T"
      },
      "execution_count": null,
      "outputs": []
    }
  ]
}