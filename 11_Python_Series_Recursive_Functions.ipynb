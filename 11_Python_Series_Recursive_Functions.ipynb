{
  "nbformat": 4,
  "nbformat_minor": 0,
  "metadata": {
    "colab": {
      "provenance": []
    },
    "kernelspec": {
      "name": "python3",
      "display_name": "Python 3"
    },
    "language_info": {
      "name": "python"
    }
  },
  "cells": [
    {
      "cell_type": "markdown",
      "source": [
        "# Understanding Recursion:\n",
        "1. Base Case: Every recursive function needs to have a base case, which is a condition that stops the recursion from continuing indefinitely. Without a base case, the function would keep calling itself forever, leading to a stack overflow.\n",
        "\n",
        "2. Recursive Case: This is the part of the function that includes the recursive call. The recursive case must work towards reaching the base case by altering the input."
      ],
      "metadata": {
        "id": "IMakEVwtgedt"
      }
    },
    {
      "cell_type": "code",
      "source": [
        "# Sample Base code\n",
        "\n",
        "def recursive_function(parameters):\n",
        "    if base_case_condition(parameters):\n",
        "        return base_case_value\n",
        "    else:\n",
        "        return recursive_function(modified_parameters)\n"
      ],
      "metadata": {
        "id": "WebVF60pgkOT"
      },
      "execution_count": null,
      "outputs": []
    },
    {
      "cell_type": "markdown",
      "source": [
        "# Factorial?\n",
        "\n",
        "1. Representation is. !\n",
        "2. By default 0! = 1 and 1! = 1"
      ],
      "metadata": {
        "id": "bIdD2W4Df2dV"
      }
    },
    {
      "cell_type": "code",
      "execution_count": null,
      "metadata": {
        "id": "EljDZfTZfQHG"
      },
      "outputs": [],
      "source": [
        "# Factorial(7) = 7*6*5*4*3*2*1\n",
        "# Factorial(6) = 6*5*4*3*2*1\n",
        "# Factorial(5) = 5*4*3*2*1\n",
        "# Factorial(4) = 4*3*2*1"
      ]
    },
    {
      "cell_type": "code",
      "source": [
        "# Factorial of n = n * (n-1)!"
      ],
      "metadata": {
        "id": "yYO-IpOqgJ0l"
      },
      "execution_count": null,
      "outputs": []
    },
    {
      "cell_type": "code",
      "source": [
        "def factorial(n):\n",
        "    # Base case: if n is 0, return 1\n",
        "    if n == 0:\n",
        "        return 1\n",
        "    # Recursive case: n! = n * (n-1)!\n",
        "    else:\n",
        "        return n * factorial(n - 1)\n",
        "\n",
        "# Example usage:\n",
        "print(factorial(5))  # Output: 120\n"
      ],
      "metadata": {
        "id": "rt2R6MUUgx3B",
        "colab": {
          "base_uri": "https://localhost:8080/"
        },
        "outputId": "e3df135e-0b2d-4a40-e5cf-e467f38c5649"
      },
      "execution_count": null,
      "outputs": [
        {
          "output_type": "stream",
          "name": "stdout",
          "text": [
            "120\n"
          ]
        }
      ]
    },
    {
      "cell_type": "code",
      "source": [
        "# Example usage:\n",
        "print(factorial(7))"
      ],
      "metadata": {
        "id": "eKJ_0g0q4Y5G",
        "colab": {
          "base_uri": "https://localhost:8080/"
        },
        "outputId": "6ab0fb59-082c-45d3-8cc7-5b39aefe0b6b"
      },
      "execution_count": null,
      "outputs": [
        {
          "output_type": "stream",
          "name": "stdout",
          "text": [
            "5040\n"
          ]
        }
      ]
    },
    {
      "cell_type": "code",
      "source": [
        "def factorial(n):\n",
        "    if n < 0:\n",
        "        return \"Factorial does not exist for negative numbers\"\n",
        "    elif n == 0:\n",
        "        return 1\n",
        "    else:\n",
        "        fact = 1\n",
        "        for i in range(1, n + 1):\n",
        "            fact *= i\n",
        "        return fact\n",
        "\n",
        "# Example usage\n",
        "n = 5\n",
        "print(f\"Factorial of {n} is {factorial(n)}\")"
      ],
      "metadata": {
        "colab": {
          "base_uri": "https://localhost:8080/"
        },
        "id": "X8fjCWSXsvD7",
        "outputId": "b4f3642b-8ef3-43b7-9a31-1cc4f545576b"
      },
      "execution_count": null,
      "outputs": [
        {
          "output_type": "stream",
          "name": "stdout",
          "text": [
            "Factorial of 5 is 120\n"
          ]
        }
      ]
    },
    {
      "cell_type": "markdown",
      "source": [
        "# Example 2"
      ],
      "metadata": {
        "id": "Z6XPIm0Hg90h"
      }
    },
    {
      "cell_type": "code",
      "source": [
        "# Write a recursive function to reverse a string."
      ],
      "metadata": {
        "id": "rbc4PvTvg8p7"
      },
      "execution_count": null,
      "outputs": []
    },
    {
      "cell_type": "code",
      "source": [
        "# Recursive Approach\n",
        "# Base Case: If the string is empty or has only one character, it is its own reverse.\n",
        "# Recursive Case: To reverse a string, reverse the substring that excludes the first character, and then append the first character to the end.\n"
      ],
      "metadata": {
        "id": "JMWlDzjVhj87"
      },
      "execution_count": null,
      "outputs": []
    },
    {
      "cell_type": "code",
      "source": [
        "def reverse_string(s):\n",
        "    # Base case: empty string or single character string\n",
        "    if len(s) <= 1:\n",
        "        return s\n",
        "    # Recursive case: reverse the substring and append the first character\n",
        "    else:\n",
        "        return reverse_string(s[1:]) + s[0]\n",
        "\n",
        "# Example usage\n",
        "print(reverse_string(\"hello\"))  # Output: \"olleh\""
      ],
      "metadata": {
        "id": "fzi5TBEjhpvk",
        "colab": {
          "base_uri": "https://localhost:8080/"
        },
        "outputId": "b7609b09-7ed1-4571-d6b9-6fc94d34b85b"
      },
      "execution_count": null,
      "outputs": [
        {
          "output_type": "stream",
          "name": "stdout",
          "text": [
            "olleh\n"
          ]
        }
      ]
    },
    {
      "cell_type": "code",
      "source": [
        "print(reverse_string(\"Python\")) # Output: \"nohtyP\""
      ],
      "metadata": {
        "id": "qndRcb4s4dnJ",
        "colab": {
          "base_uri": "https://localhost:8080/"
        },
        "outputId": "6d95dea0-90b9-4f3d-b9bd-4f01ca964bdf"
      },
      "execution_count": null,
      "outputs": [
        {
          "output_type": "stream",
          "name": "stdout",
          "text": [
            "nohtyP\n"
          ]
        }
      ]
    },
    {
      "cell_type": "markdown",
      "source": [
        "# Disadvantages"
      ],
      "metadata": {
        "id": "u0sSKJojg_oO"
      }
    },
    {
      "cell_type": "markdown",
      "source": [
        "1. Infinite Recursion: Python has a limit on the depth of recursion to prevent a stack overflow. If your recursive call depth goes beyond this limit, you will encounter a RecursionError.\n",
        "\n",
        "2. Performance: Recursive functions can be less efficient than their iterative counterparts due to the overhead of function calls and returns. Each function call uses a stack frame, and too many frames can lead to high memory usage.\n",
        "\n",
        "3. Redundant Calculations: In some recursive algorithms like the naive Fibonacci example, the same calculations are performed multiple times, which is inefficient. This can be mitigated by using techniques like memoization."
      ],
      "metadata": {
        "id": "5vCd9w_2hBhX"
      }
    },
    {
      "cell_type": "markdown",
      "source": [
        "# Lambda Functions"
      ],
      "metadata": {
        "id": "wHiEnK1fmcMv"
      }
    },
    {
      "cell_type": "markdown",
      "source": [
        "Lambda functions in Python, often referred to as anonymous functions, are small, one-line functions defined without a name using the lambda keyword. These functions can have any number of arguments but can only have one expression. The expression is evaluated and returned during function execution. Lambda functions are particularly useful for short-duration use cases where defining a standard function with a def statement is unnecessarily verbose.\n",
        "\n"
      ],
      "metadata": {
        "id": "ilCicI-Ymp7s"
      }
    },
    {
      "cell_type": "code",
      "source": [
        "# Syntax\n",
        "lambda arguments: expression\n"
      ],
      "metadata": {
        "id": "VAh3YBctmec9"
      },
      "execution_count": null,
      "outputs": []
    },
    {
      "cell_type": "markdown",
      "source": [
        "Characteristics\n",
        "1. Anonymous: They are not declared in the standard manner by using the def keyword and do not need a name.\n",
        "2. Inline: Lambda functions are typically used where you might want to use a function once (though you can use them multiple times if referenced by a variable).\n",
        "3. Limited: They are limited to a single expression. This means a lambda function can't have multiple expressions or statements like a normal function."
      ],
      "metadata": {
        "id": "Kvn9tF2rmuEh"
      }
    },
    {
      "cell_type": "code",
      "source": [
        "double = lambda x : x * 2\n",
        "print(double(3))  # Output: 8"
      ],
      "metadata": {
        "colab": {
          "base_uri": "https://localhost:8080/"
        },
        "id": "tL7blMDhrLm9",
        "outputId": "db28a593-343b-4b95-9eac-f46052710462"
      },
      "execution_count": null,
      "outputs": [
        {
          "output_type": "stream",
          "name": "stdout",
          "text": [
            "6\n"
          ]
        }
      ]
    },
    {
      "cell_type": "code",
      "source": [
        "add = lambda x, y: x + y\n",
        "print(add(5, 3))  # Output: 8"
      ],
      "metadata": {
        "id": "ntPZHTyAmsiE",
        "colab": {
          "base_uri": "https://localhost:8080/"
        },
        "outputId": "899a01b5-daa0-4f2c-f8a7-c3c77da9a3ac"
      },
      "execution_count": null,
      "outputs": [
        {
          "output_type": "stream",
          "name": "stdout",
          "text": [
            "8\n"
          ]
        }
      ]
    },
    {
      "cell_type": "code",
      "source": [
        "#Example use with filter()\n",
        "lst = [1, 2, 3, 4, 5]\n",
        "even_lst = list(filter(lambda x: (x%2 == 0), lst))\n",
        "print(even_lst)"
      ],
      "metadata": {
        "colab": {
          "base_uri": "https://localhost:8080/"
        },
        "id": "ihWsHYFcm3Zw",
        "outputId": "7b8bd67f-f21b-4113-e3e0-c90fabc7e9c5"
      },
      "execution_count": null,
      "outputs": [
        {
          "output_type": "stream",
          "name": "stdout",
          "text": [
            "[2, 4]\n"
          ]
        }
      ]
    },
    {
      "cell_type": "code",
      "source": [
        "#Example use with map()\n",
        "lst = [1, 2, 3, 4, 5]\n",
        "new_lst = list(map(lambda x: x ** 2, lst))\n",
        "print(new_lst)\n"
      ],
      "metadata": {
        "id": "fDxEmKMjnNtr",
        "colab": {
          "base_uri": "https://localhost:8080/"
        },
        "outputId": "0fb90337-0e5b-48fd-fb48-3afa031359b7"
      },
      "execution_count": null,
      "outputs": [
        {
          "output_type": "stream",
          "name": "stdout",
          "text": [
            "[1, 4, 9, 16, 25]\n"
          ]
        }
      ]
    },
    {
      "cell_type": "code",
      "source": [
        "#Example use with reduce()\n",
        "from functools import reduce\n",
        "\n",
        "lst = [1, 2, 3, 4, 5]\n",
        "product_lst = reduce(lambda x, y: x*y, lst)\n",
        "print(product_lst)"
      ],
      "metadata": {
        "id": "V76gFAnqnPOg",
        "colab": {
          "base_uri": "https://localhost:8080/"
        },
        "outputId": "30909c9a-fe47-4b1f-c8aa-412b11450285"
      },
      "execution_count": null,
      "outputs": [
        {
          "output_type": "stream",
          "name": "stdout",
          "text": [
            "120\n"
          ]
        }
      ]
    },
    {
      "cell_type": "markdown",
      "source": [
        "1. Advantage: Quick and concise way to create small functions that are not complex.\n",
        "2. Limitation: Restricted to single expressions, so they are not suitable for larger functions with multiple expressions or statements."
      ],
      "metadata": {
        "id": "t1liCAr3nSp2"
      }
    }
  ]
}