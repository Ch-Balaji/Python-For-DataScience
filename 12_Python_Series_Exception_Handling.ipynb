{
  "nbformat": 4,
  "nbformat_minor": 0,
  "metadata": {
    "colab": {
      "provenance": []
    },
    "kernelspec": {
      "name": "python3",
      "display_name": "Python 3"
    },
    "language_info": {
      "name": "python"
    }
  },
  "cells": [
    {
      "cell_type": "code",
      "source": [
        "a = 10\n",
        "print(a)\n",
        "print(\"Hello world\")\n",
        "print(a*2)\n",
        "b = 0\n",
        "print(a/b)\n",
        "print(\"Hello world again\")"
      ],
      "metadata": {
        "colab": {
          "base_uri": "https://localhost:8080/",
          "height": 280
        },
        "id": "Qypfy2eCaeRG",
        "outputId": "4089ebb8-c298-4f25-977a-3c7fc28ff87b"
      },
      "execution_count": null,
      "outputs": [
        {
          "output_type": "stream",
          "name": "stdout",
          "text": [
            "10\n",
            "Hello world\n",
            "20\n"
          ]
        },
        {
          "output_type": "error",
          "ename": "ZeroDivisionError",
          "evalue": "division by zero",
          "traceback": [
            "\u001b[0;31m---------------------------------------------------------------------------\u001b[0m",
            "\u001b[0;31mZeroDivisionError\u001b[0m                         Traceback (most recent call last)",
            "\u001b[0;32m<ipython-input-4-241565963d13>\u001b[0m in \u001b[0;36m<cell line: 6>\u001b[0;34m()\u001b[0m\n\u001b[1;32m      4\u001b[0m \u001b[0mprint\u001b[0m\u001b[0;34m(\u001b[0m\u001b[0ma\u001b[0m\u001b[0;34m*\u001b[0m\u001b[0;36m2\u001b[0m\u001b[0;34m)\u001b[0m\u001b[0;34m\u001b[0m\u001b[0;34m\u001b[0m\u001b[0m\n\u001b[1;32m      5\u001b[0m \u001b[0mb\u001b[0m \u001b[0;34m=\u001b[0m \u001b[0;36m0\u001b[0m\u001b[0;34m\u001b[0m\u001b[0;34m\u001b[0m\u001b[0m\n\u001b[0;32m----> 6\u001b[0;31m \u001b[0mprint\u001b[0m\u001b[0;34m(\u001b[0m\u001b[0ma\u001b[0m\u001b[0;34m/\u001b[0m\u001b[0mb\u001b[0m\u001b[0;34m)\u001b[0m\u001b[0;34m\u001b[0m\u001b[0;34m\u001b[0m\u001b[0m\n\u001b[0m\u001b[1;32m      7\u001b[0m \u001b[0mprint\u001b[0m\u001b[0;34m(\u001b[0m\u001b[0;34m\"Hello world again\"\u001b[0m\u001b[0;34m)\u001b[0m\u001b[0;34m\u001b[0m\u001b[0;34m\u001b[0m\u001b[0m\n",
            "\u001b[0;31mZeroDivisionError\u001b[0m: division by zero"
          ]
        }
      ]
    },
    {
      "cell_type": "markdown",
      "source": [
        "# What are Exceptions?\n",
        "\n",
        "1. In Python, an exception is an error that disrupts the normal flow of a program.\n",
        "2. When Python encounters an error, it stops the current process and passes it up the call stack until it is handled.\n",
        "3. If not handled, the program will crash\n",
        "4. Exceptions could be caused by logical errors in the code, incorrect user inputs, or external conditions, like a file not being accessible."
      ],
      "metadata": {
        "id": "8XrNZG2XkSor"
      }
    },
    {
      "cell_type": "code",
      "source": [
        "print(\"Hello world\")"
      ],
      "metadata": {
        "colab": {
          "base_uri": "https://localhost:8080/"
        },
        "id": "x44z4I8wmipx",
        "outputId": "6c65eccc-c229-4a48-b694-886135d30912"
      },
      "execution_count": null,
      "outputs": [
        {
          "output_type": "stream",
          "name": "stdout",
          "text": [
            "Hello world\n"
          ]
        }
      ]
    },
    {
      "cell_type": "code",
      "source": [
        "for i in range(10):\n",
        "    print(\"Hey There)"
      ],
      "metadata": {
        "colab": {
          "base_uri": "https://localhost:8080/",
          "height": 106
        },
        "id": "XgSQ3-AdmsOc",
        "outputId": "c7b1e756-83da-48a9-d977-bf3a5d91c4fe"
      },
      "execution_count": null,
      "outputs": [
        {
          "output_type": "error",
          "ename": "SyntaxError",
          "evalue": "unterminated string literal (detected at line 2) (<ipython-input-11-63828f4413b6>, line 2)",
          "traceback": [
            "\u001b[0;36m  File \u001b[0;32m\"<ipython-input-11-63828f4413b6>\"\u001b[0;36m, line \u001b[0;32m2\u001b[0m\n\u001b[0;31m    print(\"Hey There)\u001b[0m\n\u001b[0m          ^\u001b[0m\n\u001b[0;31mSyntaxError\u001b[0m\u001b[0;31m:\u001b[0m unterminated string literal (detected at line 2)\n"
          ]
        }
      ]
    },
    {
      "cell_type": "markdown",
      "source": [
        "## Syntax Errors\n",
        "1. Syntax Errors, also known as parsing errors, are the most basic type of error. They arise when the Python parser detects an incorrect statement. These errors are caught before the program actually runs. The primary cause of syntax errors is typing mistakes or misunderstanding the syntax of Python.\n",
        "\n",
        "2. Easy to solve in the testing phase.\n",
        "3. Found out during compiling."
      ],
      "metadata": {
        "id": "obVm2K_XmlYZ"
      }
    },
    {
      "cell_type": "code",
      "source": [
        "# ValueError example\n",
        "number = int(input(\"Enter a number: \"))  # Entering a string causes ValueError"
      ],
      "metadata": {
        "colab": {
          "base_uri": "https://localhost:8080/",
          "height": 228
        },
        "id": "Iinn-THinNvX",
        "outputId": "2db4b6c2-9319-49d1-a57b-545af9efa0d4"
      },
      "execution_count": null,
      "outputs": [
        {
          "name": "stdout",
          "output_type": "stream",
          "text": [
            "Enter a number: balaji\n"
          ]
        },
        {
          "output_type": "error",
          "ename": "ValueError",
          "evalue": "invalid literal for int() with base 10: 'balaji'",
          "traceback": [
            "\u001b[0;31m---------------------------------------------------------------------------\u001b[0m",
            "\u001b[0;31mValueError\u001b[0m                                Traceback (most recent call last)",
            "\u001b[0;32m<ipython-input-13-66b293d46f01>\u001b[0m in \u001b[0;36m<cell line: 2>\u001b[0;34m()\u001b[0m\n\u001b[1;32m      1\u001b[0m \u001b[0;31m# ValueError example\u001b[0m\u001b[0;34m\u001b[0m\u001b[0;34m\u001b[0m\u001b[0m\n\u001b[0;32m----> 2\u001b[0;31m \u001b[0mnumber\u001b[0m \u001b[0;34m=\u001b[0m \u001b[0mint\u001b[0m\u001b[0;34m(\u001b[0m\u001b[0minput\u001b[0m\u001b[0;34m(\u001b[0m\u001b[0;34m\"Enter a number: \"\u001b[0m\u001b[0;34m)\u001b[0m\u001b[0;34m)\u001b[0m  \u001b[0;31m# Entering a string causes ValueError\u001b[0m\u001b[0;34m\u001b[0m\u001b[0;34m\u001b[0m\u001b[0m\n\u001b[0m",
            "\u001b[0;31mValueError\u001b[0m: invalid literal for int() with base 10: 'balaji'"
          ]
        }
      ]
    },
    {
      "cell_type": "code",
      "source": [
        "a=5\n",
        "print(a)\n",
        "number = int(input(\"Enter a number: \"))\n",
        "print(number*a)\n",
        "print(2*a)"
      ],
      "metadata": {
        "colab": {
          "base_uri": "https://localhost:8080/",
          "height": 280
        },
        "id": "DNQS6UZAkrG4",
        "outputId": "071dbf8d-5e40-4ff4-bc28-6c4df623ed60"
      },
      "execution_count": null,
      "outputs": [
        {
          "name": "stdout",
          "output_type": "stream",
          "text": [
            "5\n",
            "Enter a number: bad\n"
          ]
        },
        {
          "output_type": "error",
          "ename": "ValueError",
          "evalue": "invalid literal for int() with base 10: 'bad'",
          "traceback": [
            "\u001b[0;31m---------------------------------------------------------------------------\u001b[0m",
            "\u001b[0;31mValueError\u001b[0m                                Traceback (most recent call last)",
            "\u001b[0;32m<ipython-input-15-e6e0b273c199>\u001b[0m in \u001b[0;36m<cell line: 3>\u001b[0;34m()\u001b[0m\n\u001b[1;32m      1\u001b[0m \u001b[0ma\u001b[0m\u001b[0;34m=\u001b[0m\u001b[0;36m5\u001b[0m\u001b[0;34m\u001b[0m\u001b[0;34m\u001b[0m\u001b[0m\n\u001b[1;32m      2\u001b[0m \u001b[0mprint\u001b[0m\u001b[0;34m(\u001b[0m\u001b[0ma\u001b[0m\u001b[0;34m)\u001b[0m\u001b[0;34m\u001b[0m\u001b[0;34m\u001b[0m\u001b[0m\n\u001b[0;32m----> 3\u001b[0;31m \u001b[0mnumber\u001b[0m \u001b[0;34m=\u001b[0m \u001b[0mint\u001b[0m\u001b[0;34m(\u001b[0m\u001b[0minput\u001b[0m\u001b[0;34m(\u001b[0m\u001b[0;34m\"Enter a number: \"\u001b[0m\u001b[0;34m)\u001b[0m\u001b[0;34m)\u001b[0m\u001b[0;34m\u001b[0m\u001b[0;34m\u001b[0m\u001b[0m\n\u001b[0m\u001b[1;32m      4\u001b[0m \u001b[0mprint\u001b[0m\u001b[0;34m(\u001b[0m\u001b[0mnumber\u001b[0m\u001b[0;34m*\u001b[0m\u001b[0ma\u001b[0m\u001b[0;34m)\u001b[0m\u001b[0;34m\u001b[0m\u001b[0;34m\u001b[0m\u001b[0m\n\u001b[1;32m      5\u001b[0m \u001b[0mprint\u001b[0m\u001b[0;34m(\u001b[0m\u001b[0;36m2\u001b[0m\u001b[0;34m*\u001b[0m\u001b[0ma\u001b[0m\u001b[0;34m)\u001b[0m\u001b[0;34m\u001b[0m\u001b[0;34m\u001b[0m\u001b[0m\n",
            "\u001b[0;31mValueError\u001b[0m: invalid literal for int() with base 10: 'bad'"
          ]
        }
      ]
    },
    {
      "cell_type": "markdown",
      "source": [
        "## Exception Errors\n",
        "\n",
        "Exceptions are errors detected during execution. They occur, even if a statement or expression is syntactically correct, indicating that something went wrong during execution. Exceptions can be handled using try and except blocks, allowing the program to continue or provide a more informative error message.\n",
        "\n",
        "Exceptions are further categorized into several types, including:\n",
        "\n",
        "1. ValueError: Raised when a function receives an argument of the correct type but an inappropriate value.\n",
        "2. TypeError: Occurs when an operation or function is applied to an object of inappropriate type.\n",
        "3. IndexError: Raised when trying to access an index out of the range of a sequence (like a list or tuple).\n",
        "4. KeyError: Occurs when a dictionary key is not found.\n",
        "5. FileNotFoundError: Raised when a file or directory is requested but doesn't exist.\n",
        "6. ZeroDivisionError: Happens when dividing by zero.\n",
        "7. IOError (or OSError in newer Python versions): Related to input/output operations, like when a file can't be opened."
      ],
      "metadata": {
        "id": "Q0k6252am0tn"
      }
    },
    {
      "cell_type": "code",
      "execution_count": null,
      "metadata": {
        "id": "kak1fBpbP2lV"
      },
      "outputs": [],
      "source": [
        "try:\n",
        "    # Code block where exception can occur\n",
        "except ExceptionType:\n",
        "    # Handle the exception"
      ]
    },
    {
      "cell_type": "code",
      "source": [
        "# Generic Exception Handling\n",
        "try:\n",
        "    # some code\n",
        "except:\n",
        "    print(\"An error occurred.\")\n",
        "    # Here you can do anything.\n",
        "    # But handling the erorr in detail is recommended."
      ],
      "metadata": {
        "id": "tqynGJMbh-Bm"
      },
      "execution_count": null,
      "outputs": []
    },
    {
      "cell_type": "code",
      "source": [
        "a = 10/2\n",
        "print(a)"
      ],
      "metadata": {
        "colab": {
          "base_uri": "https://localhost:8080/"
        },
        "id": "AGteRQ_Kkg_N",
        "outputId": "027a537a-a31d-4bd2-c05f-3bd1406c70e2"
      },
      "execution_count": null,
      "outputs": [
        {
          "output_type": "stream",
          "name": "stdout",
          "text": [
            "5.0\n"
          ]
        }
      ]
    },
    {
      "cell_type": "code",
      "source": [
        "a = 10/0\n",
        "print(\"Value of a is : \", a)\n",
        "\n",
        "if a == 5:\n",
        "    print(\"I got the correct output\")\n",
        "else:\n",
        "    print(\"Something else\")\n",
        "\n",
        "print(\"Atleast I am printing something.\")"
      ],
      "metadata": {
        "colab": {
          "base_uri": "https://localhost:8080/",
          "height": 245
        },
        "id": "IvccV9S0laWI",
        "outputId": "cfe6585d-52fe-49ba-c3e4-5e54fba197f5"
      },
      "execution_count": null,
      "outputs": [
        {
          "output_type": "error",
          "ename": "ZeroDivisionError",
          "evalue": "division by zero",
          "traceback": [
            "\u001b[0;31m---------------------------------------------------------------------------\u001b[0m",
            "\u001b[0;31mZeroDivisionError\u001b[0m                         Traceback (most recent call last)",
            "\u001b[0;32m<ipython-input-18-79a25c5c508a>\u001b[0m in \u001b[0;36m<cell line: 1>\u001b[0;34m()\u001b[0m\n\u001b[0;32m----> 1\u001b[0;31m \u001b[0ma\u001b[0m \u001b[0;34m=\u001b[0m \u001b[0;36m10\u001b[0m\u001b[0;34m/\u001b[0m\u001b[0;36m0\u001b[0m\u001b[0;34m\u001b[0m\u001b[0;34m\u001b[0m\u001b[0m\n\u001b[0m\u001b[1;32m      2\u001b[0m \u001b[0mprint\u001b[0m\u001b[0;34m(\u001b[0m\u001b[0;34m\"Value of a is : \"\u001b[0m\u001b[0;34m,\u001b[0m \u001b[0ma\u001b[0m\u001b[0;34m)\u001b[0m\u001b[0;34m\u001b[0m\u001b[0;34m\u001b[0m\u001b[0m\n\u001b[1;32m      3\u001b[0m \u001b[0;34m\u001b[0m\u001b[0m\n\u001b[1;32m      4\u001b[0m \u001b[0;32mif\u001b[0m \u001b[0ma\u001b[0m \u001b[0;34m==\u001b[0m \u001b[0;36m5\u001b[0m\u001b[0;34m:\u001b[0m\u001b[0;34m\u001b[0m\u001b[0;34m\u001b[0m\u001b[0m\n\u001b[1;32m      5\u001b[0m     \u001b[0mprint\u001b[0m\u001b[0;34m(\u001b[0m\u001b[0;34m\"I got the correct output\"\u001b[0m\u001b[0;34m)\u001b[0m\u001b[0;34m\u001b[0m\u001b[0;34m\u001b[0m\u001b[0m\n",
            "\u001b[0;31mZeroDivisionError\u001b[0m: division by zero"
          ]
        }
      ]
    },
    {
      "cell_type": "code",
      "source": [
        "try:\n",
        "    # Potential error code\n",
        "    a = 10/0\n",
        "    print(\"Value of a is : \", a)\n",
        "\n",
        "    if a == 5:\n",
        "        print(\"I got the correct output\")\n",
        "    else:\n",
        "        print(\"Something else\")\n",
        "except Exception as balaji:\n",
        "    # print(\"You can't divide by zero!\")\n",
        "    # print(2+4)\n",
        "    print(balaji)\n",
        "\n",
        "print(\"I am outside the try block\")"
      ],
      "metadata": {
        "colab": {
          "base_uri": "https://localhost:8080/"
        },
        "id": "Q0Fz4R16gXgq",
        "outputId": "da9f0606-3bdd-4f4a-a16a-a5d519c8664f"
      },
      "execution_count": null,
      "outputs": [
        {
          "output_type": "stream",
          "name": "stdout",
          "text": [
            "division by zero\n",
            "I am outside the try block\n"
          ]
        }
      ]
    },
    {
      "cell_type": "markdown",
      "source": [
        "# Value Error"
      ],
      "metadata": {
        "id": "OZ5IFb4_idDE"
      }
    },
    {
      "cell_type": "code",
      "source": [
        "try:\n",
        "    int(\"xyz\")  # Trying to convert a string that does not contain a number\n",
        "except Exception as e:\n",
        "    print(\"ValueError caught:\", e)"
      ],
      "metadata": {
        "colab": {
          "base_uri": "https://localhost:8080/"
        },
        "id": "Zw_jGQCRERdb",
        "outputId": "b8a6ade5-e1a5-40d6-a376-4cad521a279f"
      },
      "execution_count": null,
      "outputs": [
        {
          "output_type": "stream",
          "name": "stdout",
          "text": [
            "ValueError caught: invalid literal for int() with base 10: 'xyz'\n"
          ]
        }
      ]
    },
    {
      "cell_type": "code",
      "source": [
        "try:\n",
        "    int(\"xyz\")  # Trying to convert a string that does not contain a number\n",
        "except ValueError as e:\n",
        "    print(\"ValueError caught:\", e)"
      ],
      "metadata": {
        "colab": {
          "base_uri": "https://localhost:8080/"
        },
        "id": "qotm1HCLie7U",
        "outputId": "3d35eb85-6864-4b5b-8b62-6a289abe097d"
      },
      "execution_count": null,
      "outputs": [
        {
          "output_type": "stream",
          "name": "stdout",
          "text": [
            "ValueError caught: invalid literal for int() with base 10: 'xyz'\n"
          ]
        }
      ]
    },
    {
      "cell_type": "markdown",
      "source": [
        "# Type Error"
      ],
      "metadata": {
        "id": "u_iDsOo_iikj"
      }
    },
    {
      "cell_type": "code",
      "source": [
        "try:\n",
        "    \"2\" + 2  # Attempting to add a string and an integer\n",
        "except Exception as e:\n",
        "    print(\"TypeError caught:\", e)"
      ],
      "metadata": {
        "colab": {
          "base_uri": "https://localhost:8080/"
        },
        "id": "_hwc8P5Kmy7Y",
        "outputId": "e330ceb2-3c40-4c68-8686-db2e107aae41"
      },
      "execution_count": null,
      "outputs": [
        {
          "output_type": "stream",
          "name": "stdout",
          "text": [
            "TypeError caught: can only concatenate str (not \"int\") to str\n"
          ]
        }
      ]
    },
    {
      "cell_type": "code",
      "source": [
        "try:\n",
        "    \"2\" + 2  # Attempting to add a string and an integer\n",
        "except ValueError as e:\n",
        "    print(\"TypeError caught:\", e)"
      ],
      "metadata": {
        "colab": {
          "base_uri": "https://localhost:8080/",
          "height": 228
        },
        "id": "Hu9DbDqciiOx",
        "outputId": "b1619281-ed8f-468e-fd22-ed5aadaac95a"
      },
      "execution_count": null,
      "outputs": [
        {
          "output_type": "error",
          "ename": "TypeError",
          "evalue": "can only concatenate str (not \"int\") to str",
          "traceback": [
            "\u001b[0;31m---------------------------------------------------------------------------\u001b[0m",
            "\u001b[0;31mTypeError\u001b[0m                                 Traceback (most recent call last)",
            "\u001b[0;32m<ipython-input-26-8f058027c021>\u001b[0m in \u001b[0;36m<cell line: 1>\u001b[0;34m()\u001b[0m\n\u001b[1;32m      1\u001b[0m \u001b[0;32mtry\u001b[0m\u001b[0;34m:\u001b[0m\u001b[0;34m\u001b[0m\u001b[0;34m\u001b[0m\u001b[0m\n\u001b[0;32m----> 2\u001b[0;31m     \u001b[0;34m\"2\"\u001b[0m \u001b[0;34m+\u001b[0m \u001b[0;36m2\u001b[0m  \u001b[0;31m# Attempting to add a string and an integer\u001b[0m\u001b[0;34m\u001b[0m\u001b[0;34m\u001b[0m\u001b[0m\n\u001b[0m\u001b[1;32m      3\u001b[0m \u001b[0;32mexcept\u001b[0m \u001b[0mValueError\u001b[0m \u001b[0;32mas\u001b[0m \u001b[0me\u001b[0m\u001b[0;34m:\u001b[0m\u001b[0;34m\u001b[0m\u001b[0;34m\u001b[0m\u001b[0m\n\u001b[1;32m      4\u001b[0m     \u001b[0mprint\u001b[0m\u001b[0;34m(\u001b[0m\u001b[0;34m\"TypeError caught:\"\u001b[0m\u001b[0;34m,\u001b[0m \u001b[0me\u001b[0m\u001b[0;34m)\u001b[0m\u001b[0;34m\u001b[0m\u001b[0;34m\u001b[0m\u001b[0m\n",
            "\u001b[0;31mTypeError\u001b[0m: can only concatenate str (not \"int\") to str"
          ]
        }
      ]
    },
    {
      "cell_type": "code",
      "source": [
        "try:\n",
        "    \"2\" + 2  # Attempting to add a string and an integer\n",
        "except TypeError as e:\n",
        "    print(\"TypeError caught:\", e)"
      ],
      "metadata": {
        "colab": {
          "base_uri": "https://localhost:8080/"
        },
        "id": "BDttNcZrFKqy",
        "outputId": "5de5be30-cdaa-4c6c-aa82-2e9b03d111ff"
      },
      "execution_count": null,
      "outputs": [
        {
          "output_type": "stream",
          "name": "stdout",
          "text": [
            "TypeError caught: can only concatenate str (not \"int\") to str\n"
          ]
        }
      ]
    },
    {
      "cell_type": "markdown",
      "source": [
        "# Index Error\n"
      ],
      "metadata": {
        "id": "yvgbL0cmia38"
      }
    },
    {
      "cell_type": "code",
      "source": [
        "# Define a simple list with three elements\n",
        "my_list = [1, 2, 3]\n",
        "\n",
        "try:\n",
        "    # Attempt to access an index that is out of bounds\n",
        "    print(my_list[5])\n",
        "except IndexError as e:\n",
        "    print(e)\n",
        "    # Handle the IndexError\n",
        "    print(\"An IndexError occurred: Attempted to access an index that doesn't exist.\")\n",
        "\n",
        "# Continue with the rest of the program\n",
        "print(\"Program continues after handling the exception.\")\n",
        "\n",
        "print(2+3)"
      ],
      "metadata": {
        "colab": {
          "base_uri": "https://localhost:8080/"
        },
        "id": "UVREIfWMXofG",
        "outputId": "0690edfb-d733-428b-b700-1867b45d840d"
      },
      "execution_count": null,
      "outputs": [
        {
          "output_type": "stream",
          "name": "stdout",
          "text": [
            "list index out of range\n",
            "An IndexError occurred: Attempted to access an index that doesn't exist.\n",
            "Program continues after handling the exception.\n",
            "5\n"
          ]
        }
      ]
    },
    {
      "cell_type": "markdown",
      "source": [
        "# KeyError"
      ],
      "metadata": {
        "id": "e1AaICXMimMP"
      }
    },
    {
      "cell_type": "code",
      "source": [
        "try:\n",
        "    my_dict = {\"a\": 1, \"b\": 2}\n",
        "    print(my_dict[\"c\"])  # Accessing a key that does not exist\n",
        "except KeyError as e:\n",
        "    print(\"KeyError caught:\", e)"
      ],
      "metadata": {
        "colab": {
          "base_uri": "https://localhost:8080/"
        },
        "id": "3NQBIVPdipLR",
        "outputId": "26c5995e-a05e-417e-fe63-c21028190667"
      },
      "execution_count": null,
      "outputs": [
        {
          "output_type": "stream",
          "name": "stdout",
          "text": [
            "KeyError caught: 'c'\n"
          ]
        }
      ]
    },
    {
      "cell_type": "markdown",
      "source": [
        "# Multiple Exception Blocks"
      ],
      "metadata": {
        "id": "HArqlnKqVAyp"
      }
    },
    {
      "cell_type": "code",
      "source": [
        "try:\n",
        "    x = int(input(\"Enter a number: \"))\n",
        "    y = 10 / x\n",
        "    print(x, y)\n",
        "except ZeroDivisionError:\n",
        "    print(\"Division by zero!\")\n",
        "except ValueError:\n",
        "    print(\"Invalid input! Please enter a numeric value.\")"
      ],
      "metadata": {
        "colab": {
          "base_uri": "https://localhost:8080/"
        },
        "id": "Jf1txyWgVDJt",
        "outputId": "5ebc44fa-6914-4ba6-90ee-a9f4cdc1e571"
      },
      "execution_count": null,
      "outputs": [
        {
          "output_type": "stream",
          "name": "stdout",
          "text": [
            "Enter a number: balaji\n",
            "Invalid input! Please enter a numeric value.\n"
          ]
        }
      ]
    },
    {
      "cell_type": "code",
      "source": [
        "try:\n",
        "    x = int(input(\"Enter a number: \"))\n",
        "    y = 10 / x\n",
        "    print(x, y)\n",
        "except Exception as e:\n",
        "    print(\"Dont enter zero\")\n",
        "    print(e)\n"
      ],
      "metadata": {
        "colab": {
          "base_uri": "https://localhost:8080/"
        },
        "id": "942uSvjVGWiW",
        "outputId": "854269cf-48ef-42b3-922e-7ea68f34491e"
      },
      "execution_count": null,
      "outputs": [
        {
          "output_type": "stream",
          "name": "stdout",
          "text": [
            "Enter a number: balaji\n",
            "Dont enter zero\n",
            "invalid literal for int() with base 10: 'balaji'\n"
          ]
        }
      ]
    },
    {
      "cell_type": "code",
      "source": [
        "try:\n",
        "    # Some code that might raise multiple exceptions\n",
        "    value = 0\n",
        "    result = 1 / int(value)  # This might raise a ZeroDivisionError or ValueError\n",
        "    my_list = [1, 2, 3]\n",
        "    print(my_list[5])  # This might raise an IndexError\n",
        "except ValueError as e:\n",
        "    print(\"ValueError caught:\", e)\n",
        "except ZeroDivisionError as e:\n",
        "    print(\"ZeroDivisionError caught:\", e)\n",
        "except IndexError as e:\n",
        "    print(\"IndexError caught:\", e)"
      ],
      "metadata": {
        "colab": {
          "base_uri": "https://localhost:8080/"
        },
        "id": "8jOqPjxAjJTt",
        "outputId": "c258962f-9f53-4a1b-b89d-d9381013486d"
      },
      "execution_count": null,
      "outputs": [
        {
          "output_type": "stream",
          "name": "stdout",
          "text": [
            "ZeroDivisionError caught: division by zero\n"
          ]
        }
      ]
    },
    {
      "cell_type": "code",
      "source": [
        "try:\n",
        "    # Write your code to try\n",
        "except :\n",
        "    # Execute this if this fails.\n",
        "finally:\n",
        "    # Execute this anyway."
      ],
      "metadata": {
        "id": "az1GZX79lBzY"
      },
      "execution_count": null,
      "outputs": []
    },
    {
      "cell_type": "code",
      "source": [
        "# Example usage\n",
        "string_list = [\"10\", \"20\", \"a\", \"56\", \"50\"]  # 'a' cannot be converted\n",
        "\n",
        "\n",
        "try:\n",
        "    # Attempt to convert each string in the list to an integer and sum them\n",
        "    total_sum = sum(int(item) for item in string_list)\n",
        "    print(total_sum)\n",
        "except ValueError:\n",
        "    # Handle the case where conversion fails\n",
        "    print(\"List contains non-numeric values.\")\n",
        "finally:\n",
        "    # This executes regardless of previous blocks' success or failure\n",
        "    print(\"Attempted to calculate the sum.\")"
      ],
      "metadata": {
        "colab": {
          "base_uri": "https://localhost:8080/"
        },
        "id": "J1JbNvc2VN7E",
        "outputId": "aa753bac-4643-4b96-d389-b525ebb1fd70"
      },
      "execution_count": null,
      "outputs": [
        {
          "output_type": "stream",
          "name": "stdout",
          "text": [
            "List contains non-numeric values.\n",
            "Attempted to calculate the sum.\n"
          ]
        }
      ]
    },
    {
      "cell_type": "markdown",
      "source": [
        "# Common Mistakes and Tipc\n",
        "1. Catching too broad an exception: Avoid using a bare except: when possible, as it can make debugging harder by catching unexpected errors.\n",
        "2. Not specifying exception variable: You can specify a variable after the exception type to access the exception object itself, like except ValueError as e:.\n",
        "3. Forgetting multiple exceptions: You can catch multiple exception types in a single block using a tuple, like except (ValueError, TypeError):."
      ],
      "metadata": {
        "id": "7Luih_xNVVMd"
      }
    },
    {
      "cell_type": "markdown",
      "source": [
        "# Real Life Example"
      ],
      "metadata": {
        "id": "hoqFwS2FV6Za"
      }
    },
    {
      "cell_type": "markdown",
      "source": [
        "A real-life simple example that often requires the use of try, except, and finally is reading from and writing to a file. This operation is common in many applications, such as logging, data processing, and configuration management. Here's why each part of this error handling structure is useful in this context:\n",
        "\n",
        "1. try block: To attempt to open and read or write to a file, which might not exist or be accessible (due to permissions or being locked).\n",
        "2. except block: To catch and handle any errors that occur during file operations, such as\n",
        "FileNotFoundError or PermissionError.\n",
        "3. finally block: To ensure that the file is closed properly, even if an error occurs, preventing resource leaks.\n"
      ],
      "metadata": {
        "id": "v3ZffVv4V-_t"
      }
    },
    {
      "cell_type": "code",
      "source": [
        "def log_message(message, file_path):\n",
        "    try:\n",
        "        # Attempt to open the file in append mode and write a message\n",
        "        file = open(file_path, 'a')\n",
        "        file.write(message + '\\n')\n",
        "        print(\"file opened and message added\")\n",
        "    except FileNotFoundError:\n",
        "        # Handle the case where the file does not exist\n",
        "        print(\"The file was not found.\")\n",
        "    finally:\n",
        "        # This block executes no matter what, ensuring the file is closed\n",
        "        print(\"Closing the file.\")\n",
        "        file.close()\n",
        "\n",
        "# Example usage\n",
        "log_message(\"Hello, world! Balaji is here\", \"/content/log.txt\")"
      ],
      "metadata": {
        "colab": {
          "base_uri": "https://localhost:8080/"
        },
        "id": "xAoqK3-KVbzc",
        "outputId": "58321d82-4d3b-44e4-f6ad-38a14174a7e4"
      },
      "execution_count": null,
      "outputs": [
        {
          "output_type": "stream",
          "name": "stdout",
          "text": [
            "file opened and message added\n",
            "Closing the file.\n"
          ]
        }
      ]
    },
    {
      "cell_type": "code",
      "source": [],
      "metadata": {
        "id": "7IPfgF5iHgmu"
      },
      "execution_count": null,
      "outputs": []
    }
  ]
}