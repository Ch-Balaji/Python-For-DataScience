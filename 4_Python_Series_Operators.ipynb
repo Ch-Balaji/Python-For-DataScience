{
  "nbformat": 4,
  "nbformat_minor": 0,
  "metadata": {
    "colab": {
      "provenance": []
    },
    "kernelspec": {
      "name": "python3",
      "display_name": "Python 3"
    },
    "language_info": {
      "name": "python"
    }
  },
  "cells": [
    {
      "cell_type": "markdown",
      "source": [
        "# Operators"
      ],
      "metadata": {
        "id": "wmqeq0xsbxej"
      }
    },
    {
      "cell_type": "markdown",
      "source": [
        "Operators are special symbols or keywords that perform operations on operands. Operands can be variables, values, or expressions. Python supports a variety of operators, and they can be categorized into several types\n",
        "1. Arithmetic operators\n",
        "    \n",
        "2. Comparison (Relational) operators\n",
        "\n",
        "3. Logical (Boolean) operators\n",
        "\n",
        "4. Bitwise operators\n",
        "\n",
        "5. Assignment operators\n",
        "\n",
        "6. Special operators\n",
        "\n"
      ],
      "metadata": {
        "id": "B_KxKPZ2bxY0"
      }
    },
    {
      "cell_type": "markdown",
      "source": [
        "## Arithmetic Operators:\n",
        "\n",
        "\n",
        "1. \"+\" (Addition)\n",
        "2. \"-\" (Subtraction)\n",
        "3. \"*\" (Multiplication)\n",
        "4. \"/\" (Division)\n",
        "5. \"%\" (Modulus - remainder of the division)\n",
        "6. \"**\" (Exponentiation)\n",
        "7. \"//\" (Floor Division - division rounded down to the nearest whole number)"
      ],
      "metadata": {
        "id": "jTKwJpwPb4PW"
      }
    },
    {
      "cell_type": "code",
      "execution_count": null,
      "metadata": {
        "colab": {
          "base_uri": "https://localhost:8080/"
        },
        "id": "pipd5jekbqTr",
        "outputId": "e7a93e8c-ba25-4923-c48c-c301b09e5c5a"
      },
      "outputs": [
        {
          "output_type": "stream",
          "name": "stdout",
          "text": [
            "13\n",
            "7\n",
            "30\n",
            "3.3333333333333335\n",
            "1\n",
            "1000\n",
            "3\n"
          ]
        }
      ],
      "source": [
        "a = 10\n",
        "b = 3\n",
        "\n",
        "print(a + b)   # 13\n",
        "print(a - b)   # 7\n",
        "print(a * b)   # 30\n",
        "print(a / b)   # 3.3333333333333335\n",
        "print(a % b)   # 1\n",
        "print(a ** b)  # 1000\n",
        "print(a // b)  # 3"
      ]
    },
    {
      "cell_type": "markdown",
      "source": [
        "# Comparison Operators:\n",
        "\n",
        "1. == (Equal to)\n",
        "2. != (Not equal to)\n",
        "3. < (Less than)\n",
        "4. '>' (Greater than)\n",
        "5. <= (Less than or equal to)\n",
        "6. '>=' (Greater than or equal to)"
      ],
      "metadata": {
        "id": "Bp4O192GcdHT"
      }
    },
    {
      "cell_type": "code",
      "source": [
        "x = 5\n",
        "y = 10\n",
        "\n",
        "print(x == y)  # False\n",
        "print(x != y)  # True\n",
        "print(x < y)   # True\n",
        "print(x > y)   # False\n",
        "print(x <= y)  # True\n",
        "print(x >= y)  # False\n"
      ],
      "metadata": {
        "id": "VKLpe5iKcWgl",
        "colab": {
          "base_uri": "https://localhost:8080/"
        },
        "outputId": "7f47e9f7-8adb-4363-d471-f0f8a2096f50"
      },
      "execution_count": null,
      "outputs": [
        {
          "output_type": "stream",
          "name": "stdout",
          "text": [
            "False\n",
            "True\n",
            "True\n",
            "False\n",
            "True\n",
            "False\n"
          ]
        }
      ]
    },
    {
      "cell_type": "markdown",
      "source": [
        "# Logical Operators:\n",
        "\n",
        "1. and (Logical AND)\n",
        "2. or (Logical OR)\n",
        "3. not (Logical NOT)"
      ],
      "metadata": {
        "id": "HboAkVX5csw9"
      }
    },
    {
      "cell_type": "code",
      "source": [
        "a = True\n",
        "b = False\n",
        "\n",
        "print(a and b)  # False\n",
        "print(a or b)   # True\n",
        "print(not a)    # False\n"
      ],
      "metadata": {
        "colab": {
          "base_uri": "https://localhost:8080/"
        },
        "id": "HYbqOlEGcprB",
        "outputId": "f7a04bb3-4ac6-4d6f-b4c2-1f5e6ad635eb"
      },
      "execution_count": null,
      "outputs": [
        {
          "output_type": "stream",
          "name": "stdout",
          "text": [
            "False\n",
            "True\n",
            "False\n"
          ]
        }
      ]
    },
    {
      "cell_type": "code",
      "source": [
        "a = 5\n",
        "b = 3\n",
        "\n",
        "print(a<10 or b>10)"
      ],
      "metadata": {
        "colab": {
          "base_uri": "https://localhost:8080/"
        },
        "id": "Yd8X3Q8r8zoV",
        "outputId": "b33efaeb-df64-4493-dd70-6e33a931b4b8"
      },
      "execution_count": null,
      "outputs": [
        {
          "output_type": "stream",
          "name": "stdout",
          "text": [
            "True\n"
          ]
        }
      ]
    },
    {
      "cell_type": "markdown",
      "source": [
        "# Assignment Operators:\n",
        "\n",
        "= (Assigns the value on the right to the variable on the left)\n",
        "+=, -=, *=, /=, %= (Compound assignment operators)"
      ],
      "metadata": {
        "id": "GzEQS0PhdE8K"
      }
    },
    {
      "cell_type": "code",
      "source": [
        "a = 10\n",
        "b = 3\n",
        "\n",
        "# Simple Assignment\n",
        "c = a\n",
        "\n",
        "# Addition Assignment (+=)\n",
        "b += 5  # Equivalent to b = b + 5\n",
        "\n",
        "# Subtraction Assignment (-=)\n",
        "a -= 2  # Equivalent to a = a - 2\n",
        "\n",
        "# Multiplication Assignment (*=)\n",
        "c *= 3  # Equivalent to c = c * 3\n",
        "\n",
        "# Division Assignment (/=)\n",
        "b /= 2  # Equivalent to b = b / 2\n",
        "\n",
        "# Modulus Assignment (%=)\n",
        "a %= 4  # Equivalent to a = a % 4\n",
        "\n",
        "# Floor Division Assignment (//=)\n",
        "c //= 2  # Equivalent to c = c // 2\n",
        "\n",
        "# Exponentiation Assignment (**=)\n",
        "b **= 2  # Equivalent to b = b ** 2\n",
        "\n",
        "print(\"a =\", a)  # 2\n",
        "print(\"b =\", b)  # 64\n",
        "print(\"c =\", c)  # 15"
      ],
      "metadata": {
        "id": "RIMGJt8ocxPq",
        "colab": {
          "base_uri": "https://localhost:8080/"
        },
        "outputId": "d76932d8-4c5e-4408-b0ef-1a66658b4bb3"
      },
      "execution_count": null,
      "outputs": [
        {
          "output_type": "stream",
          "name": "stdout",
          "text": [
            "a = 0\n",
            "b = 16.0\n",
            "c = 15\n"
          ]
        }
      ]
    },
    {
      "cell_type": "markdown",
      "source": [
        "# Special Operators\n",
        "\n",
        "**is and is not** are the identity operators in Python.\n",
        "\n",
        "They are used to check if two values (or variables) are located on the same part of the memory."
      ],
      "metadata": {
        "id": "_CR6PP7Vdt3m"
      }
    },
    {
      "cell_type": "code",
      "source": [
        "a = 51\n",
        "b = 5\n",
        "print(a is b)    #5 is object created once both a and b points to same object\n",
        "#check is not"
      ],
      "metadata": {
        "id": "GEKY1LhVdtsI",
        "colab": {
          "base_uri": "https://localhost:8080/"
        },
        "outputId": "b7c2d18e-aa80-436d-9380-75adaf0fe7f3"
      },
      "execution_count": null,
      "outputs": [
        {
          "output_type": "stream",
          "name": "stdout",
          "text": [
            "False\n"
          ]
        }
      ]
    },
    {
      "cell_type": "code",
      "source": [
        "l1 = [1, 2, 3]\n",
        "l2 = [1, 2, 3]\n",
        "print(l1 is l2)"
      ],
      "metadata": {
        "id": "SVdh0Sw5dzvY",
        "colab": {
          "base_uri": "https://localhost:8080/"
        },
        "outputId": "d5b2debe-7a3a-4a76-e763-2c60633acf06"
      },
      "execution_count": null,
      "outputs": [
        {
          "output_type": "stream",
          "name": "stdout",
          "text": [
            "False\n"
          ]
        }
      ]
    },
    {
      "cell_type": "code",
      "source": [
        "print(id(l1), id(l2))"
      ],
      "metadata": {
        "colab": {
          "base_uri": "https://localhost:8080/"
        },
        "id": "VFXWxycBFJtz",
        "outputId": "904852ba-650c-4b57-8943-cb0b41dfa8b0"
      },
      "execution_count": null,
      "outputs": [
        {
          "output_type": "stream",
          "name": "stdout",
          "text": [
            "135606190914944 135606207224896\n"
          ]
        }
      ]
    },
    {
      "cell_type": "code",
      "source": [
        "s1 = \"Satish\"\n",
        "s2 = \"Satish\"\n",
        "print(s1 is not s2)"
      ],
      "metadata": {
        "id": "857ZfqlFd1nb",
        "colab": {
          "base_uri": "https://localhost:8080/"
        },
        "outputId": "8f288930-e3fe-4daa-d400-50dc77cf4cfd"
      },
      "execution_count": null,
      "outputs": [
        {
          "output_type": "stream",
          "name": "stdout",
          "text": [
            "False\n"
          ]
        }
      ]
    },
    {
      "cell_type": "markdown",
      "source": [
        "# Bitwise Operators:\n",
        "\n",
        "& (Bitwise AND)\n",
        "| (Bitwise OR)\n",
        "^ (Bitwise XOR)\n",
        "~ (Bitwise NOT)\n",
        "<< (Left shift) >> (Right shift)"
      ],
      "metadata": {
        "id": "Ecmo8JyyeCg4"
      }
    },
    {
      "cell_type": "code",
      "source": [
        "a = 5\n",
        "\n",
        "bin(a)"
      ],
      "metadata": {
        "colab": {
          "base_uri": "https://localhost:8080/",
          "height": 35
        },
        "id": "GOFxVZkCfgtA",
        "outputId": "16a648dc-cd2f-4461-d739-e87cdb9c8308"
      },
      "execution_count": null,
      "outputs": [
        {
          "output_type": "execute_result",
          "data": {
            "text/plain": [
              "'0b101'"
            ],
            "application/vnd.google.colaboratory.intrinsic+json": {
              "type": "string"
            }
          },
          "metadata": {},
          "execution_count": 10
        }
      ]
    },
    {
      "cell_type": "code",
      "source": [
        "int('0b000000101',base = 2)"
      ],
      "metadata": {
        "colab": {
          "base_uri": "https://localhost:8080/"
        },
        "id": "AD6Hc5e8fiuQ",
        "outputId": "cc56ea30-c415-416d-8106-439a174770f1"
      },
      "execution_count": null,
      "outputs": [
        {
          "output_type": "execute_result",
          "data": {
            "text/plain": [
              "5"
            ]
          },
          "metadata": {},
          "execution_count": 12
        }
      ]
    },
    {
      "cell_type": "code",
      "source": [
        "a = 5  # 0b0101 in binary\n",
        "b = 3  # 0b0011 in binary\n",
        "\n",
        "result = a & b  # Binary AND: 0b0001 (1 in decimal)\n"
      ],
      "metadata": {
        "id": "-dcWmdWAeGQi"
      },
      "execution_count": null,
      "outputs": []
    },
    {
      "cell_type": "code",
      "source": [
        "a = 5  # 0b0101 in binary\n",
        "b = 3  # 0b0011 in binary\n",
        "\n",
        "result = a | b  # Binary OR: 0b0111 (7 in decimal)\n",
        "result"
      ],
      "metadata": {
        "colab": {
          "base_uri": "https://localhost:8080/"
        },
        "id": "P3P8sd1JDZSy",
        "outputId": "a6528a1a-95e9-4333-e233-8acce91cbb86"
      },
      "execution_count": null,
      "outputs": [
        {
          "output_type": "execute_result",
          "data": {
            "text/plain": [
              "7"
            ]
          },
          "metadata": {},
          "execution_count": 15
        }
      ]
    },
    {
      "cell_type": "code",
      "source": [
        "a = 5  # 0b0101 in binary\n",
        "b = 3  # 0b0011 in binary\n",
        "\n",
        "result = a ^ b  # Binary XOR: 0b0110 (6 in decimal)"
      ],
      "metadata": {
        "id": "-JSdLNgOfY6e"
      },
      "execution_count": null,
      "outputs": []
    },
    {
      "cell_type": "code",
      "source": [
        "a = 5\n",
        "print(bin(a))\n",
        "\n",
        "result = ~a\n",
        "result"
      ],
      "metadata": {
        "colab": {
          "base_uri": "https://localhost:8080/"
        },
        "id": "6SpUdkZKfagB",
        "outputId": "8368a904-5f07-43bc-debc-9afde314a681"
      },
      "execution_count": null,
      "outputs": [
        {
          "output_type": "stream",
          "name": "stdout",
          "text": [
            "0b101\n"
          ]
        },
        {
          "output_type": "execute_result",
          "data": {
            "text/plain": [
              "-6"
            ]
          },
          "metadata": {},
          "execution_count": 16
        }
      ]
    },
    {
      "cell_type": "code",
      "source": [
        "a = 5  # 0b0101 in binary\n",
        "\n",
        "result = a << 1  # Left shift by 1: 0b1010 (10 in decimal)\n",
        "result"
      ],
      "metadata": {
        "colab": {
          "base_uri": "https://localhost:8080/"
        },
        "id": "4QJOI3IODHmz",
        "outputId": "2002423d-1a50-455e-c7e4-65dfa0fcf2f0"
      },
      "execution_count": null,
      "outputs": [
        {
          "output_type": "execute_result",
          "data": {
            "text/plain": [
              "10"
            ]
          },
          "metadata": {},
          "execution_count": 17
        }
      ]
    },
    {
      "cell_type": "code",
      "source": [
        "a = 5  # 0b0101 in binary\n",
        "\n",
        "result = a >> 1  # Right shift by 1: 0b0010 (2 in decimal)\n",
        "result"
      ],
      "metadata": {
        "colab": {
          "base_uri": "https://localhost:8080/"
        },
        "id": "oKB9eocIfe7L",
        "outputId": "c8b27993-877d-42d5-c428-ddab7a3601a6"
      },
      "execution_count": null,
      "outputs": [
        {
          "output_type": "execute_result",
          "data": {
            "text/plain": [
              "2"
            ]
          },
          "metadata": {},
          "execution_count": 18
        }
      ]
    }
  ]
}