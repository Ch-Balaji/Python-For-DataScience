{
  "nbformat": 4,
  "nbformat_minor": 0,
  "metadata": {
    "colab": {
      "provenance": []
    },
    "kernelspec": {
      "name": "python3",
      "display_name": "Python 3"
    },
    "language_info": {
      "name": "python"
    }
  },
  "cells": [
    {
      "cell_type": "markdown",
      "source": [
        "Functions in Python are a fundamental building block of the language. They allow you to create reusable code segments that can perform a specific task, which can then be utilized to build more complex programs. Let's explore functions in detail:"
      ],
      "metadata": {
        "id": "flfG_ZWwZx-b"
      }
    },
    {
      "cell_type": "markdown",
      "source": [
        "## Why Functions?\n",
        "1. Modularity: Functions help to break down complex processes into smaller, manageable, and modular pieces.\n",
        "2. Reusability: Once a function is defined, it can be used multiple times throughout a program without needing to rewrite code.\n",
        "3. Organization: Functions help to organize code into logical groups.\n",
        "4. Maintenance: If a change is required, you only need to update the code in one place, making maintenance easier."
      ],
      "metadata": {
        "id": "ea1JKywUZ0jY"
      }
    },
    {
      "cell_type": "markdown",
      "source": [
        "# Syntax"
      ],
      "metadata": {
        "id": "SdqgcyLsZ7q_"
      }
    },
    {
      "cell_type": "code",
      "execution_count": null,
      "metadata": {
        "id": "1dUg_QcvX33z"
      },
      "outputs": [],
      "source": [
        "def function_name(parameters):\n",
        "    # Do something with the parameters\n",
        "    # ...\n",
        "    return result # Return is optional\n"
      ]
    },
    {
      "cell_type": "markdown",
      "source": [
        "1. keyword \"def\" marks the start of function header\n",
        "\n",
        "2. Parameters (arguments) through which we pass values to a function. These are optional\n",
        "\n",
        "3. A colon(:) to mark the end of funciton header\n",
        "\n",
        "4. Doc string describe what the function does. This is optional\n",
        "\n",
        "5. \"return\" statement to return a value from the function. This is optional"
      ],
      "metadata": {
        "id": "_jYg4wqvzi3i"
      }
    },
    {
      "cell_type": "code",
      "source": [
        "print(\"Hello World\")\n",
        "print(\"Balaji is a great teacher\")"
      ],
      "metadata": {
        "colab": {
          "base_uri": "https://localhost:8080/"
        },
        "id": "qd2vRz6Sx_bp",
        "outputId": "a3b11591-2259-434c-c7e6-cce2ff1c05cf"
      },
      "execution_count": null,
      "outputs": [
        {
          "output_type": "stream",
          "name": "stdout",
          "text": [
            "Hello World\n",
            "Balaji is a great teacher\n"
          ]
        }
      ]
    },
    {
      "cell_type": "code",
      "source": [
        "print(\"Hello World\")\n",
        "print(\"Balaji is a great teacher\")"
      ],
      "metadata": {
        "colab": {
          "base_uri": "https://localhost:8080/"
        },
        "id": "my7oALiXyCuA",
        "outputId": "99214af8-f651-4073-806f-c6827a824ee6"
      },
      "execution_count": null,
      "outputs": [
        {
          "output_type": "stream",
          "name": "stdout",
          "text": [
            "Hello World\n",
            "Balaji is a great teacher\n"
          ]
        }
      ]
    },
    {
      "cell_type": "code",
      "source": [
        "print(\"Hello World\")\n",
        "print(\"Balaji is a great teacher\")"
      ],
      "metadata": {
        "colab": {
          "base_uri": "https://localhost:8080/"
        },
        "id": "4YmIAS37yCp5",
        "outputId": "c3c27001-2b65-465a-b773-b9fef85aeff0"
      },
      "execution_count": null,
      "outputs": [
        {
          "output_type": "stream",
          "name": "stdout",
          "text": [
            "Hello World\n",
            "Balaji is a great teacher\n"
          ]
        }
      ]
    },
    {
      "cell_type": "code",
      "source": [
        "print(\"Hello World\")\n",
        "print(\"Balaji is a great teacher\")"
      ],
      "metadata": {
        "colab": {
          "base_uri": "https://localhost:8080/"
        },
        "id": "Yv61LNdVyCjE",
        "outputId": "343e7196-2c57-4a67-c443-5bc0cb86cb94"
      },
      "execution_count": null,
      "outputs": [
        {
          "output_type": "stream",
          "name": "stdout",
          "text": [
            "Hello World\n",
            "Balaji is a great teacher\n"
          ]
        }
      ]
    },
    {
      "cell_type": "code",
      "source": [
        "def printworld():\n",
        "    print(\"Hello World\")\n",
        "    print(\"Balaji is a great teacher\")"
      ],
      "metadata": {
        "id": "GbZuihdzyDk8"
      },
      "execution_count": null,
      "outputs": []
    },
    {
      "cell_type": "code",
      "source": [
        "printworld()"
      ],
      "metadata": {
        "colab": {
          "base_uri": "https://localhost:8080/"
        },
        "id": "a3GCTIOx94k3",
        "outputId": "dffb0d26-4bfe-4114-cb67-aad6f4542b99"
      },
      "execution_count": null,
      "outputs": [
        {
          "output_type": "stream",
          "name": "stdout",
          "text": [
            "Hello World\n",
            "Balaji is a great teacher\n"
          ]
        }
      ]
    },
    {
      "cell_type": "code",
      "source": [
        "printworld()"
      ],
      "metadata": {
        "colab": {
          "base_uri": "https://localhost:8080/"
        },
        "id": "HoLVUu1v996z",
        "outputId": "25c3e92b-826b-4986-b36d-835a0d15157d"
      },
      "execution_count": null,
      "outputs": [
        {
          "output_type": "stream",
          "name": "stdout",
          "text": [
            "Hello World\n",
            "Balaji is a great teacher\n"
          ]
        }
      ]
    },
    {
      "cell_type": "code",
      "source": [
        "a = 10\n",
        "b = 5\n",
        "\n",
        "print(a+b)"
      ],
      "metadata": {
        "colab": {
          "base_uri": "https://localhost:8080/"
        },
        "id": "749LmqxXse4v",
        "outputId": "040f8f90-9af8-4d4a-d7cb-6816d62dbde2"
      },
      "execution_count": null,
      "outputs": [
        {
          "output_type": "stream",
          "name": "stdout",
          "text": [
            "15\n"
          ]
        }
      ]
    },
    {
      "cell_type": "code",
      "source": [
        "a = 20\n",
        "b = 40\n",
        "\n",
        "print(a+b)"
      ],
      "metadata": {
        "colab": {
          "base_uri": "https://localhost:8080/"
        },
        "id": "AzwagoiXskRj",
        "outputId": "50af2b72-d0f3-429f-a5ee-ff9e53ece7cf"
      },
      "execution_count": null,
      "outputs": [
        {
          "output_type": "stream",
          "name": "stdout",
          "text": [
            "60\n"
          ]
        }
      ]
    },
    {
      "cell_type": "markdown",
      "source": [
        "# Parameters vs. Arguments\n",
        "1. Parameters: These are the variables listed inside the parentheses in the function definition.\n",
        "2. Arguments: These are the actual values passed to the function when it is called.\n"
      ],
      "metadata": {
        "id": "MLXSraEjyI5g"
      }
    },
    {
      "cell_type": "code",
      "source": [
        "def add_numbers(a, b):\n",
        "    result = a + b\n",
        "    print(result)\n",
        "\n",
        "# Use the function\n",
        "add_numbers(10, 5)"
      ],
      "metadata": {
        "colab": {
          "base_uri": "https://localhost:8080/"
        },
        "id": "xaijFU80ssSj",
        "outputId": "0eea89f3-7c9f-49a3-8d84-b535cf87609a"
      },
      "execution_count": null,
      "outputs": [
        {
          "output_type": "stream",
          "name": "stdout",
          "text": [
            "15\n"
          ]
        }
      ]
    },
    {
      "cell_type": "code",
      "source": [
        "add_numbers(20,40)"
      ],
      "metadata": {
        "colab": {
          "base_uri": "https://localhost:8080/"
        },
        "id": "fBHE9AAwwlpi",
        "outputId": "51d9c36f-d5b7-4ce2-e9d9-f1fb52e11fb4"
      },
      "execution_count": null,
      "outputs": [
        {
          "output_type": "stream",
          "name": "stdout",
          "text": [
            "60\n"
          ]
        }
      ]
    },
    {
      "cell_type": "markdown",
      "source": [
        "# Return in functions"
      ],
      "metadata": {
        "id": "ypHFtRbOyT-s"
      }
    },
    {
      "cell_type": "code",
      "source": [
        "# Using return\n",
        "def add_numbers(a, b):\n",
        "    result = a + b\n",
        "    return result\n",
        "\n",
        "# Use the function\n",
        "sum_result = add_numbers(10, 5)\n",
        "print(sum_result)  # This will output 15"
      ],
      "metadata": {
        "colab": {
          "base_uri": "https://localhost:8080/"
        },
        "id": "WlQEikOisnmI",
        "outputId": "4bdad2ae-415a-4c77-a842-22cc99238ffa"
      },
      "execution_count": null,
      "outputs": [
        {
          "output_type": "stream",
          "name": "stdout",
          "text": [
            "15\n"
          ]
        }
      ]
    },
    {
      "cell_type": "code",
      "source": [
        "add_numbers(10, 5)"
      ],
      "metadata": {
        "colab": {
          "base_uri": "https://localhost:8080/"
        },
        "id": "2YdBGOU8AtVo",
        "outputId": "b26f532c-e90e-418d-ea68-3fda3c18e189"
      },
      "execution_count": null,
      "outputs": [
        {
          "output_type": "execute_result",
          "data": {
            "text/plain": [
              "15"
            ]
          },
          "metadata": {},
          "execution_count": 24
        }
      ]
    },
    {
      "cell_type": "code",
      "source": [
        "# Use the function\n",
        "sum_result = add_numbers(10, 2)\n",
        "print(sum_result)"
      ],
      "metadata": {
        "colab": {
          "base_uri": "https://localhost:8080/"
        },
        "id": "nnaSmEiQ5ee-",
        "outputId": "c52fb7ac-ea34-4c06-80d2-14fb3b8901b8"
      },
      "execution_count": null,
      "outputs": [
        {
          "output_type": "stream",
          "name": "stdout",
          "text": [
            "12\n"
          ]
        }
      ]
    },
    {
      "cell_type": "code",
      "source": [
        "def get_sum(lst):\n",
        "    \"\"\"\n",
        "    This function returns the sum of all the elements in a list\n",
        "    \"\"\"\n",
        "    #initialize sum\n",
        "    sum = 0\n",
        "\n",
        "    #iterating over the list\n",
        "    for num in lst:\n",
        "        sum += num\n",
        "    return sum\n"
      ],
      "metadata": {
        "id": "1UF0twkjzwhe"
      },
      "execution_count": null,
      "outputs": []
    },
    {
      "cell_type": "code",
      "source": [
        "s = get_sum([1, 2, 3, 4]) # print(get_sum([1, 2, 3, 4]))\n",
        "print(s)"
      ],
      "metadata": {
        "colab": {
          "base_uri": "https://localhost:8080/"
        },
        "id": "qWW8ciCwz1HR",
        "outputId": "baeff12f-f5ad-4e09-da6b-e3d5103d6e05"
      },
      "execution_count": null,
      "outputs": [
        {
          "output_type": "stream",
          "name": "stdout",
          "text": [
            "10\n"
          ]
        }
      ]
    },
    {
      "cell_type": "code",
      "source": [
        "s = get_sum([3, 10, 45, 20]) # print(get_sum([1, 2, 3, 4]))\n",
        "print(s)"
      ],
      "metadata": {
        "colab": {
          "base_uri": "https://localhost:8080/"
        },
        "id": "hZcF1gEKz39d",
        "outputId": "91a21016-9cca-49fd-b4c6-80caff834852"
      },
      "execution_count": null,
      "outputs": [
        {
          "output_type": "stream",
          "name": "stdout",
          "text": [
            "78\n"
          ]
        }
      ]
    },
    {
      "cell_type": "markdown",
      "source": [
        "# Returning multiple Values"
      ],
      "metadata": {
        "id": "6Nn6e_BNyyl1"
      }
    },
    {
      "cell_type": "code",
      "source": [
        "def get_min_max(numbers):\n",
        "    return min(numbers), max(numbers)"
      ],
      "metadata": {
        "id": "yWFgH6oEy07Q"
      },
      "execution_count": null,
      "outputs": []
    },
    {
      "cell_type": "code",
      "source": [
        "a = get_min_max([1, 2, 3, 4, 5])\n",
        "print(a)"
      ],
      "metadata": {
        "colab": {
          "base_uri": "https://localhost:8080/"
        },
        "id": "EB6l-LC2B4Gi",
        "outputId": "79d7239d-8211-4d83-e660-dad708d7c3ce"
      },
      "execution_count": null,
      "outputs": [
        {
          "output_type": "stream",
          "name": "stdout",
          "text": [
            "(1, 5)\n"
          ]
        }
      ]
    },
    {
      "cell_type": "code",
      "source": [
        "a[0]"
      ],
      "metadata": {
        "colab": {
          "base_uri": "https://localhost:8080/"
        },
        "id": "bXp0-H02CGJD",
        "outputId": "b52c9229-ee8f-43f2-f400-042c5f938e12"
      },
      "execution_count": null,
      "outputs": [
        {
          "output_type": "execute_result",
          "data": {
            "text/plain": [
              "1"
            ]
          },
          "metadata": {},
          "execution_count": 34
        }
      ]
    },
    {
      "cell_type": "code",
      "source": [
        "a[1]"
      ],
      "metadata": {
        "colab": {
          "base_uri": "https://localhost:8080/"
        },
        "id": "ZeUdTaC6CH3A",
        "outputId": "9a852647-cbf0-4a0c-9785-27f7b806aca3"
      },
      "execution_count": null,
      "outputs": [
        {
          "output_type": "execute_result",
          "data": {
            "text/plain": [
              "5"
            ]
          },
          "metadata": {},
          "execution_count": 35
        }
      ]
    },
    {
      "cell_type": "code",
      "source": [
        "minimum, maximum = get_min_max([1, 2, 3, 4, 5])\n",
        "print(minimum, maximum)  # Outputs: 1 5"
      ],
      "metadata": {
        "colab": {
          "base_uri": "https://localhost:8080/"
        },
        "id": "toOcyuK63vcq",
        "outputId": "9bbeb14b-ceb2-417a-d788-2e90d8217e90"
      },
      "execution_count": null,
      "outputs": [
        {
          "output_type": "stream",
          "name": "stdout",
          "text": [
            "1 5\n"
          ]
        }
      ]
    },
    {
      "cell_type": "markdown",
      "source": [
        "# Scope of Variables\n",
        "Variables defined within a function are scoped to that function and are not accessible outside of it. This is known as local scope:"
      ],
      "metadata": {
        "id": "AHjbxn2cy4c1"
      }
    },
    {
      "cell_type": "code",
      "source": [
        "def multiply(x, y):\n",
        "    result = x * y\n",
        "    print(result)  # 'result' is local to the multiply function\n",
        "    return result"
      ],
      "metadata": {
        "id": "_JSzNBG_CSEN"
      },
      "execution_count": null,
      "outputs": []
    },
    {
      "cell_type": "code",
      "source": [
        "print(multiply(2,3))"
      ],
      "metadata": {
        "colab": {
          "base_uri": "https://localhost:8080/"
        },
        "id": "i7uXWng_CS0E",
        "outputId": "baab6b7c-bbed-4055-e28e-c85133489c05"
      },
      "execution_count": null,
      "outputs": [
        {
          "output_type": "stream",
          "name": "stdout",
          "text": [
            "6\n",
            "6\n"
          ]
        }
      ]
    },
    {
      "cell_type": "code",
      "source": [
        "print(result)"
      ],
      "metadata": {
        "colab": {
          "base_uri": "https://localhost:8080/",
          "height": 176
        },
        "id": "YRdVZOHwDDta",
        "outputId": "d7270b02-2eeb-4a7a-d951-616731a97a39"
      },
      "execution_count": null,
      "outputs": [
        {
          "output_type": "error",
          "ename": "NameError",
          "evalue": "name 'result' is not defined",
          "traceback": [
            "\u001b[0;31m---------------------------------------------------------------------------\u001b[0m",
            "\u001b[0;31mNameError\u001b[0m                                 Traceback (most recent call last)",
            "\u001b[0;32m<ipython-input-46-6459d04d738f>\u001b[0m in \u001b[0;36m<cell line: 1>\u001b[0;34m()\u001b[0m\n\u001b[0;32m----> 1\u001b[0;31m \u001b[0mprint\u001b[0m\u001b[0;34m(\u001b[0m\u001b[0mresult\u001b[0m\u001b[0;34m)\u001b[0m\u001b[0;34m\u001b[0m\u001b[0;34m\u001b[0m\u001b[0m\n\u001b[0m",
            "\u001b[0;31mNameError\u001b[0m: name 'result' is not defined"
          ]
        }
      ]
    },
    {
      "cell_type": "code",
      "source": [
        "print(result)  # This would result in an error, as 'result' is not defined outside of the function"
      ],
      "metadata": {
        "colab": {
          "base_uri": "https://localhost:8080/",
          "height": 193
        },
        "id": "k2Yd6pWJy7bC",
        "outputId": "7ecf32f3-1d1f-4035-dad3-fdc036a3c8e2"
      },
      "execution_count": null,
      "outputs": [
        {
          "output_type": "error",
          "ename": "NameError",
          "evalue": "name 'result' is not defined",
          "traceback": [
            "\u001b[0;31m---------------------------------------------------------------------------\u001b[0m",
            "\u001b[0;31mNameError\u001b[0m                                 Traceback (most recent call last)",
            "\u001b[0;32m<ipython-input-39-d0dc47af1ceb>\u001b[0m in \u001b[0;36m<cell line: 1>\u001b[0;34m()\u001b[0m\n\u001b[0;32m----> 1\u001b[0;31m \u001b[0mprint\u001b[0m\u001b[0;34m(\u001b[0m\u001b[0mresult\u001b[0m\u001b[0;34m)\u001b[0m  \u001b[0;31m# This would result in an error, as 'result' is not defined outside of the function\u001b[0m\u001b[0;34m\u001b[0m\u001b[0;34m\u001b[0m\u001b[0m\n\u001b[0m",
            "\u001b[0;31mNameError\u001b[0m: name 'result' is not defined"
          ]
        }
      ]
    },
    {
      "cell_type": "code",
      "source": [
        "global_var = \"This is global variable\"\n",
        "\n",
        "def test_life_time():\n",
        "    \"\"\"\n",
        "    This function test the life time of a variables\n",
        "    \"\"\"\n",
        "    local_var = \"This is local variable\"\n",
        "    print(local_var)       #print local variable local_var\n",
        "\n",
        "    print(global_var)      #print global variable global_var\n"
      ],
      "metadata": {
        "id": "5uTclZks0GuC"
      },
      "execution_count": null,
      "outputs": []
    },
    {
      "cell_type": "code",
      "source": [
        "#calling function\n",
        "test_life_time()"
      ],
      "metadata": {
        "colab": {
          "base_uri": "https://localhost:8080/"
        },
        "id": "WkPfl6Jl3yVQ",
        "outputId": "8d0f701c-19f8-4d29-8be3-e133fd49bc03"
      },
      "execution_count": null,
      "outputs": [
        {
          "output_type": "stream",
          "name": "stdout",
          "text": [
            "This is local variable\n",
            "This is global variable\n"
          ]
        }
      ]
    },
    {
      "cell_type": "code",
      "source": [
        "#print global variable global_var\n",
        "print(global_var)"
      ],
      "metadata": {
        "colab": {
          "base_uri": "https://localhost:8080/"
        },
        "id": "FRL-L3yC3zVw",
        "outputId": "d16a80c4-2325-4cb1-bbeb-e9490aea25c2"
      },
      "execution_count": null,
      "outputs": [
        {
          "output_type": "stream",
          "name": "stdout",
          "text": [
            "This is global variable\n"
          ]
        }
      ]
    },
    {
      "cell_type": "code",
      "source": [
        "#print local variable local_var\n",
        "print(local_var)"
      ],
      "metadata": {
        "colab": {
          "base_uri": "https://localhost:8080/",
          "height": 193
        },
        "id": "mUDJrm1G30Ld",
        "outputId": "f056eceb-0470-4d9c-f3ba-0a381ff5b6a8"
      },
      "execution_count": null,
      "outputs": [
        {
          "output_type": "error",
          "ename": "NameError",
          "evalue": "name 'local_var' is not defined",
          "traceback": [
            "\u001b[0;31m---------------------------------------------------------------------------\u001b[0m",
            "\u001b[0;31mNameError\u001b[0m                                 Traceback (most recent call last)",
            "\u001b[0;32m<ipython-input-50-3a4ec83df3d5>\u001b[0m in \u001b[0;36m<cell line: 2>\u001b[0;34m()\u001b[0m\n\u001b[1;32m      1\u001b[0m \u001b[0;31m#print local variable local_var\u001b[0m\u001b[0;34m\u001b[0m\u001b[0;34m\u001b[0m\u001b[0m\n\u001b[0;32m----> 2\u001b[0;31m \u001b[0mprint\u001b[0m\u001b[0;34m(\u001b[0m\u001b[0mlocal_var\u001b[0m\u001b[0;34m)\u001b[0m\u001b[0;34m\u001b[0m\u001b[0;34m\u001b[0m\u001b[0m\n\u001b[0m",
            "\u001b[0;31mNameError\u001b[0m: name 'local_var' is not defined"
          ]
        }
      ]
    },
    {
      "cell_type": "markdown",
      "source": [
        "# Docstrings\n",
        "\n",
        "Documentation of functions"
      ],
      "metadata": {
        "id": "uFm-_LepzAqV"
      }
    },
    {
      "cell_type": "code",
      "source": [
        "def add(a, b):\n",
        "    \"\"\"Return the sum of a and b.\"\"\"\n",
        "    return a + b\n"
      ],
      "metadata": {
        "id": "pY817IvmzCzO"
      },
      "execution_count": null,
      "outputs": []
    },
    {
      "cell_type": "code",
      "source": [
        "#print doc string\n",
        "print(add.__doc__)"
      ],
      "metadata": {
        "colab": {
          "base_uri": "https://localhost:8080/"
        },
        "id": "BycxKqFEz-2g",
        "outputId": "d5d276b6-1480-4099-bff4-d16fbb3d860f"
      },
      "execution_count": null,
      "outputs": [
        {
          "output_type": "stream",
          "name": "stdout",
          "text": [
            "Return the sum of a and b.\n"
          ]
        }
      ]
    },
    {
      "cell_type": "code",
      "source": [
        "a = {'city' : 'bangalore','age' : '30'}\n",
        "a['bangalore']"
      ],
      "metadata": {
        "colab": {
          "base_uri": "https://localhost:8080/",
          "height": 193
        },
        "id": "Quyfws26EGaA",
        "outputId": "791da93c-64c0-4532-c6a9-6eabb9e33a76"
      },
      "execution_count": null,
      "outputs": [
        {
          "output_type": "error",
          "ename": "KeyError",
          "evalue": "'bangalore'",
          "traceback": [
            "\u001b[0;31m---------------------------------------------------------------------------\u001b[0m",
            "\u001b[0;31mKeyError\u001b[0m                                  Traceback (most recent call last)",
            "\u001b[0;32m<ipython-input-54-631e1c2dedb0>\u001b[0m in \u001b[0;36m<cell line: 2>\u001b[0;34m()\u001b[0m\n\u001b[1;32m      1\u001b[0m \u001b[0ma\u001b[0m \u001b[0;34m=\u001b[0m \u001b[0;34m{\u001b[0m\u001b[0;34m'city'\u001b[0m \u001b[0;34m:\u001b[0m \u001b[0;34m'bangalore'\u001b[0m\u001b[0;34m,\u001b[0m\u001b[0;34m'age'\u001b[0m \u001b[0;34m:\u001b[0m \u001b[0;34m'30'\u001b[0m\u001b[0;34m}\u001b[0m\u001b[0;34m\u001b[0m\u001b[0;34m\u001b[0m\u001b[0m\n\u001b[0;32m----> 2\u001b[0;31m \u001b[0ma\u001b[0m\u001b[0;34m[\u001b[0m\u001b[0;34m'bangalore'\u001b[0m\u001b[0;34m]\u001b[0m\u001b[0;34m\u001b[0m\u001b[0;34m\u001b[0m\u001b[0m\n\u001b[0m",
            "\u001b[0;31mKeyError\u001b[0m: 'bangalore'"
          ]
        }
      ]
    },
    {
      "cell_type": "markdown",
      "source": [
        "# Return Key from Value in dictionaries"
      ],
      "metadata": {
        "id": "Ma6p77cbFtCo"
      }
    },
    {
      "cell_type": "code",
      "source": [
        "def get_key_from_value(d, val):\n",
        "    keys = [k for k, v in d.items() if v == val]\n",
        "    print(keys)\n",
        "    if keys:\n",
        "        return keys[0]\n",
        "    return None"
      ],
      "metadata": {
        "id": "pcqAwiHMFsNR"
      },
      "execution_count": null,
      "outputs": []
    },
    {
      "cell_type": "code",
      "source": [
        "a = {'city' : 'bangalore','age' : '30'}\n",
        "key = get_key_from_value(a, 'bangalore')\n",
        "print(key)"
      ],
      "metadata": {
        "colab": {
          "base_uri": "https://localhost:8080/"
        },
        "id": "K_U5acdQFypz",
        "outputId": "9dd4a000-ef0d-447f-817f-4bdd8ebb0bd5"
      },
      "execution_count": null,
      "outputs": [
        {
          "output_type": "stream",
          "name": "stdout",
          "text": [
            "['city']\n",
            "city\n"
          ]
        }
      ]
    },
    {
      "cell_type": "markdown",
      "source": [
        "# Real Life Task and how to handle."
      ],
      "metadata": {
        "id": "sLQTB3LqzGtV"
      }
    },
    {
      "cell_type": "markdown",
      "source": [
        "Let's tackle a simple real-life task: organizing a small personal library. We'll write functions to add a book, remove a book, and list all books. This will demonstrate the use of functions to manage a collection.\n",
        "\n",
        "-- Task Description\n",
        "We have books in our personal library, each with a title and an author. We want to be able to:\n",
        "\n",
        "1. Add a new book to the library.\n",
        "2. Remove a book from the library by title.\n",
        "3. List all books currently in th"
      ],
      "metadata": {
        "id": "_9UDcJ1F1HC5"
      }
    },
    {
      "cell_type": "code",
      "source": [
        "# Our personal library represented as a list of dictionaries\n",
        "library = []\n",
        "\n",
        "# Function to add a book to the library\n",
        "def add_book(title, author):\n",
        "    library.append({'title': title, 'author': author})\n",
        "    print(f\"'{title}' by {author} has been added to the library.\")"
      ],
      "metadata": {
        "id": "I9-kF56i1apE"
      },
      "execution_count": null,
      "outputs": []
    },
    {
      "cell_type": "code",
      "source": [
        "library"
      ],
      "metadata": {
        "colab": {
          "base_uri": "https://localhost:8080/"
        },
        "id": "TFaA1UjWFFTC",
        "outputId": "c6380757-53f8-4af4-ffe8-10841856fdba"
      },
      "execution_count": null,
      "outputs": [
        {
          "output_type": "execute_result",
          "data": {
            "text/plain": [
              "[]"
            ]
          },
          "metadata": {},
          "execution_count": 59
        }
      ]
    },
    {
      "cell_type": "code",
      "source": [
        "# Adding books\n",
        "add_book(\"The Great Gatsby\", \"F. Scott Fitzgerald\")"
      ],
      "metadata": {
        "colab": {
          "base_uri": "https://localhost:8080/"
        },
        "id": "gOGuSoxk36q-",
        "outputId": "81ec6286-1f4c-4788-be40-4a6527140322"
      },
      "execution_count": null,
      "outputs": [
        {
          "output_type": "stream",
          "name": "stdout",
          "text": [
            "'The Great Gatsby' by F. Scott Fitzgerald has been added to the library.\n"
          ]
        }
      ]
    },
    {
      "cell_type": "code",
      "source": [
        "library"
      ],
      "metadata": {
        "colab": {
          "base_uri": "https://localhost:8080/"
        },
        "id": "Pb-V3eq2FLe5",
        "outputId": "9e838615-c8d8-4e50-d850-f522554ad151"
      },
      "execution_count": null,
      "outputs": [
        {
          "output_type": "execute_result",
          "data": {
            "text/plain": [
              "[{'title': 'The Great Gatsby', 'author': 'F. Scott Fitzgerald'}]"
            ]
          },
          "metadata": {},
          "execution_count": 61
        }
      ]
    },
    {
      "cell_type": "code",
      "source": [
        "add_book(\"1984\", \"George Orwell\")"
      ],
      "metadata": {
        "colab": {
          "base_uri": "https://localhost:8080/"
        },
        "id": "nTuSlCNg38RT",
        "outputId": "8cc5c320-5659-4a0e-cc76-2fbcfea41b81"
      },
      "execution_count": null,
      "outputs": [
        {
          "output_type": "stream",
          "name": "stdout",
          "text": [
            "'1984' by George Orwell has been added to the library.\n"
          ]
        }
      ]
    },
    {
      "cell_type": "code",
      "source": [
        "add_book(\"To Kill a Mockingbird\", \"Harper Lee\")"
      ],
      "metadata": {
        "colab": {
          "base_uri": "https://localhost:8080/"
        },
        "id": "SS7mAFSt39Lz",
        "outputId": "2b870066-9748-45fc-b4f5-1a7dc68ed1b6"
      },
      "execution_count": null,
      "outputs": [
        {
          "output_type": "stream",
          "name": "stdout",
          "text": [
            "'To Kill a Mockingbird' by Harper Lee has been added to the library.\n"
          ]
        }
      ]
    },
    {
      "cell_type": "code",
      "source": [
        "library"
      ],
      "metadata": {
        "colab": {
          "base_uri": "https://localhost:8080/"
        },
        "id": "FtddokFhFYHI",
        "outputId": "30b1d6c8-ba55-49a9-94e6-429a21b9369c"
      },
      "execution_count": null,
      "outputs": [
        {
          "output_type": "execute_result",
          "data": {
            "text/plain": [
              "[{'title': 'The Great Gatsby', 'author': 'F. Scott Fitzgerald'},\n",
              " {'title': '1984', 'author': 'George Orwell'},\n",
              " {'title': 'To Kill a Mockingbird', 'author': 'Harper Lee'},\n",
              " {'title': 'To Kill a Mockingbird', 'author': 'Harper Lee'}]"
            ]
          },
          "metadata": {},
          "execution_count": 65
        }
      ]
    },
    {
      "cell_type": "code",
      "source": [
        "# Function to list all books in the library\n",
        "def list_books():\n",
        "    if library:\n",
        "        print(\"Books in the library:\")\n",
        "        print(\"this is great\")\n",
        "        for book in library:\n",
        "            print(f\"{book['title']} by {book['author']}\")\n",
        "    else:\n",
        "        print(\"The library is currently empty.\")\n",
        "\n",
        "# Listing books\n",
        "list_books()"
      ],
      "metadata": {
        "colab": {
          "base_uri": "https://localhost:8080/"
        },
        "id": "l2VSL6Qq1iIB",
        "outputId": "63182d9e-8ef6-49d9-a651-b42a105c993b"
      },
      "execution_count": null,
      "outputs": [
        {
          "output_type": "stream",
          "name": "stdout",
          "text": [
            "Books in the library:\n",
            "this is great\n",
            "To Kill a Mockingbird by Harper Lee\n",
            "To Kill a Mockingbird by Harper Lee\n"
          ]
        }
      ]
    },
    {
      "cell_type": "code",
      "source": [
        "# Function to remove a book from the library by title\n",
        "def remove_book(title):\n",
        "    global library\n",
        "    library = [book for book in library if book['title'] != title]\n",
        "    print(f\"'{title}' has been removed from the library.\")\n",
        "\n",
        "# Removing a book\n",
        "remove_book(\"1984\")"
      ],
      "metadata": {
        "colab": {
          "base_uri": "https://localhost:8080/"
        },
        "id": "LKQNHpq61h_p",
        "outputId": "7bbfef62-3fcf-4956-ec72-f14d711a7090"
      },
      "execution_count": null,
      "outputs": [
        {
          "output_type": "stream",
          "name": "stdout",
          "text": [
            "'1984' has been removed from the library.\n"
          ]
        }
      ]
    },
    {
      "cell_type": "code",
      "source": [
        "remove_book(\"The Great Gatsby\")"
      ],
      "metadata": {
        "colab": {
          "base_uri": "https://localhost:8080/"
        },
        "id": "jhEzKgL8F6ST",
        "outputId": "3d4ee0e6-4867-48a7-ee08-07ac05065b5a"
      },
      "execution_count": null,
      "outputs": [
        {
          "output_type": "stream",
          "name": "stdout",
          "text": [
            "'The Great Gatsby' has been removed from the library.\n"
          ]
        }
      ]
    },
    {
      "cell_type": "code",
      "source": [
        "# Listing books again to see the changes\n",
        "list_books()"
      ],
      "metadata": {
        "colab": {
          "base_uri": "https://localhost:8080/"
        },
        "id": "-tFE62Yx1tM6",
        "outputId": "3908d313-a586-431d-aa6b-dc6a1ad819d9"
      },
      "execution_count": null,
      "outputs": [
        {
          "output_type": "stream",
          "name": "stdout",
          "text": [
            "Books in the library:\n",
            "To Kill a Mockingbird by Harper Lee\n",
            "To Kill a Mockingbird by Harper Lee\n"
          ]
        }
      ]
    },
    {
      "cell_type": "markdown",
      "source": [
        "# Full Code in a single block"
      ],
      "metadata": {
        "id": "DvN2pQHE5Kiy"
      }
    },
    {
      "cell_type": "code",
      "source": [
        "# Our personal library represented as a list of dictionaries\n",
        "library = []\n",
        "\n",
        "# Function to add a book to the library\n",
        "def add_book(title, author):\n",
        "    library.append({'title': title, 'author': author})\n",
        "    print(f\"'{title}' by {author} has been added to the library.\")\n",
        "\n",
        "# Function to remove a book from the library by title\n",
        "def remove_book(title):\n",
        "    global library\n",
        "    library = [book for book in library if book['title'] != title]\n",
        "    print(f\"'{title}' has been removed from the library.\")\n",
        "\n",
        "# Function to list all books in the library\n",
        "def list_books():\n",
        "    if library:\n",
        "        print(\"Books in the library:\")\n",
        "        for book in library:\n",
        "            print(f\"{book['title']} by {book['author']}\")\n",
        "    else:\n",
        "        print(\"The library is currently empty.\")"
      ],
      "metadata": {
        "id": "o8XJkKWT1v2a"
      },
      "execution_count": null,
      "outputs": []
    },
    {
      "cell_type": "code",
      "source": [
        "# Let's use the functions\n",
        "\n",
        "# Adding books\n",
        "add_book(\"The Great Gatsby\", \"F. Scott Fitzgerald\")\n",
        "add_book(\"1984\", \"George Orwell\")\n",
        "add_book(\"To Kill a Mockingbird\", \"Harper Lee\")\n",
        "\n",
        "# Listing books\n",
        "list_books()\n",
        "\n",
        "# Removing a book\n",
        "remove_book(\"1984\")\n",
        "\n",
        "# Listing books again to see the changes\n",
        "list_books()\n"
      ],
      "metadata": {
        "id": "GbxamH_i1xaY"
      },
      "execution_count": null,
      "outputs": []
    }
  ]
}